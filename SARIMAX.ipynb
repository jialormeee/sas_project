{
 "cells": [
  {
   "cell_type": "code",
   "execution_count": 13,
   "id": "handmade-fancy",
   "metadata": {},
   "outputs": [],
   "source": [
    "import quantiacsToolbox\n",
    "import pandas as pd\n",
    "import numpy as np\n",
    "import os\n",
    "from os.path import dirname, abspath\n",
    "import matplotlib.pyplot as plt\n",
    "from pmdarima.arima import auto_arima\n",
    "import pickle"
   ]
  },
  {
   "cell_type": "code",
   "execution_count": 14,
   "id": "brief-vehicle",
   "metadata": {},
   "outputs": [],
   "source": [
    "markets = ['CASH','F_AD','F_BO','F_BP','F_C','F_CC','F_CD','F_CL','F_CT','F_DX','F_EC',\n",
    "                           'F_ED','F_ES','F_FC','F_FV','F_GC','F_HG','F_HO','F_JY','F_KC','F_LB','F_LC',\n",
    "                           'F_LN','F_MD','F_MP','F_NG','F_NQ','F_NR','F_O','F_OJ','F_PA','F_PL','F_RB',\n",
    "                           'F_RU','F_S','F_SB','F_SF','F_SI','F_SM','F_TU','F_TY','F_US','F_W','F_XX',\n",
    "                           'F_YM','F_AX','F_CA','F_DT','F_UB','F_UZ','F_GS','F_LX','F_SS','F_DL','F_ZQ',\n",
    "                           'F_VX','F_AE','F_BG','F_BC','F_LU','F_DM','F_AH','F_CF','F_DZ','F_FB','F_FL',\n",
    "                           'F_FM','F_FP','F_FY','F_GX','F_HP','F_LR','F_LQ','F_ND','F_NY','F_PQ','F_RR',\n",
    "                           'F_RF','F_RP','F_RY','F_SH','F_SX','F_TR','F_EB','F_VF','F_VT','F_VW','F_GD','F_F']"
   ]
  },
  {
   "cell_type": "code",
   "execution_count": 15,
   "id": "younger-collector",
   "metadata": {},
   "outputs": [],
   "source": [
    "economic_indicators = ['USA_ADP', 'USA_EARN', 'USA_HRS', 'USA_BOT', 'USA_BC', 'USA_BI', 'USA_CU', 'USA_CF', 'USA_CHJC', 'USA_CFNAI', 'USA_CP', 'USA_CCR', 'USA_CPI', 'USA_CCPI', 'USA_CINF', 'USA_DFMI', 'USA_DUR', 'USA_DURET', 'USA_EXPX', 'USA_EXVOL', 'USA_FRET', 'USA_FBI', 'USA_GBVL', 'USA_GPAY', 'USA_HI', 'USA_IMPX', 'USA_IMVOL', 'USA_IP', 'USA_IPMOM', 'USA_CPIC', 'USA_CPICM', 'USA_JBO', 'USA_LFPR', 'USA_LEI', 'USA_MPAY', 'USA_MP', 'USA_NAHB', 'USA_NLTTF', 'USA_NFIB', 'USA_NFP', 'USA_NMPMI', 'USA_NPP', 'USA_EMPST', 'USA_PHS', 'USA_PFED', 'USA_PP', 'USA_PPIC', 'USA_RSM', 'USA_RSY', 'USA_RSEA', 'USA_RFMI', 'USA_TVS', 'USA_UNR', 'USA_WINV']"
   ]
  },
  {
   "cell_type": "code",
   "execution_count": 96,
   "id": "taken-complement",
   "metadata": {},
   "outputs": [
    {
     "name": "stdout",
     "output_type": "stream",
     "text": [
      "USA_ADP, USA_EARN, USA_HRS, USA_BOT, USA_BC, USA_BI, USA_CU, USA_CF, USA_CHJC, USA_CFNAI, USA_CP, USA_CCR, USA_CPI, USA_CCPI, USA_CINF, USA_DFMI, USA_DUR, USA_DURET, USA_EXPX, USA_EXVOL, USA_FRET, USA_FBI, USA_GBVL, USA_GPAY, USA_HI, USA_IMPX, USA_IMVOL, USA_IP, USA_IPMOM, USA_CPIC, USA_CPICM, USA_JBO, USA_LFPR, USA_LEI, USA_MPAY, USA_MP, USA_NAHB, USA_NLTTF, USA_NFIB, USA_NFP, USA_NMPMI, USA_NPP, USA_EMPST, USA_PHS, USA_PFED, USA_PP, USA_PPIC, USA_RSM, USA_RSY, USA_RSEA, USA_RFMI, USA_TVS, USA_UNR, USA_WINV\n"
     ]
    }
   ],
   "source": [
    "print(', '.join(economic_indicators))"
   ]
  },
  {
   "cell_type": "code",
   "execution_count": 20,
   "id": "protected-window",
   "metadata": {},
   "outputs": [],
   "source": [
    "train_begin = '20180101'\n",
    "train_end = '20201231'"
   ]
  },
  {
   "cell_type": "code",
   "execution_count": 17,
   "id": "fifth-solomon",
   "metadata": {
    "collapsed": true
   },
   "outputs": [
    {
     "name": "stdout",
     "output_type": "stream",
     "text": [
      "Downloaded CASH\n",
      "Downloaded F_AD\n",
      "Downloaded F_BO\n",
      "Downloaded F_BP\n",
      "Downloaded F_C\n",
      "Downloaded F_CC\n",
      "Downloaded F_CD\n",
      "Downloaded F_CL\n",
      "Downloaded F_CT\n",
      "Downloaded F_DX\n",
      "Downloaded F_EC\n",
      "Downloaded F_ED\n",
      "Downloaded F_ES\n",
      "Downloaded F_FC\n",
      "Downloaded F_FV\n",
      "Downloaded F_GC\n",
      "Downloaded F_HG\n",
      "Downloaded F_HO\n",
      "Downloaded F_JY\n",
      "Downloaded F_KC\n",
      "Downloaded F_LB\n",
      "Downloaded F_LC\n",
      "Downloaded F_LN\n",
      "Downloaded F_MD\n",
      "Downloaded F_MP\n",
      "Downloaded F_NG\n",
      "Downloaded F_NQ\n",
      "Downloaded F_NR\n",
      "Downloaded F_O\n",
      "Downloaded F_OJ\n",
      "Downloaded F_PA\n",
      "Downloaded F_PL\n",
      "Downloaded F_RB\n",
      "Downloaded F_RU\n",
      "Downloaded F_S\n",
      "Downloaded F_SB\n",
      "Downloaded F_SF\n",
      "Downloaded F_SI\n",
      "Downloaded F_SM\n",
      "Downloaded F_TU\n",
      "Downloaded F_TY\n",
      "Downloaded F_US\n",
      "Downloaded F_W\n",
      "Downloaded F_XX\n",
      "Downloaded F_YM\n",
      "Downloaded F_AX\n",
      "Downloaded F_CA\n",
      "Downloaded F_DT\n",
      "Downloaded F_UB\n",
      "Downloaded F_UZ\n",
      "Downloaded F_GS\n",
      "Downloaded F_LX\n",
      "Downloaded F_SS\n",
      "Downloaded F_DL\n",
      "Downloaded F_ZQ\n",
      "Downloaded F_VX\n",
      "Downloaded F_AE\n",
      "Downloaded F_BG\n",
      "Downloaded F_BC\n",
      "Downloaded F_LU\n",
      "Downloaded F_DM\n",
      "Downloaded F_AH\n",
      "Downloaded F_CF\n",
      "Downloaded F_DZ\n",
      "Downloaded F_FB\n",
      "Downloaded F_FL\n",
      "Downloaded F_FM\n",
      "Downloaded F_FP\n",
      "Downloaded F_FY\n",
      "Downloaded F_GX\n",
      "Downloaded F_HP\n",
      "Downloaded F_LR\n",
      "Downloaded F_LQ\n",
      "Downloaded F_ND\n",
      "Downloaded F_NY\n",
      "Downloaded F_PQ\n",
      "Downloaded F_RR\n",
      "Downloaded F_RF\n",
      "Downloaded F_RP\n",
      "Downloaded F_RY\n",
      "Downloaded F_SH\n",
      "Downloaded F_SX\n",
      "Downloaded F_TR\n",
      "Downloaded F_EB\n",
      "Downloaded F_VF\n",
      "Downloaded F_VT\n",
      "Downloaded F_VW\n",
      "Downloaded F_GD\n",
      "Downloaded F_F\n",
      "Downloaded USA_ADP\n",
      "Downloaded USA_EARN\n",
      "Downloaded USA_HRS\n",
      "Downloaded USA_BOT\n",
      "Downloaded USA_BC\n",
      "Downloaded USA_BI\n",
      "Downloaded USA_CU\n",
      "Downloaded USA_CF\n",
      "Downloaded USA_CHJC\n",
      "Downloaded USA_CFNAI\n",
      "Downloaded USA_CP\n",
      "Downloaded USA_CCR\n",
      "Downloaded USA_CPI\n",
      "Downloaded USA_CCPI\n",
      "Downloaded USA_CINF\n",
      "Downloaded USA_DFMI\n",
      "Downloaded USA_DUR\n",
      "Downloaded USA_DURET\n",
      "Downloaded USA_EXPX\n",
      "Downloaded USA_EXVOL\n",
      "Downloaded USA_FRET\n",
      "Downloaded USA_FBI\n",
      "Downloaded USA_GBVL\n",
      "Downloaded USA_GPAY\n",
      "Downloaded USA_HI\n",
      "Downloaded USA_IMPX\n",
      "Downloaded USA_IMVOL\n",
      "Downloaded USA_IP\n",
      "Downloaded USA_IPMOM\n",
      "Downloaded USA_CPIC\n",
      "Downloaded USA_CPICM\n",
      "Downloaded USA_JBO\n",
      "Downloaded USA_LFPR\n",
      "Downloaded USA_LEI\n",
      "Downloaded USA_MPAY\n",
      "Downloaded USA_MP\n",
      "Downloaded USA_NAHB\n",
      "Downloaded USA_NLTTF\n",
      "Downloaded USA_NFIB\n",
      "Downloaded USA_NFP\n",
      "Downloaded USA_NMPMI\n",
      "Downloaded USA_NPP\n",
      "Downloaded USA_EMPST\n",
      "Downloaded USA_PHS\n",
      "Downloaded USA_PFED\n",
      "Downloaded USA_PP\n",
      "Downloaded USA_PPIC\n",
      "Downloaded USA_RSM\n",
      "Downloaded USA_RSY\n",
      "Downloaded USA_RSEA\n",
      "Downloaded USA_RFMI\n",
      "Downloaded USA_TVS\n",
      "Downloaded USA_UNR\n",
      "Downloaded USA_WINV\n",
      "Loading Data...\n",
      "Done!\n"
     ]
    }
   ],
   "source": [
    "data = quantiacsToolbox.loadData(markets + economic_indicators, dataToLoad = ['DATE','OPEN','HIGH', 'LOW', 'CLOSE'], beginInSample = train_begin, endInSample = train_end)"
   ]
  },
  {
   "cell_type": "code",
   "execution_count": 18,
   "id": "prompt-summary",
   "metadata": {},
   "outputs": [
    {
     "data": {
      "text/plain": [
       "(782, 143)"
      ]
     },
     "execution_count": 18,
     "metadata": {},
     "output_type": "execute_result"
    }
   ],
   "source": [
    "data['CLOSE'].shape"
   ]
  },
  {
   "cell_type": "code",
   "execution_count": 21,
   "id": "directed-gabriel",
   "metadata": {},
   "outputs": [],
   "source": [
    "date = np.array(list(map(lambda x : str(x)[0:4]+'-'+str(x)[4:6]+'-'+str(x)[6:], data['DATE'])))"
   ]
  },
  {
   "cell_type": "code",
   "execution_count": 50,
   "id": "arbitrary-visiting",
   "metadata": {},
   "outputs": [],
   "source": [
    "df = pd.DataFrame(data['CLOSE'], columns = markets + economic_indicators)\n",
    "df = df.loc[1:, :]\n",
    "df = df.set_index(date[1:])"
   ]
  },
  {
   "cell_type": "code",
   "execution_count": 53,
   "id": "south-profile",
   "metadata": {},
   "outputs": [
    {
     "data": {
      "text/html": [
       "<div>\n",
       "<style scoped>\n",
       "    .dataframe tbody tr th:only-of-type {\n",
       "        vertical-align: middle;\n",
       "    }\n",
       "\n",
       "    .dataframe tbody tr th {\n",
       "        vertical-align: top;\n",
       "    }\n",
       "\n",
       "    .dataframe thead th {\n",
       "        text-align: right;\n",
       "    }\n",
       "</style>\n",
       "<table border=\"1\" class=\"dataframe\">\n",
       "  <thead>\n",
       "    <tr style=\"text-align: right;\">\n",
       "      <th></th>\n",
       "      <th>CASH</th>\n",
       "      <th>F_AD</th>\n",
       "      <th>F_BO</th>\n",
       "      <th>F_BP</th>\n",
       "      <th>F_C</th>\n",
       "      <th>F_CC</th>\n",
       "      <th>F_CD</th>\n",
       "      <th>F_CL</th>\n",
       "      <th>F_CT</th>\n",
       "      <th>F_DX</th>\n",
       "      <th>...</th>\n",
       "      <th>USA_PFED</th>\n",
       "      <th>USA_PP</th>\n",
       "      <th>USA_PPIC</th>\n",
       "      <th>USA_RSM</th>\n",
       "      <th>USA_RSY</th>\n",
       "      <th>USA_RSEA</th>\n",
       "      <th>USA_RFMI</th>\n",
       "      <th>USA_TVS</th>\n",
       "      <th>USA_UNR</th>\n",
       "      <th>USA_WINV</th>\n",
       "    </tr>\n",
       "    <tr>\n",
       "      <th>date</th>\n",
       "      <th></th>\n",
       "      <th></th>\n",
       "      <th></th>\n",
       "      <th></th>\n",
       "      <th></th>\n",
       "      <th></th>\n",
       "      <th></th>\n",
       "      <th></th>\n",
       "      <th></th>\n",
       "      <th></th>\n",
       "      <th></th>\n",
       "      <th></th>\n",
       "      <th></th>\n",
       "      <th></th>\n",
       "      <th></th>\n",
       "      <th></th>\n",
       "      <th></th>\n",
       "      <th></th>\n",
       "      <th></th>\n",
       "      <th></th>\n",
       "      <th></th>\n",
       "    </tr>\n",
       "  </thead>\n",
       "  <tbody>\n",
       "    <tr>\n",
       "      <th>2018-01-02</th>\n",
       "      <td>NaN</td>\n",
       "      <td>78300.0</td>\n",
       "      <td>20130.0</td>\n",
       "      <td>85156.25</td>\n",
       "      <td>17662.5</td>\n",
       "      <td>19360.0</td>\n",
       "      <td>80010.0</td>\n",
       "      <td>60370.0</td>\n",
       "      <td>38750.0</td>\n",
       "      <td>91573.0</td>\n",
       "      <td>...</td>\n",
       "      <td>26.2</td>\n",
       "      <td>114.4</td>\n",
       "      <td>3.1</td>\n",
       "      <td>0.8</td>\n",
       "      <td>5.8</td>\n",
       "      <td>1.0</td>\n",
       "      <td>20.0</td>\n",
       "      <td>17.48</td>\n",
       "      <td>4.1</td>\n",
       "      <td>-0.4</td>\n",
       "    </tr>\n",
       "    <tr>\n",
       "      <th>2018-01-03</th>\n",
       "      <td>NaN</td>\n",
       "      <td>78370.0</td>\n",
       "      <td>20340.0</td>\n",
       "      <td>84681.25</td>\n",
       "      <td>17650.0</td>\n",
       "      <td>19070.0</td>\n",
       "      <td>79805.0</td>\n",
       "      <td>61970.0</td>\n",
       "      <td>39055.0</td>\n",
       "      <td>91896.0</td>\n",
       "      <td>...</td>\n",
       "      <td>26.2</td>\n",
       "      <td>114.4</td>\n",
       "      <td>3.1</td>\n",
       "      <td>0.8</td>\n",
       "      <td>5.8</td>\n",
       "      <td>1.0</td>\n",
       "      <td>20.0</td>\n",
       "      <td>17.48</td>\n",
       "      <td>4.1</td>\n",
       "      <td>-0.4</td>\n",
       "    </tr>\n",
       "    <tr>\n",
       "      <th>2018-01-04</th>\n",
       "      <td>NaN</td>\n",
       "      <td>78640.0</td>\n",
       "      <td>20322.0</td>\n",
       "      <td>84887.50</td>\n",
       "      <td>17550.0</td>\n",
       "      <td>19050.0</td>\n",
       "      <td>80160.0</td>\n",
       "      <td>61890.0</td>\n",
       "      <td>39625.0</td>\n",
       "      <td>91581.0</td>\n",
       "      <td>...</td>\n",
       "      <td>26.2</td>\n",
       "      <td>114.4</td>\n",
       "      <td>3.1</td>\n",
       "      <td>0.8</td>\n",
       "      <td>5.8</td>\n",
       "      <td>1.0</td>\n",
       "      <td>20.0</td>\n",
       "      <td>17.48</td>\n",
       "      <td>4.1</td>\n",
       "      <td>-0.4</td>\n",
       "    </tr>\n",
       "    <tr>\n",
       "      <th>2018-01-05</th>\n",
       "      <td>NaN</td>\n",
       "      <td>78620.0</td>\n",
       "      <td>20256.0</td>\n",
       "      <td>84981.25</td>\n",
       "      <td>17562.5</td>\n",
       "      <td>18950.0</td>\n",
       "      <td>80630.0</td>\n",
       "      <td>61590.0</td>\n",
       "      <td>39005.0</td>\n",
       "      <td>91673.0</td>\n",
       "      <td>...</td>\n",
       "      <td>26.2</td>\n",
       "      <td>114.4</td>\n",
       "      <td>3.1</td>\n",
       "      <td>0.8</td>\n",
       "      <td>5.8</td>\n",
       "      <td>1.0</td>\n",
       "      <td>20.0</td>\n",
       "      <td>17.48</td>\n",
       "      <td>4.1</td>\n",
       "      <td>-0.4</td>\n",
       "    </tr>\n",
       "    <tr>\n",
       "      <th>2018-01-08</th>\n",
       "      <td>NaN</td>\n",
       "      <td>78390.0</td>\n",
       "      <td>20124.0</td>\n",
       "      <td>84987.50</td>\n",
       "      <td>17362.5</td>\n",
       "      <td>19140.0</td>\n",
       "      <td>80565.0</td>\n",
       "      <td>61900.0</td>\n",
       "      <td>39070.0</td>\n",
       "      <td>92100.0</td>\n",
       "      <td>...</td>\n",
       "      <td>26.2</td>\n",
       "      <td>114.4</td>\n",
       "      <td>3.1</td>\n",
       "      <td>0.8</td>\n",
       "      <td>5.8</td>\n",
       "      <td>1.0</td>\n",
       "      <td>20.0</td>\n",
       "      <td>17.48</td>\n",
       "      <td>4.1</td>\n",
       "      <td>-0.4</td>\n",
       "    </tr>\n",
       "  </tbody>\n",
       "</table>\n",
       "<p>5 rows × 143 columns</p>\n",
       "</div>"
      ],
      "text/plain": [
       "            CASH     F_AD     F_BO      F_BP      F_C     F_CC     F_CD  \\\n",
       "date                                                                      \n",
       "2018-01-02   NaN  78300.0  20130.0  85156.25  17662.5  19360.0  80010.0   \n",
       "2018-01-03   NaN  78370.0  20340.0  84681.25  17650.0  19070.0  79805.0   \n",
       "2018-01-04   NaN  78640.0  20322.0  84887.50  17550.0  19050.0  80160.0   \n",
       "2018-01-05   NaN  78620.0  20256.0  84981.25  17562.5  18950.0  80630.0   \n",
       "2018-01-08   NaN  78390.0  20124.0  84987.50  17362.5  19140.0  80565.0   \n",
       "\n",
       "               F_CL     F_CT     F_DX  ...  USA_PFED  USA_PP  USA_PPIC  \\\n",
       "date                                   ...                               \n",
       "2018-01-02  60370.0  38750.0  91573.0  ...      26.2   114.4       3.1   \n",
       "2018-01-03  61970.0  39055.0  91896.0  ...      26.2   114.4       3.1   \n",
       "2018-01-04  61890.0  39625.0  91581.0  ...      26.2   114.4       3.1   \n",
       "2018-01-05  61590.0  39005.0  91673.0  ...      26.2   114.4       3.1   \n",
       "2018-01-08  61900.0  39070.0  92100.0  ...      26.2   114.4       3.1   \n",
       "\n",
       "            USA_RSM  USA_RSY  USA_RSEA  USA_RFMI  USA_TVS  USA_UNR  USA_WINV  \n",
       "date                                                                          \n",
       "2018-01-02      0.8      5.8       1.0      20.0    17.48      4.1      -0.4  \n",
       "2018-01-03      0.8      5.8       1.0      20.0    17.48      4.1      -0.4  \n",
       "2018-01-04      0.8      5.8       1.0      20.0    17.48      4.1      -0.4  \n",
       "2018-01-05      0.8      5.8       1.0      20.0    17.48      4.1      -0.4  \n",
       "2018-01-08      0.8      5.8       1.0      20.0    17.48      4.1      -0.4  \n",
       "\n",
       "[5 rows x 143 columns]"
      ]
     },
     "execution_count": 53,
     "metadata": {},
     "output_type": "execute_result"
    }
   ],
   "source": [
    "df.head()"
   ]
  },
  {
   "cell_type": "code",
   "execution_count": 24,
   "id": "solved-delta",
   "metadata": {},
   "outputs": [],
   "source": [
    "df.to_csv('data_with_indicators_'+train_begin+'_'+train_end+'.csv')"
   ]
  },
  {
   "cell_type": "code",
   "execution_count": 52,
   "id": "invalid-lafayette",
   "metadata": {},
   "outputs": [],
   "source": [
    "train_begin = '20180101'\n",
    "train_end = '20201231'\n",
    "df = pd.read_csv('data_with_indicators_'+train_begin+'_'+train_end+'.csv')\n",
    "df = df.loc[1:,:].rename(columns = {'Unnamed: 0':'date'})\n",
    "df['date'] = pd.to_datetime(df['date'])\n",
    "df = df.set_index('date')"
   ]
  },
  {
   "cell_type": "code",
   "execution_count": 27,
   "id": "powered-decrease",
   "metadata": {},
   "outputs": [],
   "source": [
    "sarimax_models = {el:None for el in markets[1:]}"
   ]
  },
  {
   "cell_type": "code",
   "execution_count": 55,
   "id": "duplicate-latino",
   "metadata": {
    "collapsed": true
   },
   "outputs": [
    {
     "name": "stdout",
     "output_type": "stream",
     "text": [
      "Performing stepwise search to minimize aic\n",
      " ARIMA(2,0,2)(0,0,0)[0] intercept   : AIC=-5459.654, Time=2.39 sec\n",
      " ARIMA(0,0,0)(0,0,0)[0] intercept   : AIC=-4473.875, Time=1.86 sec\n",
      " ARIMA(1,0,0)(0,0,0)[0] intercept   : AIC=-5427.989, Time=1.94 sec\n",
      " ARIMA(0,0,1)(0,0,0)[0] intercept   : AIC=-4746.504, Time=2.01 sec\n",
      " ARIMA(0,0,0)(0,0,0)[0]             : AIC=-53.966, Time=1.81 sec\n",
      " ARIMA(1,0,2)(0,0,0)[0] intercept   : AIC=-5441.096, Time=2.32 sec\n",
      " ARIMA(2,0,1)(0,0,0)[0] intercept   : AIC=-4566.936, Time=5.06 sec\n",
      " ARIMA(3,0,2)(0,0,0)[0] intercept   : AIC=-5459.889, Time=2.41 sec\n",
      " ARIMA(3,0,1)(0,0,0)[0] intercept   : AIC=-5436.772, Time=2.36 sec\n",
      " ARIMA(4,0,2)(0,0,0)[0] intercept   : AIC=-5458.498, Time=2.47 sec\n",
      " ARIMA(3,0,3)(0,0,0)[0] intercept   : AIC=-5458.620, Time=2.46 sec\n",
      " ARIMA(2,0,3)(0,0,0)[0] intercept   : AIC=-5456.370, Time=2.42 sec\n",
      " ARIMA(4,0,1)(0,0,0)[0] intercept   : AIC=-5455.993, Time=2.44 sec\n",
      " ARIMA(4,0,3)(0,0,0)[0] intercept   : AIC=-5458.124, Time=2.59 sec\n",
      " ARIMA(3,0,2)(0,0,0)[0]             : AIC=-5461.984, Time=2.36 sec\n",
      " ARIMA(2,0,2)(0,0,0)[0]             : AIC=-5461.756, Time=2.29 sec\n",
      " ARIMA(3,0,1)(0,0,0)[0]             : AIC=-5438.778, Time=2.27 sec\n",
      " ARIMA(4,0,2)(0,0,0)[0]             : AIC=-5460.529, Time=2.41 sec\n",
      " ARIMA(3,0,3)(0,0,0)[0]             : AIC=-5460.648, Time=2.41 sec\n",
      " ARIMA(2,0,1)(0,0,0)[0]             : AIC=-4568.801, Time=4.94 sec\n",
      " ARIMA(2,0,3)(0,0,0)[0]             : AIC=-5458.407, Time=2.41 sec\n",
      " ARIMA(4,0,1)(0,0,0)[0]             : AIC=-5458.000, Time=2.41 sec\n",
      " ARIMA(4,0,3)(0,0,0)[0]             : AIC=-5460.146, Time=2.49 sec\n",
      "\n",
      "Best model:  ARIMA(3,0,2)(0,0,0)[0]          \n",
      "Total fit time: 58.556 seconds\n",
      "Performing stepwise search to minimize aic\n",
      " ARIMA(2,0,2)(0,0,0)[0] intercept   : AIC=-3578.417, Time=6.09 sec\n",
      " ARIMA(0,0,0)(0,0,0)[0] intercept   : AIC=-3517.619, Time=1.87 sec\n",
      " ARIMA(1,0,0)(0,0,0)[0] intercept   : AIC=-4348.488, Time=5.22 sec\n",
      " ARIMA(0,0,1)(0,0,0)[0] intercept   : AIC=-3759.094, Time=2.03 sec\n",
      " ARIMA(0,0,0)(0,0,0)[0]             : AIC=902.290, Time=1.84 sec\n",
      " ARIMA(2,0,0)(0,0,0)[0] intercept   : AIC=-4353.281, Time=5.16 sec\n",
      " ARIMA(3,0,0)(0,0,0)[0] intercept   : AIC=-4355.264, Time=2.29 sec\n",
      " ARIMA(4,0,0)(0,0,0)[0] intercept   : AIC=-4358.187, Time=2.39 sec\n",
      " ARIMA(5,0,0)(0,0,0)[0] intercept   : AIC=-4360.465, Time=2.71 sec\n",
      " ARIMA(5,0,1)(0,0,0)[0] intercept   : AIC=-4355.655, Time=2.78 sec\n",
      " ARIMA(4,0,1)(0,0,0)[0] intercept   : AIC=-4353.954, Time=2.44 sec\n",
      " ARIMA(5,0,0)(0,0,0)[0]             : AIC=-4362.469, Time=2.66 sec\n",
      " ARIMA(4,0,0)(0,0,0)[0]             : AIC=-4360.195, Time=2.32 sec\n",
      " ARIMA(5,0,1)(0,0,0)[0]             : AIC=-4357.658, Time=2.71 sec\n",
      " ARIMA(4,0,1)(0,0,0)[0]             : AIC=-4355.959, Time=2.39 sec\n",
      "\n",
      "Best model:  ARIMA(5,0,0)(0,0,0)[0]          \n",
      "Total fit time: 44.890 seconds\n",
      "Performing stepwise search to minimize aic\n",
      " ARIMA(2,0,2)(0,0,0)[0] intercept   : AIC=-5555.336, Time=2.37 sec\n",
      " ARIMA(0,0,0)(0,0,0)[0] intercept   : AIC=-4560.976, Time=1.87 sec\n",
      " ARIMA(1,0,0)(0,0,0)[0] intercept   : AIC=-5510.921, Time=4.90 sec\n",
      " ARIMA(0,0,1)(0,0,0)[0] intercept   : AIC=-4782.005, Time=2.03 sec\n",
      " ARIMA(0,0,0)(0,0,0)[0]             : AIC=-141.067, Time=1.85 sec\n",
      " ARIMA(1,0,2)(0,0,0)[0] intercept   : AIC=-5516.571, Time=5.76 sec\n"
     ]
    },
    {
     "name": "stderr",
     "output_type": "stream",
     "text": [
      "/home/ai/.local/lib/python3.8/site-packages/statsmodels/tsa/statespace/sarimax.py:1890: RuntimeWarning: divide by zero encountered in reciprocal\n",
      "  return np.roots(self.polynomial_reduced_ar)**-1\n",
      "/home/ai/.local/lib/python3.8/site-packages/statsmodels/tsa/statespace/sarimax.py:1897: RuntimeWarning: divide by zero encountered in reciprocal\n",
      "  return np.roots(self.polynomial_reduced_ma)**-1\n"
     ]
    },
    {
     "name": "stdout",
     "output_type": "stream",
     "text": [
      " ARIMA(2,0,1)(0,0,0)[0] intercept   : AIC=-3614.677, Time=2.11 sec\n",
      " ARIMA(3,0,2)(0,0,0)[0] intercept   : AIC=-5032.418, Time=6.36 sec\n",
      " ARIMA(2,0,3)(0,0,0)[0] intercept   : AIC=-5558.725, Time=2.46 sec\n",
      " ARIMA(1,0,3)(0,0,0)[0] intercept   : AIC=-5521.308, Time=5.90 sec\n",
      " ARIMA(3,0,3)(0,0,0)[0] intercept   : AIC=-5559.343, Time=2.47 sec\n",
      " ARIMA(4,0,3)(0,0,0)[0] intercept   : AIC=-5559.536, Time=2.51 sec\n",
      " ARIMA(4,0,2)(0,0,0)[0] intercept   : AIC=-5554.906, Time=2.47 sec\n",
      " ARIMA(5,0,3)(0,0,0)[0] intercept   : AIC=-5051.966, Time=7.07 sec\n",
      " ARIMA(4,0,4)(0,0,0)[0] intercept   : AIC=-5554.946, Time=2.85 sec\n",
      " ARIMA(3,0,4)(0,0,0)[0] intercept   : AIC=-5554.240, Time=2.82 sec\n",
      " ARIMA(5,0,2)(0,0,0)[0] intercept   : AIC=-5551.784, Time=2.80 sec\n",
      " ARIMA(5,0,4)(0,0,0)[0] intercept   : AIC=-5552.739, Time=2.92 sec\n",
      " ARIMA(4,0,3)(0,0,0)[0]             : AIC=-5562.423, Time=2.45 sec\n",
      " ARIMA(3,0,3)(0,0,0)[0]             : AIC=-5562.372, Time=2.42 sec\n",
      " ARIMA(4,0,2)(0,0,0)[0]             : AIC=-5557.188, Time=2.42 sec\n",
      " ARIMA(5,0,3)(0,0,0)[0]             : AIC=-5054.226, Time=6.86 sec\n",
      " ARIMA(4,0,4)(0,0,0)[0]             : AIC=-5557.268, Time=2.80 sec\n",
      " ARIMA(3,0,2)(0,0,0)[0]             : AIC=-5034.448, Time=6.13 sec\n",
      " ARIMA(3,0,4)(0,0,0)[0]             : AIC=-5556.736, Time=2.76 sec\n",
      " ARIMA(5,0,2)(0,0,0)[0]             : AIC=-5553.983, Time=2.74 sec\n",
      " ARIMA(5,0,4)(0,0,0)[0]             : AIC=-5555.103, Time=2.85 sec\n",
      "\n",
      "Best model:  ARIMA(4,0,3)(0,0,0)[0]          \n",
      "Total fit time: 92.951 seconds\n",
      "Performing stepwise search to minimize aic\n",
      " ARIMA(2,0,2)(0,0,0)[0] intercept   : AIC=-4172.482, Time=2.41 sec\n",
      " ARIMA(0,0,0)(0,0,0)[0] intercept   : AIC=-3445.808, Time=1.89 sec\n",
      " ARIMA(1,0,0)(0,0,0)[0] intercept   : AIC=-4152.118, Time=1.96 sec\n",
      " ARIMA(0,0,1)(0,0,0)[0] intercept   : AIC=-3754.863, Time=2.01 sec\n",
      " ARIMA(0,0,0)(0,0,0)[0]             : AIC=974.101, Time=1.83 sec\n",
      " ARIMA(1,0,2)(0,0,0)[0] intercept   : AIC=-4151.252, Time=2.33 sec\n"
     ]
    },
    {
     "name": "stderr",
     "output_type": "stream",
     "text": [
      "/home/ai/.local/lib/python3.8/site-packages/statsmodels/tsa/statespace/sarimax.py:1890: RuntimeWarning: divide by zero encountered in reciprocal\n",
      "  return np.roots(self.polynomial_reduced_ar)**-1\n",
      "/home/ai/.local/lib/python3.8/site-packages/statsmodels/tsa/statespace/sarimax.py:1897: RuntimeWarning: divide by zero encountered in reciprocal\n",
      "  return np.roots(self.polynomial_reduced_ma)**-1\n"
     ]
    },
    {
     "name": "stdout",
     "output_type": "stream",
     "text": [
      " ARIMA(2,0,1)(0,0,0)[0] intercept   : AIC=-2992.119, Time=2.18 sec\n",
      " ARIMA(3,0,2)(0,0,0)[0] intercept   : AIC=-3662.572, Time=6.06 sec\n",
      " ARIMA(2,0,3)(0,0,0)[0] intercept   : AIC=-4180.074, Time=2.49 sec\n",
      " ARIMA(1,0,3)(0,0,0)[0] intercept   : AIC=-4151.370, Time=2.41 sec\n",
      " ARIMA(3,0,3)(0,0,0)[0] intercept   : AIC=inf, Time=2.53 sec\n"
     ]
    },
    {
     "name": "stderr",
     "output_type": "stream",
     "text": [
      "/home/ai/.local/lib/python3.8/site-packages/statsmodels/tsa/statespace/sarimax.py:1890: RuntimeWarning: divide by zero encountered in reciprocal\n",
      "  return np.roots(self.polynomial_reduced_ar)**-1\n",
      "/home/ai/.local/lib/python3.8/site-packages/statsmodels/tsa/statespace/sarimax.py:1897: RuntimeWarning: divide by zero encountered in reciprocal\n",
      "  return np.roots(self.polynomial_reduced_ma)**-1\n"
     ]
    },
    {
     "name": "stdout",
     "output_type": "stream",
     "text": [
      " ARIMA(2,0,4)(0,0,0)[0] intercept   : AIC=-2945.979, Time=3.08 sec\n",
      " ARIMA(1,0,4)(0,0,0)[0] intercept   : AIC=-4129.776, Time=7.03 sec\n"
     ]
    },
    {
     "name": "stderr",
     "output_type": "stream",
     "text": [
      "/home/ai/.local/lib/python3.8/site-packages/statsmodels/tsa/statespace/sarimax.py:1890: RuntimeWarning: divide by zero encountered in reciprocal\n",
      "  return np.roots(self.polynomial_reduced_ar)**-1\n",
      "/home/ai/.local/lib/python3.8/site-packages/statsmodels/tsa/statespace/sarimax.py:1897: RuntimeWarning: divide by zero encountered in reciprocal\n",
      "  return np.roots(self.polynomial_reduced_ma)**-1\n"
     ]
    },
    {
     "name": "stdout",
     "output_type": "stream",
     "text": [
      " ARIMA(3,0,4)(0,0,0)[0] intercept   : AIC=-2942.597, Time=3.02 sec\n",
      " ARIMA(2,0,3)(0,0,0)[0]             : AIC=-4182.091, Time=2.43 sec\n",
      " ARIMA(1,0,3)(0,0,0)[0]             : AIC=-4153.374, Time=2.40 sec\n",
      " ARIMA(2,0,2)(0,0,0)[0]             : AIC=-4174.490, Time=2.37 sec\n",
      " ARIMA(3,0,3)(0,0,0)[0]             : AIC=inf, Time=2.49 sec\n"
     ]
    },
    {
     "name": "stderr",
     "output_type": "stream",
     "text": [
      "/home/ai/.local/lib/python3.8/site-packages/statsmodels/tsa/statespace/sarimax.py:1890: RuntimeWarning: divide by zero encountered in reciprocal\n",
      "  return np.roots(self.polynomial_reduced_ar)**-1\n",
      "/home/ai/.local/lib/python3.8/site-packages/statsmodels/tsa/statespace/sarimax.py:1897: RuntimeWarning: divide by zero encountered in reciprocal\n",
      "  return np.roots(self.polynomial_reduced_ma)**-1\n"
     ]
    },
    {
     "name": "stdout",
     "output_type": "stream",
     "text": [
      " ARIMA(2,0,4)(0,0,0)[0]             : AIC=-2947.992, Time=2.73 sec\n",
      " ARIMA(1,0,2)(0,0,0)[0]             : AIC=-4153.252, Time=2.37 sec\n",
      " ARIMA(1,0,4)(0,0,0)[0]             : AIC=-4131.720, Time=7.12 sec\n",
      " ARIMA(3,0,2)(0,0,0)[0]             : AIC=-3664.703, Time=6.00 sec\n"
     ]
    },
    {
     "name": "stderr",
     "output_type": "stream",
     "text": [
      "/home/ai/.local/lib/python3.8/site-packages/statsmodels/tsa/statespace/sarimax.py:1890: RuntimeWarning: divide by zero encountered in reciprocal\n",
      "  return np.roots(self.polynomial_reduced_ar)**-1\n",
      "/home/ai/.local/lib/python3.8/site-packages/statsmodels/tsa/statespace/sarimax.py:1897: RuntimeWarning: divide by zero encountered in reciprocal\n",
      "  return np.roots(self.polynomial_reduced_ma)**-1\n"
     ]
    },
    {
     "name": "stdout",
     "output_type": "stream",
     "text": [
      " ARIMA(3,0,4)(0,0,0)[0]             : AIC=-2944.612, Time=2.75 sec\n",
      "\n",
      "Best model:  ARIMA(2,0,3)(0,0,0)[0]          \n",
      "Total fit time: 71.903 seconds\n",
      "Performing stepwise search to minimize aic\n"
     ]
    },
    {
     "name": "stderr",
     "output_type": "stream",
     "text": [
      "/home/ai/.local/lib/python3.8/site-packages/statsmodels/tsa/statespace/sarimax.py:1890: RuntimeWarning: divide by zero encountered in reciprocal\n",
      "  return np.roots(self.polynomial_reduced_ar)**-1\n",
      "/home/ai/.local/lib/python3.8/site-packages/statsmodels/tsa/statespace/sarimax.py:1897: RuntimeWarning: divide by zero encountered in reciprocal\n",
      "  return np.roots(self.polynomial_reduced_ma)**-1\n"
     ]
    },
    {
     "name": "stdout",
     "output_type": "stream",
     "text": [
      " ARIMA(2,0,2)(0,0,0)[0] intercept   : AIC=-2331.545, Time=2.40 sec\n",
      " ARIMA(0,0,0)(0,0,0)[0] intercept   : AIC=-2995.656, Time=1.91 sec\n",
      " ARIMA(1,0,0)(0,0,0)[0] intercept   : AIC=-3830.648, Time=4.86 sec\n",
      " ARIMA(0,0,1)(0,0,0)[0] intercept   : AIC=-3363.402, Time=2.03 sec\n",
      " ARIMA(0,0,0)(0,0,0)[0]             : AIC=1424.253, Time=1.87 sec\n",
      " ARIMA(2,0,0)(0,0,0)[0] intercept   : AIC=-3828.665, Time=5.19 sec\n",
      " ARIMA(1,0,1)(0,0,0)[0] intercept   : AIC=-3828.656, Time=5.20 sec\n"
     ]
    },
    {
     "name": "stderr",
     "output_type": "stream",
     "text": [
      "/home/ai/.local/lib/python3.8/site-packages/statsmodels/tsa/statespace/sarimax.py:1890: RuntimeWarning: divide by zero encountered in reciprocal\n",
      "  return np.roots(self.polynomial_reduced_ar)**-1\n",
      "/home/ai/.local/lib/python3.8/site-packages/statsmodels/tsa/statespace/sarimax.py:1897: RuntimeWarning: divide by zero encountered in reciprocal\n",
      "  return np.roots(self.polynomial_reduced_ma)**-1\n"
     ]
    },
    {
     "name": "stdout",
     "output_type": "stream",
     "text": [
      " ARIMA(2,0,1)(0,0,0)[0] intercept   : AIC=-2337.819, Time=2.15 sec\n",
      " ARIMA(1,0,0)(0,0,0)[0]             : AIC=-3832.647, Time=4.70 sec\n",
      " ARIMA(2,0,0)(0,0,0)[0]             : AIC=-3830.645, Time=5.03 sec\n",
      " ARIMA(1,0,1)(0,0,0)[0]             : AIC=-3830.631, Time=5.07 sec\n",
      " ARIMA(0,0,1)(0,0,0)[0]             : AIC=-3365.400, Time=1.98 sec\n"
     ]
    },
    {
     "name": "stderr",
     "output_type": "stream",
     "text": [
      "/home/ai/.local/lib/python3.8/site-packages/statsmodels/tsa/statespace/sarimax.py:1890: RuntimeWarning: divide by zero encountered in reciprocal\n",
      "  return np.roots(self.polynomial_reduced_ar)**-1\n",
      "/home/ai/.local/lib/python3.8/site-packages/statsmodels/tsa/statespace/sarimax.py:1897: RuntimeWarning: divide by zero encountered in reciprocal\n",
      "  return np.roots(self.polynomial_reduced_ma)**-1\n"
     ]
    },
    {
     "name": "stdout",
     "output_type": "stream",
     "text": [
      " ARIMA(2,0,1)(0,0,0)[0]             : AIC=-2339.824, Time=2.08 sec\n",
      "\n",
      "Best model:  ARIMA(1,0,0)(0,0,0)[0]          \n",
      "Total fit time: 44.476 seconds\n",
      "Performing stepwise search to minimize aic\n",
      " ARIMA(2,0,2)(0,0,0)[0] intercept   : AIC=-6038.099, Time=2.41 sec\n",
      " ARIMA(0,0,0)(0,0,0)[0] intercept   : AIC=-5218.540, Time=1.90 sec\n",
      " ARIMA(1,0,0)(0,0,0)[0] intercept   : AIC=-6017.033, Time=1.95 sec\n",
      " ARIMA(0,0,1)(0,0,0)[0] intercept   : AIC=-5594.190, Time=2.08 sec\n",
      " ARIMA(0,0,0)(0,0,0)[0]             : AIC=-798.630, Time=1.86 sec\n",
      " ARIMA(1,0,2)(0,0,0)[0] intercept   : AIC=-6019.360, Time=2.32 sec\n",
      " ARIMA(2,0,1)(0,0,0)[0] intercept   : AIC=-6025.493, Time=2.14 sec\n"
     ]
    },
    {
     "name": "stderr",
     "output_type": "stream",
     "text": [
      "/home/ai/.local/lib/python3.8/site-packages/statsmodels/tsa/statespace/sarimax.py:1890: RuntimeWarning: divide by zero encountered in reciprocal\n",
      "  return np.roots(self.polynomial_reduced_ar)**-1\n",
      "/home/ai/.local/lib/python3.8/site-packages/statsmodels/tsa/statespace/sarimax.py:1897: RuntimeWarning: divide by zero encountered in reciprocal\n",
      "  return np.roots(self.polynomial_reduced_ma)**-1\n"
     ]
    },
    {
     "name": "stdout",
     "output_type": "stream",
     "text": [
      " ARIMA(3,0,2)(0,0,0)[0] intercept   : AIC=-4574.680, Time=2.40 sec\n",
      " ARIMA(2,0,3)(0,0,0)[0] intercept   : AIC=-6026.256, Time=2.43 sec\n",
      " ARIMA(1,0,1)(0,0,0)[0] intercept   : AIC=-6020.541, Time=2.08 sec\n",
      " ARIMA(1,0,3)(0,0,0)[0] intercept   : AIC=-6021.511, Time=2.38 sec\n",
      " ARIMA(3,0,1)(0,0,0)[0] intercept   : AIC=-6016.543, Time=2.37 sec\n",
      " ARIMA(3,0,3)(0,0,0)[0] intercept   : AIC=inf, Time=2.50 sec\n",
      " ARIMA(2,0,2)(0,0,0)[0]             : AIC=-6040.395, Time=2.32 sec\n",
      " ARIMA(1,0,2)(0,0,0)[0]             : AIC=-6021.363, Time=2.26 sec\n",
      " ARIMA(2,0,1)(0,0,0)[0]             : AIC=-6027.505, Time=2.07 sec\n"
     ]
    },
    {
     "name": "stderr",
     "output_type": "stream",
     "text": [
      "/home/ai/.local/lib/python3.8/site-packages/statsmodels/tsa/statespace/sarimax.py:1890: RuntimeWarning: divide by zero encountered in reciprocal\n",
      "  return np.roots(self.polynomial_reduced_ar)**-1\n",
      "/home/ai/.local/lib/python3.8/site-packages/statsmodels/tsa/statespace/sarimax.py:1897: RuntimeWarning: divide by zero encountered in reciprocal\n",
      "  return np.roots(self.polynomial_reduced_ma)**-1\n"
     ]
    },
    {
     "name": "stdout",
     "output_type": "stream",
     "text": [
      " ARIMA(3,0,2)(0,0,0)[0]             : AIC=-4576.691, Time=2.33 sec\n",
      " ARIMA(2,0,3)(0,0,0)[0]             : AIC=-6028.279, Time=2.39 sec\n",
      " ARIMA(1,0,1)(0,0,0)[0]             : AIC=-6022.545, Time=2.03 sec\n",
      " ARIMA(1,0,3)(0,0,0)[0]             : AIC=-6023.516, Time=2.30 sec\n",
      " ARIMA(3,0,1)(0,0,0)[0]             : AIC=-6018.546, Time=2.30 sec\n",
      " ARIMA(3,0,3)(0,0,0)[0]             : AIC=inf, Time=2.42 sec\n",
      "\n",
      "Best model:  ARIMA(2,0,2)(0,0,0)[0]          \n",
      "Total fit time: 49.240 seconds\n",
      "Performing stepwise search to minimize aic\n"
     ]
    },
    {
     "name": "stderr",
     "output_type": "stream",
     "text": [
      "/home/ai/.local/lib/python3.8/site-packages/statsmodels/tsa/statespace/sarimax.py:1890: RuntimeWarning: divide by zero encountered in reciprocal\n",
      "  return np.roots(self.polynomial_reduced_ar)**-1\n",
      "/home/ai/.local/lib/python3.8/site-packages/statsmodels/tsa/statespace/sarimax.py:1897: RuntimeWarning: divide by zero encountered in reciprocal\n",
      "  return np.roots(self.polynomial_reduced_ma)**-1\n"
     ]
    },
    {
     "name": "stdout",
     "output_type": "stream",
     "text": [
      " ARIMA(2,0,2)(0,0,0)[0] intercept   : AIC=-646.818, Time=2.39 sec\n",
      " ARIMA(0,0,0)(0,0,0)[0] intercept   : AIC=-1584.400, Time=1.91 sec\n",
      " ARIMA(1,0,0)(0,0,0)[0] intercept   : AIC=-2524.249, Time=2.09 sec\n",
      " ARIMA(0,0,1)(0,0,0)[0] intercept   : AIC=-1817.110, Time=2.09 sec\n",
      " ARIMA(0,0,0)(0,0,0)[0]             : AIC=2835.510, Time=2.00 sec\n",
      " ARIMA(2,0,0)(0,0,0)[0] intercept   : AIC=-2532.481, Time=2.15 sec\n",
      " ARIMA(3,0,0)(0,0,0)[0] intercept   : AIC=-2532.281, Time=2.36 sec\n",
      " ARIMA(2,0,1)(0,0,0)[0] intercept   : AIC=-2534.499, Time=2.13 sec\n",
      " ARIMA(1,0,1)(0,0,0)[0] intercept   : AIC=-2533.925, Time=2.13 sec\n",
      " ARIMA(3,0,1)(0,0,0)[0] intercept   : AIC=-2532.395, Time=2.39 sec\n",
      " ARIMA(1,0,2)(0,0,0)[0] intercept   : AIC=-2532.981, Time=2.31 sec\n"
     ]
    },
    {
     "name": "stderr",
     "output_type": "stream",
     "text": [
      "/home/ai/.local/lib/python3.8/site-packages/statsmodels/tsa/statespace/sarimax.py:1890: RuntimeWarning: divide by zero encountered in reciprocal\n",
      "  return np.roots(self.polynomial_reduced_ar)**-1\n",
      "/home/ai/.local/lib/python3.8/site-packages/statsmodels/tsa/statespace/sarimax.py:1897: RuntimeWarning: divide by zero encountered in reciprocal\n",
      "  return np.roots(self.polynomial_reduced_ma)**-1\n"
     ]
    },
    {
     "name": "stdout",
     "output_type": "stream",
     "text": [
      " ARIMA(3,0,2)(0,0,0)[0] intercept   : AIC=-625.281, Time=2.39 sec\n",
      " ARIMA(2,0,1)(0,0,0)[0]             : AIC=-2536.501, Time=2.06 sec\n",
      " ARIMA(1,0,1)(0,0,0)[0]             : AIC=-2535.927, Time=2.07 sec\n",
      " ARIMA(2,0,0)(0,0,0)[0]             : AIC=-2534.483, Time=2.04 sec\n",
      " ARIMA(3,0,1)(0,0,0)[0]             : AIC=-2534.397, Time=2.29 sec\n"
     ]
    },
    {
     "name": "stderr",
     "output_type": "stream",
     "text": [
      "/home/ai/.local/lib/python3.8/site-packages/statsmodels/tsa/statespace/sarimax.py:1890: RuntimeWarning: divide by zero encountered in reciprocal\n",
      "  return np.roots(self.polynomial_reduced_ar)**-1\n",
      "/home/ai/.local/lib/python3.8/site-packages/statsmodels/tsa/statespace/sarimax.py:1897: RuntimeWarning: divide by zero encountered in reciprocal\n",
      "  return np.roots(self.polynomial_reduced_ma)**-1\n"
     ]
    },
    {
     "name": "stdout",
     "output_type": "stream",
     "text": [
      " ARIMA(2,0,2)(0,0,0)[0]             : AIC=-648.820, Time=2.30 sec\n",
      " ARIMA(1,0,0)(0,0,0)[0]             : AIC=-2526.254, Time=1.89 sec\n",
      " ARIMA(1,0,2)(0,0,0)[0]             : AIC=-2534.983, Time=2.24 sec\n",
      " ARIMA(3,0,0)(0,0,0)[0]             : AIC=-2534.284, Time=2.24 sec\n"
     ]
    },
    {
     "name": "stderr",
     "output_type": "stream",
     "text": [
      "/home/ai/.local/lib/python3.8/site-packages/statsmodels/tsa/statespace/sarimax.py:1890: RuntimeWarning: divide by zero encountered in reciprocal\n",
      "  return np.roots(self.polynomial_reduced_ar)**-1\n",
      "/home/ai/.local/lib/python3.8/site-packages/statsmodels/tsa/statespace/sarimax.py:1897: RuntimeWarning: divide by zero encountered in reciprocal\n",
      "  return np.roots(self.polynomial_reduced_ma)**-1\n"
     ]
    },
    {
     "name": "stdout",
     "output_type": "stream",
     "text": [
      " ARIMA(3,0,2)(0,0,0)[0]             : AIC=-627.282, Time=2.36 sec\n",
      "\n",
      "Best model:  ARIMA(2,0,1)(0,0,0)[0]          \n",
      "Total fit time: 45.828 seconds\n",
      "Performing stepwise search to minimize aic\n"
     ]
    },
    {
     "name": "stderr",
     "output_type": "stream",
     "text": [
      "/home/ai/.local/lib/python3.8/site-packages/statsmodels/tsa/statespace/sarimax.py:1890: RuntimeWarning: divide by zero encountered in reciprocal\n",
      "  return np.roots(self.polynomial_reduced_ar)**-1\n",
      "/home/ai/.local/lib/python3.8/site-packages/statsmodels/tsa/statespace/sarimax.py:1897: RuntimeWarning: divide by zero encountered in reciprocal\n",
      "  return np.roots(self.polynomial_reduced_ma)**-1\n"
     ]
    },
    {
     "name": "stdout",
     "output_type": "stream",
     "text": [
      " ARIMA(2,0,2)(0,0,0)[0] intercept   : AIC=-2594.701, Time=2.35 sec\n",
      " ARIMA(0,0,0)(0,0,0)[0] intercept   : AIC=-3274.753, Time=1.90 sec\n",
      " ARIMA(1,0,0)(0,0,0)[0] intercept   : AIC=-4096.062, Time=1.95 sec\n",
      " ARIMA(0,0,1)(0,0,0)[0] intercept   : AIC=-3604.280, Time=2.06 sec\n",
      " ARIMA(0,0,0)(0,0,0)[0]             : AIC=1145.156, Time=1.85 sec\n",
      " ARIMA(2,0,0)(0,0,0)[0] intercept   : AIC=-4094.065, Time=2.06 sec\n",
      " ARIMA(1,0,1)(0,0,0)[0] intercept   : AIC=-4094.070, Time=2.10 sec\n"
     ]
    },
    {
     "name": "stderr",
     "output_type": "stream",
     "text": [
      "/home/ai/.local/lib/python3.8/site-packages/statsmodels/tsa/statespace/sarimax.py:1890: RuntimeWarning: divide by zero encountered in reciprocal\n",
      "  return np.roots(self.polynomial_reduced_ar)**-1\n",
      "/home/ai/.local/lib/python3.8/site-packages/statsmodels/tsa/statespace/sarimax.py:1897: RuntimeWarning: divide by zero encountered in reciprocal\n",
      "  return np.roots(self.polynomial_reduced_ma)**-1\n"
     ]
    },
    {
     "name": "stdout",
     "output_type": "stream",
     "text": [
      " ARIMA(2,0,1)(0,0,0)[0] intercept   : AIC=-2624.746, Time=2.17 sec\n",
      " ARIMA(1,0,0)(0,0,0)[0]             : AIC=-4098.080, Time=1.90 sec\n",
      " ARIMA(2,0,0)(0,0,0)[0]             : AIC=-4096.082, Time=2.02 sec\n",
      " ARIMA(1,0,1)(0,0,0)[0]             : AIC=-4096.083, Time=2.00 sec\n",
      " ARIMA(0,0,1)(0,0,0)[0]             : AIC=-3606.265, Time=1.99 sec\n"
     ]
    },
    {
     "name": "stderr",
     "output_type": "stream",
     "text": [
      "/home/ai/.local/lib/python3.8/site-packages/statsmodels/tsa/statespace/sarimax.py:1890: RuntimeWarning: divide by zero encountered in reciprocal\n",
      "  return np.roots(self.polynomial_reduced_ar)**-1\n",
      "/home/ai/.local/lib/python3.8/site-packages/statsmodels/tsa/statespace/sarimax.py:1897: RuntimeWarning: divide by zero encountered in reciprocal\n",
      "  return np.roots(self.polynomial_reduced_ma)**-1\n"
     ]
    },
    {
     "name": "stdout",
     "output_type": "stream",
     "text": [
      " ARIMA(2,0,1)(0,0,0)[0]             : AIC=-2626.762, Time=2.07 sec\n",
      "\n",
      "Best model:  ARIMA(1,0,0)(0,0,0)[0]          \n",
      "Total fit time: 26.437 seconds\n",
      "Performing stepwise search to minimize aic\n",
      " ARIMA(2,0,2)(0,0,0)[0] intercept   : AIC=-6202.427, Time=2.45 sec\n",
      " ARIMA(0,0,0)(0,0,0)[0] intercept   : AIC=-5339.393, Time=1.87 sec\n",
      " ARIMA(1,0,0)(0,0,0)[0] intercept   : AIC=-6167.359, Time=1.97 sec\n",
      " ARIMA(0,0,1)(0,0,0)[0] intercept   : AIC=-5649.050, Time=2.09 sec\n",
      " ARIMA(0,0,0)(0,0,0)[0]             : AIC=-919.484, Time=1.87 sec\n",
      " ARIMA(1,0,2)(0,0,0)[0] intercept   : AIC=-6182.816, Time=2.35 sec\n"
     ]
    },
    {
     "name": "stderr",
     "output_type": "stream",
     "text": [
      "/home/ai/.local/lib/python3.8/site-packages/statsmodels/tsa/statespace/sarimax.py:1890: RuntimeWarning: divide by zero encountered in reciprocal\n",
      "  return np.roots(self.polynomial_reduced_ar)**-1\n",
      "/home/ai/.local/lib/python3.8/site-packages/statsmodels/tsa/statespace/sarimax.py:1897: RuntimeWarning: divide by zero encountered in reciprocal\n",
      "  return np.roots(self.polynomial_reduced_ma)**-1\n"
     ]
    },
    {
     "name": "stdout",
     "output_type": "stream",
     "text": [
      " ARIMA(2,0,1)(0,0,0)[0] intercept   : AIC=-4628.741, Time=2.12 sec\n",
      " ARIMA(3,0,2)(0,0,0)[0] intercept   : AIC=-6207.205, Time=2.43 sec\n",
      " ARIMA(3,0,1)(0,0,0)[0] intercept   : AIC=-6178.812, Time=2.37 sec\n"
     ]
    },
    {
     "name": "stderr",
     "output_type": "stream",
     "text": [
      "/home/ai/.local/lib/python3.8/site-packages/statsmodels/tsa/statespace/sarimax.py:1890: RuntimeWarning: divide by zero encountered in reciprocal\n",
      "  return np.roots(self.polynomial_reduced_ar)**-1\n",
      "/home/ai/.local/lib/python3.8/site-packages/statsmodels/tsa/statespace/sarimax.py:1897: RuntimeWarning: divide by zero encountered in reciprocal\n",
      "  return np.roots(self.polynomial_reduced_ma)**-1\n"
     ]
    },
    {
     "name": "stdout",
     "output_type": "stream",
     "text": [
      " ARIMA(4,0,2)(0,0,0)[0] intercept   : AIC=-4579.573, Time=2.49 sec\n",
      " ARIMA(3,0,3)(0,0,0)[0] intercept   : AIC=-6204.923, Time=2.48 sec\n",
      " ARIMA(2,0,3)(0,0,0)[0] intercept   : AIC=-6202.218, Time=2.44 sec\n",
      " ARIMA(4,0,1)(0,0,0)[0] intercept   : AIC=-6192.111, Time=2.43 sec\n",
      " ARIMA(4,0,3)(0,0,0)[0] intercept   : AIC=-6209.149, Time=2.58 sec\n",
      " ARIMA(5,0,3)(0,0,0)[0] intercept   : AIC=-6214.607, Time=2.92 sec\n"
     ]
    },
    {
     "name": "stderr",
     "output_type": "stream",
     "text": [
      "/home/ai/.local/lib/python3.8/site-packages/statsmodels/tsa/statespace/sarimax.py:1897: RuntimeWarning: divide by zero encountered in reciprocal\n",
      "  return np.roots(self.polynomial_reduced_ma)**-1\n"
     ]
    },
    {
     "name": "stdout",
     "output_type": "stream",
     "text": [
      " ARIMA(5,0,2)(0,0,0)[0] intercept   : AIC=-5288.085, Time=2.81 sec\n",
      " ARIMA(5,0,4)(0,0,0)[0] intercept   : AIC=-6208.042, Time=2.96 sec\n",
      " ARIMA(4,0,4)(0,0,0)[0] intercept   : AIC=-6211.091, Time=2.85 sec\n",
      " ARIMA(5,0,3)(0,0,0)[0]             : AIC=-6217.895, Time=2.77 sec\n",
      " ARIMA(4,0,3)(0,0,0)[0]             : AIC=-6211.286, Time=2.58 sec\n"
     ]
    },
    {
     "name": "stderr",
     "output_type": "stream",
     "text": [
      "/home/ai/.local/lib/python3.8/site-packages/statsmodels/tsa/statespace/sarimax.py:1897: RuntimeWarning: divide by zero encountered in reciprocal\n",
      "  return np.roots(self.polynomial_reduced_ma)**-1\n"
     ]
    },
    {
     "name": "stdout",
     "output_type": "stream",
     "text": [
      " ARIMA(5,0,2)(0,0,0)[0]             : AIC=-5289.787, Time=2.90 sec\n",
      " ARIMA(5,0,4)(0,0,0)[0]             : AIC=-6210.134, Time=3.07 sec\n"
     ]
    },
    {
     "name": "stderr",
     "output_type": "stream",
     "text": [
      "/home/ai/.local/lib/python3.8/site-packages/statsmodels/tsa/statespace/sarimax.py:1890: RuntimeWarning: divide by zero encountered in reciprocal\n",
      "  return np.roots(self.polynomial_reduced_ar)**-1\n",
      "/home/ai/.local/lib/python3.8/site-packages/statsmodels/tsa/statespace/sarimax.py:1897: RuntimeWarning: divide by zero encountered in reciprocal\n",
      "  return np.roots(self.polynomial_reduced_ma)**-1\n"
     ]
    },
    {
     "name": "stdout",
     "output_type": "stream",
     "text": [
      " ARIMA(4,0,2)(0,0,0)[0]             : AIC=-4581.749, Time=2.54 sec\n",
      " ARIMA(4,0,4)(0,0,0)[0]             : AIC=-6213.275, Time=2.93 sec\n",
      "\n",
      "Best model:  ARIMA(5,0,3)(0,0,0)[0]          \n",
      "Total fit time: 60.285 seconds\n",
      "Performing stepwise search to minimize aic\n",
      " ARIMA(2,0,2)(0,0,0)[0] intercept   : AIC=-6007.780, Time=2.64 sec\n",
      " ARIMA(0,0,0)(0,0,0)[0] intercept   : AIC=-5292.748, Time=2.01 sec\n",
      " ARIMA(1,0,0)(0,0,0)[0] intercept   : AIC=-5986.471, Time=2.02 sec\n",
      " ARIMA(0,0,1)(0,0,0)[0] intercept   : AIC=-5632.514, Time=2.07 sec\n",
      " ARIMA(0,0,0)(0,0,0)[0]             : AIC=-872.839, Time=1.90 sec\n",
      " ARIMA(1,0,2)(0,0,0)[0] intercept   : AIC=-5990.049, Time=2.40 sec\n"
     ]
    },
    {
     "name": "stderr",
     "output_type": "stream",
     "text": [
      "/home/ai/.local/lib/python3.8/site-packages/statsmodels/tsa/statespace/sarimax.py:1890: RuntimeWarning: divide by zero encountered in reciprocal\n",
      "  return np.roots(self.polynomial_reduced_ar)**-1\n",
      "/home/ai/.local/lib/python3.8/site-packages/statsmodels/tsa/statespace/sarimax.py:1897: RuntimeWarning: divide by zero encountered in reciprocal\n",
      "  return np.roots(self.polynomial_reduced_ma)**-1\n"
     ]
    },
    {
     "name": "stdout",
     "output_type": "stream",
     "text": [
      " ARIMA(2,0,1)(0,0,0)[0] intercept   : AIC=-4841.984, Time=2.23 sec\n"
     ]
    },
    {
     "name": "stderr",
     "output_type": "stream",
     "text": [
      "/home/ai/.local/lib/python3.8/site-packages/statsmodels/tsa/statespace/sarimax.py:1890: RuntimeWarning: divide by zero encountered in reciprocal\n",
      "  return np.roots(self.polynomial_reduced_ar)**-1\n"
     ]
    },
    {
     "name": "stdout",
     "output_type": "stream",
     "text": [
      " ARIMA(3,0,2)(0,0,0)[0] intercept   : AIC=4443.962, Time=2.51 sec\n",
      " ARIMA(2,0,3)(0,0,0)[0] intercept   : AIC=-6001.256, Time=2.70 sec\n",
      " ARIMA(1,0,1)(0,0,0)[0] intercept   : AIC=-5987.473, Time=6.81 sec\n",
      " ARIMA(1,0,3)(0,0,0)[0] intercept   : AIC=-5990.050, Time=2.51 sec\n",
      " ARIMA(3,0,1)(0,0,0)[0] intercept   : AIC=-5986.498, Time=2.79 sec\n"
     ]
    },
    {
     "name": "stderr",
     "output_type": "stream",
     "text": [
      "/home/ai/.local/lib/python3.8/site-packages/statsmodels/tsa/statespace/sarimax.py:1890: RuntimeWarning: divide by zero encountered in reciprocal\n",
      "  return np.roots(self.polynomial_reduced_ar)**-1\n",
      "/home/ai/.local/lib/python3.8/site-packages/statsmodels/tsa/statespace/sarimax.py:1897: RuntimeWarning: divide by zero encountered in reciprocal\n",
      "  return np.roots(self.polynomial_reduced_ma)**-1\n"
     ]
    },
    {
     "name": "stdout",
     "output_type": "stream",
     "text": [
      " ARIMA(3,0,3)(0,0,0)[0] intercept   : AIC=-4797.427, Time=2.60 sec\n",
      " ARIMA(2,0,2)(0,0,0)[0]             : AIC=-6010.930, Time=2.47 sec\n",
      " ARIMA(1,0,2)(0,0,0)[0]             : AIC=-5992.122, Time=2.49 sec\n"
     ]
    },
    {
     "name": "stderr",
     "output_type": "stream",
     "text": [
      "/home/ai/.local/lib/python3.8/site-packages/statsmodels/tsa/statespace/sarimax.py:1890: RuntimeWarning: divide by zero encountered in reciprocal\n",
      "  return np.roots(self.polynomial_reduced_ar)**-1\n",
      "/home/ai/.local/lib/python3.8/site-packages/statsmodels/tsa/statespace/sarimax.py:1897: RuntimeWarning: divide by zero encountered in reciprocal\n",
      "  return np.roots(self.polynomial_reduced_ma)**-1\n"
     ]
    },
    {
     "name": "stdout",
     "output_type": "stream",
     "text": [
      " ARIMA(2,0,1)(0,0,0)[0]             : AIC=-4844.014, Time=2.39 sec\n"
     ]
    },
    {
     "name": "stderr",
     "output_type": "stream",
     "text": [
      "/home/ai/.local/lib/python3.8/site-packages/statsmodels/tsa/statespace/sarimax.py:1890: RuntimeWarning: divide by zero encountered in reciprocal\n",
      "  return np.roots(self.polynomial_reduced_ar)**-1\n"
     ]
    },
    {
     "name": "stdout",
     "output_type": "stream",
     "text": [
      " ARIMA(3,0,2)(0,0,0)[0]             : AIC=4485.745, Time=2.61 sec\n",
      " ARIMA(2,0,3)(0,0,0)[0]             : AIC=-6003.667, Time=2.57 sec\n",
      " ARIMA(1,0,1)(0,0,0)[0]             : AIC=-5989.492, Time=2.22 sec\n",
      " ARIMA(1,0,3)(0,0,0)[0]             : AIC=-5992.095, Time=7.51 sec\n",
      " ARIMA(3,0,1)(0,0,0)[0]             : AIC=-5988.509, Time=2.61 sec\n"
     ]
    },
    {
     "name": "stderr",
     "output_type": "stream",
     "text": [
      "/home/ai/.local/lib/python3.8/site-packages/statsmodels/tsa/statespace/sarimax.py:1890: RuntimeWarning: divide by zero encountered in reciprocal\n",
      "  return np.roots(self.polynomial_reduced_ar)**-1\n",
      "/home/ai/.local/lib/python3.8/site-packages/statsmodels/tsa/statespace/sarimax.py:1897: RuntimeWarning: divide by zero encountered in reciprocal\n",
      "  return np.roots(self.polynomial_reduced_ma)**-1\n"
     ]
    },
    {
     "name": "stdout",
     "output_type": "stream",
     "text": [
      " ARIMA(3,0,3)(0,0,0)[0]             : AIC=-4799.548, Time=2.70 sec\n",
      "\n",
      "Best model:  ARIMA(2,0,2)(0,0,0)[0]          \n",
      "Total fit time: 62.771 seconds\n",
      "Performing stepwise search to minimize aic\n"
     ]
    },
    {
     "name": "stderr",
     "output_type": "stream",
     "text": [
      "/home/ai/.local/lib/python3.8/site-packages/statsmodels/tsa/statespace/sarimax.py:1897: RuntimeWarning: divide by zero encountered in reciprocal\n",
      "  return np.roots(self.polynomial_reduced_ma)**-1\n"
     ]
    },
    {
     "name": "stdout",
     "output_type": "stream",
     "text": [
      " ARIMA(2,0,2)(0,0,0)[0] intercept   : AIC=-9294.567, Time=2.52 sec\n",
      " ARIMA(0,0,0)(0,0,0)[0] intercept   : AIC=-9246.052, Time=2.13 sec\n",
      " ARIMA(1,0,0)(0,0,0)[0] intercept   : AIC=-9811.072, Time=2.17 sec\n",
      " ARIMA(0,0,1)(0,0,0)[0] intercept   : AIC=-9531.644, Time=2.33 sec\n",
      " ARIMA(0,0,0)(0,0,0)[0]             : AIC=-4826.143, Time=1.93 sec\n",
      " ARIMA(2,0,0)(0,0,0)[0] intercept   : AIC=-9842.661, Time=2.24 sec\n",
      " ARIMA(3,0,0)(0,0,0)[0] intercept   : AIC=-9841.125, Time=2.44 sec\n",
      " ARIMA(2,0,1)(0,0,0)[0] intercept   : AIC=-9841.484, Time=2.21 sec\n",
      " ARIMA(1,0,1)(0,0,0)[0] intercept   : AIC=-9839.686, Time=2.18 sec\n",
      " ARIMA(3,0,1)(0,0,0)[0] intercept   : AIC=-9838.231, Time=2.51 sec\n",
      " ARIMA(2,0,0)(0,0,0)[0]             : AIC=-9844.666, Time=2.22 sec\n",
      " ARIMA(1,0,0)(0,0,0)[0]             : AIC=-9813.077, Time=1.94 sec\n",
      " ARIMA(3,0,0)(0,0,0)[0]             : AIC=-9843.129, Time=2.35 sec\n",
      " ARIMA(2,0,1)(0,0,0)[0]             : AIC=-9843.489, Time=2.18 sec\n",
      " ARIMA(1,0,1)(0,0,0)[0]             : AIC=-9841.689, Time=2.08 sec\n",
      " ARIMA(3,0,1)(0,0,0)[0]             : AIC=-9840.233, Time=2.37 sec\n",
      "\n",
      "Best model:  ARIMA(2,0,0)(0,0,0)[0]          \n",
      "Total fit time: 35.790 seconds\n",
      "Performing stepwise search to minimize aic\n",
      " ARIMA(2,0,2)(0,0,0)[0] intercept   : AIC=-4159.955, Time=12.12 sec\n",
      " ARIMA(0,0,0)(0,0,0)[0] intercept   : AIC=-3342.613, Time=1.92 sec\n",
      " ARIMA(1,0,0)(0,0,0)[0] intercept   : AIC=-4139.542, Time=4.74 sec\n",
      " ARIMA(0,0,1)(0,0,0)[0] intercept   : AIC=-3741.274, Time=2.11 sec\n",
      " ARIMA(0,0,0)(0,0,0)[0]             : AIC=1077.297, Time=1.90 sec\n",
      " ARIMA(1,0,2)(0,0,0)[0] intercept   : AIC=-4152.626, Time=6.08 sec\n"
     ]
    },
    {
     "name": "stderr",
     "output_type": "stream",
     "text": [
      "/home/ai/.local/lib/python3.8/site-packages/statsmodels/tsa/statespace/sarimax.py:1890: RuntimeWarning: divide by zero encountered in reciprocal\n",
      "  return np.roots(self.polynomial_reduced_ar)**-1\n",
      "/home/ai/.local/lib/python3.8/site-packages/statsmodels/tsa/statespace/sarimax.py:1897: RuntimeWarning: divide by zero encountered in reciprocal\n",
      "  return np.roots(self.polynomial_reduced_ma)**-1\n"
     ]
    },
    {
     "name": "stdout",
     "output_type": "stream",
     "text": [
      " ARIMA(2,0,1)(0,0,0)[0] intercept   : AIC=-2715.590, Time=2.24 sec\n",
      " ARIMA(3,0,2)(0,0,0)[0] intercept   : AIC=-4156.175, Time=2.52 sec\n",
      " ARIMA(2,0,3)(0,0,0)[0] intercept   : AIC=-4157.840, Time=9.33 sec\n",
      " ARIMA(1,0,1)(0,0,0)[0] intercept   : AIC=-4137.681, Time=5.12 sec\n",
      " ARIMA(1,0,3)(0,0,0)[0] intercept   : AIC=-4157.599, Time=6.03 sec\n",
      " ARIMA(3,0,1)(0,0,0)[0] intercept   : AIC=-4143.961, Time=6.45 sec\n"
     ]
    },
    {
     "name": "stderr",
     "output_type": "stream",
     "text": [
      "/home/ai/.local/lib/python3.8/site-packages/statsmodels/tsa/statespace/sarimax.py:1890: RuntimeWarning: divide by zero encountered in reciprocal\n",
      "  return np.roots(self.polynomial_reduced_ar)**-1\n",
      "/home/ai/.local/lib/python3.8/site-packages/statsmodels/tsa/statespace/sarimax.py:1897: RuntimeWarning: divide by zero encountered in reciprocal\n",
      "  return np.roots(self.polynomial_reduced_ma)**-1\n"
     ]
    },
    {
     "name": "stdout",
     "output_type": "stream",
     "text": [
      " ARIMA(3,0,3)(0,0,0)[0] intercept   : AIC=-2661.653, Time=2.52 sec\n",
      " ARIMA(2,0,2)(0,0,0)[0]             : AIC=-4160.074, Time=2.36 sec\n",
      " ARIMA(1,0,2)(0,0,0)[0]             : AIC=-4154.518, Time=5.76 sec\n"
     ]
    },
    {
     "name": "stderr",
     "output_type": "stream",
     "text": [
      "/home/ai/.local/lib/python3.8/site-packages/statsmodels/tsa/statespace/sarimax.py:1890: RuntimeWarning: divide by zero encountered in reciprocal\n",
      "  return np.roots(self.polynomial_reduced_ar)**-1\n",
      "/home/ai/.local/lib/python3.8/site-packages/statsmodels/tsa/statespace/sarimax.py:1897: RuntimeWarning: divide by zero encountered in reciprocal\n",
      "  return np.roots(self.polynomial_reduced_ma)**-1\n"
     ]
    },
    {
     "name": "stdout",
     "output_type": "stream",
     "text": [
      " ARIMA(2,0,1)(0,0,0)[0]             : AIC=-2717.603, Time=2.10 sec\n",
      " ARIMA(3,0,2)(0,0,0)[0]             : AIC=-4158.208, Time=2.39 sec\n",
      " ARIMA(2,0,3)(0,0,0)[0]             : AIC=-4159.859, Time=8.40 sec\n",
      " ARIMA(1,0,1)(0,0,0)[0]             : AIC=-4139.585, Time=4.92 sec\n",
      " ARIMA(1,0,3)(0,0,0)[0]             : AIC=-4159.556, Time=5.79 sec\n",
      " ARIMA(3,0,1)(0,0,0)[0]             : AIC=-4145.842, Time=6.21 sec\n"
     ]
    },
    {
     "name": "stderr",
     "output_type": "stream",
     "text": [
      "/home/ai/.local/lib/python3.8/site-packages/statsmodels/tsa/statespace/sarimax.py:1890: RuntimeWarning: divide by zero encountered in reciprocal\n",
      "  return np.roots(self.polynomial_reduced_ar)**-1\n",
      "/home/ai/.local/lib/python3.8/site-packages/statsmodels/tsa/statespace/sarimax.py:1897: RuntimeWarning: divide by zero encountered in reciprocal\n",
      "  return np.roots(self.polynomial_reduced_ma)**-1\n"
     ]
    },
    {
     "name": "stdout",
     "output_type": "stream",
     "text": [
      " ARIMA(3,0,3)(0,0,0)[0]             : AIC=-2663.668, Time=2.43 sec\n",
      "\n",
      "Best model:  ARIMA(2,0,2)(0,0,0)[0]          \n",
      "Total fit time: 103.455 seconds\n",
      "Performing stepwise search to minimize aic\n",
      " ARIMA(2,0,2)(0,0,0)[0] intercept   : AIC=-4287.213, Time=2.44 sec\n",
      " ARIMA(0,0,0)(0,0,0)[0] intercept   : AIC=-3459.973, Time=1.92 sec\n",
      " ARIMA(1,0,0)(0,0,0)[0] intercept   : AIC=-4264.619, Time=1.95 sec\n",
      " ARIMA(0,0,1)(0,0,0)[0] intercept   : AIC=-3722.980, Time=2.06 sec\n",
      " ARIMA(0,0,0)(0,0,0)[0]             : AIC=959.936, Time=1.85 sec\n",
      " ARIMA(1,0,2)(0,0,0)[0] intercept   : AIC=-4285.376, Time=2.35 sec\n",
      " ARIMA(2,0,1)(0,0,0)[0] intercept   : AIC=-4289.729, Time=2.17 sec\n",
      " ARIMA(1,0,1)(0,0,0)[0] intercept   : AIC=-4281.024, Time=2.10 sec\n",
      " ARIMA(2,0,0)(0,0,0)[0] intercept   : AIC=-4285.095, Time=2.11 sec\n",
      " ARIMA(3,0,1)(0,0,0)[0] intercept   : AIC=-4283.243, Time=2.44 sec\n",
      " ARIMA(3,0,0)(0,0,0)[0] intercept   : AIC=-4288.040, Time=2.40 sec\n"
     ]
    },
    {
     "name": "stderr",
     "output_type": "stream",
     "text": [
      "/home/ai/.local/lib/python3.8/site-packages/statsmodels/tsa/statespace/sarimax.py:1890: RuntimeWarning: divide by zero encountered in reciprocal\n",
      "  return np.roots(self.polynomial_reduced_ar)**-1\n",
      "/home/ai/.local/lib/python3.8/site-packages/statsmodels/tsa/statespace/sarimax.py:1897: RuntimeWarning: divide by zero encountered in reciprocal\n",
      "  return np.roots(self.polynomial_reduced_ma)**-1\n"
     ]
    },
    {
     "name": "stdout",
     "output_type": "stream",
     "text": [
      " ARIMA(3,0,2)(0,0,0)[0] intercept   : AIC=-2789.476, Time=2.50 sec\n",
      " ARIMA(2,0,1)(0,0,0)[0]             : AIC=-4291.732, Time=2.14 sec\n",
      " ARIMA(1,0,1)(0,0,0)[0]             : AIC=-4283.025, Time=2.08 sec\n",
      " ARIMA(2,0,0)(0,0,0)[0]             : AIC=-4287.098, Time=2.08 sec\n",
      " ARIMA(3,0,1)(0,0,0)[0]             : AIC=-4285.244, Time=2.37 sec\n",
      " ARIMA(2,0,2)(0,0,0)[0]             : AIC=-4289.213, Time=2.38 sec\n",
      " ARIMA(1,0,0)(0,0,0)[0]             : AIC=-4266.622, Time=1.91 sec\n",
      " ARIMA(1,0,2)(0,0,0)[0]             : AIC=-4287.375, Time=2.31 sec\n",
      " ARIMA(3,0,0)(0,0,0)[0]             : AIC=-4290.041, Time=2.26 sec\n"
     ]
    },
    {
     "name": "stderr",
     "output_type": "stream",
     "text": [
      "/home/ai/.local/lib/python3.8/site-packages/statsmodels/tsa/statespace/sarimax.py:1890: RuntimeWarning: divide by zero encountered in reciprocal\n",
      "  return np.roots(self.polynomial_reduced_ar)**-1\n",
      "/home/ai/.local/lib/python3.8/site-packages/statsmodels/tsa/statespace/sarimax.py:1897: RuntimeWarning: divide by zero encountered in reciprocal\n",
      "  return np.roots(self.polynomial_reduced_ma)**-1\n"
     ]
    },
    {
     "name": "stdout",
     "output_type": "stream",
     "text": [
      " ARIMA(3,0,2)(0,0,0)[0]             : AIC=-2791.482, Time=2.39 sec\n",
      "\n",
      "Best model:  ARIMA(2,0,1)(0,0,0)[0]          \n",
      "Total fit time: 46.203 seconds\n",
      "Performing stepwise search to minimize aic\n"
     ]
    },
    {
     "name": "stderr",
     "output_type": "stream",
     "text": [
      "/home/ai/.local/lib/python3.8/site-packages/statsmodels/tsa/statespace/sarimax.py:1890: RuntimeWarning: divide by zero encountered in reciprocal\n",
      "  return np.roots(self.polynomial_reduced_ar)**-1\n",
      "/home/ai/.local/lib/python3.8/site-packages/statsmodels/tsa/statespace/sarimax.py:1897: RuntimeWarning: divide by zero encountered in reciprocal\n",
      "  return np.roots(self.polynomial_reduced_ma)**-1\n"
     ]
    },
    {
     "name": "stdout",
     "output_type": "stream",
     "text": [
      " ARIMA(2,0,2)(0,0,0)[0] intercept   : AIC=-6441.780, Time=2.41 sec\n",
      " ARIMA(0,0,0)(0,0,0)[0] intercept   : AIC=-6789.373, Time=1.92 sec\n",
      " ARIMA(1,0,0)(0,0,0)[0] intercept   : AIC=-7408.682, Time=1.98 sec\n",
      " ARIMA(0,0,1)(0,0,0)[0] intercept   : AIC=-7089.502, Time=2.06 sec\n",
      " ARIMA(0,0,0)(0,0,0)[0]             : AIC=-2369.464, Time=1.85 sec\n",
      " ARIMA(2,0,0)(0,0,0)[0] intercept   : AIC=-7410.973, Time=2.08 sec\n",
      " ARIMA(3,0,0)(0,0,0)[0] intercept   : AIC=-7411.022, Time=2.32 sec\n",
      " ARIMA(4,0,0)(0,0,0)[0] intercept   : AIC=-7410.337, Time=2.40 sec\n",
      " ARIMA(3,0,1)(0,0,0)[0] intercept   : AIC=-7408.404, Time=2.40 sec\n",
      " ARIMA(2,0,1)(0,0,0)[0] intercept   : AIC=-7417.322, Time=2.20 sec\n",
      " ARIMA(1,0,1)(0,0,0)[0] intercept   : AIC=-7410.437, Time=2.10 sec\n",
      " ARIMA(1,0,2)(0,0,0)[0] intercept   : AIC=-7410.038, Time=2.36 sec\n"
     ]
    },
    {
     "name": "stderr",
     "output_type": "stream",
     "text": [
      "/home/ai/.local/lib/python3.8/site-packages/statsmodels/tsa/statespace/sarimax.py:1890: RuntimeWarning: divide by zero encountered in reciprocal\n",
      "  return np.roots(self.polynomial_reduced_ar)**-1\n",
      "/home/ai/.local/lib/python3.8/site-packages/statsmodels/tsa/statespace/sarimax.py:1897: RuntimeWarning: divide by zero encountered in reciprocal\n",
      "  return np.roots(self.polynomial_reduced_ma)**-1\n"
     ]
    },
    {
     "name": "stdout",
     "output_type": "stream",
     "text": [
      " ARIMA(3,0,2)(0,0,0)[0] intercept   : AIC=-6439.624, Time=2.42 sec\n",
      " ARIMA(2,0,1)(0,0,0)[0]             : AIC=-7419.485, Time=2.09 sec\n",
      " ARIMA(1,0,1)(0,0,0)[0]             : AIC=-7412.461, Time=2.03 sec\n",
      " ARIMA(2,0,0)(0,0,0)[0]             : AIC=-7412.998, Time=2.05 sec\n",
      " ARIMA(3,0,1)(0,0,0)[0]             : AIC=-7410.421, Time=2.34 sec\n"
     ]
    },
    {
     "name": "stderr",
     "output_type": "stream",
     "text": [
      "/home/ai/.local/lib/python3.8/site-packages/statsmodels/tsa/statespace/sarimax.py:1890: RuntimeWarning: divide by zero encountered in reciprocal\n",
      "  return np.roots(self.polynomial_reduced_ar)**-1\n",
      "/home/ai/.local/lib/python3.8/site-packages/statsmodels/tsa/statespace/sarimax.py:1897: RuntimeWarning: divide by zero encountered in reciprocal\n",
      "  return np.roots(self.polynomial_reduced_ma)**-1\n"
     ]
    },
    {
     "name": "stdout",
     "output_type": "stream",
     "text": [
      " ARIMA(2,0,2)(0,0,0)[0]             : AIC=-6443.833, Time=2.33 sec\n",
      " ARIMA(1,0,0)(0,0,0)[0]             : AIC=-7410.702, Time=1.89 sec\n",
      " ARIMA(1,0,2)(0,0,0)[0]             : AIC=-7412.063, Time=2.26 sec\n",
      " ARIMA(3,0,0)(0,0,0)[0]             : AIC=-7413.047, Time=2.28 sec\n"
     ]
    },
    {
     "name": "stderr",
     "output_type": "stream",
     "text": [
      "/home/ai/.local/lib/python3.8/site-packages/statsmodels/tsa/statespace/sarimax.py:1890: RuntimeWarning: divide by zero encountered in reciprocal\n",
      "  return np.roots(self.polynomial_reduced_ar)**-1\n",
      "/home/ai/.local/lib/python3.8/site-packages/statsmodels/tsa/statespace/sarimax.py:1897: RuntimeWarning: divide by zero encountered in reciprocal\n",
      "  return np.roots(self.polynomial_reduced_ma)**-1\n"
     ]
    },
    {
     "name": "stdout",
     "output_type": "stream",
     "text": [
      " ARIMA(3,0,2)(0,0,0)[0]             : AIC=-6441.678, Time=2.40 sec\n",
      "\n",
      "Best model:  ARIMA(2,0,1)(0,0,0)[0]          \n",
      "Total fit time: 48.181 seconds\n",
      "Performing stepwise search to minimize aic\n",
      " ARIMA(2,0,2)(0,0,0)[0] intercept   : AIC=-4776.838, Time=2.41 sec\n",
      " ARIMA(0,0,0)(0,0,0)[0] intercept   : AIC=-4096.508, Time=1.92 sec\n",
      " ARIMA(1,0,0)(0,0,0)[0] intercept   : AIC=-4747.877, Time=1.98 sec\n",
      " ARIMA(0,0,1)(0,0,0)[0] intercept   : AIC=-4376.443, Time=2.16 sec\n",
      " ARIMA(0,0,0)(0,0,0)[0]             : AIC=323.401, Time=1.91 sec\n",
      " ARIMA(1,0,2)(0,0,0)[0] intercept   : AIC=-4757.401, Time=2.35 sec\n",
      " ARIMA(2,0,1)(0,0,0)[0] intercept   : AIC=-4785.686, Time=2.16 sec\n",
      " ARIMA(1,0,1)(0,0,0)[0] intercept   : AIC=-4754.065, Time=2.10 sec\n",
      " ARIMA(2,0,0)(0,0,0)[0] intercept   : AIC=-4756.391, Time=2.11 sec\n",
      " ARIMA(3,0,1)(0,0,0)[0] intercept   : AIC=-4756.271, Time=2.43 sec\n",
      " ARIMA(3,0,0)(0,0,0)[0] intercept   : AIC=-4763.826, Time=2.37 sec\n",
      " ARIMA(3,0,2)(0,0,0)[0] intercept   : AIC=-4774.380, Time=2.43 sec\n",
      " ARIMA(2,0,1)(0,0,0)[0]             : AIC=-4787.885, Time=2.11 sec\n",
      " ARIMA(1,0,1)(0,0,0)[0]             : AIC=-4756.068, Time=2.08 sec\n",
      " ARIMA(2,0,0)(0,0,0)[0]             : AIC=-4758.395, Time=2.03 sec\n",
      " ARIMA(3,0,1)(0,0,0)[0]             : AIC=-4758.273, Time=2.34 sec\n",
      " ARIMA(2,0,2)(0,0,0)[0]             : AIC=-4778.968, Time=2.36 sec\n",
      " ARIMA(1,0,0)(0,0,0)[0]             : AIC=-4749.880, Time=1.94 sec\n",
      " ARIMA(1,0,2)(0,0,0)[0]             : AIC=-4759.410, Time=2.31 sec\n",
      " ARIMA(3,0,0)(0,0,0)[0]             : AIC=-4765.828, Time=2.30 sec\n",
      " ARIMA(3,0,2)(0,0,0)[0]             : AIC=-4776.518, Time=2.46 sec\n",
      "\n",
      "Best model:  ARIMA(2,0,1)(0,0,0)[0]          \n",
      "Total fit time: 46.260 seconds\n",
      "Performing stepwise search to minimize aic\n",
      " ARIMA(2,0,2)(0,0,0)[0] intercept   : AIC=-4272.564, Time=2.47 sec\n",
      " ARIMA(0,0,0)(0,0,0)[0] intercept   : AIC=-3526.844, Time=1.95 sec\n",
      " ARIMA(1,0,0)(0,0,0)[0] intercept   : AIC=-4266.494, Time=1.97 sec\n",
      " ARIMA(0,0,1)(0,0,0)[0] intercept   : AIC=-3893.669, Time=2.12 sec\n",
      " ARIMA(0,0,0)(0,0,0)[0]             : AIC=893.065, Time=1.87 sec\n",
      " ARIMA(1,0,2)(0,0,0)[0] intercept   : AIC=-4266.737, Time=2.41 sec\n"
     ]
    },
    {
     "name": "stderr",
     "output_type": "stream",
     "text": [
      "/home/ai/.local/lib/python3.8/site-packages/statsmodels/tsa/statespace/sarimax.py:1890: RuntimeWarning: divide by zero encountered in reciprocal\n",
      "  return np.roots(self.polynomial_reduced_ar)**-1\n",
      "/home/ai/.local/lib/python3.8/site-packages/statsmodels/tsa/statespace/sarimax.py:1897: RuntimeWarning: divide by zero encountered in reciprocal\n",
      "  return np.roots(self.polynomial_reduced_ma)**-1\n"
     ]
    },
    {
     "name": "stdout",
     "output_type": "stream",
     "text": [
      " ARIMA(2,0,1)(0,0,0)[0] intercept   : AIC=-3021.540, Time=2.17 sec\n",
      " ARIMA(3,0,2)(0,0,0)[0] intercept   : AIC=-4278.710, Time=2.47 sec\n",
      " ARIMA(3,0,1)(0,0,0)[0] intercept   : AIC=-4261.834, Time=2.52 sec\n",
      " ARIMA(4,0,2)(0,0,0)[0] intercept   : AIC=-4282.722, Time=2.58 sec\n",
      " ARIMA(4,0,1)(0,0,0)[0] intercept   : AIC=-4268.358, Time=2.50 sec\n",
      " ARIMA(5,0,2)(0,0,0)[0] intercept   : AIC=-4281.112, Time=2.87 sec\n",
      " ARIMA(4,0,3)(0,0,0)[0] intercept   : AIC=-4293.992, Time=2.60 sec\n"
     ]
    },
    {
     "name": "stderr",
     "output_type": "stream",
     "text": [
      "/home/ai/.local/lib/python3.8/site-packages/statsmodels/tsa/statespace/sarimax.py:1890: RuntimeWarning: divide by zero encountered in reciprocal\n",
      "  return np.roots(self.polynomial_reduced_ar)**-1\n",
      "/home/ai/.local/lib/python3.8/site-packages/statsmodels/tsa/statespace/sarimax.py:1897: RuntimeWarning: divide by zero encountered in reciprocal\n",
      "  return np.roots(self.polynomial_reduced_ma)**-1\n"
     ]
    },
    {
     "name": "stdout",
     "output_type": "stream",
     "text": [
      " ARIMA(3,0,3)(0,0,0)[0] intercept   : AIC=-3002.464, Time=2.52 sec\n"
     ]
    },
    {
     "name": "stderr",
     "output_type": "stream",
     "text": [
      "/home/ai/.local/lib/python3.8/site-packages/statsmodels/tsa/statespace/sarimax.py:1890: RuntimeWarning: divide by zero encountered in reciprocal\n",
      "  return np.roots(self.polynomial_reduced_ar)**-1\n",
      "/home/ai/.local/lib/python3.8/site-packages/statsmodels/tsa/statespace/sarimax.py:1897: RuntimeWarning: divide by zero encountered in reciprocal\n",
      "  return np.roots(self.polynomial_reduced_ma)**-1\n"
     ]
    },
    {
     "name": "stdout",
     "output_type": "stream",
     "text": [
      " ARIMA(5,0,3)(0,0,0)[0] intercept   : AIC=-2991.537, Time=2.96 sec\n"
     ]
    },
    {
     "name": "stderr",
     "output_type": "stream",
     "text": [
      "/home/ai/.local/lib/python3.8/site-packages/statsmodels/tsa/statespace/sarimax.py:1897: RuntimeWarning: divide by zero encountered in reciprocal\n",
      "  return np.roots(self.polynomial_reduced_ma)**-1\n"
     ]
    },
    {
     "name": "stdout",
     "output_type": "stream",
     "text": [
      " ARIMA(4,0,4)(0,0,0)[0] intercept   : AIC=-3727.235, Time=2.94 sec\n"
     ]
    },
    {
     "name": "stderr",
     "output_type": "stream",
     "text": [
      "/home/ai/.local/lib/python3.8/site-packages/statsmodels/tsa/statespace/sarimax.py:1890: RuntimeWarning: divide by zero encountered in reciprocal\n",
      "  return np.roots(self.polynomial_reduced_ar)**-1\n",
      "/home/ai/.local/lib/python3.8/site-packages/statsmodels/tsa/statespace/sarimax.py:1897: RuntimeWarning: divide by zero encountered in reciprocal\n",
      "  return np.roots(self.polynomial_reduced_ma)**-1\n"
     ]
    },
    {
     "name": "stdout",
     "output_type": "stream",
     "text": [
      " ARIMA(3,0,4)(0,0,0)[0] intercept   : AIC=-2983.955, Time=2.85 sec\n"
     ]
    },
    {
     "name": "stderr",
     "output_type": "stream",
     "text": [
      "/home/ai/.local/lib/python3.8/site-packages/statsmodels/tsa/statespace/sarimax.py:1897: RuntimeWarning: divide by zero encountered in reciprocal\n",
      "  return np.roots(self.polynomial_reduced_ma)**-1\n"
     ]
    },
    {
     "name": "stdout",
     "output_type": "stream",
     "text": [
      " ARIMA(5,0,4)(0,0,0)[0] intercept   : AIC=-3786.798, Time=2.96 sec\n",
      " ARIMA(4,0,3)(0,0,0)[0]             : AIC=-4296.217, Time=2.48 sec\n"
     ]
    },
    {
     "name": "stderr",
     "output_type": "stream",
     "text": [
      "/home/ai/.local/lib/python3.8/site-packages/statsmodels/tsa/statespace/sarimax.py:1890: RuntimeWarning: divide by zero encountered in reciprocal\n",
      "  return np.roots(self.polynomial_reduced_ar)**-1\n",
      "/home/ai/.local/lib/python3.8/site-packages/statsmodels/tsa/statespace/sarimax.py:1897: RuntimeWarning: divide by zero encountered in reciprocal\n",
      "  return np.roots(self.polynomial_reduced_ma)**-1\n"
     ]
    },
    {
     "name": "stdout",
     "output_type": "stream",
     "text": [
      " ARIMA(3,0,3)(0,0,0)[0]             : AIC=-3004.470, Time=2.48 sec\n",
      " ARIMA(4,0,2)(0,0,0)[0]             : AIC=-4284.731, Time=2.47 sec\n"
     ]
    },
    {
     "name": "stderr",
     "output_type": "stream",
     "text": [
      "/home/ai/.local/lib/python3.8/site-packages/statsmodels/tsa/statespace/sarimax.py:1890: RuntimeWarning: divide by zero encountered in reciprocal\n",
      "  return np.roots(self.polynomial_reduced_ar)**-1\n",
      "/home/ai/.local/lib/python3.8/site-packages/statsmodels/tsa/statespace/sarimax.py:1897: RuntimeWarning: divide by zero encountered in reciprocal\n",
      "  return np.roots(self.polynomial_reduced_ma)**-1\n"
     ]
    },
    {
     "name": "stdout",
     "output_type": "stream",
     "text": [
      " ARIMA(5,0,3)(0,0,0)[0]             : AIC=-2993.544, Time=2.86 sec\n"
     ]
    },
    {
     "name": "stderr",
     "output_type": "stream",
     "text": [
      "/home/ai/.local/lib/python3.8/site-packages/statsmodels/tsa/statespace/sarimax.py:1897: RuntimeWarning: divide by zero encountered in reciprocal\n",
      "  return np.roots(self.polynomial_reduced_ma)**-1\n"
     ]
    },
    {
     "name": "stdout",
     "output_type": "stream",
     "text": [
      " ARIMA(4,0,4)(0,0,0)[0]             : AIC=-3729.330, Time=2.83 sec\n",
      " ARIMA(3,0,2)(0,0,0)[0]             : AIC=-4280.755, Time=2.40 sec\n"
     ]
    },
    {
     "name": "stderr",
     "output_type": "stream",
     "text": [
      "/home/ai/.local/lib/python3.8/site-packages/statsmodels/tsa/statespace/sarimax.py:1890: RuntimeWarning: divide by zero encountered in reciprocal\n",
      "  return np.roots(self.polynomial_reduced_ar)**-1\n",
      "/home/ai/.local/lib/python3.8/site-packages/statsmodels/tsa/statespace/sarimax.py:1897: RuntimeWarning: divide by zero encountered in reciprocal\n",
      "  return np.roots(self.polynomial_reduced_ma)**-1\n"
     ]
    },
    {
     "name": "stdout",
     "output_type": "stream",
     "text": [
      " ARIMA(3,0,4)(0,0,0)[0]             : AIC=-2985.951, Time=2.79 sec\n",
      " ARIMA(5,0,2)(0,0,0)[0]             : AIC=-4283.125, Time=2.81 sec\n"
     ]
    },
    {
     "name": "stderr",
     "output_type": "stream",
     "text": [
      "/home/ai/.local/lib/python3.8/site-packages/statsmodels/tsa/statespace/sarimax.py:1897: RuntimeWarning: divide by zero encountered in reciprocal\n",
      "  return np.roots(self.polynomial_reduced_ma)**-1\n"
     ]
    },
    {
     "name": "stdout",
     "output_type": "stream",
     "text": [
      " ARIMA(5,0,4)(0,0,0)[0]             : AIC=-3788.858, Time=2.88 sec\n",
      "\n",
      "Best model:  ARIMA(4,0,3)(0,0,0)[0]          \n",
      "Total fit time: 68.751 seconds\n",
      "Performing stepwise search to minimize aic\n",
      " ARIMA(2,0,2)(0,0,0)[0] intercept   : AIC=-3283.816, Time=2.44 sec\n",
      " ARIMA(0,0,0)(0,0,0)[0] intercept   : AIC=-2387.576, Time=1.98 sec\n",
      " ARIMA(1,0,0)(0,0,0)[0] intercept   : AIC=-3273.119, Time=2.06 sec\n",
      " ARIMA(0,0,1)(0,0,0)[0] intercept   : AIC=-2762.767, Time=2.05 sec\n",
      " ARIMA(0,0,0)(0,0,0)[0]             : AIC=2032.333, Time=1.85 sec\n",
      " ARIMA(1,0,2)(0,0,0)[0] intercept   : AIC=-3271.973, Time=2.36 sec\n",
      " ARIMA(2,0,1)(0,0,0)[0] intercept   : AIC=-3283.941, Time=2.22 sec\n",
      " ARIMA(1,0,1)(0,0,0)[0] intercept   : AIC=-3274.612, Time=2.14 sec\n",
      " ARIMA(2,0,0)(0,0,0)[0] intercept   : AIC=-3274.885, Time=2.09 sec\n",
      " ARIMA(3,0,1)(0,0,0)[0] intercept   : AIC=-3268.940, Time=2.40 sec\n",
      " ARIMA(3,0,0)(0,0,0)[0] intercept   : AIC=-3274.226, Time=2.36 sec\n"
     ]
    },
    {
     "name": "stderr",
     "output_type": "stream",
     "text": [
      "/home/ai/.local/lib/python3.8/site-packages/statsmodels/tsa/statespace/sarimax.py:1890: RuntimeWarning: divide by zero encountered in reciprocal\n",
      "  return np.roots(self.polynomial_reduced_ar)**-1\n",
      "/home/ai/.local/lib/python3.8/site-packages/statsmodels/tsa/statespace/sarimax.py:1897: RuntimeWarning: divide by zero encountered in reciprocal\n",
      "  return np.roots(self.polynomial_reduced_ma)**-1\n"
     ]
    },
    {
     "name": "stdout",
     "output_type": "stream",
     "text": [
      " ARIMA(3,0,2)(0,0,0)[0] intercept   : AIC=-1569.246, Time=2.45 sec\n",
      " ARIMA(2,0,1)(0,0,0)[0]             : AIC=-3285.941, Time=2.12 sec\n",
      " ARIMA(1,0,1)(0,0,0)[0]             : AIC=-3276.612, Time=2.05 sec\n",
      " ARIMA(2,0,0)(0,0,0)[0]             : AIC=-3276.885, Time=2.03 sec\n",
      " ARIMA(3,0,1)(0,0,0)[0]             : AIC=-3270.940, Time=2.33 sec\n",
      " ARIMA(2,0,2)(0,0,0)[0]             : AIC=-3285.816, Time=2.35 sec\n",
      " ARIMA(1,0,0)(0,0,0)[0]             : AIC=-3275.119, Time=1.94 sec\n",
      " ARIMA(1,0,2)(0,0,0)[0]             : AIC=-3273.973, Time=2.27 sec\n",
      " ARIMA(3,0,0)(0,0,0)[0]             : AIC=-3276.225, Time=2.26 sec\n"
     ]
    },
    {
     "name": "stderr",
     "output_type": "stream",
     "text": [
      "/home/ai/.local/lib/python3.8/site-packages/statsmodels/tsa/statespace/sarimax.py:1890: RuntimeWarning: divide by zero encountered in reciprocal\n",
      "  return np.roots(self.polynomial_reduced_ar)**-1\n",
      "/home/ai/.local/lib/python3.8/site-packages/statsmodels/tsa/statespace/sarimax.py:1897: RuntimeWarning: divide by zero encountered in reciprocal\n",
      "  return np.roots(self.polynomial_reduced_ma)**-1\n"
     ]
    },
    {
     "name": "stdout",
     "output_type": "stream",
     "text": [
      " ARIMA(3,0,2)(0,0,0)[0]             : AIC=-1571.246, Time=2.37 sec\n",
      "\n",
      "Best model:  ARIMA(2,0,1)(0,0,0)[0]          \n",
      "Total fit time: 46.149 seconds\n",
      "Performing stepwise search to minimize aic\n",
      " ARIMA(2,0,2)(0,0,0)[0] intercept   : AIC=-6056.940, Time=2.44 sec\n",
      " ARIMA(0,0,0)(0,0,0)[0] intercept   : AIC=-5372.639, Time=1.91 sec\n",
      " ARIMA(1,0,0)(0,0,0)[0] intercept   : AIC=-6032.976, Time=1.98 sec\n",
      " ARIMA(0,0,1)(0,0,0)[0] intercept   : AIC=-5704.506, Time=2.04 sec\n",
      " ARIMA(0,0,0)(0,0,0)[0]             : AIC=-952.730, Time=1.85 sec\n",
      " ARIMA(1,0,2)(0,0,0)[0] intercept   : AIC=-6040.226, Time=2.33 sec\n"
     ]
    },
    {
     "name": "stderr",
     "output_type": "stream",
     "text": [
      "/home/ai/.local/lib/python3.8/site-packages/statsmodels/tsa/statespace/sarimax.py:1890: RuntimeWarning: divide by zero encountered in reciprocal\n",
      "  return np.roots(self.polynomial_reduced_ar)**-1\n",
      "/home/ai/.local/lib/python3.8/site-packages/statsmodels/tsa/statespace/sarimax.py:1897: RuntimeWarning: divide by zero encountered in reciprocal\n",
      "  return np.roots(self.polynomial_reduced_ma)**-1\n"
     ]
    },
    {
     "name": "stdout",
     "output_type": "stream",
     "text": [
      " ARIMA(2,0,1)(0,0,0)[0] intercept   : AIC=-4961.982, Time=2.16 sec\n",
      " ARIMA(3,0,2)(0,0,0)[0] intercept   : AIC=-6067.769, Time=2.45 sec\n",
      " ARIMA(3,0,1)(0,0,0)[0] intercept   : AIC=-6033.650, Time=2.46 sec\n",
      " ARIMA(4,0,2)(0,0,0)[0] intercept   : AIC=-6060.964, Time=2.49 sec\n"
     ]
    },
    {
     "name": "stderr",
     "output_type": "stream",
     "text": [
      "/home/ai/.local/lib/python3.8/site-packages/statsmodels/tsa/statespace/sarimax.py:1890: RuntimeWarning: divide by zero encountered in reciprocal\n",
      "  return np.roots(self.polynomial_reduced_ar)**-1\n",
      "/home/ai/.local/lib/python3.8/site-packages/statsmodels/tsa/statespace/sarimax.py:1897: RuntimeWarning: divide by zero encountered in reciprocal\n",
      "  return np.roots(self.polynomial_reduced_ma)**-1\n"
     ]
    },
    {
     "name": "stdout",
     "output_type": "stream",
     "text": [
      " ARIMA(3,0,3)(0,0,0)[0] intercept   : AIC=-4923.700, Time=2.51 sec\n",
      " ARIMA(2,0,3)(0,0,0)[0] intercept   : AIC=-6057.226, Time=2.46 sec\n",
      " ARIMA(4,0,1)(0,0,0)[0] intercept   : AIC=-6048.254, Time=2.47 sec\n"
     ]
    },
    {
     "name": "stderr",
     "output_type": "stream",
     "text": [
      "/home/ai/.local/lib/python3.8/site-packages/statsmodels/tsa/statespace/sarimax.py:1890: RuntimeWarning: divide by zero encountered in reciprocal\n",
      "  return np.roots(self.polynomial_reduced_ar)**-1\n",
      "/home/ai/.local/lib/python3.8/site-packages/statsmodels/tsa/statespace/sarimax.py:1897: RuntimeWarning: divide by zero encountered in reciprocal\n",
      "  return np.roots(self.polynomial_reduced_ma)**-1\n"
     ]
    },
    {
     "name": "stdout",
     "output_type": "stream",
     "text": [
      " ARIMA(4,0,3)(0,0,0)[0] intercept   : AIC=-4913.785, Time=2.55 sec\n",
      " ARIMA(3,0,2)(0,0,0)[0]             : AIC=-6071.049, Time=2.36 sec\n",
      " ARIMA(2,0,2)(0,0,0)[0]             : AIC=-6059.364, Time=2.36 sec\n",
      " ARIMA(3,0,1)(0,0,0)[0]             : AIC=-6035.676, Time=2.31 sec\n",
      " ARIMA(4,0,2)(0,0,0)[0]             : AIC=-6063.111, Time=2.44 sec\n"
     ]
    },
    {
     "name": "stderr",
     "output_type": "stream",
     "text": [
      "/home/ai/.local/lib/python3.8/site-packages/statsmodels/tsa/statespace/sarimax.py:1890: RuntimeWarning: divide by zero encountered in reciprocal\n",
      "  return np.roots(self.polynomial_reduced_ar)**-1\n",
      "/home/ai/.local/lib/python3.8/site-packages/statsmodels/tsa/statespace/sarimax.py:1897: RuntimeWarning: divide by zero encountered in reciprocal\n",
      "  return np.roots(self.polynomial_reduced_ma)**-1\n"
     ]
    },
    {
     "name": "stdout",
     "output_type": "stream",
     "text": [
      " ARIMA(3,0,3)(0,0,0)[0]             : AIC=-4925.849, Time=2.40 sec\n"
     ]
    },
    {
     "name": "stderr",
     "output_type": "stream",
     "text": [
      "/home/ai/.local/lib/python3.8/site-packages/statsmodels/tsa/statespace/sarimax.py:1890: RuntimeWarning: divide by zero encountered in reciprocal\n",
      "  return np.roots(self.polynomial_reduced_ar)**-1\n",
      "/home/ai/.local/lib/python3.8/site-packages/statsmodels/tsa/statespace/sarimax.py:1897: RuntimeWarning: divide by zero encountered in reciprocal\n",
      "  return np.roots(self.polynomial_reduced_ma)**-1\n"
     ]
    },
    {
     "name": "stdout",
     "output_type": "stream",
     "text": [
      " ARIMA(2,0,1)(0,0,0)[0]             : AIC=-4964.058, Time=2.07 sec\n",
      " ARIMA(2,0,3)(0,0,0)[0]             : AIC=-6059.705, Time=2.39 sec\n",
      " ARIMA(4,0,1)(0,0,0)[0]             : AIC=-6050.291, Time=2.42 sec\n"
     ]
    },
    {
     "name": "stderr",
     "output_type": "stream",
     "text": [
      "/home/ai/.local/lib/python3.8/site-packages/statsmodels/tsa/statespace/sarimax.py:1890: RuntimeWarning: divide by zero encountered in reciprocal\n",
      "  return np.roots(self.polynomial_reduced_ar)**-1\n",
      "/home/ai/.local/lib/python3.8/site-packages/statsmodels/tsa/statespace/sarimax.py:1897: RuntimeWarning: divide by zero encountered in reciprocal\n",
      "  return np.roots(self.polynomial_reduced_ma)**-1\n"
     ]
    },
    {
     "name": "stdout",
     "output_type": "stream",
     "text": [
      " ARIMA(4,0,3)(0,0,0)[0]             : AIC=-4915.937, Time=2.53 sec\n",
      "\n",
      "Best model:  ARIMA(3,0,2)(0,0,0)[0]          \n",
      "Total fit time: 53.415 seconds\n",
      "Performing stepwise search to minimize aic\n"
     ]
    },
    {
     "name": "stderr",
     "output_type": "stream",
     "text": [
      "/home/ai/.local/lib/python3.8/site-packages/statsmodels/tsa/statespace/sarimax.py:1890: RuntimeWarning: divide by zero encountered in reciprocal\n",
      "  return np.roots(self.polynomial_reduced_ar)**-1\n",
      "/home/ai/.local/lib/python3.8/site-packages/statsmodels/tsa/statespace/sarimax.py:1897: RuntimeWarning: divide by zero encountered in reciprocal\n",
      "  return np.roots(self.polynomial_reduced_ma)**-1\n"
     ]
    },
    {
     "name": "stdout",
     "output_type": "stream",
     "text": [
      " ARIMA(2,0,2)(0,0,0)[0] intercept   : AIC=-2426.945, Time=2.40 sec\n",
      " ARIMA(0,0,0)(0,0,0)[0] intercept   : AIC=-2878.776, Time=1.90 sec\n",
      " ARIMA(1,0,0)(0,0,0)[0] intercept   : AIC=-3571.922, Time=1.96 sec\n",
      " ARIMA(0,0,1)(0,0,0)[0] intercept   : AIC=-3210.680, Time=2.05 sec\n",
      " ARIMA(0,0,0)(0,0,0)[0]             : AIC=1541.133, Time=1.87 sec\n",
      " ARIMA(2,0,0)(0,0,0)[0] intercept   : AIC=-3570.235, Time=2.12 sec\n",
      " ARIMA(1,0,1)(0,0,0)[0] intercept   : AIC=-3570.196, Time=2.12 sec\n"
     ]
    },
    {
     "name": "stderr",
     "output_type": "stream",
     "text": [
      "/home/ai/.local/lib/python3.8/site-packages/statsmodels/tsa/statespace/sarimax.py:1890: RuntimeWarning: divide by zero encountered in reciprocal\n",
      "  return np.roots(self.polynomial_reduced_ar)**-1\n",
      "/home/ai/.local/lib/python3.8/site-packages/statsmodels/tsa/statespace/sarimax.py:1897: RuntimeWarning: divide by zero encountered in reciprocal\n",
      "  return np.roots(self.polynomial_reduced_ma)**-1\n"
     ]
    },
    {
     "name": "stdout",
     "output_type": "stream",
     "text": [
      " ARIMA(2,0,1)(0,0,0)[0] intercept   : AIC=-2446.281, Time=2.17 sec\n",
      " ARIMA(1,0,0)(0,0,0)[0]             : AIC=-3573.936, Time=1.92 sec\n",
      " ARIMA(2,0,0)(0,0,0)[0]             : AIC=-3572.250, Time=2.02 sec\n",
      " ARIMA(1,0,1)(0,0,0)[0]             : AIC=-3572.218, Time=2.04 sec\n",
      " ARIMA(0,0,1)(0,0,0)[0]             : AIC=-3212.675, Time=2.00 sec\n"
     ]
    },
    {
     "name": "stderr",
     "output_type": "stream",
     "text": [
      "/home/ai/.local/lib/python3.8/site-packages/statsmodels/tsa/statespace/sarimax.py:1890: RuntimeWarning: divide by zero encountered in reciprocal\n",
      "  return np.roots(self.polynomial_reduced_ar)**-1\n",
      "/home/ai/.local/lib/python3.8/site-packages/statsmodels/tsa/statespace/sarimax.py:1897: RuntimeWarning: divide by zero encountered in reciprocal\n",
      "  return np.roots(self.polynomial_reduced_ma)**-1\n"
     ]
    },
    {
     "name": "stdout",
     "output_type": "stream",
     "text": [
      " ARIMA(2,0,1)(0,0,0)[0]             : AIC=-2448.305, Time=2.17 sec\n",
      "\n",
      "Best model:  ARIMA(1,0,0)(0,0,0)[0]          \n",
      "Total fit time: 26.772 seconds\n",
      "Performing stepwise search to minimize aic\n"
     ]
    },
    {
     "name": "stderr",
     "output_type": "stream",
     "text": [
      "/home/ai/.local/lib/python3.8/site-packages/statsmodels/tsa/statespace/sarimax.py:1890: RuntimeWarning: divide by zero encountered in reciprocal\n",
      "  return np.roots(self.polynomial_reduced_ar)**-1\n",
      "/home/ai/.local/lib/python3.8/site-packages/statsmodels/tsa/statespace/sarimax.py:1897: RuntimeWarning: divide by zero encountered in reciprocal\n",
      "  return np.roots(self.polynomial_reduced_ma)**-1\n"
     ]
    },
    {
     "name": "stdout",
     "output_type": "stream",
     "text": [
      " ARIMA(2,0,2)(0,0,0)[0] intercept   : AIC=-1363.986, Time=2.43 sec\n",
      " ARIMA(0,0,0)(0,0,0)[0] intercept   : AIC=-2095.801, Time=1.92 sec\n",
      " ARIMA(1,0,0)(0,0,0)[0] intercept   : AIC=-2967.394, Time=4.78 sec\n",
      " ARIMA(0,0,1)(0,0,0)[0] intercept   : AIC=-2438.216, Time=6.66 sec\n",
      " ARIMA(0,0,0)(0,0,0)[0]             : AIC=2324.109, Time=1.88 sec\n",
      " ARIMA(2,0,0)(0,0,0)[0] intercept   : AIC=-2970.875, Time=5.09 sec\n",
      " ARIMA(3,0,0)(0,0,0)[0] intercept   : AIC=-2969.195, Time=5.63 sec\n",
      " ARIMA(2,0,1)(0,0,0)[0] intercept   : AIC=-2971.758, Time=5.11 sec\n",
      " ARIMA(1,0,1)(0,0,0)[0] intercept   : AIC=-2970.591, Time=5.37 sec\n",
      " ARIMA(3,0,1)(0,0,0)[0] intercept   : AIC=-2965.702, Time=5.82 sec\n",
      " ARIMA(1,0,2)(0,0,0)[0] intercept   : AIC=-2968.771, Time=5.88 sec\n"
     ]
    },
    {
     "name": "stderr",
     "output_type": "stream",
     "text": [
      "/home/ai/.local/lib/python3.8/site-packages/statsmodels/tsa/statespace/sarimax.py:1890: RuntimeWarning: divide by zero encountered in reciprocal\n",
      "  return np.roots(self.polynomial_reduced_ar)**-1\n",
      "/home/ai/.local/lib/python3.8/site-packages/statsmodels/tsa/statespace/sarimax.py:1897: RuntimeWarning: divide by zero encountered in reciprocal\n",
      "  return np.roots(self.polynomial_reduced_ma)**-1\n"
     ]
    },
    {
     "name": "stdout",
     "output_type": "stream",
     "text": [
      " ARIMA(3,0,2)(0,0,0)[0] intercept   : AIC=-1344.425, Time=2.47 sec\n",
      " ARIMA(2,0,1)(0,0,0)[0]             : AIC=-2973.631, Time=4.93 sec\n",
      " ARIMA(1,0,1)(0,0,0)[0]             : AIC=-2972.526, Time=5.20 sec\n",
      " ARIMA(2,0,0)(0,0,0)[0]             : AIC=-2972.807, Time=5.04 sec\n",
      " ARIMA(3,0,1)(0,0,0)[0]             : AIC=-2967.644, Time=5.58 sec\n"
     ]
    },
    {
     "name": "stderr",
     "output_type": "stream",
     "text": [
      "/home/ai/.local/lib/python3.8/site-packages/statsmodels/tsa/statespace/sarimax.py:1890: RuntimeWarning: divide by zero encountered in reciprocal\n",
      "  return np.roots(self.polynomial_reduced_ar)**-1\n",
      "/home/ai/.local/lib/python3.8/site-packages/statsmodels/tsa/statespace/sarimax.py:1897: RuntimeWarning: divide by zero encountered in reciprocal\n",
      "  return np.roots(self.polynomial_reduced_ma)**-1\n"
     ]
    },
    {
     "name": "stdout",
     "output_type": "stream",
     "text": [
      " ARIMA(2,0,2)(0,0,0)[0]             : AIC=-1365.992, Time=2.31 sec\n",
      " ARIMA(1,0,0)(0,0,0)[0]             : AIC=-2969.329, Time=4.55 sec\n",
      " ARIMA(1,0,2)(0,0,0)[0]             : AIC=-2970.692, Time=5.66 sec\n",
      " ARIMA(3,0,0)(0,0,0)[0]             : AIC=-2971.116, Time=5.40 sec\n"
     ]
    },
    {
     "name": "stderr",
     "output_type": "stream",
     "text": [
      "/home/ai/.local/lib/python3.8/site-packages/statsmodels/tsa/statespace/sarimax.py:1890: RuntimeWarning: divide by zero encountered in reciprocal\n",
      "  return np.roots(self.polynomial_reduced_ar)**-1\n",
      "/home/ai/.local/lib/python3.8/site-packages/statsmodels/tsa/statespace/sarimax.py:1897: RuntimeWarning: divide by zero encountered in reciprocal\n",
      "  return np.roots(self.polynomial_reduced_ma)**-1\n"
     ]
    },
    {
     "name": "stdout",
     "output_type": "stream",
     "text": [
      " ARIMA(3,0,2)(0,0,0)[0]             : AIC=-1346.430, Time=2.38 sec\n",
      "\n",
      "Best model:  ARIMA(2,0,1)(0,0,0)[0]          \n",
      "Total fit time: 94.104 seconds\n",
      "Performing stepwise search to minimize aic\n",
      " ARIMA(2,0,2)(0,0,0)[0] intercept   : AIC=-3961.825, Time=2.45 sec\n",
      " ARIMA(0,0,0)(0,0,0)[0] intercept   : AIC=-3158.679, Time=1.90 sec\n",
      " ARIMA(1,0,0)(0,0,0)[0] intercept   : AIC=-3959.924, Time=1.97 sec\n",
      " ARIMA(0,0,1)(0,0,0)[0] intercept   : AIC=-3496.443, Time=2.06 sec\n",
      " ARIMA(0,0,0)(0,0,0)[0]             : AIC=1261.230, Time=1.86 sec\n",
      " ARIMA(1,0,2)(0,0,0)[0] intercept   : AIC=-3962.725, Time=2.37 sec\n",
      " ARIMA(0,0,2)(0,0,0)[0] intercept   : AIC=-3699.194, Time=2.30 sec\n",
      " ARIMA(1,0,1)(0,0,0)[0] intercept   : AIC=-3961.428, Time=2.15 sec\n",
      " ARIMA(1,0,3)(0,0,0)[0] intercept   : AIC=-3960.360, Time=2.43 sec\n",
      " ARIMA(0,0,3)(0,0,0)[0] intercept   : AIC=-3847.741, Time=2.37 sec\n",
      " ARIMA(2,0,1)(0,0,0)[0] intercept   : AIC=-3979.170, Time=2.17 sec\n",
      " ARIMA(2,0,0)(0,0,0)[0] intercept   : AIC=-3962.003, Time=2.15 sec\n",
      " ARIMA(3,0,1)(0,0,0)[0] intercept   : AIC=-3959.497, Time=2.47 sec\n",
      " ARIMA(3,0,0)(0,0,0)[0] intercept   : AIC=-3963.148, Time=2.39 sec\n"
     ]
    },
    {
     "name": "stderr",
     "output_type": "stream",
     "text": [
      "/home/ai/.local/lib/python3.8/site-packages/statsmodels/tsa/statespace/sarimax.py:1890: RuntimeWarning: divide by zero encountered in reciprocal\n",
      "  return np.roots(self.polynomial_reduced_ar)**-1\n",
      "/home/ai/.local/lib/python3.8/site-packages/statsmodels/tsa/statespace/sarimax.py:1897: RuntimeWarning: divide by zero encountered in reciprocal\n",
      "  return np.roots(self.polynomial_reduced_ma)**-1\n"
     ]
    },
    {
     "name": "stdout",
     "output_type": "stream",
     "text": [
      " ARIMA(3,0,2)(0,0,0)[0] intercept   : AIC=-2535.861, Time=2.51 sec\n",
      " ARIMA(2,0,1)(0,0,0)[0]             : AIC=-3981.195, Time=2.13 sec\n",
      " ARIMA(1,0,1)(0,0,0)[0]             : AIC=-3963.429, Time=2.05 sec\n",
      " ARIMA(2,0,0)(0,0,0)[0]             : AIC=-3964.004, Time=2.05 sec\n",
      " ARIMA(3,0,1)(0,0,0)[0]             : AIC=-3961.498, Time=2.36 sec\n",
      " ARIMA(2,0,2)(0,0,0)[0]             : AIC=-3963.835, Time=2.35 sec\n",
      " ARIMA(1,0,0)(0,0,0)[0]             : AIC=-3961.925, Time=1.91 sec\n",
      " ARIMA(1,0,2)(0,0,0)[0]             : AIC=-3964.727, Time=2.28 sec\n",
      " ARIMA(3,0,0)(0,0,0)[0]             : AIC=-3965.149, Time=2.27 sec\n"
     ]
    },
    {
     "name": "stderr",
     "output_type": "stream",
     "text": [
      "/home/ai/.local/lib/python3.8/site-packages/statsmodels/tsa/statespace/sarimax.py:1890: RuntimeWarning: divide by zero encountered in reciprocal\n",
      "  return np.roots(self.polynomial_reduced_ar)**-1\n",
      "/home/ai/.local/lib/python3.8/site-packages/statsmodels/tsa/statespace/sarimax.py:1897: RuntimeWarning: divide by zero encountered in reciprocal\n",
      "  return np.roots(self.polynomial_reduced_ma)**-1\n"
     ]
    },
    {
     "name": "stdout",
     "output_type": "stream",
     "text": [
      " ARIMA(3,0,2)(0,0,0)[0]             : AIC=-2537.877, Time=2.41 sec\n",
      "\n",
      "Best model:  ARIMA(2,0,1)(0,0,0)[0]          \n",
      "Total fit time: 53.406 seconds\n",
      "Performing stepwise search to minimize aic\n"
     ]
    },
    {
     "name": "stderr",
     "output_type": "stream",
     "text": [
      "/home/ai/.local/lib/python3.8/site-packages/statsmodels/tsa/statespace/sarimax.py:1890: RuntimeWarning: divide by zero encountered in reciprocal\n",
      "  return np.roots(self.polynomial_reduced_ar)**-1\n",
      "/home/ai/.local/lib/python3.8/site-packages/statsmodels/tsa/statespace/sarimax.py:1897: RuntimeWarning: divide by zero encountered in reciprocal\n",
      "  return np.roots(self.polynomial_reduced_ma)**-1\n"
     ]
    },
    {
     "name": "stdout",
     "output_type": "stream",
     "text": [
      " ARIMA(2,0,2)(0,0,0)[0] intercept   : AIC=-1416.100, Time=2.42 sec\n",
      " ARIMA(0,0,0)(0,0,0)[0] intercept   : AIC=-2053.544, Time=1.94 sec\n",
      " ARIMA(1,0,0)(0,0,0)[0] intercept   : AIC=-2857.943, Time=1.97 sec\n",
      " ARIMA(0,0,1)(0,0,0)[0] intercept   : AIC=-2339.888, Time=2.06 sec\n",
      " ARIMA(0,0,0)(0,0,0)[0]             : AIC=2366.365, Time=1.88 sec\n",
      " ARIMA(2,0,0)(0,0,0)[0] intercept   : AIC=-2859.861, Time=2.11 sec\n",
      " ARIMA(3,0,0)(0,0,0)[0] intercept   : AIC=-2857.859, Time=2.34 sec\n",
      " ARIMA(2,0,1)(0,0,0)[0] intercept   : AIC=-2857.857, Time=2.17 sec\n",
      " ARIMA(1,0,1)(0,0,0)[0] intercept   : AIC=-2859.852, Time=2.12 sec\n",
      " ARIMA(3,0,1)(0,0,0)[0] intercept   : AIC=-2855.843, Time=2.42 sec\n",
      " ARIMA(2,0,0)(0,0,0)[0]             : AIC=-2861.866, Time=2.05 sec\n",
      " ARIMA(1,0,0)(0,0,0)[0]             : AIC=-2859.948, Time=1.94 sec\n",
      " ARIMA(3,0,0)(0,0,0)[0]             : AIC=-2859.864, Time=2.31 sec\n",
      " ARIMA(2,0,1)(0,0,0)[0]             : AIC=-2859.863, Time=2.16 sec\n",
      " ARIMA(1,0,1)(0,0,0)[0]             : AIC=-2861.856, Time=2.14 sec\n",
      " ARIMA(3,0,1)(0,0,0)[0]             : AIC=-2857.846, Time=2.37 sec\n",
      "\n",
      "Best model:  ARIMA(2,0,0)(0,0,0)[0]          \n",
      "Total fit time: 34.406 seconds\n",
      "Performing stepwise search to minimize aic\n",
      " ARIMA(2,0,2)(0,0,0)[0] intercept   : AIC=-3831.354, Time=5.71 sec\n",
      " ARIMA(0,0,0)(0,0,0)[0] intercept   : AIC=-2941.328, Time=1.94 sec\n",
      " ARIMA(1,0,0)(0,0,0)[0] intercept   : AIC=-3809.997, Time=4.90 sec\n",
      " ARIMA(0,0,1)(0,0,0)[0] intercept   : AIC=-3335.780, Time=2.06 sec\n",
      " ARIMA(0,0,0)(0,0,0)[0]             : AIC=1478.581, Time=1.86 sec\n",
      " ARIMA(1,0,2)(0,0,0)[0] intercept   : AIC=-3829.906, Time=5.76 sec\n"
     ]
    },
    {
     "name": "stderr",
     "output_type": "stream",
     "text": [
      "/home/ai/.local/lib/python3.8/site-packages/statsmodels/tsa/statespace/sarimax.py:1890: RuntimeWarning: divide by zero encountered in reciprocal\n",
      "  return np.roots(self.polynomial_reduced_ar)**-1\n",
      "/home/ai/.local/lib/python3.8/site-packages/statsmodels/tsa/statespace/sarimax.py:1897: RuntimeWarning: divide by zero encountered in reciprocal\n",
      "  return np.roots(self.polynomial_reduced_ma)**-1\n"
     ]
    },
    {
     "name": "stdout",
     "output_type": "stream",
     "text": [
      " ARIMA(2,0,1)(0,0,0)[0] intercept   : AIC=-2160.935, Time=2.15 sec\n",
      " ARIMA(3,0,2)(0,0,0)[0] intercept   : AIC=-3830.780, Time=5.87 sec\n",
      " ARIMA(2,0,3)(0,0,0)[0] intercept   : AIC=-3826.851, Time=6.03 sec\n",
      " ARIMA(1,0,1)(0,0,0)[0] intercept   : AIC=-3808.112, Time=5.24 sec\n",
      " ARIMA(1,0,3)(0,0,0)[0] intercept   : AIC=-3828.761, Time=5.64 sec\n",
      " ARIMA(3,0,1)(0,0,0)[0] intercept   : AIC=-3823.809, Time=5.62 sec\n"
     ]
    },
    {
     "name": "stderr",
     "output_type": "stream",
     "text": [
      "/home/ai/.local/lib/python3.8/site-packages/statsmodels/tsa/statespace/sarimax.py:1890: RuntimeWarning: divide by zero encountered in reciprocal\n",
      "  return np.roots(self.polynomial_reduced_ar)**-1\n",
      "/home/ai/.local/lib/python3.8/site-packages/statsmodels/tsa/statespace/sarimax.py:1897: RuntimeWarning: divide by zero encountered in reciprocal\n",
      "  return np.roots(self.polynomial_reduced_ma)**-1\n"
     ]
    },
    {
     "name": "stdout",
     "output_type": "stream",
     "text": [
      " ARIMA(3,0,3)(0,0,0)[0] intercept   : AIC=-2119.430, Time=2.48 sec\n",
      " ARIMA(2,0,2)(0,0,0)[0]             : AIC=-3833.319, Time=5.50 sec\n",
      " ARIMA(1,0,2)(0,0,0)[0]             : AIC=-3831.877, Time=5.53 sec\n"
     ]
    },
    {
     "name": "stderr",
     "output_type": "stream",
     "text": [
      "/home/ai/.local/lib/python3.8/site-packages/statsmodels/tsa/statespace/sarimax.py:1890: RuntimeWarning: divide by zero encountered in reciprocal\n",
      "  return np.roots(self.polynomial_reduced_ar)**-1\n",
      "/home/ai/.local/lib/python3.8/site-packages/statsmodels/tsa/statespace/sarimax.py:1897: RuntimeWarning: divide by zero encountered in reciprocal\n",
      "  return np.roots(self.polynomial_reduced_ma)**-1\n"
     ]
    },
    {
     "name": "stdout",
     "output_type": "stream",
     "text": [
      " ARIMA(2,0,1)(0,0,0)[0]             : AIC=-2162.939, Time=2.09 sec\n",
      " ARIMA(3,0,2)(0,0,0)[0]             : AIC=-3832.739, Time=5.71 sec\n",
      " ARIMA(2,0,3)(0,0,0)[0]             : AIC=-3828.833, Time=5.92 sec\n",
      " ARIMA(1,0,1)(0,0,0)[0]             : AIC=-3810.087, Time=5.11 sec\n",
      " ARIMA(1,0,3)(0,0,0)[0]             : AIC=-3830.740, Time=5.76 sec\n",
      " ARIMA(3,0,1)(0,0,0)[0]             : AIC=-3825.785, Time=5.55 sec\n"
     ]
    },
    {
     "name": "stderr",
     "output_type": "stream",
     "text": [
      "/home/ai/.local/lib/python3.8/site-packages/statsmodels/tsa/statespace/sarimax.py:1890: RuntimeWarning: divide by zero encountered in reciprocal\n",
      "  return np.roots(self.polynomial_reduced_ar)**-1\n",
      "/home/ai/.local/lib/python3.8/site-packages/statsmodels/tsa/statespace/sarimax.py:1897: RuntimeWarning: divide by zero encountered in reciprocal\n",
      "  return np.roots(self.polynomial_reduced_ma)**-1\n"
     ]
    },
    {
     "name": "stdout",
     "output_type": "stream",
     "text": [
      " ARIMA(3,0,3)(0,0,0)[0]             : AIC=-2121.432, Time=2.44 sec\n",
      "\n",
      "Best model:  ARIMA(2,0,2)(0,0,0)[0]          \n",
      "Total fit time: 98.856 seconds\n",
      "Performing stepwise search to minimize aic\n"
     ]
    },
    {
     "name": "stderr",
     "output_type": "stream",
     "text": [
      "/home/ai/.local/lib/python3.8/site-packages/statsmodels/tsa/statespace/sarimax.py:1890: RuntimeWarning: divide by zero encountered in reciprocal\n",
      "  return np.roots(self.polynomial_reduced_ar)**-1\n",
      "/home/ai/.local/lib/python3.8/site-packages/statsmodels/tsa/statespace/sarimax.py:1897: RuntimeWarning: divide by zero encountered in reciprocal\n",
      "  return np.roots(self.polynomial_reduced_ma)**-1\n"
     ]
    },
    {
     "name": "stdout",
     "output_type": "stream",
     "text": [
      " ARIMA(2,0,2)(0,0,0)[0] intercept   : AIC=-2844.442, Time=2.42 sec\n",
      " ARIMA(0,0,0)(0,0,0)[0] intercept   : AIC=-3730.968, Time=1.95 sec\n",
      " ARIMA(1,0,0)(0,0,0)[0] intercept   : AIC=-4653.977, Time=1.95 sec\n",
      " ARIMA(0,0,1)(0,0,0)[0] intercept   : AIC=-4104.658, Time=2.09 sec\n",
      " ARIMA(0,0,0)(0,0,0)[0]             : AIC=688.941, Time=1.87 sec\n",
      " ARIMA(2,0,0)(0,0,0)[0] intercept   : AIC=-4656.627, Time=2.12 sec\n",
      " ARIMA(3,0,0)(0,0,0)[0] intercept   : AIC=-4655.114, Time=2.35 sec\n",
      " ARIMA(2,0,1)(0,0,0)[0] intercept   : AIC=-4656.856, Time=2.21 sec\n",
      " ARIMA(1,0,1)(0,0,0)[0] intercept   : AIC=-4656.416, Time=2.17 sec\n",
      " ARIMA(3,0,1)(0,0,0)[0] intercept   : AIC=-4651.875, Time=2.44 sec\n",
      " ARIMA(1,0,2)(0,0,0)[0] intercept   : AIC=-4654.162, Time=2.39 sec\n"
     ]
    },
    {
     "name": "stderr",
     "output_type": "stream",
     "text": [
      "/home/ai/.local/lib/python3.8/site-packages/statsmodels/tsa/statespace/sarimax.py:1890: RuntimeWarning: divide by zero encountered in reciprocal\n",
      "  return np.roots(self.polynomial_reduced_ar)**-1\n",
      "/home/ai/.local/lib/python3.8/site-packages/statsmodels/tsa/statespace/sarimax.py:1897: RuntimeWarning: divide by zero encountered in reciprocal\n",
      "  return np.roots(self.polynomial_reduced_ma)**-1\n"
     ]
    },
    {
     "name": "stdout",
     "output_type": "stream",
     "text": [
      " ARIMA(3,0,2)(0,0,0)[0] intercept   : AIC=-2804.535, Time=2.43 sec\n",
      " ARIMA(2,0,1)(0,0,0)[0]             : AIC=-4658.898, Time=2.10 sec\n",
      " ARIMA(1,0,1)(0,0,0)[0]             : AIC=-4658.438, Time=2.04 sec\n",
      " ARIMA(2,0,0)(0,0,0)[0]             : AIC=-4658.649, Time=2.06 sec\n",
      " ARIMA(3,0,1)(0,0,0)[0]             : AIC=-4653.891, Time=2.33 sec\n"
     ]
    },
    {
     "name": "stderr",
     "output_type": "stream",
     "text": [
      "/home/ai/.local/lib/python3.8/site-packages/statsmodels/tsa/statespace/sarimax.py:1890: RuntimeWarning: divide by zero encountered in reciprocal\n",
      "  return np.roots(self.polynomial_reduced_ar)**-1\n",
      "/home/ai/.local/lib/python3.8/site-packages/statsmodels/tsa/statespace/sarimax.py:1897: RuntimeWarning: divide by zero encountered in reciprocal\n",
      "  return np.roots(self.polynomial_reduced_ma)**-1\n"
     ]
    },
    {
     "name": "stdout",
     "output_type": "stream",
     "text": [
      " ARIMA(2,0,2)(0,0,0)[0]             : AIC=-2846.503, Time=2.32 sec\n",
      " ARIMA(1,0,0)(0,0,0)[0]             : AIC=-4656.009, Time=1.91 sec\n",
      " ARIMA(1,0,2)(0,0,0)[0]             : AIC=-4656.193, Time=2.28 sec\n",
      " ARIMA(3,0,0)(0,0,0)[0]             : AIC=-4657.137, Time=2.32 sec\n"
     ]
    },
    {
     "name": "stderr",
     "output_type": "stream",
     "text": [
      "/home/ai/.local/lib/python3.8/site-packages/statsmodels/tsa/statespace/sarimax.py:1890: RuntimeWarning: divide by zero encountered in reciprocal\n",
      "  return np.roots(self.polynomial_reduced_ar)**-1\n",
      "/home/ai/.local/lib/python3.8/site-packages/statsmodels/tsa/statespace/sarimax.py:1897: RuntimeWarning: divide by zero encountered in reciprocal\n",
      "  return np.roots(self.polynomial_reduced_ma)**-1\n"
     ]
    },
    {
     "name": "stdout",
     "output_type": "stream",
     "text": [
      " ARIMA(3,0,2)(0,0,0)[0]             : AIC=-2806.600, Time=2.40 sec\n",
      "\n",
      "Best model:  ARIMA(2,0,1)(0,0,0)[0]          \n",
      "Total fit time: 46.172 seconds\n",
      "Performing stepwise search to minimize aic\n",
      " ARIMA(2,0,2)(0,0,0)[0] intercept   : AIC=-2952.599, Time=5.85 sec\n",
      " ARIMA(0,0,0)(0,0,0)[0] intercept   : AIC=-2275.683, Time=1.91 sec\n",
      " ARIMA(1,0,0)(0,0,0)[0] intercept   : AIC=-2957.544, Time=4.63 sec\n",
      " ARIMA(0,0,1)(0,0,0)[0] intercept   : AIC=-2583.338, Time=2.06 sec\n",
      " ARIMA(0,0,0)(0,0,0)[0]             : AIC=2144.227, Time=1.86 sec\n",
      " ARIMA(2,0,0)(0,0,0)[0] intercept   : AIC=-2955.575, Time=5.01 sec\n",
      " ARIMA(1,0,1)(0,0,0)[0] intercept   : AIC=-2955.700, Time=4.99 sec\n"
     ]
    },
    {
     "name": "stderr",
     "output_type": "stream",
     "text": [
      "/home/ai/.local/lib/python3.8/site-packages/statsmodels/tsa/statespace/sarimax.py:1890: RuntimeWarning: divide by zero encountered in reciprocal\n",
      "  return np.roots(self.polynomial_reduced_ar)**-1\n",
      "/home/ai/.local/lib/python3.8/site-packages/statsmodels/tsa/statespace/sarimax.py:1897: RuntimeWarning: divide by zero encountered in reciprocal\n",
      "  return np.roots(self.polynomial_reduced_ma)**-1\n"
     ]
    },
    {
     "name": "stdout",
     "output_type": "stream",
     "text": [
      " ARIMA(2,0,1)(0,0,0)[0] intercept   : AIC=-1863.186, Time=2.15 sec\n",
      " ARIMA(1,0,0)(0,0,0)[0]             : AIC=-2959.575, Time=4.56 sec\n",
      " ARIMA(2,0,0)(0,0,0)[0]             : AIC=-2957.595, Time=4.88 sec\n",
      " ARIMA(1,0,1)(0,0,0)[0]             : AIC=-2957.616, Time=4.92 sec\n",
      " ARIMA(0,0,1)(0,0,0)[0]             : AIC=-2585.344, Time=2.01 sec\n"
     ]
    },
    {
     "name": "stderr",
     "output_type": "stream",
     "text": [
      "/home/ai/.local/lib/python3.8/site-packages/statsmodels/tsa/statespace/sarimax.py:1890: RuntimeWarning: divide by zero encountered in reciprocal\n",
      "  return np.roots(self.polynomial_reduced_ar)**-1\n",
      "/home/ai/.local/lib/python3.8/site-packages/statsmodels/tsa/statespace/sarimax.py:1897: RuntimeWarning: divide by zero encountered in reciprocal\n",
      "  return np.roots(self.polynomial_reduced_ma)**-1\n"
     ]
    },
    {
     "name": "stdout",
     "output_type": "stream",
     "text": [
      " ARIMA(2,0,1)(0,0,0)[0]             : AIC=-1865.196, Time=2.11 sec\n",
      "\n",
      "Best model:  ARIMA(1,0,0)(0,0,0)[0]          \n",
      "Total fit time: 46.963 seconds\n",
      "Performing stepwise search to minimize aic\n",
      " ARIMA(2,0,2)(0,0,0)[0] intercept   : AIC=-3962.218, Time=2.40 sec\n",
      " ARIMA(0,0,0)(0,0,0)[0] intercept   : AIC=-3275.932, Time=1.90 sec\n",
      " ARIMA(1,0,0)(0,0,0)[0] intercept   : AIC=-3948.031, Time=1.96 sec\n",
      " ARIMA(0,0,1)(0,0,0)[0] intercept   : AIC=-3628.780, Time=2.04 sec\n",
      " ARIMA(0,0,0)(0,0,0)[0]             : AIC=1143.977, Time=1.86 sec\n",
      " ARIMA(1,0,2)(0,0,0)[0] intercept   : AIC=-3955.065, Time=2.35 sec\n"
     ]
    },
    {
     "name": "stderr",
     "output_type": "stream",
     "text": [
      "/home/ai/.local/lib/python3.8/site-packages/statsmodels/tsa/statespace/sarimax.py:1890: RuntimeWarning: divide by zero encountered in reciprocal\n",
      "  return np.roots(self.polynomial_reduced_ar)**-1\n",
      "/home/ai/.local/lib/python3.8/site-packages/statsmodels/tsa/statespace/sarimax.py:1897: RuntimeWarning: divide by zero encountered in reciprocal\n",
      "  return np.roots(self.polynomial_reduced_ma)**-1\n"
     ]
    },
    {
     "name": "stdout",
     "output_type": "stream",
     "text": [
      " ARIMA(2,0,1)(0,0,0)[0] intercept   : AIC=-2858.872, Time=2.19 sec\n",
      " ARIMA(3,0,2)(0,0,0)[0] intercept   : AIC=-3965.168, Time=2.43 sec\n",
      " ARIMA(3,0,1)(0,0,0)[0] intercept   : AIC=-3948.275, Time=2.42 sec\n",
      " ARIMA(4,0,2)(0,0,0)[0] intercept   : AIC=-3966.855, Time=2.58 sec\n",
      " ARIMA(4,0,1)(0,0,0)[0] intercept   : AIC=-3957.984, Time=2.51 sec\n",
      " ARIMA(5,0,2)(0,0,0)[0] intercept   : AIC=-3965.225, Time=2.88 sec\n"
     ]
    },
    {
     "name": "stderr",
     "output_type": "stream",
     "text": [
      "/home/ai/.local/lib/python3.8/site-packages/statsmodels/tsa/statespace/sarimax.py:1890: RuntimeWarning: divide by zero encountered in reciprocal\n",
      "  return np.roots(self.polynomial_reduced_ar)**-1\n",
      "/home/ai/.local/lib/python3.8/site-packages/statsmodels/tsa/statespace/sarimax.py:1897: RuntimeWarning: divide by zero encountered in reciprocal\n",
      "  return np.roots(self.polynomial_reduced_ma)**-1\n"
     ]
    },
    {
     "name": "stdout",
     "output_type": "stream",
     "text": [
      " ARIMA(4,0,3)(0,0,0)[0] intercept   : AIC=-2817.644, Time=2.58 sec\n"
     ]
    },
    {
     "name": "stderr",
     "output_type": "stream",
     "text": [
      "/home/ai/.local/lib/python3.8/site-packages/statsmodels/tsa/statespace/sarimax.py:1890: RuntimeWarning: divide by zero encountered in reciprocal\n",
      "  return np.roots(self.polynomial_reduced_ar)**-1\n",
      "/home/ai/.local/lib/python3.8/site-packages/statsmodels/tsa/statespace/sarimax.py:1897: RuntimeWarning: divide by zero encountered in reciprocal\n",
      "  return np.roots(self.polynomial_reduced_ma)**-1\n"
     ]
    },
    {
     "name": "stdout",
     "output_type": "stream",
     "text": [
      " ARIMA(3,0,3)(0,0,0)[0] intercept   : AIC=-2821.929, Time=2.63 sec\n",
      " ARIMA(5,0,1)(0,0,0)[0] intercept   : AIC=-3956.961, Time=2.82 sec\n"
     ]
    },
    {
     "name": "stderr",
     "output_type": "stream",
     "text": [
      "/home/ai/.local/lib/python3.8/site-packages/statsmodels/tsa/statespace/sarimax.py:1890: RuntimeWarning: divide by zero encountered in reciprocal\n",
      "  return np.roots(self.polynomial_reduced_ar)**-1\n",
      "/home/ai/.local/lib/python3.8/site-packages/statsmodels/tsa/statespace/sarimax.py:1897: RuntimeWarning: divide by zero encountered in reciprocal\n",
      "  return np.roots(self.polynomial_reduced_ma)**-1\n"
     ]
    },
    {
     "name": "stdout",
     "output_type": "stream",
     "text": [
      " ARIMA(5,0,3)(0,0,0)[0] intercept   : AIC=-2813.945, Time=2.96 sec\n",
      " ARIMA(4,0,2)(0,0,0)[0]             : AIC=-3968.885, Time=2.48 sec\n",
      " ARIMA(3,0,2)(0,0,0)[0]             : AIC=-3967.269, Time=2.40 sec\n",
      " ARIMA(4,0,1)(0,0,0)[0]             : AIC=-3959.994, Time=2.42 sec\n",
      " ARIMA(5,0,2)(0,0,0)[0]             : AIC=-3967.259, Time=2.78 sec\n"
     ]
    },
    {
     "name": "stderr",
     "output_type": "stream",
     "text": [
      "/home/ai/.local/lib/python3.8/site-packages/statsmodels/tsa/statespace/sarimax.py:1890: RuntimeWarning: divide by zero encountered in reciprocal\n",
      "  return np.roots(self.polynomial_reduced_ar)**-1\n",
      "/home/ai/.local/lib/python3.8/site-packages/statsmodels/tsa/statespace/sarimax.py:1897: RuntimeWarning: divide by zero encountered in reciprocal\n",
      "  return np.roots(self.polynomial_reduced_ma)**-1\n"
     ]
    },
    {
     "name": "stdout",
     "output_type": "stream",
     "text": [
      " ARIMA(4,0,3)(0,0,0)[0]             : AIC=-2819.665, Time=2.54 sec\n",
      " ARIMA(3,0,1)(0,0,0)[0]             : AIC=-3950.286, Time=2.33 sec\n"
     ]
    },
    {
     "name": "stderr",
     "output_type": "stream",
     "text": [
      "/home/ai/.local/lib/python3.8/site-packages/statsmodels/tsa/statespace/sarimax.py:1890: RuntimeWarning: divide by zero encountered in reciprocal\n",
      "  return np.roots(self.polynomial_reduced_ar)**-1\n",
      "/home/ai/.local/lib/python3.8/site-packages/statsmodels/tsa/statespace/sarimax.py:1897: RuntimeWarning: divide by zero encountered in reciprocal\n",
      "  return np.roots(self.polynomial_reduced_ma)**-1\n"
     ]
    },
    {
     "name": "stdout",
     "output_type": "stream",
     "text": [
      " ARIMA(3,0,3)(0,0,0)[0]             : AIC=-2823.950, Time=2.44 sec\n",
      " ARIMA(5,0,1)(0,0,0)[0]             : AIC=-3958.972, Time=2.76 sec\n"
     ]
    },
    {
     "name": "stderr",
     "output_type": "stream",
     "text": [
      "/home/ai/.local/lib/python3.8/site-packages/statsmodels/tsa/statespace/sarimax.py:1890: RuntimeWarning: divide by zero encountered in reciprocal\n",
      "  return np.roots(self.polynomial_reduced_ar)**-1\n",
      "/home/ai/.local/lib/python3.8/site-packages/statsmodels/tsa/statespace/sarimax.py:1897: RuntimeWarning: divide by zero encountered in reciprocal\n",
      "  return np.roots(self.polynomial_reduced_ma)**-1\n"
     ]
    },
    {
     "name": "stdout",
     "output_type": "stream",
     "text": [
      " ARIMA(5,0,3)(0,0,0)[0]             : AIC=-2815.965, Time=2.85 sec\n",
      "\n",
      "Best model:  ARIMA(4,0,2)(0,0,0)[0]          \n",
      "Total fit time: 61.546 seconds\n",
      "Performing stepwise search to minimize aic\n",
      " ARIMA(2,0,2)(0,0,0)[0] intercept   : AIC=-3808.139, Time=6.08 sec\n",
      " ARIMA(0,0,0)(0,0,0)[0] intercept   : AIC=-2677.626, Time=1.95 sec\n",
      " ARIMA(1,0,0)(0,0,0)[0] intercept   : AIC=-3759.810, Time=4.86 sec\n"
     ]
    },
    {
     "name": "stderr",
     "output_type": "stream",
     "text": [
      "/home/ai/.local/lib/python3.8/site-packages/statsmodels/tsa/statespace/sarimax.py:1897: RuntimeWarning: divide by zero encountered in reciprocal\n",
      "  return np.roots(self.polynomial_reduced_ma)**-1\n"
     ]
    },
    {
     "name": "stdout",
     "output_type": "stream",
     "text": [
      " ARIMA(0,0,1)(0,0,0)[0] intercept   : AIC=-2638.280, Time=2.05 sec\n",
      " ARIMA(0,0,0)(0,0,0)[0]             : AIC=1742.284, Time=1.84 sec\n",
      " ARIMA(1,0,2)(0,0,0)[0] intercept   : AIC=-3797.528, Time=13.29 sec\n",
      " ARIMA(2,0,1)(0,0,0)[0] intercept   : AIC=-3803.606, Time=9.31 sec\n",
      " ARIMA(3,0,2)(0,0,0)[0] intercept   : AIC=-3817.048, Time=6.73 sec\n",
      " ARIMA(3,0,1)(0,0,0)[0] intercept   : AIC=-3798.019, Time=14.08 sec\n",
      " ARIMA(4,0,2)(0,0,0)[0] intercept   : AIC=-3792.917, Time=6.39 sec\n",
      " ARIMA(3,0,3)(0,0,0)[0] intercept   : AIC=-3794.914, Time=10.84 sec\n",
      " ARIMA(2,0,3)(0,0,0)[0] intercept   : AIC=-3799.815, Time=10.87 sec\n",
      " ARIMA(4,0,1)(0,0,0)[0] intercept   : AIC=-3798.888, Time=14.45 sec\n"
     ]
    },
    {
     "name": "stderr",
     "output_type": "stream",
     "text": [
      "/home/ai/.local/lib/python3.8/site-packages/statsmodels/tsa/statespace/sarimax.py:1890: RuntimeWarning: divide by zero encountered in reciprocal\n",
      "  return np.roots(self.polynomial_reduced_ar)**-1\n",
      "/home/ai/.local/lib/python3.8/site-packages/statsmodels/tsa/statespace/sarimax.py:1897: RuntimeWarning: divide by zero encountered in reciprocal\n",
      "  return np.roots(self.polynomial_reduced_ma)**-1\n"
     ]
    },
    {
     "name": "stdout",
     "output_type": "stream",
     "text": [
      " ARIMA(4,0,3)(0,0,0)[0] intercept   : AIC=-1267.248, Time=2.59 sec\n",
      " ARIMA(3,0,2)(0,0,0)[0]             : AIC=-3819.150, Time=2.42 sec\n",
      " ARIMA(2,0,2)(0,0,0)[0]             : AIC=-3810.016, Time=5.92 sec\n",
      " ARIMA(3,0,1)(0,0,0)[0]             : AIC=-3799.909, Time=12.90 sec\n",
      " ARIMA(4,0,2)(0,0,0)[0]             : AIC=-3794.807, Time=6.00 sec\n",
      " ARIMA(3,0,3)(0,0,0)[0]             : AIC=-3796.767, Time=11.22 sec\n",
      " ARIMA(2,0,1)(0,0,0)[0]             : AIC=-3806.630, Time=11.56 sec\n",
      " ARIMA(2,0,3)(0,0,0)[0]             : AIC=-3801.681, Time=10.14 sec\n",
      " ARIMA(4,0,1)(0,0,0)[0]             : AIC=-3799.664, Time=8.02 sec\n"
     ]
    },
    {
     "name": "stderr",
     "output_type": "stream",
     "text": [
      "/home/ai/.local/lib/python3.8/site-packages/statsmodels/tsa/statespace/sarimax.py:1890: RuntimeWarning: divide by zero encountered in reciprocal\n",
      "  return np.roots(self.polynomial_reduced_ar)**-1\n",
      "/home/ai/.local/lib/python3.8/site-packages/statsmodels/tsa/statespace/sarimax.py:1897: RuntimeWarning: divide by zero encountered in reciprocal\n",
      "  return np.roots(self.polynomial_reduced_ma)**-1\n"
     ]
    },
    {
     "name": "stdout",
     "output_type": "stream",
     "text": [
      " ARIMA(4,0,3)(0,0,0)[0]             : AIC=-1269.256, Time=2.50 sec\n",
      "\n",
      "Best model:  ARIMA(3,0,2)(0,0,0)[0]          \n",
      "Total fit time: 176.019 seconds\n",
      "Performing stepwise search to minimize aic\n"
     ]
    },
    {
     "name": "stderr",
     "output_type": "stream",
     "text": [
      "/home/ai/.local/lib/python3.8/site-packages/statsmodels/tsa/statespace/sarimax.py:1897: RuntimeWarning: divide by zero encountered in reciprocal\n",
      "  return np.roots(self.polynomial_reduced_ma)**-1\n"
     ]
    },
    {
     "name": "stdout",
     "output_type": "stream",
     "text": [
      " ARIMA(2,0,2)(0,0,0)[0] intercept   : AIC=-3054.580, Time=2.43 sec\n",
      " ARIMA(0,0,0)(0,0,0)[0] intercept   : AIC=-3102.281, Time=1.94 sec\n",
      " ARIMA(1,0,0)(0,0,0)[0] intercept   : AIC=-3883.235, Time=1.97 sec\n",
      " ARIMA(0,0,1)(0,0,0)[0] intercept   : AIC=-3408.773, Time=2.08 sec\n",
      " ARIMA(0,0,0)(0,0,0)[0]             : AIC=1317.628, Time=1.85 sec\n",
      " ARIMA(2,0,0)(0,0,0)[0] intercept   : AIC=-3882.719, Time=2.10 sec\n",
      " ARIMA(1,0,1)(0,0,0)[0] intercept   : AIC=-3882.501, Time=2.12 sec\n"
     ]
    },
    {
     "name": "stderr",
     "output_type": "stream",
     "text": [
      "/home/ai/.local/lib/python3.8/site-packages/statsmodels/tsa/statespace/sarimax.py:1890: RuntimeWarning: divide by zero encountered in reciprocal\n",
      "  return np.roots(self.polynomial_reduced_ar)**-1\n",
      "/home/ai/.local/lib/python3.8/site-packages/statsmodels/tsa/statespace/sarimax.py:1897: RuntimeWarning: divide by zero encountered in reciprocal\n",
      "  return np.roots(self.polynomial_reduced_ma)**-1\n"
     ]
    },
    {
     "name": "stdout",
     "output_type": "stream",
     "text": [
      " ARIMA(2,0,1)(0,0,0)[0] intercept   : AIC=-2523.083, Time=2.25 sec\n",
      " ARIMA(1,0,0)(0,0,0)[0]             : AIC=-3885.263, Time=1.92 sec\n",
      " ARIMA(2,0,0)(0,0,0)[0]             : AIC=-3884.746, Time=2.10 sec\n",
      " ARIMA(1,0,1)(0,0,0)[0]             : AIC=-3884.530, Time=2.06 sec\n",
      " ARIMA(0,0,1)(0,0,0)[0]             : AIC=-3410.727, Time=2.01 sec\n"
     ]
    },
    {
     "name": "stderr",
     "output_type": "stream",
     "text": [
      "/home/ai/.local/lib/python3.8/site-packages/statsmodels/tsa/statespace/sarimax.py:1890: RuntimeWarning: divide by zero encountered in reciprocal\n",
      "  return np.roots(self.polynomial_reduced_ar)**-1\n",
      "/home/ai/.local/lib/python3.8/site-packages/statsmodels/tsa/statespace/sarimax.py:1897: RuntimeWarning: divide by zero encountered in reciprocal\n",
      "  return np.roots(self.polynomial_reduced_ma)**-1\n"
     ]
    },
    {
     "name": "stdout",
     "output_type": "stream",
     "text": [
      " ARIMA(2,0,1)(0,0,0)[0]             : AIC=-2525.110, Time=2.16 sec\n",
      "\n",
      "Best model:  ARIMA(1,0,0)(0,0,0)[0]          \n",
      "Total fit time: 26.992 seconds\n",
      "Performing stepwise search to minimize aic\n",
      " ARIMA(2,0,2)(0,0,0)[0] intercept   : AIC=-3807.556, Time=2.49 sec\n",
      " ARIMA(0,0,0)(0,0,0)[0] intercept   : AIC=-3027.639, Time=1.92 sec\n",
      " ARIMA(1,0,0)(0,0,0)[0] intercept   : AIC=-3806.234, Time=1.98 sec\n",
      " ARIMA(0,0,1)(0,0,0)[0] intercept   : AIC=-3291.545, Time=2.10 sec\n",
      " ARIMA(0,0,0)(0,0,0)[0]             : AIC=1392.270, Time=1.86 sec\n",
      " ARIMA(1,0,2)(0,0,0)[0] intercept   : AIC=-3808.033, Time=2.34 sec\n",
      " ARIMA(0,0,2)(0,0,0)[0] intercept   : AIC=-3535.978, Time=2.28 sec\n",
      " ARIMA(1,0,1)(0,0,0)[0] intercept   : AIC=-3810.091, Time=2.14 sec\n",
      " ARIMA(2,0,1)(0,0,0)[0] intercept   : AIC=-3808.079, Time=2.17 sec\n",
      " ARIMA(2,0,0)(0,0,0)[0] intercept   : AIC=-3810.070, Time=2.11 sec\n",
      " ARIMA(1,0,1)(0,0,0)[0]             : AIC=-3812.102, Time=2.04 sec\n",
      " ARIMA(0,0,1)(0,0,0)[0]             : AIC=-3293.514, Time=2.07 sec\n",
      " ARIMA(1,0,0)(0,0,0)[0]             : AIC=-3808.249, Time=1.95 sec\n",
      " ARIMA(2,0,1)(0,0,0)[0]             : AIC=-3810.091, Time=2.13 sec\n",
      " ARIMA(1,0,2)(0,0,0)[0]             : AIC=-3810.061, Time=2.41 sec\n",
      " ARIMA(0,0,2)(0,0,0)[0]             : AIC=-3537.961, Time=2.25 sec\n",
      " ARIMA(2,0,0)(0,0,0)[0]             : AIC=-3812.077, Time=2.06 sec\n",
      " ARIMA(2,0,2)(0,0,0)[0]             : AIC=-3809.911, Time=2.35 sec\n",
      "\n",
      "Best model:  ARIMA(1,0,1)(0,0,0)[0]          \n",
      "Total fit time: 38.657 seconds\n",
      "Performing stepwise search to minimize aic\n",
      " ARIMA(2,0,2)(0,0,0)[0] intercept   : AIC=-2423.947, Time=5.92 sec\n",
      " ARIMA(0,0,0)(0,0,0)[0] intercept   : AIC=-2421.332, Time=1.92 sec\n",
      " ARIMA(1,0,0)(0,0,0)[0] intercept   : AIC=-3323.354, Time=4.60 sec\n",
      " ARIMA(0,0,1)(0,0,0)[0] intercept   : AIC=-2505.609, Time=2.09 sec\n",
      " ARIMA(0,0,0)(0,0,0)[0]             : AIC=1998.577, Time=1.88 sec\n",
      " ARIMA(2,0,0)(0,0,0)[0] intercept   : AIC=-3328.391, Time=5.02 sec\n",
      " ARIMA(3,0,0)(0,0,0)[0] intercept   : AIC=-3338.600, Time=5.73 sec\n",
      " ARIMA(4,0,0)(0,0,0)[0] intercept   : AIC=-3341.704, Time=6.59 sec\n",
      " ARIMA(5,0,0)(0,0,0)[0] intercept   : AIC=-3360.008, Time=6.93 sec\n",
      " ARIMA(5,0,1)(0,0,0)[0] intercept   : AIC=-3349.059, Time=7.36 sec\n",
      " ARIMA(4,0,1)(0,0,0)[0] intercept   : AIC=-3335.398, Time=6.08 sec\n",
      " ARIMA(5,0,0)(0,0,0)[0]             : AIC=-3362.016, Time=6.70 sec\n",
      " ARIMA(4,0,0)(0,0,0)[0]             : AIC=-3343.695, Time=6.23 sec\n",
      " ARIMA(5,0,1)(0,0,0)[0]             : AIC=-3351.065, Time=7.12 sec\n",
      " ARIMA(4,0,1)(0,0,0)[0]             : AIC=-3337.390, Time=5.91 sec\n",
      "\n",
      "Best model:  ARIMA(5,0,0)(0,0,0)[0]          \n",
      "Total fit time: 80.095 seconds\n",
      "Performing stepwise search to minimize aic\n",
      " ARIMA(2,0,2)(0,0,0)[0] intercept   : AIC=-3831.509, Time=2.43 sec\n",
      " ARIMA(0,0,0)(0,0,0)[0] intercept   : AIC=-2906.123, Time=1.91 sec\n",
      " ARIMA(1,0,0)(0,0,0)[0] intercept   : AIC=-3800.522, Time=10.49 sec\n",
      " ARIMA(0,0,1)(0,0,0)[0] intercept   : AIC=-3221.287, Time=2.09 sec\n",
      " ARIMA(0,0,0)(0,0,0)[0]             : AIC=1513.786, Time=1.84 sec\n",
      " ARIMA(1,0,2)(0,0,0)[0] intercept   : AIC=-3826.888, Time=2.56 sec\n"
     ]
    },
    {
     "name": "stderr",
     "output_type": "stream",
     "text": [
      "/home/ai/.local/lib/python3.8/site-packages/statsmodels/tsa/statespace/sarimax.py:1890: RuntimeWarning: divide by zero encountered in reciprocal\n",
      "  return np.roots(self.polynomial_reduced_ar)**-1\n",
      "/home/ai/.local/lib/python3.8/site-packages/statsmodels/tsa/statespace/sarimax.py:1897: RuntimeWarning: divide by zero encountered in reciprocal\n",
      "  return np.roots(self.polynomial_reduced_ma)**-1\n"
     ]
    },
    {
     "name": "stdout",
     "output_type": "stream",
     "text": [
      " ARIMA(2,0,1)(0,0,0)[0] intercept   : AIC=-2039.790, Time=2.21 sec\n",
      " ARIMA(3,0,2)(0,0,0)[0] intercept   : AIC=-3831.862, Time=2.65 sec\n",
      " ARIMA(3,0,1)(0,0,0)[0] intercept   : AIC=-3818.727, Time=2.50 sec\n"
     ]
    },
    {
     "name": "stderr",
     "output_type": "stream",
     "text": [
      "/home/ai/.local/lib/python3.8/site-packages/statsmodels/tsa/statespace/sarimax.py:1890: RuntimeWarning: divide by zero encountered in reciprocal\n",
      "  return np.roots(self.polynomial_reduced_ar)**-1\n",
      "/home/ai/.local/lib/python3.8/site-packages/statsmodels/tsa/statespace/sarimax.py:1897: RuntimeWarning: divide by zero encountered in reciprocal\n",
      "  return np.roots(self.polynomial_reduced_ma)**-1\n"
     ]
    },
    {
     "name": "stdout",
     "output_type": "stream",
     "text": [
      " ARIMA(4,0,2)(0,0,0)[0] intercept   : AIC=-1992.376, Time=2.57 sec\n",
      " ARIMA(3,0,3)(0,0,0)[0] intercept   : AIC=-3825.963, Time=2.58 sec\n",
      " ARIMA(2,0,3)(0,0,0)[0] intercept   : AIC=-3828.191, Time=2.51 sec\n",
      " ARIMA(4,0,1)(0,0,0)[0] intercept   : AIC=-3830.579, Time=2.54 sec\n",
      " ARIMA(4,0,3)(0,0,0)[0] intercept   : AIC=-3840.001, Time=2.61 sec\n",
      " ARIMA(5,0,3)(0,0,0)[0] intercept   : AIC=-3396.896, Time=32.07 sec\n",
      " ARIMA(4,0,4)(0,0,0)[0] intercept   : AIC=-3854.891, Time=2.89 sec\n",
      " ARIMA(3,0,4)(0,0,0)[0] intercept   : AIC=-3857.611, Time=2.86 sec\n",
      " ARIMA(2,0,4)(0,0,0)[0] intercept   : AIC=-3822.053, Time=2.83 sec\n",
      " ARIMA(3,0,5)(0,0,0)[0] intercept   : AIC=-3850.456, Time=3.12 sec\n",
      " ARIMA(2,0,5)(0,0,0)[0] intercept   : AIC=-3833.433, Time=3.10 sec\n",
      " ARIMA(4,0,5)(0,0,0)[0] intercept   : AIC=-3853.549, Time=3.31 sec\n",
      " ARIMA(3,0,4)(0,0,0)[0]             : AIC=-3859.980, Time=2.78 sec\n",
      " ARIMA(2,0,4)(0,0,0)[0]             : AIC=-3824.068, Time=2.73 sec\n",
      " ARIMA(3,0,3)(0,0,0)[0]             : AIC=-3827.971, Time=2.44 sec\n",
      " ARIMA(4,0,4)(0,0,0)[0]             : AIC=-3856.919, Time=2.85 sec\n",
      " ARIMA(3,0,5)(0,0,0)[0]             : AIC=-3852.495, Time=2.97 sec\n",
      " ARIMA(2,0,3)(0,0,0)[0]             : AIC=-3830.199, Time=2.40 sec\n",
      " ARIMA(2,0,5)(0,0,0)[0]             : AIC=-3835.443, Time=2.94 sec\n",
      " ARIMA(4,0,3)(0,0,0)[0]             : AIC=-3842.008, Time=2.51 sec\n",
      " ARIMA(4,0,5)(0,0,0)[0]             : AIC=-3855.581, Time=3.01 sec\n",
      "\n",
      "Best model:  ARIMA(3,0,4)(0,0,0)[0]          \n",
      "Total fit time: 116.281 seconds\n",
      "Performing stepwise search to minimize aic\n"
     ]
    },
    {
     "name": "stderr",
     "output_type": "stream",
     "text": [
      "/home/ai/.local/lib/python3.8/site-packages/statsmodels/tsa/statespace/sarimax.py:1890: RuntimeWarning: divide by zero encountered in reciprocal\n",
      "  return np.roots(self.polynomial_reduced_ar)**-1\n",
      "/home/ai/.local/lib/python3.8/site-packages/statsmodels/tsa/statespace/sarimax.py:1897: RuntimeWarning: divide by zero encountered in reciprocal\n",
      "  return np.roots(self.polynomial_reduced_ma)**-1\n"
     ]
    },
    {
     "name": "stdout",
     "output_type": "stream",
     "text": [
      " ARIMA(2,0,2)(0,0,0)[0] intercept   : AIC=-370.920, Time=2.40 sec\n",
      " ARIMA(0,0,0)(0,0,0)[0] intercept   : AIC=-1619.083, Time=1.90 sec\n",
      " ARIMA(1,0,0)(0,0,0)[0] intercept   : AIC=-2674.305, Time=1.98 sec\n",
      " ARIMA(0,0,1)(0,0,0)[0] intercept   : AIC=-1862.235, Time=2.05 sec\n",
      " ARIMA(0,0,0)(0,0,0)[0]             : AIC=2800.826, Time=1.84 sec\n",
      " ARIMA(2,0,0)(0,0,0)[0] intercept   : AIC=-2675.053, Time=2.09 sec\n",
      " ARIMA(3,0,0)(0,0,0)[0] intercept   : AIC=-2675.073, Time=2.36 sec\n",
      " ARIMA(4,0,0)(0,0,0)[0] intercept   : AIC=-2686.258, Time=2.45 sec\n",
      " ARIMA(5,0,0)(0,0,0)[0] intercept   : AIC=-2695.002, Time=2.79 sec\n",
      " ARIMA(5,0,1)(0,0,0)[0] intercept   : AIC=-2687.966, Time=2.88 sec\n",
      " ARIMA(4,0,1)(0,0,0)[0] intercept   : AIC=-2677.648, Time=2.58 sec\n",
      " ARIMA(5,0,0)(0,0,0)[0]             : AIC=-2697.005, Time=2.75 sec\n",
      " ARIMA(4,0,0)(0,0,0)[0]             : AIC=-2688.261, Time=2.41 sec\n",
      " ARIMA(5,0,1)(0,0,0)[0]             : AIC=-2689.968, Time=2.75 sec\n",
      " ARIMA(4,0,1)(0,0,0)[0]             : AIC=-2679.650, Time=2.48 sec\n",
      "\n",
      "Best model:  ARIMA(5,0,0)(0,0,0)[0]          \n",
      "Total fit time: 35.724 seconds\n",
      "Performing stepwise search to minimize aic\n",
      " ARIMA(2,0,2)(0,0,0)[0] intercept   : AIC=-3724.533, Time=6.29 sec\n",
      " ARIMA(0,0,0)(0,0,0)[0] intercept   : AIC=-2856.167, Time=1.92 sec\n",
      " ARIMA(1,0,0)(0,0,0)[0] intercept   : AIC=-3704.119, Time=5.10 sec\n",
      " ARIMA(0,0,1)(0,0,0)[0] intercept   : AIC=-3242.930, Time=2.06 sec\n",
      " ARIMA(0,0,0)(0,0,0)[0]             : AIC=1563.742, Time=1.85 sec\n",
      " ARIMA(1,0,2)(0,0,0)[0] intercept   : AIC=-3722.588, Time=5.80 sec\n"
     ]
    },
    {
     "name": "stderr",
     "output_type": "stream",
     "text": [
      "/home/ai/.local/lib/python3.8/site-packages/statsmodels/tsa/statespace/sarimax.py:1890: RuntimeWarning: divide by zero encountered in reciprocal\n",
      "  return np.roots(self.polynomial_reduced_ar)**-1\n",
      "/home/ai/.local/lib/python3.8/site-packages/statsmodels/tsa/statespace/sarimax.py:1897: RuntimeWarning: divide by zero encountered in reciprocal\n",
      "  return np.roots(self.polynomial_reduced_ma)**-1\n"
     ]
    },
    {
     "name": "stdout",
     "output_type": "stream",
     "text": [
      " ARIMA(2,0,1)(0,0,0)[0] intercept   : AIC=-2121.500, Time=2.14 sec\n",
      " ARIMA(3,0,2)(0,0,0)[0] intercept   : AIC=-3727.190, Time=6.01 sec\n",
      " ARIMA(3,0,1)(0,0,0)[0] intercept   : AIC=-3716.755, Time=5.80 sec\n"
     ]
    },
    {
     "name": "stderr",
     "output_type": "stream",
     "text": [
      "/home/ai/.local/lib/python3.8/site-packages/statsmodels/tsa/statespace/sarimax.py:1890: RuntimeWarning: divide by zero encountered in reciprocal\n",
      "  return np.roots(self.polynomial_reduced_ar)**-1\n",
      "/home/ai/.local/lib/python3.8/site-packages/statsmodels/tsa/statespace/sarimax.py:1897: RuntimeWarning: divide by zero encountered in reciprocal\n",
      "  return np.roots(self.polynomial_reduced_ma)**-1\n"
     ]
    },
    {
     "name": "stdout",
     "output_type": "stream",
     "text": [
      " ARIMA(4,0,2)(0,0,0)[0] intercept   : AIC=-2094.429, Time=2.50 sec\n"
     ]
    },
    {
     "name": "stderr",
     "output_type": "stream",
     "text": [
      "/home/ai/.local/lib/python3.8/site-packages/statsmodels/tsa/statespace/sarimax.py:1890: RuntimeWarning: divide by zero encountered in reciprocal\n",
      "  return np.roots(self.polynomial_reduced_ar)**-1\n",
      "/home/ai/.local/lib/python3.8/site-packages/statsmodels/tsa/statespace/sarimax.py:1897: RuntimeWarning: divide by zero encountered in reciprocal\n",
      "  return np.roots(self.polynomial_reduced_ma)**-1\n"
     ]
    },
    {
     "name": "stdout",
     "output_type": "stream",
     "text": [
      " ARIMA(3,0,3)(0,0,0)[0] intercept   : AIC=-2080.984, Time=2.48 sec\n",
      " ARIMA(2,0,3)(0,0,0)[0] intercept   : AIC=-3719.924, Time=5.91 sec\n",
      " ARIMA(4,0,1)(0,0,0)[0] intercept   : AIC=-3723.368, Time=6.13 sec\n"
     ]
    },
    {
     "name": "stderr",
     "output_type": "stream",
     "text": [
      "/home/ai/.local/lib/python3.8/site-packages/statsmodels/tsa/statespace/sarimax.py:1890: RuntimeWarning: divide by zero encountered in reciprocal\n",
      "  return np.roots(self.polynomial_reduced_ar)**-1\n",
      "/home/ai/.local/lib/python3.8/site-packages/statsmodels/tsa/statespace/sarimax.py:1897: RuntimeWarning: divide by zero encountered in reciprocal\n",
      "  return np.roots(self.polynomial_reduced_ma)**-1\n"
     ]
    },
    {
     "name": "stdout",
     "output_type": "stream",
     "text": [
      " ARIMA(4,0,3)(0,0,0)[0] intercept   : AIC=-2049.376, Time=2.53 sec\n",
      " ARIMA(3,0,2)(0,0,0)[0]             : AIC=-3729.079, Time=5.67 sec\n",
      " ARIMA(2,0,2)(0,0,0)[0]             : AIC=-3726.455, Time=5.97 sec\n",
      " ARIMA(3,0,1)(0,0,0)[0]             : AIC=-3718.731, Time=5.65 sec\n"
     ]
    },
    {
     "name": "stderr",
     "output_type": "stream",
     "text": [
      "/home/ai/.local/lib/python3.8/site-packages/statsmodels/tsa/statespace/sarimax.py:1890: RuntimeWarning: divide by zero encountered in reciprocal\n",
      "  return np.roots(self.polynomial_reduced_ar)**-1\n",
      "/home/ai/.local/lib/python3.8/site-packages/statsmodels/tsa/statespace/sarimax.py:1897: RuntimeWarning: divide by zero encountered in reciprocal\n",
      "  return np.roots(self.polynomial_reduced_ma)**-1\n"
     ]
    },
    {
     "name": "stdout",
     "output_type": "stream",
     "text": [
      " ARIMA(4,0,2)(0,0,0)[0]             : AIC=-2096.429, Time=2.45 sec\n"
     ]
    },
    {
     "name": "stderr",
     "output_type": "stream",
     "text": [
      "/home/ai/.local/lib/python3.8/site-packages/statsmodels/tsa/statespace/sarimax.py:1890: RuntimeWarning: divide by zero encountered in reciprocal\n",
      "  return np.roots(self.polynomial_reduced_ar)**-1\n",
      "/home/ai/.local/lib/python3.8/site-packages/statsmodels/tsa/statespace/sarimax.py:1897: RuntimeWarning: divide by zero encountered in reciprocal\n",
      "  return np.roots(self.polynomial_reduced_ma)**-1\n"
     ]
    },
    {
     "name": "stdout",
     "output_type": "stream",
     "text": [
      " ARIMA(3,0,3)(0,0,0)[0]             : AIC=-2082.985, Time=2.41 sec\n"
     ]
    },
    {
     "name": "stderr",
     "output_type": "stream",
     "text": [
      "/home/ai/.local/lib/python3.8/site-packages/statsmodels/tsa/statespace/sarimax.py:1890: RuntimeWarning: divide by zero encountered in reciprocal\n",
      "  return np.roots(self.polynomial_reduced_ar)**-1\n",
      "/home/ai/.local/lib/python3.8/site-packages/statsmodels/tsa/statespace/sarimax.py:1897: RuntimeWarning: divide by zero encountered in reciprocal\n",
      "  return np.roots(self.polynomial_reduced_ma)**-1\n"
     ]
    },
    {
     "name": "stdout",
     "output_type": "stream",
     "text": [
      " ARIMA(2,0,1)(0,0,0)[0]             : AIC=-2123.502, Time=2.09 sec\n",
      " ARIMA(2,0,3)(0,0,0)[0]             : AIC=-3721.904, Time=5.79 sec\n",
      " ARIMA(4,0,1)(0,0,0)[0]             : AIC=-3725.347, Time=5.90 sec\n"
     ]
    },
    {
     "name": "stderr",
     "output_type": "stream",
     "text": [
      "/home/ai/.local/lib/python3.8/site-packages/statsmodels/tsa/statespace/sarimax.py:1890: RuntimeWarning: divide by zero encountered in reciprocal\n",
      "  return np.roots(self.polynomial_reduced_ar)**-1\n",
      "/home/ai/.local/lib/python3.8/site-packages/statsmodels/tsa/statespace/sarimax.py:1897: RuntimeWarning: divide by zero encountered in reciprocal\n",
      "  return np.roots(self.polynomial_reduced_ma)**-1\n"
     ]
    },
    {
     "name": "stdout",
     "output_type": "stream",
     "text": [
      " ARIMA(4,0,3)(0,0,0)[0]             : AIC=-2051.376, Time=2.48 sec\n",
      "\n",
      "Best model:  ARIMA(3,0,2)(0,0,0)[0]          \n",
      "Total fit time: 94.968 seconds\n",
      "Performing stepwise search to minimize aic\n"
     ]
    },
    {
     "name": "stderr",
     "output_type": "stream",
     "text": [
      "/home/ai/.local/lib/python3.8/site-packages/statsmodels/tsa/statespace/sarimax.py:1890: RuntimeWarning: divide by zero encountered in reciprocal\n",
      "  return np.roots(self.polynomial_reduced_ar)**-1\n",
      "/home/ai/.local/lib/python3.8/site-packages/statsmodels/tsa/statespace/sarimax.py:1897: RuntimeWarning: divide by zero encountered in reciprocal\n",
      "  return np.roots(self.polynomial_reduced_ma)**-1\n"
     ]
    },
    {
     "name": "stdout",
     "output_type": "stream",
     "text": [
      " ARIMA(2,0,2)(0,0,0)[0] intercept   : AIC=-3085.575, Time=2.40 sec\n",
      " ARIMA(0,0,0)(0,0,0)[0] intercept   : AIC=-3678.896, Time=1.92 sec\n",
      " ARIMA(1,0,0)(0,0,0)[0] intercept   : AIC=-4461.767, Time=1.95 sec\n",
      " ARIMA(0,0,1)(0,0,0)[0] intercept   : AIC=-3879.844, Time=2.12 sec\n",
      " ARIMA(0,0,0)(0,0,0)[0]             : AIC=741.014, Time=1.88 sec\n",
      " ARIMA(2,0,0)(0,0,0)[0] intercept   : AIC=-4461.843, Time=2.11 sec\n",
      " ARIMA(3,0,0)(0,0,0)[0] intercept   : AIC=-4463.232, Time=2.42 sec\n",
      " ARIMA(4,0,0)(0,0,0)[0] intercept   : AIC=-4464.084, Time=2.52 sec\n",
      " ARIMA(5,0,0)(0,0,0)[0] intercept   : AIC=-4469.686, Time=2.85 sec\n",
      " ARIMA(5,0,1)(0,0,0)[0] intercept   : AIC=-4465.831, Time=2.86 sec\n",
      " ARIMA(4,0,1)(0,0,0)[0] intercept   : AIC=-4459.864, Time=2.58 sec\n",
      " ARIMA(5,0,0)(0,0,0)[0]             : AIC=-4471.682, Time=2.75 sec\n",
      " ARIMA(4,0,0)(0,0,0)[0]             : AIC=-4466.082, Time=2.42 sec\n",
      " ARIMA(5,0,1)(0,0,0)[0]             : AIC=-4467.828, Time=2.81 sec\n",
      " ARIMA(4,0,1)(0,0,0)[0]             : AIC=-4461.862, Time=2.41 sec\n",
      "\n",
      "Best model:  ARIMA(5,0,0)(0,0,0)[0]          \n",
      "Total fit time: 36.006 seconds\n",
      "Performing stepwise search to minimize aic\n",
      " ARIMA(2,0,2)(0,0,0)[0] intercept   : AIC=-3782.620, Time=6.61 sec\n",
      " ARIMA(0,0,0)(0,0,0)[0] intercept   : AIC=-3016.100, Time=1.96 sec\n",
      " ARIMA(1,0,0)(0,0,0)[0] intercept   : AIC=-3770.463, Time=4.84 sec\n",
      " ARIMA(0,0,1)(0,0,0)[0] intercept   : AIC=-3358.651, Time=2.07 sec\n",
      " ARIMA(0,0,0)(0,0,0)[0]             : AIC=1403.809, Time=1.86 sec\n",
      " ARIMA(1,0,2)(0,0,0)[0] intercept   : AIC=-3778.022, Time=5.60 sec\n"
     ]
    },
    {
     "name": "stderr",
     "output_type": "stream",
     "text": [
      "/home/ai/.local/lib/python3.8/site-packages/statsmodels/tsa/statespace/sarimax.py:1890: RuntimeWarning: divide by zero encountered in reciprocal\n",
      "  return np.roots(self.polynomial_reduced_ar)**-1\n",
      "/home/ai/.local/lib/python3.8/site-packages/statsmodels/tsa/statespace/sarimax.py:1897: RuntimeWarning: divide by zero encountered in reciprocal\n",
      "  return np.roots(self.polynomial_reduced_ma)**-1\n"
     ]
    },
    {
     "name": "stdout",
     "output_type": "stream",
     "text": [
      " ARIMA(2,0,1)(0,0,0)[0] intercept   : AIC=-2462.330, Time=2.19 sec\n",
      " ARIMA(3,0,2)(0,0,0)[0] intercept   : AIC=-3800.313, Time=2.56 sec\n",
      " ARIMA(3,0,1)(0,0,0)[0] intercept   : AIC=-3772.876, Time=5.76 sec\n"
     ]
    },
    {
     "name": "stderr",
     "output_type": "stream",
     "text": [
      "/home/ai/.local/lib/python3.8/site-packages/statsmodels/tsa/statespace/sarimax.py:1890: RuntimeWarning: divide by zero encountered in reciprocal\n",
      "  return np.roots(self.polynomial_reduced_ar)**-1\n",
      "/home/ai/.local/lib/python3.8/site-packages/statsmodels/tsa/statespace/sarimax.py:1897: RuntimeWarning: divide by zero encountered in reciprocal\n",
      "  return np.roots(self.polynomial_reduced_ma)**-1\n"
     ]
    },
    {
     "name": "stdout",
     "output_type": "stream",
     "text": [
      " ARIMA(4,0,2)(0,0,0)[0] intercept   : AIC=-2439.853, Time=2.59 sec\n",
      " ARIMA(3,0,3)(0,0,0)[0] intercept   : AIC=-3799.743, Time=2.62 sec\n"
     ]
    },
    {
     "name": "stderr",
     "output_type": "stream",
     "text": [
      "/home/ai/.local/lib/python3.8/site-packages/statsmodels/tsa/statespace/sarimax.py:1890: RuntimeWarning: divide by zero encountered in reciprocal\n",
      "  return np.roots(self.polynomial_reduced_ar)**-1\n",
      "/home/ai/.local/lib/python3.8/site-packages/statsmodels/tsa/statespace/sarimax.py:1897: RuntimeWarning: divide by zero encountered in reciprocal\n",
      "  return np.roots(self.polynomial_reduced_ma)**-1\n"
     ]
    },
    {
     "name": "stdout",
     "output_type": "stream",
     "text": [
      " ARIMA(2,0,3)(0,0,0)[0] intercept   : AIC=-2437.589, Time=2.51 sec\n",
      " ARIMA(4,0,1)(0,0,0)[0] intercept   : AIC=-3777.571, Time=6.28 sec\n",
      " ARIMA(4,0,3)(0,0,0)[0] intercept   : AIC=-3798.343, Time=2.59 sec\n",
      " ARIMA(3,0,2)(0,0,0)[0]             : AIC=-3807.906, Time=2.42 sec\n",
      " ARIMA(2,0,2)(0,0,0)[0]             : AIC=-3786.081, Time=6.44 sec\n",
      " ARIMA(3,0,1)(0,0,0)[0]             : AIC=-3775.197, Time=6.22 sec\n"
     ]
    },
    {
     "name": "stderr",
     "output_type": "stream",
     "text": [
      "/home/ai/.local/lib/python3.8/site-packages/statsmodels/tsa/statespace/sarimax.py:1890: RuntimeWarning: divide by zero encountered in reciprocal\n",
      "  return np.roots(self.polynomial_reduced_ar)**-1\n",
      "/home/ai/.local/lib/python3.8/site-packages/statsmodels/tsa/statespace/sarimax.py:1897: RuntimeWarning: divide by zero encountered in reciprocal\n",
      "  return np.roots(self.polynomial_reduced_ma)**-1\n"
     ]
    },
    {
     "name": "stdout",
     "output_type": "stream",
     "text": [
      " ARIMA(4,0,2)(0,0,0)[0]             : AIC=-2442.032, Time=2.53 sec\n",
      " ARIMA(3,0,3)(0,0,0)[0]             : AIC=-3808.070, Time=2.56 sec\n"
     ]
    },
    {
     "name": "stderr",
     "output_type": "stream",
     "text": [
      "/home/ai/.local/lib/python3.8/site-packages/statsmodels/tsa/statespace/sarimax.py:1890: RuntimeWarning: divide by zero encountered in reciprocal\n",
      "  return np.roots(self.polynomial_reduced_ar)**-1\n",
      "/home/ai/.local/lib/python3.8/site-packages/statsmodels/tsa/statespace/sarimax.py:1897: RuntimeWarning: divide by zero encountered in reciprocal\n",
      "  return np.roots(self.polynomial_reduced_ma)**-1\n"
     ]
    },
    {
     "name": "stdout",
     "output_type": "stream",
     "text": [
      " ARIMA(2,0,3)(0,0,0)[0]             : AIC=-2439.733, Time=2.42 sec\n",
      " ARIMA(4,0,3)(0,0,0)[0]             : AIC=-3804.900, Time=2.68 sec\n",
      " ARIMA(3,0,4)(0,0,0)[0]             : AIC=-3379.243, Time=6.67 sec\n"
     ]
    },
    {
     "name": "stderr",
     "output_type": "stream",
     "text": [
      "/home/ai/.local/lib/python3.8/site-packages/statsmodels/tsa/statespace/sarimax.py:1890: RuntimeWarning: divide by zero encountered in reciprocal\n",
      "  return np.roots(self.polynomial_reduced_ar)**-1\n",
      "/home/ai/.local/lib/python3.8/site-packages/statsmodels/tsa/statespace/sarimax.py:1897: RuntimeWarning: divide by zero encountered in reciprocal\n",
      "  return np.roots(self.polynomial_reduced_ma)**-1\n"
     ]
    },
    {
     "name": "stdout",
     "output_type": "stream",
     "text": [
      " ARIMA(2,0,4)(0,0,0)[0]             : AIC=-2424.744, Time=2.77 sec\n",
      " ARIMA(4,0,4)(0,0,0)[0]             : AIC=-3512.078, Time=6.89 sec\n",
      "\n",
      "Best model:  ARIMA(3,0,3)(0,0,0)[0]          \n",
      "Total fit time: 91.639 seconds\n",
      "Performing stepwise search to minimize aic\n",
      " ARIMA(2,0,2)(0,0,0)[0] intercept   : AIC=inf, Time=6.16 sec\n",
      " ARIMA(0,0,0)(0,0,0)[0] intercept   : AIC=-5343.945, Time=2.04 sec\n",
      " ARIMA(1,0,0)(0,0,0)[0] intercept   : AIC=-6011.818, Time=2.04 sec\n",
      " ARIMA(0,0,1)(0,0,0)[0] intercept   : AIC=-5650.513, Time=2.14 sec\n",
      " ARIMA(0,0,0)(0,0,0)[0]             : AIC=-924.036, Time=1.97 sec\n",
      " ARIMA(2,0,0)(0,0,0)[0] intercept   : AIC=-6012.648, Time=2.22 sec\n",
      " ARIMA(3,0,0)(0,0,0)[0] intercept   : AIC=-6015.029, Time=2.42 sec\n",
      " ARIMA(4,0,0)(0,0,0)[0] intercept   : AIC=-6015.785, Time=2.53 sec\n",
      " ARIMA(5,0,0)(0,0,0)[0] intercept   : AIC=-6017.484, Time=2.93 sec\n",
      " ARIMA(5,0,1)(0,0,0)[0] intercept   : AIC=-6013.111, Time=2.96 sec\n",
      " ARIMA(4,0,1)(0,0,0)[0] intercept   : AIC=-6012.375, Time=2.57 sec\n",
      " ARIMA(5,0,0)(0,0,0)[0]             : AIC=-6019.528, Time=2.85 sec\n",
      " ARIMA(4,0,0)(0,0,0)[0]             : AIC=-6017.814, Time=2.46 sec\n",
      " ARIMA(5,0,1)(0,0,0)[0]             : AIC=-6015.142, Time=2.95 sec\n",
      " ARIMA(4,0,1)(0,0,0)[0]             : AIC=-6014.395, Time=2.45 sec\n",
      "\n",
      "Best model:  ARIMA(5,0,0)(0,0,0)[0]          \n",
      "Total fit time: 40.695 seconds\n",
      "Performing stepwise search to minimize aic\n",
      " ARIMA(2,0,2)(0,0,0)[0] intercept   : AIC=-3676.371, Time=6.55 sec\n",
      " ARIMA(0,0,0)(0,0,0)[0] intercept   : AIC=-2758.396, Time=2.00 sec\n",
      " ARIMA(1,0,0)(0,0,0)[0] intercept   : AIC=-3654.520, Time=4.80 sec\n",
      " ARIMA(0,0,1)(0,0,0)[0] intercept   : AIC=-3011.184, Time=2.06 sec\n",
      " ARIMA(0,0,0)(0,0,0)[0]             : AIC=1661.513, Time=1.87 sec\n",
      " ARIMA(1,0,2)(0,0,0)[0] intercept   : AIC=-3669.169, Time=5.69 sec\n"
     ]
    },
    {
     "name": "stderr",
     "output_type": "stream",
     "text": [
      "/home/ai/.local/lib/python3.8/site-packages/statsmodels/tsa/statespace/sarimax.py:1890: RuntimeWarning: divide by zero encountered in reciprocal\n",
      "  return np.roots(self.polynomial_reduced_ar)**-1\n",
      "/home/ai/.local/lib/python3.8/site-packages/statsmodels/tsa/statespace/sarimax.py:1897: RuntimeWarning: divide by zero encountered in reciprocal\n",
      "  return np.roots(self.polynomial_reduced_ma)**-1\n"
     ]
    },
    {
     "name": "stdout",
     "output_type": "stream",
     "text": [
      " ARIMA(2,0,1)(0,0,0)[0] intercept   : AIC=-1934.297, Time=7.15 sec\n",
      " ARIMA(3,0,2)(0,0,0)[0] intercept   : AIC=-3674.311, Time=7.04 sec\n",
      " ARIMA(2,0,3)(0,0,0)[0] intercept   : AIC=-3674.264, Time=6.71 sec\n",
      " ARIMA(1,0,1)(0,0,0)[0] intercept   : AIC=-3660.980, Time=5.29 sec\n",
      " ARIMA(1,0,3)(0,0,0)[0] intercept   : AIC=-3677.577, Time=6.23 sec\n",
      " ARIMA(0,0,3)(0,0,0)[0] intercept   : AIC=-3479.918, Time=2.39 sec\n",
      " ARIMA(1,0,4)(0,0,0)[0] intercept   : AIC=-3669.238, Time=6.59 sec\n",
      " ARIMA(0,0,2)(0,0,0)[0] intercept   : AIC=-3183.429, Time=6.26 sec\n",
      " ARIMA(0,0,4)(0,0,0)[0] intercept   : AIC=-3599.847, Time=7.31 sec\n"
     ]
    },
    {
     "name": "stderr",
     "output_type": "stream",
     "text": [
      "/home/ai/.local/lib/python3.8/site-packages/statsmodels/tsa/statespace/sarimax.py:1890: RuntimeWarning: divide by zero encountered in reciprocal\n",
      "  return np.roots(self.polynomial_reduced_ar)**-1\n",
      "/home/ai/.local/lib/python3.8/site-packages/statsmodels/tsa/statespace/sarimax.py:1897: RuntimeWarning: divide by zero encountered in reciprocal\n",
      "  return np.roots(self.polynomial_reduced_ma)**-1\n"
     ]
    },
    {
     "name": "stdout",
     "output_type": "stream",
     "text": [
      " ARIMA(2,0,4)(0,0,0)[0] intercept   : AIC=-1917.545, Time=2.95 sec\n",
      " ARIMA(1,0,3)(0,0,0)[0]             : AIC=-3679.610, Time=6.26 sec\n",
      " ARIMA(0,0,3)(0,0,0)[0]             : AIC=-3481.920, Time=2.37 sec\n",
      " ARIMA(1,0,2)(0,0,0)[0]             : AIC=-3671.171, Time=5.51 sec\n",
      " ARIMA(2,0,3)(0,0,0)[0]             : AIC=-3676.315, Time=6.14 sec\n",
      " ARIMA(1,0,4)(0,0,0)[0]             : AIC=-3671.222, Time=6.48 sec\n",
      " ARIMA(0,0,2)(0,0,0)[0]             : AIC=-3185.465, Time=5.60 sec\n",
      " ARIMA(0,0,4)(0,0,0)[0]             : AIC=-3601.822, Time=6.77 sec\n",
      " ARIMA(2,0,2)(0,0,0)[0]             : AIC=-3678.445, Time=6.26 sec\n"
     ]
    },
    {
     "name": "stderr",
     "output_type": "stream",
     "text": [
      "/home/ai/.local/lib/python3.8/site-packages/statsmodels/tsa/statespace/sarimax.py:1890: RuntimeWarning: divide by zero encountered in reciprocal\n",
      "  return np.roots(self.polynomial_reduced_ar)**-1\n",
      "/home/ai/.local/lib/python3.8/site-packages/statsmodels/tsa/statespace/sarimax.py:1897: RuntimeWarning: divide by zero encountered in reciprocal\n",
      "  return np.roots(self.polynomial_reduced_ma)**-1\n"
     ]
    },
    {
     "name": "stdout",
     "output_type": "stream",
     "text": [
      " ARIMA(2,0,4)(0,0,0)[0]             : AIC=-1919.550, Time=2.77 sec\n",
      "\n",
      "Best model:  ARIMA(1,0,3)(0,0,0)[0]          \n",
      "Total fit time: 129.074 seconds\n",
      "Performing stepwise search to minimize aic\n"
     ]
    },
    {
     "name": "stderr",
     "output_type": "stream",
     "text": [
      "/home/ai/.local/lib/python3.8/site-packages/statsmodels/tsa/statespace/sarimax.py:1890: RuntimeWarning: divide by zero encountered in reciprocal\n",
      "  return np.roots(self.polynomial_reduced_ar)**-1\n",
      "/home/ai/.local/lib/python3.8/site-packages/statsmodels/tsa/statespace/sarimax.py:1897: RuntimeWarning: divide by zero encountered in reciprocal\n",
      "  return np.roots(self.polynomial_reduced_ma)**-1\n"
     ]
    },
    {
     "name": "stdout",
     "output_type": "stream",
     "text": [
      " ARIMA(2,0,2)(0,0,0)[0] intercept   : AIC=-2901.706, Time=2.55 sec\n",
      " ARIMA(0,0,0)(0,0,0)[0] intercept   : AIC=-3546.794, Time=2.36 sec\n",
      " ARIMA(1,0,0)(0,0,0)[0] intercept   : AIC=-4344.884, Time=2.07 sec\n",
      " ARIMA(0,0,1)(0,0,0)[0] intercept   : AIC=-3785.768, Time=2.18 sec\n",
      " ARIMA(0,0,0)(0,0,0)[0]             : AIC=873.115, Time=1.88 sec\n",
      " ARIMA(2,0,0)(0,0,0)[0] intercept   : AIC=-4345.000, Time=2.12 sec\n",
      " ARIMA(3,0,0)(0,0,0)[0] intercept   : AIC=-4347.467, Time=2.40 sec\n",
      " ARIMA(4,0,0)(0,0,0)[0] intercept   : AIC=-4353.590, Time=2.46 sec\n",
      " ARIMA(5,0,0)(0,0,0)[0] intercept   : AIC=-4361.653, Time=2.80 sec\n",
      " ARIMA(5,0,1)(0,0,0)[0] intercept   : AIC=-4357.479, Time=2.90 sec\n",
      " ARIMA(4,0,1)(0,0,0)[0] intercept   : AIC=-4346.646, Time=2.55 sec\n",
      " ARIMA(5,0,0)(0,0,0)[0]             : AIC=-4363.656, Time=2.72 sec\n",
      " ARIMA(4,0,0)(0,0,0)[0]             : AIC=-4355.594, Time=2.42 sec\n",
      " ARIMA(5,0,1)(0,0,0)[0]             : AIC=-4359.481, Time=2.87 sec\n",
      " ARIMA(4,0,1)(0,0,0)[0]             : AIC=-4348.649, Time=2.54 sec\n",
      "\n",
      "Best model:  ARIMA(5,0,0)(0,0,0)[0]          \n",
      "Total fit time: 36.830 seconds\n",
      "Performing stepwise search to minimize aic\n",
      " ARIMA(2,0,2)(0,0,0)[0] intercept   : AIC=-8853.436, Time=2.46 sec\n",
      " ARIMA(0,0,0)(0,0,0)[0] intercept   : AIC=-8187.990, Time=1.94 sec\n",
      " ARIMA(1,0,0)(0,0,0)[0] intercept   : AIC=-8830.718, Time=1.98 sec\n",
      " ARIMA(0,0,1)(0,0,0)[0] intercept   : AIC=-8386.701, Time=2.10 sec\n",
      " ARIMA(0,0,0)(0,0,0)[0]             : AIC=-3768.081, Time=1.89 sec\n",
      " ARIMA(1,0,2)(0,0,0)[0] intercept   : AIC=-8847.706, Time=2.42 sec\n",
      " ARIMA(2,0,1)(0,0,0)[0] intercept   : AIC=-8850.948, Time=2.42 sec\n"
     ]
    },
    {
     "name": "stderr",
     "output_type": "stream",
     "text": [
      "/home/ai/.local/lib/python3.8/site-packages/statsmodels/tsa/statespace/sarimax.py:1890: RuntimeWarning: divide by zero encountered in reciprocal\n",
      "  return np.roots(self.polynomial_reduced_ar)**-1\n",
      "/home/ai/.local/lib/python3.8/site-packages/statsmodels/tsa/statespace/sarimax.py:1897: RuntimeWarning: divide by zero encountered in reciprocal\n",
      "  return np.roots(self.polynomial_reduced_ma)**-1\n"
     ]
    },
    {
     "name": "stdout",
     "output_type": "stream",
     "text": [
      " ARIMA(3,0,2)(0,0,0)[0] intercept   : AIC=-7794.298, Time=2.55 sec\n",
      " ARIMA(2,0,3)(0,0,0)[0] intercept   : AIC=-8844.280, Time=2.51 sec\n",
      " ARIMA(1,0,1)(0,0,0)[0] intercept   : AIC=-8845.008, Time=2.13 sec\n",
      " ARIMA(1,0,3)(0,0,0)[0] intercept   : AIC=-8845.614, Time=2.49 sec\n",
      " ARIMA(3,0,1)(0,0,0)[0] intercept   : AIC=-8847.541, Time=2.47 sec\n",
      " ARIMA(3,0,3)(0,0,0)[0] intercept   : AIC=-8848.122, Time=2.58 sec\n",
      " ARIMA(2,0,2)(0,0,0)[0]             : AIC=-8855.607, Time=2.35 sec\n",
      " ARIMA(1,0,2)(0,0,0)[0]             : AIC=-8849.720, Time=2.32 sec\n",
      " ARIMA(2,0,1)(0,0,0)[0]             : AIC=-8852.975, Time=2.18 sec\n"
     ]
    },
    {
     "name": "stderr",
     "output_type": "stream",
     "text": [
      "/home/ai/.local/lib/python3.8/site-packages/statsmodels/tsa/statespace/sarimax.py:1890: RuntimeWarning: divide by zero encountered in reciprocal\n",
      "  return np.roots(self.polynomial_reduced_ar)**-1\n",
      "/home/ai/.local/lib/python3.8/site-packages/statsmodels/tsa/statespace/sarimax.py:1897: RuntimeWarning: divide by zero encountered in reciprocal\n",
      "  return np.roots(self.polynomial_reduced_ma)**-1\n"
     ]
    },
    {
     "name": "stdout",
     "output_type": "stream",
     "text": [
      " ARIMA(3,0,2)(0,0,0)[0]             : AIC=-7796.337, Time=2.40 sec\n",
      " ARIMA(2,0,3)(0,0,0)[0]             : AIC=-8846.306, Time=2.45 sec\n",
      " ARIMA(1,0,1)(0,0,0)[0]             : AIC=-8847.019, Time=2.07 sec\n",
      " ARIMA(1,0,3)(0,0,0)[0]             : AIC=-8847.628, Time=2.43 sec\n",
      " ARIMA(3,0,1)(0,0,0)[0]             : AIC=-8849.549, Time=2.46 sec\n",
      " ARIMA(3,0,3)(0,0,0)[0]             : AIC=-8850.161, Time=2.47 sec\n",
      "\n",
      "Best model:  ARIMA(2,0,2)(0,0,0)[0]          \n",
      "Total fit time: 51.091 seconds\n",
      "Performing stepwise search to minimize aic\n"
     ]
    },
    {
     "name": "stderr",
     "output_type": "stream",
     "text": [
      "/home/ai/.local/lib/python3.8/site-packages/statsmodels/tsa/statespace/sarimax.py:1890: RuntimeWarning: divide by zero encountered in reciprocal\n",
      "  return np.roots(self.polynomial_reduced_ar)**-1\n",
      "/home/ai/.local/lib/python3.8/site-packages/statsmodels/tsa/statespace/sarimax.py:1897: RuntimeWarning: divide by zero encountered in reciprocal\n",
      "  return np.roots(self.polynomial_reduced_ma)**-1\n"
     ]
    },
    {
     "name": "stdout",
     "output_type": "stream",
     "text": [
      " ARIMA(2,0,2)(0,0,0)[0] intercept   : AIC=-5744.550, Time=2.43 sec\n",
      " ARIMA(0,0,0)(0,0,0)[0] intercept   : AIC=-6076.091, Time=1.91 sec\n",
      " ARIMA(1,0,0)(0,0,0)[0] intercept   : AIC=-6682.408, Time=1.98 sec\n",
      " ARIMA(0,0,1)(0,0,0)[0] intercept   : AIC=-6383.844, Time=2.08 sec\n",
      " ARIMA(0,0,0)(0,0,0)[0]             : AIC=-1656.182, Time=1.87 sec\n",
      " ARIMA(2,0,0)(0,0,0)[0] intercept   : AIC=-6683.523, Time=2.12 sec\n",
      " ARIMA(3,0,0)(0,0,0)[0] intercept   : AIC=-6684.382, Time=2.36 sec\n",
      " ARIMA(4,0,0)(0,0,0)[0] intercept   : AIC=-6684.029, Time=2.46 sec\n",
      " ARIMA(3,0,1)(0,0,0)[0] intercept   : AIC=-6681.354, Time=2.43 sec\n",
      " ARIMA(2,0,1)(0,0,0)[0] intercept   : AIC=-6699.175, Time=2.20 sec\n",
      " ARIMA(1,0,1)(0,0,0)[0] intercept   : AIC=-6683.067, Time=2.12 sec\n",
      " ARIMA(1,0,2)(0,0,0)[0] intercept   : AIC=-6683.194, Time=2.54 sec\n"
     ]
    },
    {
     "name": "stderr",
     "output_type": "stream",
     "text": [
      "/home/ai/.local/lib/python3.8/site-packages/statsmodels/tsa/statespace/sarimax.py:1890: RuntimeWarning: divide by zero encountered in reciprocal\n",
      "  return np.roots(self.polynomial_reduced_ar)**-1\n",
      "/home/ai/.local/lib/python3.8/site-packages/statsmodels/tsa/statespace/sarimax.py:1897: RuntimeWarning: divide by zero encountered in reciprocal\n",
      "  return np.roots(self.polynomial_reduced_ma)**-1\n"
     ]
    },
    {
     "name": "stdout",
     "output_type": "stream",
     "text": [
      " ARIMA(3,0,2)(0,0,0)[0] intercept   : AIC=-5740.352, Time=2.55 sec\n",
      " ARIMA(2,0,1)(0,0,0)[0]             : AIC=-6709.330, Time=2.16 sec\n",
      " ARIMA(1,0,1)(0,0,0)[0]             : AIC=-6685.096, Time=2.06 sec\n",
      " ARIMA(2,0,0)(0,0,0)[0]             : AIC=-6685.550, Time=2.05 sec\n",
      " ARIMA(3,0,1)(0,0,0)[0]             : AIC=-6683.373, Time=2.36 sec\n"
     ]
    },
    {
     "name": "stderr",
     "output_type": "stream",
     "text": [
      "/home/ai/.local/lib/python3.8/site-packages/statsmodels/tsa/statespace/sarimax.py:1890: RuntimeWarning: divide by zero encountered in reciprocal\n",
      "  return np.roots(self.polynomial_reduced_ar)**-1\n",
      "/home/ai/.local/lib/python3.8/site-packages/statsmodels/tsa/statespace/sarimax.py:1897: RuntimeWarning: divide by zero encountered in reciprocal\n",
      "  return np.roots(self.polynomial_reduced_ma)**-1\n"
     ]
    },
    {
     "name": "stdout",
     "output_type": "stream",
     "text": [
      " ARIMA(2,0,2)(0,0,0)[0]             : AIC=-5746.602, Time=2.33 sec\n",
      " ARIMA(1,0,0)(0,0,0)[0]             : AIC=-6684.427, Time=1.98 sec\n",
      " ARIMA(1,0,2)(0,0,0)[0]             : AIC=-6685.219, Time=2.38 sec\n",
      " ARIMA(3,0,0)(0,0,0)[0]             : AIC=-6686.411, Time=2.30 sec\n"
     ]
    },
    {
     "name": "stderr",
     "output_type": "stream",
     "text": [
      "/home/ai/.local/lib/python3.8/site-packages/statsmodels/tsa/statespace/sarimax.py:1890: RuntimeWarning: divide by zero encountered in reciprocal\n",
      "  return np.roots(self.polynomial_reduced_ar)**-1\n",
      "/home/ai/.local/lib/python3.8/site-packages/statsmodels/tsa/statespace/sarimax.py:1897: RuntimeWarning: divide by zero encountered in reciprocal\n",
      "  return np.roots(self.polynomial_reduced_ma)**-1\n"
     ]
    },
    {
     "name": "stdout",
     "output_type": "stream",
     "text": [
      " ARIMA(3,0,2)(0,0,0)[0]             : AIC=-5742.404, Time=2.41 sec\n",
      "\n",
      "Best model:  ARIMA(2,0,1)(0,0,0)[0]          \n",
      "Total fit time: 49.104 seconds\n",
      "Performing stepwise search to minimize aic\n",
      " ARIMA(2,0,2)(0,0,0)[0] intercept   : AIC=-5532.905, Time=2.42 sec\n",
      " ARIMA(0,0,0)(0,0,0)[0] intercept   : AIC=-4936.799, Time=1.92 sec\n",
      " ARIMA(1,0,0)(0,0,0)[0] intercept   : AIC=-5521.045, Time=1.99 sec\n",
      " ARIMA(0,0,1)(0,0,0)[0] intercept   : AIC=-5250.118, Time=2.10 sec\n",
      " ARIMA(0,0,0)(0,0,0)[0]             : AIC=-516.890, Time=1.89 sec\n",
      " ARIMA(1,0,2)(0,0,0)[0] intercept   : AIC=-5522.417, Time=2.35 sec\n"
     ]
    },
    {
     "name": "stderr",
     "output_type": "stream",
     "text": [
      "/home/ai/.local/lib/python3.8/site-packages/statsmodels/tsa/statespace/sarimax.py:1890: RuntimeWarning: divide by zero encountered in reciprocal\n",
      "  return np.roots(self.polynomial_reduced_ar)**-1\n",
      "/home/ai/.local/lib/python3.8/site-packages/statsmodels/tsa/statespace/sarimax.py:1897: RuntimeWarning: divide by zero encountered in reciprocal\n",
      "  return np.roots(self.polynomial_reduced_ma)**-1\n"
     ]
    },
    {
     "name": "stdout",
     "output_type": "stream",
     "text": [
      " ARIMA(2,0,1)(0,0,0)[0] intercept   : AIC=-4635.680, Time=2.19 sec\n",
      " ARIMA(3,0,2)(0,0,0)[0] intercept   : AIC=-5535.058, Time=2.48 sec\n",
      " ARIMA(3,0,1)(0,0,0)[0] intercept   : AIC=-5519.916, Time=2.42 sec\n",
      " ARIMA(4,0,2)(0,0,0)[0] intercept   : AIC=-5527.025, Time=2.56 sec\n",
      " ARIMA(3,0,3)(0,0,0)[0] intercept   : AIC=-5523.739, Time=2.54 sec\n",
      " ARIMA(2,0,3)(0,0,0)[0] intercept   : AIC=-5526.244, Time=2.54 sec\n",
      " ARIMA(4,0,1)(0,0,0)[0] intercept   : AIC=-5522.784, Time=2.50 sec\n"
     ]
    },
    {
     "name": "stderr",
     "output_type": "stream",
     "text": [
      "/home/ai/.local/lib/python3.8/site-packages/statsmodels/tsa/statespace/sarimax.py:1890: RuntimeWarning: divide by zero encountered in reciprocal\n",
      "  return np.roots(self.polynomial_reduced_ar)**-1\n",
      "/home/ai/.local/lib/python3.8/site-packages/statsmodels/tsa/statespace/sarimax.py:1897: RuntimeWarning: divide by zero encountered in reciprocal\n",
      "  return np.roots(self.polynomial_reduced_ma)**-1\n"
     ]
    },
    {
     "name": "stdout",
     "output_type": "stream",
     "text": [
      " ARIMA(4,0,3)(0,0,0)[0] intercept   : AIC=-4624.623, Time=2.58 sec\n",
      " ARIMA(3,0,2)(0,0,0)[0]             : AIC=-5537.512, Time=2.39 sec\n",
      " ARIMA(2,0,2)(0,0,0)[0]             : AIC=-5535.361, Time=2.38 sec\n",
      " ARIMA(3,0,1)(0,0,0)[0]             : AIC=-5521.929, Time=2.48 sec\n",
      " ARIMA(4,0,2)(0,0,0)[0]             : AIC=-5529.126, Time=2.65 sec\n",
      " ARIMA(3,0,3)(0,0,0)[0]             : AIC=-5525.924, Time=2.47 sec\n"
     ]
    },
    {
     "name": "stderr",
     "output_type": "stream",
     "text": [
      "/home/ai/.local/lib/python3.8/site-packages/statsmodels/tsa/statespace/sarimax.py:1890: RuntimeWarning: divide by zero encountered in reciprocal\n",
      "  return np.roots(self.polynomial_reduced_ar)**-1\n",
      "/home/ai/.local/lib/python3.8/site-packages/statsmodels/tsa/statespace/sarimax.py:1897: RuntimeWarning: divide by zero encountered in reciprocal\n",
      "  return np.roots(self.polynomial_reduced_ma)**-1\n"
     ]
    },
    {
     "name": "stdout",
     "output_type": "stream",
     "text": [
      " ARIMA(2,0,1)(0,0,0)[0]             : AIC=-4637.711, Time=2.12 sec\n",
      " ARIMA(2,0,3)(0,0,0)[0]             : AIC=-5528.376, Time=2.43 sec\n",
      " ARIMA(4,0,1)(0,0,0)[0]             : AIC=-5524.798, Time=2.51 sec\n"
     ]
    },
    {
     "name": "stderr",
     "output_type": "stream",
     "text": [
      "/home/ai/.local/lib/python3.8/site-packages/statsmodels/tsa/statespace/sarimax.py:1890: RuntimeWarning: divide by zero encountered in reciprocal\n",
      "  return np.roots(self.polynomial_reduced_ar)**-1\n",
      "/home/ai/.local/lib/python3.8/site-packages/statsmodels/tsa/statespace/sarimax.py:1897: RuntimeWarning: divide by zero encountered in reciprocal\n",
      "  return np.roots(self.polynomial_reduced_ma)**-1\n"
     ]
    },
    {
     "name": "stdout",
     "output_type": "stream",
     "text": [
      " ARIMA(4,0,3)(0,0,0)[0]             : AIC=-4626.669, Time=2.60 sec\n",
      "\n",
      "Best model:  ARIMA(3,0,2)(0,0,0)[0]          \n",
      "Total fit time: 54.510 seconds\n",
      "Performing stepwise search to minimize aic\n",
      " ARIMA(2,0,2)(0,0,0)[0] intercept   : AIC=-3964.073, Time=2.44 sec\n",
      " ARIMA(0,0,0)(0,0,0)[0] intercept   : AIC=-3266.000, Time=1.94 sec\n",
      " ARIMA(1,0,0)(0,0,0)[0] intercept   : AIC=-3955.744, Time=5.30 sec\n",
      " ARIMA(0,0,1)(0,0,0)[0] intercept   : AIC=-3600.087, Time=2.08 sec\n",
      " ARIMA(0,0,0)(0,0,0)[0]             : AIC=1153.909, Time=1.87 sec\n",
      " ARIMA(1,0,2)(0,0,0)[0] intercept   : AIC=-3959.792, Time=6.32 sec\n"
     ]
    },
    {
     "name": "stderr",
     "output_type": "stream",
     "text": [
      "/home/ai/.local/lib/python3.8/site-packages/statsmodels/tsa/statespace/sarimax.py:1890: RuntimeWarning: divide by zero encountered in reciprocal\n",
      "  return np.roots(self.polynomial_reduced_ar)**-1\n",
      "/home/ai/.local/lib/python3.8/site-packages/statsmodels/tsa/statespace/sarimax.py:1897: RuntimeWarning: divide by zero encountered in reciprocal\n",
      "  return np.roots(self.polynomial_reduced_ma)**-1\n"
     ]
    },
    {
     "name": "stdout",
     "output_type": "stream",
     "text": [
      " ARIMA(2,0,1)(0,0,0)[0] intercept   : AIC=-2832.920, Time=2.18 sec\n",
      " ARIMA(3,0,2)(0,0,0)[0] intercept   : AIC=-3961.430, Time=2.48 sec\n",
      " ARIMA(2,0,3)(0,0,0)[0] intercept   : AIC=-3961.266, Time=2.51 sec\n",
      " ARIMA(1,0,1)(0,0,0)[0] intercept   : AIC=-3956.071, Time=5.26 sec\n",
      " ARIMA(1,0,3)(0,0,0)[0] intercept   : AIC=-3963.048, Time=2.44 sec\n",
      " ARIMA(3,0,1)(0,0,0)[0] intercept   : AIC=-3953.333, Time=6.27 sec\n",
      " ARIMA(3,0,3)(0,0,0)[0] intercept   : AIC=-3961.154, Time=2.55 sec\n",
      " ARIMA(2,0,2)(0,0,0)[0]             : AIC=-3966.075, Time=2.35 sec\n",
      " ARIMA(1,0,2)(0,0,0)[0]             : AIC=-3961.797, Time=6.03 sec\n"
     ]
    },
    {
     "name": "stderr",
     "output_type": "stream",
     "text": [
      "/home/ai/.local/lib/python3.8/site-packages/statsmodels/tsa/statespace/sarimax.py:1890: RuntimeWarning: divide by zero encountered in reciprocal\n",
      "  return np.roots(self.polynomial_reduced_ar)**-1\n",
      "/home/ai/.local/lib/python3.8/site-packages/statsmodels/tsa/statespace/sarimax.py:1897: RuntimeWarning: divide by zero encountered in reciprocal\n",
      "  return np.roots(self.polynomial_reduced_ma)**-1\n"
     ]
    },
    {
     "name": "stdout",
     "output_type": "stream",
     "text": [
      " ARIMA(2,0,1)(0,0,0)[0]             : AIC=-2834.920, Time=2.11 sec\n",
      " ARIMA(3,0,2)(0,0,0)[0]             : AIC=-3963.431, Time=2.41 sec\n",
      " ARIMA(2,0,3)(0,0,0)[0]             : AIC=-3963.267, Time=2.42 sec\n",
      " ARIMA(1,0,1)(0,0,0)[0]             : AIC=-3958.113, Time=4.91 sec\n",
      " ARIMA(1,0,3)(0,0,0)[0]             : AIC=-3965.048, Time=2.41 sec\n",
      " ARIMA(3,0,1)(0,0,0)[0]             : AIC=-3955.363, Time=5.91 sec\n",
      " ARIMA(3,0,3)(0,0,0)[0]             : AIC=-3963.155, Time=2.59 sec\n",
      "\n",
      "Best model:  ARIMA(2,0,2)(0,0,0)[0]          \n",
      "Total fit time: 74.800 seconds\n",
      "Performing stepwise search to minimize aic\n",
      " ARIMA(2,0,2)(0,0,0)[0] intercept   : AIC=-4292.050, Time=2.49 sec\n",
      " ARIMA(0,0,0)(0,0,0)[0] intercept   : AIC=-3514.494, Time=1.93 sec\n",
      " ARIMA(1,0,0)(0,0,0)[0] intercept   : AIC=-4245.169, Time=2.00 sec\n",
      " ARIMA(0,0,1)(0,0,0)[0] intercept   : AIC=-3866.798, Time=2.11 sec\n",
      " ARIMA(0,0,0)(0,0,0)[0]             : AIC=905.415, Time=1.89 sec\n",
      " ARIMA(1,0,2)(0,0,0)[0] intercept   : AIC=-4276.844, Time=2.41 sec\n"
     ]
    },
    {
     "name": "stderr",
     "output_type": "stream",
     "text": [
      "/home/ai/.local/lib/python3.8/site-packages/statsmodels/tsa/statespace/sarimax.py:1890: RuntimeWarning: divide by zero encountered in reciprocal\n",
      "  return np.roots(self.polynomial_reduced_ar)**-1\n",
      "/home/ai/.local/lib/python3.8/site-packages/statsmodels/tsa/statespace/sarimax.py:1897: RuntimeWarning: divide by zero encountered in reciprocal\n",
      "  return np.roots(self.polynomial_reduced_ma)**-1\n"
     ]
    },
    {
     "name": "stdout",
     "output_type": "stream",
     "text": [
      " ARIMA(2,0,1)(0,0,0)[0] intercept   : AIC=-2968.021, Time=2.20 sec\n",
      " ARIMA(3,0,2)(0,0,0)[0] intercept   : AIC=-4298.795, Time=2.49 sec\n",
      " ARIMA(3,0,1)(0,0,0)[0] intercept   : AIC=-4264.941, Time=2.44 sec\n"
     ]
    },
    {
     "name": "stderr",
     "output_type": "stream",
     "text": [
      "/home/ai/.local/lib/python3.8/site-packages/statsmodels/tsa/statespace/sarimax.py:1890: RuntimeWarning: divide by zero encountered in reciprocal\n",
      "  return np.roots(self.polynomial_reduced_ar)**-1\n",
      "/home/ai/.local/lib/python3.8/site-packages/statsmodels/tsa/statespace/sarimax.py:1897: RuntimeWarning: divide by zero encountered in reciprocal\n",
      "  return np.roots(self.polynomial_reduced_ma)**-1\n"
     ]
    },
    {
     "name": "stdout",
     "output_type": "stream",
     "text": [
      " ARIMA(4,0,2)(0,0,0)[0] intercept   : AIC=-2915.710, Time=2.59 sec\n"
     ]
    },
    {
     "name": "stderr",
     "output_type": "stream",
     "text": [
      "/home/ai/.local/lib/python3.8/site-packages/statsmodels/tsa/statespace/sarimax.py:1890: RuntimeWarning: divide by zero encountered in reciprocal\n",
      "  return np.roots(self.polynomial_reduced_ar)**-1\n",
      "/home/ai/.local/lib/python3.8/site-packages/statsmodels/tsa/statespace/sarimax.py:1897: RuntimeWarning: divide by zero encountered in reciprocal\n",
      "  return np.roots(self.polynomial_reduced_ma)**-1\n"
     ]
    },
    {
     "name": "stdout",
     "output_type": "stream",
     "text": [
      " ARIMA(3,0,3)(0,0,0)[0] intercept   : AIC=-2878.647, Time=2.61 sec\n",
      " ARIMA(2,0,3)(0,0,0)[0] intercept   : AIC=-4280.388, Time=2.53 sec\n",
      " ARIMA(4,0,1)(0,0,0)[0] intercept   : AIC=-4288.929, Time=2.57 sec\n"
     ]
    },
    {
     "name": "stderr",
     "output_type": "stream",
     "text": [
      "/home/ai/.local/lib/python3.8/site-packages/statsmodels/tsa/statespace/sarimax.py:1890: RuntimeWarning: divide by zero encountered in reciprocal\n",
      "  return np.roots(self.polynomial_reduced_ar)**-1\n",
      "/home/ai/.local/lib/python3.8/site-packages/statsmodels/tsa/statespace/sarimax.py:1897: RuntimeWarning: divide by zero encountered in reciprocal\n",
      "  return np.roots(self.polynomial_reduced_ma)**-1\n"
     ]
    },
    {
     "name": "stdout",
     "output_type": "stream",
     "text": [
      " ARIMA(4,0,3)(0,0,0)[0] intercept   : AIC=-2814.403, Time=2.62 sec\n",
      " ARIMA(3,0,2)(0,0,0)[0]             : AIC=-4300.798, Time=2.48 sec\n",
      " ARIMA(2,0,2)(0,0,0)[0]             : AIC=-4294.052, Time=2.48 sec\n",
      " ARIMA(3,0,1)(0,0,0)[0]             : AIC=-4266.944, Time=2.49 sec\n"
     ]
    },
    {
     "name": "stderr",
     "output_type": "stream",
     "text": [
      "/home/ai/.local/lib/python3.8/site-packages/statsmodels/tsa/statespace/sarimax.py:1890: RuntimeWarning: divide by zero encountered in reciprocal\n",
      "  return np.roots(self.polynomial_reduced_ar)**-1\n",
      "/home/ai/.local/lib/python3.8/site-packages/statsmodels/tsa/statespace/sarimax.py:1897: RuntimeWarning: divide by zero encountered in reciprocal\n",
      "  return np.roots(self.polynomial_reduced_ma)**-1\n"
     ]
    },
    {
     "name": "stdout",
     "output_type": "stream",
     "text": [
      " ARIMA(4,0,2)(0,0,0)[0]             : AIC=-2917.710, Time=2.56 sec\n"
     ]
    },
    {
     "name": "stderr",
     "output_type": "stream",
     "text": [
      "/home/ai/.local/lib/python3.8/site-packages/statsmodels/tsa/statespace/sarimax.py:1890: RuntimeWarning: divide by zero encountered in reciprocal\n",
      "  return np.roots(self.polynomial_reduced_ar)**-1\n",
      "/home/ai/.local/lib/python3.8/site-packages/statsmodels/tsa/statespace/sarimax.py:1897: RuntimeWarning: divide by zero encountered in reciprocal\n",
      "  return np.roots(self.polynomial_reduced_ma)**-1\n"
     ]
    },
    {
     "name": "stdout",
     "output_type": "stream",
     "text": [
      " ARIMA(3,0,3)(0,0,0)[0]             : AIC=-2880.649, Time=2.51 sec\n"
     ]
    },
    {
     "name": "stderr",
     "output_type": "stream",
     "text": [
      "/home/ai/.local/lib/python3.8/site-packages/statsmodels/tsa/statespace/sarimax.py:1890: RuntimeWarning: divide by zero encountered in reciprocal\n",
      "  return np.roots(self.polynomial_reduced_ar)**-1\n",
      "/home/ai/.local/lib/python3.8/site-packages/statsmodels/tsa/statespace/sarimax.py:1897: RuntimeWarning: divide by zero encountered in reciprocal\n",
      "  return np.roots(self.polynomial_reduced_ma)**-1\n"
     ]
    },
    {
     "name": "stdout",
     "output_type": "stream",
     "text": [
      " ARIMA(2,0,1)(0,0,0)[0]             : AIC=-2970.023, Time=2.16 sec\n",
      " ARIMA(2,0,3)(0,0,0)[0]             : AIC=-4282.390, Time=2.45 sec\n",
      " ARIMA(4,0,1)(0,0,0)[0]             : AIC=-4290.930, Time=2.54 sec\n"
     ]
    },
    {
     "name": "stderr",
     "output_type": "stream",
     "text": [
      "/home/ai/.local/lib/python3.8/site-packages/statsmodels/tsa/statespace/sarimax.py:1890: RuntimeWarning: divide by zero encountered in reciprocal\n",
      "  return np.roots(self.polynomial_reduced_ar)**-1\n",
      "/home/ai/.local/lib/python3.8/site-packages/statsmodels/tsa/statespace/sarimax.py:1897: RuntimeWarning: divide by zero encountered in reciprocal\n",
      "  return np.roots(self.polynomial_reduced_ma)**-1\n"
     ]
    },
    {
     "name": "stdout",
     "output_type": "stream",
     "text": [
      " ARIMA(4,0,3)(0,0,0)[0]             : AIC=-2816.408, Time=2.55 sec\n",
      "\n",
      "Best model:  ARIMA(3,0,2)(0,0,0)[0]          \n",
      "Total fit time: 55.098 seconds\n",
      "Performing stepwise search to minimize aic\n",
      " ARIMA(2,0,2)(0,0,0)[0] intercept   : AIC=-4098.770, Time=6.10 sec\n",
      " ARIMA(0,0,0)(0,0,0)[0] intercept   : AIC=-3234.020, Time=1.95 sec\n",
      " ARIMA(1,0,0)(0,0,0)[0] intercept   : AIC=-4074.129, Time=4.85 sec\n",
      " ARIMA(0,0,1)(0,0,0)[0] intercept   : AIC=-3639.048, Time=2.08 sec\n",
      " ARIMA(0,0,0)(0,0,0)[0]             : AIC=1185.889, Time=1.89 sec\n",
      " ARIMA(1,0,2)(0,0,0)[0] intercept   : AIC=-4092.180, Time=5.88 sec\n"
     ]
    },
    {
     "name": "stderr",
     "output_type": "stream",
     "text": [
      "/home/ai/.local/lib/python3.8/site-packages/statsmodels/tsa/statespace/sarimax.py:1890: RuntimeWarning: divide by zero encountered in reciprocal\n",
      "  return np.roots(self.polynomial_reduced_ar)**-1\n",
      "/home/ai/.local/lib/python3.8/site-packages/statsmodels/tsa/statespace/sarimax.py:1897: RuntimeWarning: divide by zero encountered in reciprocal\n",
      "  return np.roots(self.polynomial_reduced_ma)**-1\n"
     ]
    },
    {
     "name": "stdout",
     "output_type": "stream",
     "text": [
      " ARIMA(2,0,1)(0,0,0)[0] intercept   : AIC=-2513.905, Time=2.19 sec\n",
      " ARIMA(3,0,2)(0,0,0)[0] intercept   : AIC=-4097.740, Time=6.53 sec\n",
      " ARIMA(2,0,3)(0,0,0)[0] intercept   : AIC=-4095.738, Time=6.01 sec\n",
      " ARIMA(1,0,1)(0,0,0)[0] intercept   : AIC=-4072.072, Time=5.21 sec\n",
      " ARIMA(1,0,3)(0,0,0)[0] intercept   : AIC=-4095.557, Time=6.12 sec\n",
      " ARIMA(3,0,1)(0,0,0)[0] intercept   : AIC=-4084.095, Time=5.67 sec\n"
     ]
    },
    {
     "name": "stderr",
     "output_type": "stream",
     "text": [
      "/home/ai/.local/lib/python3.8/site-packages/statsmodels/tsa/statespace/sarimax.py:1890: RuntimeWarning: divide by zero encountered in reciprocal\n",
      "  return np.roots(self.polynomial_reduced_ar)**-1\n",
      "/home/ai/.local/lib/python3.8/site-packages/statsmodels/tsa/statespace/sarimax.py:1897: RuntimeWarning: divide by zero encountered in reciprocal\n",
      "  return np.roots(self.polynomial_reduced_ma)**-1\n"
     ]
    },
    {
     "name": "stdout",
     "output_type": "stream",
     "text": [
      " ARIMA(3,0,3)(0,0,0)[0] intercept   : AIC=-2452.574, Time=2.60 sec\n",
      " ARIMA(2,0,2)(0,0,0)[0]             : AIC=-4100.487, Time=5.97 sec\n",
      " ARIMA(1,0,2)(0,0,0)[0]             : AIC=-4094.124, Time=5.76 sec\n"
     ]
    },
    {
     "name": "stderr",
     "output_type": "stream",
     "text": [
      "/home/ai/.local/lib/python3.8/site-packages/statsmodels/tsa/statespace/sarimax.py:1890: RuntimeWarning: divide by zero encountered in reciprocal\n",
      "  return np.roots(self.polynomial_reduced_ar)**-1\n",
      "/home/ai/.local/lib/python3.8/site-packages/statsmodels/tsa/statespace/sarimax.py:1897: RuntimeWarning: divide by zero encountered in reciprocal\n",
      "  return np.roots(self.polynomial_reduced_ma)**-1\n"
     ]
    },
    {
     "name": "stdout",
     "output_type": "stream",
     "text": [
      " ARIMA(2,0,1)(0,0,0)[0]             : AIC=-2515.920, Time=2.14 sec\n",
      " ARIMA(3,0,2)(0,0,0)[0]             : AIC=-4099.429, Time=6.14 sec\n",
      " ARIMA(2,0,3)(0,0,0)[0]             : AIC=-4097.686, Time=5.90 sec\n",
      " ARIMA(1,0,1)(0,0,0)[0]             : AIC=-4074.017, Time=5.07 sec\n",
      " ARIMA(1,0,3)(0,0,0)[0]             : AIC=-4097.524, Time=5.66 sec\n",
      " ARIMA(3,0,1)(0,0,0)[0]             : AIC=-4086.047, Time=5.50 sec\n"
     ]
    },
    {
     "name": "stderr",
     "output_type": "stream",
     "text": [
      "/home/ai/.local/lib/python3.8/site-packages/statsmodels/tsa/statespace/sarimax.py:1890: RuntimeWarning: divide by zero encountered in reciprocal\n",
      "  return np.roots(self.polynomial_reduced_ar)**-1\n",
      "/home/ai/.local/lib/python3.8/site-packages/statsmodels/tsa/statespace/sarimax.py:1897: RuntimeWarning: divide by zero encountered in reciprocal\n",
      "  return np.roots(self.polynomial_reduced_ma)**-1\n"
     ]
    },
    {
     "name": "stdout",
     "output_type": "stream",
     "text": [
      " ARIMA(3,0,3)(0,0,0)[0]             : AIC=-2454.588, Time=2.47 sec\n",
      "\n",
      "Best model:  ARIMA(2,0,2)(0,0,0)[0]          \n",
      "Total fit time: 101.704 seconds\n",
      "Performing stepwise search to minimize aic\n",
      " ARIMA(2,0,2)(0,0,0)[0] intercept   : AIC=-4000.142, Time=2.45 sec\n",
      " ARIMA(0,0,0)(0,0,0)[0] intercept   : AIC=-3160.146, Time=1.94 sec\n",
      " ARIMA(1,0,0)(0,0,0)[0] intercept   : AIC=-3963.573, Time=2.04 sec\n",
      " ARIMA(0,0,1)(0,0,0)[0] intercept   : AIC=-3538.981, Time=2.24 sec\n",
      " ARIMA(0,0,0)(0,0,0)[0]             : AIC=1259.763, Time=1.91 sec\n",
      " ARIMA(1,0,2)(0,0,0)[0] intercept   : AIC=-3984.362, Time=2.39 sec\n"
     ]
    },
    {
     "name": "stderr",
     "output_type": "stream",
     "text": [
      "/home/ai/.local/lib/python3.8/site-packages/statsmodels/tsa/statespace/sarimax.py:1890: RuntimeWarning: divide by zero encountered in reciprocal\n",
      "  return np.roots(self.polynomial_reduced_ar)**-1\n",
      "/home/ai/.local/lib/python3.8/site-packages/statsmodels/tsa/statespace/sarimax.py:1897: RuntimeWarning: divide by zero encountered in reciprocal\n",
      "  return np.roots(self.polynomial_reduced_ma)**-1\n"
     ]
    },
    {
     "name": "stdout",
     "output_type": "stream",
     "text": [
      " ARIMA(2,0,1)(0,0,0)[0] intercept   : AIC=-2496.563, Time=2.22 sec\n",
      " ARIMA(3,0,2)(0,0,0)[0] intercept   : AIC=-4003.712, Time=2.51 sec\n",
      " ARIMA(3,0,1)(0,0,0)[0] intercept   : AIC=-3975.606, Time=2.42 sec\n"
     ]
    },
    {
     "name": "stderr",
     "output_type": "stream",
     "text": [
      "/home/ai/.local/lib/python3.8/site-packages/statsmodels/tsa/statespace/sarimax.py:1890: RuntimeWarning: divide by zero encountered in reciprocal\n",
      "  return np.roots(self.polynomial_reduced_ar)**-1\n",
      "/home/ai/.local/lib/python3.8/site-packages/statsmodels/tsa/statespace/sarimax.py:1897: RuntimeWarning: divide by zero encountered in reciprocal\n",
      "  return np.roots(self.polynomial_reduced_ma)**-1\n"
     ]
    },
    {
     "name": "stdout",
     "output_type": "stream",
     "text": [
      " ARIMA(4,0,2)(0,0,0)[0] intercept   : AIC=-2457.023, Time=2.56 sec\n"
     ]
    },
    {
     "name": "stderr",
     "output_type": "stream",
     "text": [
      "/home/ai/.local/lib/python3.8/site-packages/statsmodels/tsa/statespace/sarimax.py:1890: RuntimeWarning: divide by zero encountered in reciprocal\n",
      "  return np.roots(self.polynomial_reduced_ar)**-1\n",
      "/home/ai/.local/lib/python3.8/site-packages/statsmodels/tsa/statespace/sarimax.py:1897: RuntimeWarning: divide by zero encountered in reciprocal\n",
      "  return np.roots(self.polynomial_reduced_ma)**-1\n"
     ]
    },
    {
     "name": "stdout",
     "output_type": "stream",
     "text": [
      " ARIMA(3,0,3)(0,0,0)[0] intercept   : AIC=-2425.973, Time=2.54 sec\n",
      " ARIMA(2,0,3)(0,0,0)[0] intercept   : AIC=-3993.871, Time=2.53 sec\n",
      " ARIMA(4,0,1)(0,0,0)[0] intercept   : AIC=-3996.060, Time=2.53 sec\n"
     ]
    },
    {
     "name": "stderr",
     "output_type": "stream",
     "text": [
      "/home/ai/.local/lib/python3.8/site-packages/statsmodels/tsa/statespace/sarimax.py:1890: RuntimeWarning: divide by zero encountered in reciprocal\n",
      "  return np.roots(self.polynomial_reduced_ar)**-1\n",
      "/home/ai/.local/lib/python3.8/site-packages/statsmodels/tsa/statespace/sarimax.py:1897: RuntimeWarning: divide by zero encountered in reciprocal\n",
      "  return np.roots(self.polynomial_reduced_ma)**-1\n"
     ]
    },
    {
     "name": "stdout",
     "output_type": "stream",
     "text": [
      " ARIMA(4,0,3)(0,0,0)[0] intercept   : AIC=-2398.194, Time=2.65 sec\n",
      " ARIMA(3,0,2)(0,0,0)[0]             : AIC=-4005.707, Time=2.45 sec\n",
      " ARIMA(2,0,2)(0,0,0)[0]             : AIC=-4002.140, Time=2.41 sec\n",
      " ARIMA(3,0,1)(0,0,0)[0]             : AIC=-3977.608, Time=2.39 sec\n"
     ]
    },
    {
     "name": "stderr",
     "output_type": "stream",
     "text": [
      "/home/ai/.local/lib/python3.8/site-packages/statsmodels/tsa/statespace/sarimax.py:1890: RuntimeWarning: divide by zero encountered in reciprocal\n",
      "  return np.roots(self.polynomial_reduced_ar)**-1\n",
      "/home/ai/.local/lib/python3.8/site-packages/statsmodels/tsa/statespace/sarimax.py:1897: RuntimeWarning: divide by zero encountered in reciprocal\n",
      "  return np.roots(self.polynomial_reduced_ma)**-1\n"
     ]
    },
    {
     "name": "stdout",
     "output_type": "stream",
     "text": [
      " ARIMA(4,0,2)(0,0,0)[0]             : AIC=-2459.022, Time=2.55 sec\n"
     ]
    },
    {
     "name": "stderr",
     "output_type": "stream",
     "text": [
      "/home/ai/.local/lib/python3.8/site-packages/statsmodels/tsa/statespace/sarimax.py:1890: RuntimeWarning: divide by zero encountered in reciprocal\n",
      "  return np.roots(self.polynomial_reduced_ar)**-1\n",
      "/home/ai/.local/lib/python3.8/site-packages/statsmodels/tsa/statespace/sarimax.py:1897: RuntimeWarning: divide by zero encountered in reciprocal\n",
      "  return np.roots(self.polynomial_reduced_ma)**-1\n"
     ]
    },
    {
     "name": "stdout",
     "output_type": "stream",
     "text": [
      " ARIMA(3,0,3)(0,0,0)[0]             : AIC=-2427.974, Time=2.55 sec\n"
     ]
    },
    {
     "name": "stderr",
     "output_type": "stream",
     "text": [
      "/home/ai/.local/lib/python3.8/site-packages/statsmodels/tsa/statespace/sarimax.py:1890: RuntimeWarning: divide by zero encountered in reciprocal\n",
      "  return np.roots(self.polynomial_reduced_ar)**-1\n",
      "/home/ai/.local/lib/python3.8/site-packages/statsmodels/tsa/statespace/sarimax.py:1897: RuntimeWarning: divide by zero encountered in reciprocal\n",
      "  return np.roots(self.polynomial_reduced_ma)**-1\n"
     ]
    },
    {
     "name": "stdout",
     "output_type": "stream",
     "text": [
      " ARIMA(2,0,1)(0,0,0)[0]             : AIC=-2498.563, Time=2.36 sec\n",
      " ARIMA(2,0,3)(0,0,0)[0]             : AIC=-3995.875, Time=2.58 sec\n",
      " ARIMA(4,0,1)(0,0,0)[0]             : AIC=-3998.059, Time=2.64 sec\n"
     ]
    },
    {
     "name": "stderr",
     "output_type": "stream",
     "text": [
      "/home/ai/.local/lib/python3.8/site-packages/statsmodels/tsa/statespace/sarimax.py:1890: RuntimeWarning: divide by zero encountered in reciprocal\n",
      "  return np.roots(self.polynomial_reduced_ar)**-1\n",
      "/home/ai/.local/lib/python3.8/site-packages/statsmodels/tsa/statespace/sarimax.py:1897: RuntimeWarning: divide by zero encountered in reciprocal\n",
      "  return np.roots(self.polynomial_reduced_ma)**-1\n"
     ]
    },
    {
     "name": "stdout",
     "output_type": "stream",
     "text": [
      " ARIMA(4,0,3)(0,0,0)[0]             : AIC=-2400.195, Time=2.60 sec\n",
      "\n",
      "Best model:  ARIMA(3,0,2)(0,0,0)[0]          \n",
      "Total fit time: 55.466 seconds\n",
      "Performing stepwise search to minimize aic\n",
      " ARIMA(2,0,2)(0,0,0)[0] intercept   : AIC=-4041.813, Time=2.50 sec\n",
      " ARIMA(0,0,0)(0,0,0)[0] intercept   : AIC=-3186.487, Time=1.94 sec\n",
      " ARIMA(1,0,0)(0,0,0)[0] intercept   : AIC=-3999.486, Time=2.05 sec\n",
      " ARIMA(0,0,1)(0,0,0)[0] intercept   : AIC=-3586.848, Time=2.12 sec\n",
      " ARIMA(0,0,0)(0,0,0)[0]             : AIC=1233.422, Time=1.96 sec\n",
      " ARIMA(1,0,2)(0,0,0)[0] intercept   : AIC=-4018.813, Time=2.47 sec\n"
     ]
    },
    {
     "name": "stderr",
     "output_type": "stream",
     "text": [
      "/home/ai/.local/lib/python3.8/site-packages/statsmodels/tsa/statespace/sarimax.py:1890: RuntimeWarning: divide by zero encountered in reciprocal\n",
      "  return np.roots(self.polynomial_reduced_ar)**-1\n",
      "/home/ai/.local/lib/python3.8/site-packages/statsmodels/tsa/statespace/sarimax.py:1897: RuntimeWarning: divide by zero encountered in reciprocal\n",
      "  return np.roots(self.polynomial_reduced_ma)**-1\n"
     ]
    },
    {
     "name": "stdout",
     "output_type": "stream",
     "text": [
      " ARIMA(2,0,1)(0,0,0)[0] intercept   : AIC=-2505.282, Time=2.29 sec\n",
      " ARIMA(3,0,2)(0,0,0)[0] intercept   : AIC=-4046.328, Time=2.48 sec\n",
      " ARIMA(3,0,1)(0,0,0)[0] intercept   : AIC=-4008.364, Time=2.47 sec\n"
     ]
    },
    {
     "name": "stderr",
     "output_type": "stream",
     "text": [
      "/home/ai/.local/lib/python3.8/site-packages/statsmodels/tsa/statespace/sarimax.py:1890: RuntimeWarning: divide by zero encountered in reciprocal\n",
      "  return np.roots(self.polynomial_reduced_ar)**-1\n",
      "/home/ai/.local/lib/python3.8/site-packages/statsmodels/tsa/statespace/sarimax.py:1897: RuntimeWarning: divide by zero encountered in reciprocal\n",
      "  return np.roots(self.polynomial_reduced_ma)**-1\n"
     ]
    },
    {
     "name": "stdout",
     "output_type": "stream",
     "text": [
      " ARIMA(4,0,2)(0,0,0)[0] intercept   : AIC=-2441.976, Time=2.57 sec\n"
     ]
    },
    {
     "name": "stderr",
     "output_type": "stream",
     "text": [
      "/home/ai/.local/lib/python3.8/site-packages/statsmodels/tsa/statespace/sarimax.py:1890: RuntimeWarning: divide by zero encountered in reciprocal\n",
      "  return np.roots(self.polynomial_reduced_ar)**-1\n",
      "/home/ai/.local/lib/python3.8/site-packages/statsmodels/tsa/statespace/sarimax.py:1897: RuntimeWarning: divide by zero encountered in reciprocal\n",
      "  return np.roots(self.polynomial_reduced_ma)**-1\n"
     ]
    },
    {
     "name": "stdout",
     "output_type": "stream",
     "text": [
      " ARIMA(3,0,3)(0,0,0)[0] intercept   : AIC=-2382.971, Time=2.56 sec\n",
      " ARIMA(2,0,3)(0,0,0)[0] intercept   : AIC=-4031.864, Time=2.49 sec\n",
      " ARIMA(4,0,1)(0,0,0)[0] intercept   : AIC=-4037.604, Time=2.48 sec\n"
     ]
    },
    {
     "name": "stderr",
     "output_type": "stream",
     "text": [
      "/home/ai/.local/lib/python3.8/site-packages/statsmodels/tsa/statespace/sarimax.py:1890: RuntimeWarning: divide by zero encountered in reciprocal\n",
      "  return np.roots(self.polynomial_reduced_ar)**-1\n",
      "/home/ai/.local/lib/python3.8/site-packages/statsmodels/tsa/statespace/sarimax.py:1897: RuntimeWarning: divide by zero encountered in reciprocal\n",
      "  return np.roots(self.polynomial_reduced_ma)**-1\n"
     ]
    },
    {
     "name": "stdout",
     "output_type": "stream",
     "text": [
      " ARIMA(4,0,3)(0,0,0)[0] intercept   : AIC=-2359.264, Time=2.56 sec\n",
      " ARIMA(3,0,2)(0,0,0)[0]             : AIC=-4048.334, Time=2.38 sec\n",
      " ARIMA(2,0,2)(0,0,0)[0]             : AIC=-4043.818, Time=2.35 sec\n",
      " ARIMA(3,0,1)(0,0,0)[0]             : AIC=-4010.368, Time=2.36 sec\n"
     ]
    },
    {
     "name": "stderr",
     "output_type": "stream",
     "text": [
      "/home/ai/.local/lib/python3.8/site-packages/statsmodels/tsa/statespace/sarimax.py:1890: RuntimeWarning: divide by zero encountered in reciprocal\n",
      "  return np.roots(self.polynomial_reduced_ar)**-1\n",
      "/home/ai/.local/lib/python3.8/site-packages/statsmodels/tsa/statespace/sarimax.py:1897: RuntimeWarning: divide by zero encountered in reciprocal\n",
      "  return np.roots(self.polynomial_reduced_ma)**-1\n"
     ]
    },
    {
     "name": "stdout",
     "output_type": "stream",
     "text": [
      " ARIMA(4,0,2)(0,0,0)[0]             : AIC=-2443.977, Time=2.46 sec\n"
     ]
    },
    {
     "name": "stderr",
     "output_type": "stream",
     "text": [
      "/home/ai/.local/lib/python3.8/site-packages/statsmodels/tsa/statespace/sarimax.py:1890: RuntimeWarning: divide by zero encountered in reciprocal\n",
      "  return np.roots(self.polynomial_reduced_ar)**-1\n",
      "/home/ai/.local/lib/python3.8/site-packages/statsmodels/tsa/statespace/sarimax.py:1897: RuntimeWarning: divide by zero encountered in reciprocal\n",
      "  return np.roots(self.polynomial_reduced_ma)**-1\n"
     ]
    },
    {
     "name": "stdout",
     "output_type": "stream",
     "text": [
      " ARIMA(3,0,3)(0,0,0)[0]             : AIC=-2384.973, Time=2.45 sec\n"
     ]
    },
    {
     "name": "stderr",
     "output_type": "stream",
     "text": [
      "/home/ai/.local/lib/python3.8/site-packages/statsmodels/tsa/statespace/sarimax.py:1890: RuntimeWarning: divide by zero encountered in reciprocal\n",
      "  return np.roots(self.polynomial_reduced_ar)**-1\n",
      "/home/ai/.local/lib/python3.8/site-packages/statsmodels/tsa/statespace/sarimax.py:1897: RuntimeWarning: divide by zero encountered in reciprocal\n",
      "  return np.roots(self.polynomial_reduced_ma)**-1\n"
     ]
    },
    {
     "name": "stdout",
     "output_type": "stream",
     "text": [
      " ARIMA(2,0,1)(0,0,0)[0]             : AIC=-2507.285, Time=2.08 sec\n",
      " ARIMA(2,0,3)(0,0,0)[0]             : AIC=-4033.867, Time=2.41 sec\n",
      " ARIMA(4,0,1)(0,0,0)[0]             : AIC=-4039.605, Time=2.42 sec\n"
     ]
    },
    {
     "name": "stderr",
     "output_type": "stream",
     "text": [
      "/home/ai/.local/lib/python3.8/site-packages/statsmodels/tsa/statespace/sarimax.py:1890: RuntimeWarning: divide by zero encountered in reciprocal\n",
      "  return np.roots(self.polynomial_reduced_ar)**-1\n",
      "/home/ai/.local/lib/python3.8/site-packages/statsmodels/tsa/statespace/sarimax.py:1897: RuntimeWarning: divide by zero encountered in reciprocal\n",
      "  return np.roots(self.polynomial_reduced_ma)**-1\n"
     ]
    },
    {
     "name": "stdout",
     "output_type": "stream",
     "text": [
      " ARIMA(4,0,3)(0,0,0)[0]             : AIC=-2361.268, Time=2.49 sec\n",
      "\n",
      "Best model:  ARIMA(3,0,2)(0,0,0)[0]          \n",
      "Total fit time: 54.357 seconds\n",
      "Performing stepwise search to minimize aic\n",
      " ARIMA(2,0,2)(0,0,0)[0] intercept   : AIC=-6334.785, Time=2.43 sec\n",
      " ARIMA(0,0,0)(0,0,0)[0] intercept   : AIC=-5645.415, Time=1.91 sec\n",
      " ARIMA(1,0,0)(0,0,0)[0] intercept   : AIC=-6335.457, Time=1.96 sec\n",
      " ARIMA(0,0,1)(0,0,0)[0] intercept   : AIC=-5938.303, Time=2.07 sec\n",
      " ARIMA(0,0,0)(0,0,0)[0]             : AIC=-1225.506, Time=1.86 sec\n",
      " ARIMA(2,0,0)(0,0,0)[0] intercept   : AIC=-6333.870, Time=2.10 sec\n",
      " ARIMA(1,0,1)(0,0,0)[0] intercept   : AIC=-6333.800, Time=2.11 sec\n"
     ]
    },
    {
     "name": "stderr",
     "output_type": "stream",
     "text": [
      "/home/ai/.local/lib/python3.8/site-packages/statsmodels/tsa/statespace/sarimax.py:1890: RuntimeWarning: divide by zero encountered in reciprocal\n",
      "  return np.roots(self.polynomial_reduced_ar)**-1\n",
      "/home/ai/.local/lib/python3.8/site-packages/statsmodels/tsa/statespace/sarimax.py:1897: RuntimeWarning: divide by zero encountered in reciprocal\n",
      "  return np.roots(self.polynomial_reduced_ma)**-1\n"
     ]
    },
    {
     "name": "stdout",
     "output_type": "stream",
     "text": [
      " ARIMA(2,0,1)(0,0,0)[0] intercept   : AIC=-5215.108, Time=2.16 sec\n",
      " ARIMA(1,0,0)(0,0,0)[0]             : AIC=-6337.460, Time=1.91 sec\n",
      " ARIMA(2,0,0)(0,0,0)[0]             : AIC=-6335.877, Time=2.08 sec\n",
      " ARIMA(1,0,1)(0,0,0)[0]             : AIC=-6335.809, Time=2.19 sec\n",
      " ARIMA(0,0,1)(0,0,0)[0]             : AIC=-5940.295, Time=2.06 sec\n"
     ]
    },
    {
     "name": "stderr",
     "output_type": "stream",
     "text": [
      "/home/ai/.local/lib/python3.8/site-packages/statsmodels/tsa/statespace/sarimax.py:1890: RuntimeWarning: divide by zero encountered in reciprocal\n",
      "  return np.roots(self.polynomial_reduced_ar)**-1\n",
      "/home/ai/.local/lib/python3.8/site-packages/statsmodels/tsa/statespace/sarimax.py:1897: RuntimeWarning: divide by zero encountered in reciprocal\n",
      "  return np.roots(self.polynomial_reduced_ma)**-1\n"
     ]
    },
    {
     "name": "stdout",
     "output_type": "stream",
     "text": [
      " ARIMA(2,0,1)(0,0,0)[0]             : AIC=-5217.125, Time=2.08 sec\n",
      "\n",
      "Best model:  ARIMA(1,0,0)(0,0,0)[0]          \n",
      "Total fit time: 26.904 seconds\n",
      "Performing stepwise search to minimize aic\n"
     ]
    },
    {
     "name": "stderr",
     "output_type": "stream",
     "text": [
      "/home/ai/.local/lib/python3.8/site-packages/statsmodels/tsa/statespace/sarimax.py:1890: RuntimeWarning: divide by zero encountered in reciprocal\n",
      "  return np.roots(self.polynomial_reduced_ar)**-1\n",
      "/home/ai/.local/lib/python3.8/site-packages/statsmodels/tsa/statespace/sarimax.py:1897: RuntimeWarning: divide by zero encountered in reciprocal\n",
      "  return np.roots(self.polynomial_reduced_ma)**-1\n"
     ]
    },
    {
     "name": "stdout",
     "output_type": "stream",
     "text": [
      " ARIMA(2,0,2)(0,0,0)[0] intercept   : AIC=-6191.260, Time=2.58 sec\n",
      " ARIMA(0,0,0)(0,0,0)[0] intercept   : AIC=-7006.502, Time=2.03 sec\n",
      " ARIMA(1,0,0)(0,0,0)[0] intercept   : AIC=-7878.354, Time=1.95 sec\n",
      " ARIMA(0,0,1)(0,0,0)[0] intercept   : AIC=-7132.020, Time=2.06 sec\n",
      " ARIMA(0,0,0)(0,0,0)[0]             : AIC=-2586.593, Time=1.85 sec\n",
      " ARIMA(2,0,0)(0,0,0)[0] intercept   : AIC=-7885.776, Time=2.17 sec\n",
      " ARIMA(3,0,0)(0,0,0)[0] intercept   : AIC=-7891.217, Time=2.34 sec\n",
      " ARIMA(4,0,0)(0,0,0)[0] intercept   : AIC=-7893.402, Time=2.44 sec\n",
      " ARIMA(5,0,0)(0,0,0)[0] intercept   : AIC=-7907.633, Time=2.78 sec\n",
      " ARIMA(5,0,1)(0,0,0)[0] intercept   : AIC=-7900.655, Time=2.85 sec\n",
      " ARIMA(4,0,1)(0,0,0)[0] intercept   : AIC=-7887.715, Time=2.50 sec\n",
      " ARIMA(5,0,0)(0,0,0)[0]             : AIC=-7909.653, Time=2.69 sec\n",
      " ARIMA(4,0,0)(0,0,0)[0]             : AIC=-7895.419, Time=2.35 sec\n",
      " ARIMA(5,0,1)(0,0,0)[0]             : AIC=-7902.670, Time=2.78 sec\n",
      " ARIMA(4,0,1)(0,0,0)[0]             : AIC=-7889.727, Time=2.42 sec\n",
      "\n",
      "Best model:  ARIMA(5,0,0)(0,0,0)[0]          \n",
      "Total fit time: 35.801 seconds\n",
      "Performing stepwise search to minimize aic\n",
      " ARIMA(2,0,2)(0,0,0)[0] intercept   : AIC=-9971.262, Time=2.45 sec\n",
      " ARIMA(0,0,0)(0,0,0)[0] intercept   : AIC=-9049.483, Time=1.91 sec\n",
      " ARIMA(1,0,0)(0,0,0)[0] intercept   : AIC=-9931.142, Time=1.98 sec\n",
      " ARIMA(0,0,1)(0,0,0)[0] intercept   : AIC=-9349.634, Time=2.15 sec\n",
      " ARIMA(0,0,0)(0,0,0)[0]             : AIC=-4629.574, Time=1.96 sec\n",
      " ARIMA(1,0,2)(0,0,0)[0] intercept   : AIC=-9938.246, Time=2.34 sec\n"
     ]
    },
    {
     "name": "stderr",
     "output_type": "stream",
     "text": [
      "/home/ai/.local/lib/python3.8/site-packages/statsmodels/tsa/statespace/sarimax.py:1890: RuntimeWarning: divide by zero encountered in reciprocal\n",
      "  return np.roots(self.polynomial_reduced_ar)**-1\n",
      "/home/ai/.local/lib/python3.8/site-packages/statsmodels/tsa/statespace/sarimax.py:1897: RuntimeWarning: divide by zero encountered in reciprocal\n",
      "  return np.roots(self.polynomial_reduced_ma)**-1\n"
     ]
    },
    {
     "name": "stdout",
     "output_type": "stream",
     "text": [
      " ARIMA(2,0,1)(0,0,0)[0] intercept   : AIC=-8257.279, Time=2.15 sec\n"
     ]
    },
    {
     "name": "stderr",
     "output_type": "stream",
     "text": [
      "/home/ai/.local/lib/python3.8/site-packages/statsmodels/tsa/statespace/sarimax.py:1890: RuntimeWarning: divide by zero encountered in reciprocal\n",
      "  return np.roots(self.polynomial_reduced_ar)**-1\n",
      "/home/ai/.local/lib/python3.8/site-packages/statsmodels/tsa/statespace/sarimax.py:1897: RuntimeWarning: divide by zero encountered in reciprocal\n",
      "  return np.roots(self.polynomial_reduced_ma)**-1\n"
     ]
    },
    {
     "name": "stdout",
     "output_type": "stream",
     "text": [
      " ARIMA(3,0,2)(0,0,0)[0] intercept   : AIC=-8199.992, Time=2.53 sec\n",
      " ARIMA(2,0,3)(0,0,0)[0] intercept   : AIC=-9964.725, Time=2.51 sec\n",
      " ARIMA(1,0,1)(0,0,0)[0] intercept   : AIC=-9931.363, Time=2.22 sec\n",
      " ARIMA(1,0,3)(0,0,0)[0] intercept   : AIC=-9934.434, Time=2.39 sec\n",
      " ARIMA(3,0,1)(0,0,0)[0] intercept   : AIC=-9936.841, Time=2.42 sec\n",
      " ARIMA(3,0,3)(0,0,0)[0] intercept   : AIC=-9971.598, Time=2.57 sec\n",
      " ARIMA(4,0,3)(0,0,0)[0] intercept   : AIC=-9968.749, Time=2.56 sec\n",
      " ARIMA(3,0,4)(0,0,0)[0] intercept   : AIC=-9960.192, Time=2.81 sec\n",
      " ARIMA(2,0,4)(0,0,0)[0] intercept   : AIC=-9958.866, Time=2.78 sec\n"
     ]
    },
    {
     "name": "stderr",
     "output_type": "stream",
     "text": [
      "/home/ai/.local/lib/python3.8/site-packages/statsmodels/tsa/statespace/sarimax.py:1890: RuntimeWarning: divide by zero encountered in reciprocal\n",
      "  return np.roots(self.polynomial_reduced_ar)**-1\n",
      "/home/ai/.local/lib/python3.8/site-packages/statsmodels/tsa/statespace/sarimax.py:1897: RuntimeWarning: divide by zero encountered in reciprocal\n",
      "  return np.roots(self.polynomial_reduced_ma)**-1\n"
     ]
    },
    {
     "name": "stdout",
     "output_type": "stream",
     "text": [
      " ARIMA(4,0,2)(0,0,0)[0] intercept   : AIC=-8196.155, Time=2.48 sec\n",
      " ARIMA(4,0,4)(0,0,0)[0] intercept   : AIC=-9964.249, Time=2.88 sec\n",
      " ARIMA(3,0,3)(0,0,0)[0]             : AIC=-9973.602, Time=2.45 sec\n",
      " ARIMA(2,0,3)(0,0,0)[0]             : AIC=-9966.734, Time=2.46 sec\n"
     ]
    },
    {
     "name": "stderr",
     "output_type": "stream",
     "text": [
      "/home/ai/.local/lib/python3.8/site-packages/statsmodels/tsa/statespace/sarimax.py:1890: RuntimeWarning: divide by zero encountered in reciprocal\n",
      "  return np.roots(self.polynomial_reduced_ar)**-1\n",
      "/home/ai/.local/lib/python3.8/site-packages/statsmodels/tsa/statespace/sarimax.py:1897: RuntimeWarning: divide by zero encountered in reciprocal\n",
      "  return np.roots(self.polynomial_reduced_ma)**-1\n"
     ]
    },
    {
     "name": "stdout",
     "output_type": "stream",
     "text": [
      " ARIMA(3,0,2)(0,0,0)[0]             : AIC=-8201.986, Time=2.40 sec\n",
      " ARIMA(4,0,3)(0,0,0)[0]             : AIC=-9970.753, Time=2.51 sec\n",
      " ARIMA(3,0,4)(0,0,0)[0]             : AIC=-9962.193, Time=2.81 sec\n",
      " ARIMA(2,0,2)(0,0,0)[0]             : AIC=-9973.546, Time=2.37 sec\n",
      " ARIMA(2,0,4)(0,0,0)[0]             : AIC=-9960.867, Time=2.75 sec\n"
     ]
    },
    {
     "name": "stderr",
     "output_type": "stream",
     "text": [
      "/home/ai/.local/lib/python3.8/site-packages/statsmodels/tsa/statespace/sarimax.py:1890: RuntimeWarning: divide by zero encountered in reciprocal\n",
      "  return np.roots(self.polynomial_reduced_ar)**-1\n",
      "/home/ai/.local/lib/python3.8/site-packages/statsmodels/tsa/statespace/sarimax.py:1897: RuntimeWarning: divide by zero encountered in reciprocal\n",
      "  return np.roots(self.polynomial_reduced_ma)**-1\n"
     ]
    },
    {
     "name": "stdout",
     "output_type": "stream",
     "text": [
      " ARIMA(4,0,2)(0,0,0)[0]             : AIC=-8198.149, Time=2.43 sec\n",
      " ARIMA(4,0,4)(0,0,0)[0]             : AIC=-9966.249, Time=2.82 sec\n",
      "\n",
      "Best model:  ARIMA(3,0,3)(0,0,0)[0]          \n",
      "Total fit time: 66.102 seconds\n",
      "Performing stepwise search to minimize aic\n"
     ]
    },
    {
     "name": "stderr",
     "output_type": "stream",
     "text": [
      "/home/ai/.local/lib/python3.8/site-packages/statsmodels/tsa/statespace/sarimax.py:1890: RuntimeWarning: divide by zero encountered in reciprocal\n",
      "  return np.roots(self.polynomial_reduced_ar)**-1\n",
      "/home/ai/.local/lib/python3.8/site-packages/statsmodels/tsa/statespace/sarimax.py:1897: RuntimeWarning: divide by zero encountered in reciprocal\n",
      "  return np.roots(self.polynomial_reduced_ma)**-1\n"
     ]
    },
    {
     "name": "stdout",
     "output_type": "stream",
     "text": [
      " ARIMA(2,0,2)(0,0,0)[0] intercept   : AIC=-5225.713, Time=2.41 sec\n",
      " ARIMA(0,0,0)(0,0,0)[0] intercept   : AIC=-5684.099, Time=1.92 sec\n",
      " ARIMA(1,0,0)(0,0,0)[0] intercept   : AIC=-6375.362, Time=2.00 sec\n",
      " ARIMA(0,0,1)(0,0,0)[0] intercept   : AIC=-5848.354, Time=2.10 sec\n",
      " ARIMA(0,0,0)(0,0,0)[0]             : AIC=-1264.190, Time=1.86 sec\n",
      " ARIMA(2,0,0)(0,0,0)[0] intercept   : AIC=-6389.248, Time=2.14 sec\n",
      " ARIMA(3,0,0)(0,0,0)[0] intercept   : AIC=-6388.614, Time=2.40 sec\n",
      " ARIMA(2,0,1)(0,0,0)[0] intercept   : AIC=-6389.719, Time=2.26 sec\n",
      " ARIMA(1,0,1)(0,0,0)[0] intercept   : AIC=-6387.217, Time=2.12 sec\n",
      " ARIMA(3,0,1)(0,0,0)[0] intercept   : AIC=-6387.175, Time=2.40 sec\n",
      " ARIMA(1,0,2)(0,0,0)[0] intercept   : AIC=-6388.065, Time=2.33 sec\n"
     ]
    },
    {
     "name": "stderr",
     "output_type": "stream",
     "text": [
      "/home/ai/.local/lib/python3.8/site-packages/statsmodels/tsa/statespace/sarimax.py:1890: RuntimeWarning: divide by zero encountered in reciprocal\n",
      "  return np.roots(self.polynomial_reduced_ar)**-1\n",
      "/home/ai/.local/lib/python3.8/site-packages/statsmodels/tsa/statespace/sarimax.py:1897: RuntimeWarning: divide by zero encountered in reciprocal\n",
      "  return np.roots(self.polynomial_reduced_ma)**-1\n"
     ]
    },
    {
     "name": "stdout",
     "output_type": "stream",
     "text": [
      " ARIMA(3,0,2)(0,0,0)[0] intercept   : AIC=-5215.259, Time=2.43 sec\n",
      " ARIMA(2,0,1)(0,0,0)[0]             : AIC=-6391.740, Time=2.12 sec\n",
      " ARIMA(1,0,1)(0,0,0)[0]             : AIC=-6389.227, Time=2.05 sec\n",
      " ARIMA(2,0,0)(0,0,0)[0]             : AIC=-6391.260, Time=2.05 sec\n",
      " ARIMA(3,0,1)(0,0,0)[0]             : AIC=-6389.182, Time=2.35 sec\n"
     ]
    },
    {
     "name": "stderr",
     "output_type": "stream",
     "text": [
      "/home/ai/.local/lib/python3.8/site-packages/statsmodels/tsa/statespace/sarimax.py:1890: RuntimeWarning: divide by zero encountered in reciprocal\n",
      "  return np.roots(self.polynomial_reduced_ar)**-1\n",
      "/home/ai/.local/lib/python3.8/site-packages/statsmodels/tsa/statespace/sarimax.py:1897: RuntimeWarning: divide by zero encountered in reciprocal\n",
      "  return np.roots(self.polynomial_reduced_ma)**-1\n"
     ]
    },
    {
     "name": "stdout",
     "output_type": "stream",
     "text": [
      " ARIMA(2,0,2)(0,0,0)[0]             : AIC=-5227.760, Time=2.32 sec\n",
      " ARIMA(1,0,0)(0,0,0)[0]             : AIC=-6377.366, Time=1.91 sec\n",
      " ARIMA(1,0,2)(0,0,0)[0]             : AIC=-6390.078, Time=2.29 sec\n",
      " ARIMA(3,0,0)(0,0,0)[0]             : AIC=-6390.625, Time=2.29 sec\n"
     ]
    },
    {
     "name": "stderr",
     "output_type": "stream",
     "text": [
      "/home/ai/.local/lib/python3.8/site-packages/statsmodels/tsa/statespace/sarimax.py:1890: RuntimeWarning: divide by zero encountered in reciprocal\n",
      "  return np.roots(self.polynomial_reduced_ar)**-1\n",
      "/home/ai/.local/lib/python3.8/site-packages/statsmodels/tsa/statespace/sarimax.py:1897: RuntimeWarning: divide by zero encountered in reciprocal\n",
      "  return np.roots(self.polynomial_reduced_ma)**-1\n"
     ]
    },
    {
     "name": "stdout",
     "output_type": "stream",
     "text": [
      " ARIMA(3,0,2)(0,0,0)[0]             : AIC=-5217.307, Time=2.41 sec\n",
      "\n",
      "Best model:  ARIMA(2,0,1)(0,0,0)[0]          \n",
      "Total fit time: 46.178 seconds\n",
      "Performing stepwise search to minimize aic\n",
      " ARIMA(2,0,2)(0,0,0)[0] intercept   : AIC=-4268.834, Time=2.46 sec\n",
      " ARIMA(0,0,0)(0,0,0)[0] intercept   : AIC=-3492.988, Time=1.91 sec\n",
      " ARIMA(1,0,0)(0,0,0)[0] intercept   : AIC=-4247.440, Time=2.01 sec\n",
      " ARIMA(0,0,1)(0,0,0)[0] intercept   : AIC=-3890.240, Time=2.11 sec\n",
      " ARIMA(0,0,0)(0,0,0)[0]             : AIC=926.921, Time=1.86 sec\n",
      " ARIMA(1,0,2)(0,0,0)[0] intercept   : AIC=-4254.998, Time=2.37 sec\n"
     ]
    },
    {
     "name": "stderr",
     "output_type": "stream",
     "text": [
      "/home/ai/.local/lib/python3.8/site-packages/statsmodels/tsa/statespace/sarimax.py:1890: RuntimeWarning: divide by zero encountered in reciprocal\n",
      "  return np.roots(self.polynomial_reduced_ar)**-1\n",
      "/home/ai/.local/lib/python3.8/site-packages/statsmodels/tsa/statespace/sarimax.py:1897: RuntimeWarning: divide by zero encountered in reciprocal\n",
      "  return np.roots(self.polynomial_reduced_ma)**-1\n"
     ]
    },
    {
     "name": "stdout",
     "output_type": "stream",
     "text": [
      " ARIMA(2,0,1)(0,0,0)[0] intercept   : AIC=-2948.728, Time=2.17 sec\n",
      " ARIMA(3,0,2)(0,0,0)[0] intercept   : AIC=-4277.096, Time=2.48 sec\n",
      " ARIMA(3,0,1)(0,0,0)[0] intercept   : AIC=-4246.575, Time=2.42 sec\n"
     ]
    },
    {
     "name": "stderr",
     "output_type": "stream",
     "text": [
      "/home/ai/.local/lib/python3.8/site-packages/statsmodels/tsa/statespace/sarimax.py:1890: RuntimeWarning: divide by zero encountered in reciprocal\n",
      "  return np.roots(self.polynomial_reduced_ar)**-1\n",
      "/home/ai/.local/lib/python3.8/site-packages/statsmodels/tsa/statespace/sarimax.py:1897: RuntimeWarning: divide by zero encountered in reciprocal\n",
      "  return np.roots(self.polynomial_reduced_ma)**-1\n"
     ]
    },
    {
     "name": "stdout",
     "output_type": "stream",
     "text": [
      " ARIMA(4,0,2)(0,0,0)[0] intercept   : AIC=-2889.583, Time=2.56 sec\n"
     ]
    },
    {
     "name": "stderr",
     "output_type": "stream",
     "text": [
      "/home/ai/.local/lib/python3.8/site-packages/statsmodels/tsa/statespace/sarimax.py:1890: RuntimeWarning: divide by zero encountered in reciprocal\n",
      "  return np.roots(self.polynomial_reduced_ar)**-1\n",
      "/home/ai/.local/lib/python3.8/site-packages/statsmodels/tsa/statespace/sarimax.py:1897: RuntimeWarning: divide by zero encountered in reciprocal\n",
      "  return np.roots(self.polynomial_reduced_ma)**-1\n"
     ]
    },
    {
     "name": "stdout",
     "output_type": "stream",
     "text": [
      " ARIMA(3,0,3)(0,0,0)[0] intercept   : AIC=-2859.004, Time=2.52 sec\n",
      " ARIMA(2,0,3)(0,0,0)[0] intercept   : AIC=-4258.309, Time=2.44 sec\n",
      " ARIMA(4,0,1)(0,0,0)[0] intercept   : AIC=-4266.752, Time=2.59 sec\n"
     ]
    },
    {
     "name": "stderr",
     "output_type": "stream",
     "text": [
      "/home/ai/.local/lib/python3.8/site-packages/statsmodels/tsa/statespace/sarimax.py:1890: RuntimeWarning: divide by zero encountered in reciprocal\n",
      "  return np.roots(self.polynomial_reduced_ar)**-1\n",
      "/home/ai/.local/lib/python3.8/site-packages/statsmodels/tsa/statespace/sarimax.py:1897: RuntimeWarning: divide by zero encountered in reciprocal\n",
      "  return np.roots(self.polynomial_reduced_ma)**-1\n"
     ]
    },
    {
     "name": "stdout",
     "output_type": "stream",
     "text": [
      " ARIMA(4,0,3)(0,0,0)[0] intercept   : AIC=-2840.824, Time=2.67 sec\n",
      " ARIMA(3,0,2)(0,0,0)[0]             : AIC=-4279.094, Time=2.37 sec\n",
      " ARIMA(2,0,2)(0,0,0)[0]             : AIC=-4270.834, Time=2.40 sec\n",
      " ARIMA(3,0,1)(0,0,0)[0]             : AIC=-4248.575, Time=2.36 sec\n"
     ]
    },
    {
     "name": "stderr",
     "output_type": "stream",
     "text": [
      "/home/ai/.local/lib/python3.8/site-packages/statsmodels/tsa/statespace/sarimax.py:1890: RuntimeWarning: divide by zero encountered in reciprocal\n",
      "  return np.roots(self.polynomial_reduced_ar)**-1\n",
      "/home/ai/.local/lib/python3.8/site-packages/statsmodels/tsa/statespace/sarimax.py:1897: RuntimeWarning: divide by zero encountered in reciprocal\n",
      "  return np.roots(self.polynomial_reduced_ma)**-1\n"
     ]
    },
    {
     "name": "stdout",
     "output_type": "stream",
     "text": [
      " ARIMA(4,0,2)(0,0,0)[0]             : AIC=-2891.583, Time=2.46 sec\n"
     ]
    },
    {
     "name": "stderr",
     "output_type": "stream",
     "text": [
      "/home/ai/.local/lib/python3.8/site-packages/statsmodels/tsa/statespace/sarimax.py:1890: RuntimeWarning: divide by zero encountered in reciprocal\n",
      "  return np.roots(self.polynomial_reduced_ar)**-1\n",
      "/home/ai/.local/lib/python3.8/site-packages/statsmodels/tsa/statespace/sarimax.py:1897: RuntimeWarning: divide by zero encountered in reciprocal\n",
      "  return np.roots(self.polynomial_reduced_ma)**-1\n"
     ]
    },
    {
     "name": "stdout",
     "output_type": "stream",
     "text": [
      " ARIMA(3,0,3)(0,0,0)[0]             : AIC=-2861.005, Time=2.48 sec\n"
     ]
    },
    {
     "name": "stderr",
     "output_type": "stream",
     "text": [
      "/home/ai/.local/lib/python3.8/site-packages/statsmodels/tsa/statespace/sarimax.py:1890: RuntimeWarning: divide by zero encountered in reciprocal\n",
      "  return np.roots(self.polynomial_reduced_ar)**-1\n",
      "/home/ai/.local/lib/python3.8/site-packages/statsmodels/tsa/statespace/sarimax.py:1897: RuntimeWarning: divide by zero encountered in reciprocal\n",
      "  return np.roots(self.polynomial_reduced_ma)**-1\n"
     ]
    },
    {
     "name": "stdout",
     "output_type": "stream",
     "text": [
      " ARIMA(2,0,1)(0,0,0)[0]             : AIC=-2950.728, Time=2.09 sec\n",
      " ARIMA(2,0,3)(0,0,0)[0]             : AIC=-4260.309, Time=2.40 sec\n",
      " ARIMA(4,0,1)(0,0,0)[0]             : AIC=-4268.752, Time=2.41 sec\n"
     ]
    },
    {
     "name": "stderr",
     "output_type": "stream",
     "text": [
      "/home/ai/.local/lib/python3.8/site-packages/statsmodels/tsa/statespace/sarimax.py:1890: RuntimeWarning: divide by zero encountered in reciprocal\n",
      "  return np.roots(self.polynomial_reduced_ar)**-1\n",
      "/home/ai/.local/lib/python3.8/site-packages/statsmodels/tsa/statespace/sarimax.py:1897: RuntimeWarning: divide by zero encountered in reciprocal\n",
      "  return np.roots(self.polynomial_reduced_ma)**-1\n"
     ]
    },
    {
     "name": "stdout",
     "output_type": "stream",
     "text": [
      " ARIMA(4,0,3)(0,0,0)[0]             : AIC=-2842.825, Time=2.48 sec\n",
      "\n",
      "Best model:  ARIMA(3,0,2)(0,0,0)[0]          \n",
      "Total fit time: 54.026 seconds\n",
      "Performing stepwise search to minimize aic\n"
     ]
    },
    {
     "name": "stderr",
     "output_type": "stream",
     "text": [
      "/home/ai/.local/lib/python3.8/site-packages/statsmodels/tsa/statespace/sarimax.py:1890: RuntimeWarning: divide by zero encountered in reciprocal\n",
      "  return np.roots(self.polynomial_reduced_ar)**-1\n",
      "/home/ai/.local/lib/python3.8/site-packages/statsmodels/tsa/statespace/sarimax.py:1897: RuntimeWarning: divide by zero encountered in reciprocal\n",
      "  return np.roots(self.polynomial_reduced_ma)**-1\n"
     ]
    },
    {
     "name": "stdout",
     "output_type": "stream",
     "text": [
      " ARIMA(2,0,2)(0,0,0)[0] intercept   : AIC=-9885.231, Time=2.41 sec\n",
      " ARIMA(0,0,0)(0,0,0)[0] intercept   : AIC=-10140.372, Time=1.90 sec\n",
      " ARIMA(1,0,0)(0,0,0)[0] intercept   : AIC=-10686.418, Time=1.99 sec\n",
      " ARIMA(0,0,1)(0,0,0)[0] intercept   : AIC=-10456.172, Time=2.09 sec\n",
      " ARIMA(0,0,0)(0,0,0)[0]             : AIC=-5720.463, Time=1.86 sec\n",
      " ARIMA(2,0,0)(0,0,0)[0] intercept   : AIC=-10685.284, Time=2.10 sec\n",
      " ARIMA(1,0,1)(0,0,0)[0] intercept   : AIC=-10685.335, Time=2.11 sec\n",
      " ARIMA(2,0,1)(0,0,0)[0] intercept   : AIC=-10682.770, Time=2.15 sec\n",
      " ARIMA(1,0,0)(0,0,0)[0]             : AIC=-10688.419, Time=1.90 sec\n",
      " ARIMA(2,0,0)(0,0,0)[0]             : AIC=-10687.287, Time=2.03 sec\n",
      " ARIMA(1,0,1)(0,0,0)[0]             : AIC=-10687.342, Time=2.04 sec\n",
      " ARIMA(0,0,1)(0,0,0)[0]             : AIC=-10458.172, Time=1.99 sec\n",
      " ARIMA(2,0,1)(0,0,0)[0]             : AIC=-10684.772, Time=2.09 sec\n",
      "\n",
      "Best model:  ARIMA(1,0,0)(0,0,0)[0]          \n",
      "Total fit time: 26.671 seconds\n",
      "Performing stepwise search to minimize aic\n"
     ]
    },
    {
     "name": "stderr",
     "output_type": "stream",
     "text": [
      "/home/ai/.local/lib/python3.8/site-packages/statsmodels/tsa/statespace/sarimax.py:1890: RuntimeWarning: divide by zero encountered in reciprocal\n",
      "  return np.roots(self.polynomial_reduced_ar)**-1\n",
      "/home/ai/.local/lib/python3.8/site-packages/statsmodels/tsa/statespace/sarimax.py:1897: RuntimeWarning: divide by zero encountered in reciprocal\n",
      "  return np.roots(self.polynomial_reduced_ma)**-1\n"
     ]
    },
    {
     "name": "stdout",
     "output_type": "stream",
     "text": [
      " ARIMA(2,0,2)(0,0,0)[0] intercept   : AIC=-1013.701, Time=2.41 sec\n",
      " ARIMA(0,0,0)(0,0,0)[0] intercept   : AIC=-2017.998, Time=1.91 sec\n",
      " ARIMA(1,0,0)(0,0,0)[0] intercept   : AIC=-3001.610, Time=1.97 sec\n",
      " ARIMA(0,0,1)(0,0,0)[0] intercept   : AIC=-2254.100, Time=2.08 sec\n",
      " ARIMA(0,0,0)(0,0,0)[0]             : AIC=2401.911, Time=1.85 sec\n",
      " ARIMA(2,0,0)(0,0,0)[0] intercept   : AIC=-3003.143, Time=2.19 sec\n",
      " ARIMA(3,0,0)(0,0,0)[0] intercept   : AIC=-3001.599, Time=2.34 sec\n",
      " ARIMA(2,0,1)(0,0,0)[0] intercept   : AIC=-3002.877, Time=2.15 sec\n",
      " ARIMA(1,0,1)(0,0,0)[0] intercept   : AIC=-3002.959, Time=2.10 sec\n",
      " ARIMA(3,0,1)(0,0,0)[0] intercept   : AIC=-2998.882, Time=2.38 sec\n",
      " ARIMA(2,0,0)(0,0,0)[0]             : AIC=-3005.146, Time=2.02 sec\n",
      " ARIMA(1,0,0)(0,0,0)[0]             : AIC=-3003.612, Time=1.89 sec\n",
      " ARIMA(3,0,0)(0,0,0)[0]             : AIC=-3003.602, Time=2.27 sec\n",
      " ARIMA(2,0,1)(0,0,0)[0]             : AIC=-3004.883, Time=2.08 sec\n",
      " ARIMA(1,0,1)(0,0,0)[0]             : AIC=-3004.962, Time=2.05 sec\n",
      " ARIMA(3,0,1)(0,0,0)[0]             : AIC=-3000.884, Time=2.33 sec\n",
      "\n",
      "Best model:  ARIMA(2,0,0)(0,0,0)[0]          \n",
      "Total fit time: 34.013 seconds\n",
      "Performing stepwise search to minimize aic\n",
      " ARIMA(2,0,2)(0,0,0)[0] intercept   : AIC=-9553.592, Time=2.38 sec\n",
      " ARIMA(0,0,0)(0,0,0)[0] intercept   : AIC=-9134.242, Time=1.90 sec\n",
      " ARIMA(1,0,0)(0,0,0)[0] intercept   : AIC=-9513.696, Time=1.98 sec\n",
      " ARIMA(0,0,1)(0,0,0)[0] intercept   : AIC=-9430.800, Time=2.05 sec\n",
      " ARIMA(0,0,0)(0,0,0)[0]             : AIC=-4714.333, Time=1.84 sec\n",
      " ARIMA(1,0,2)(0,0,0)[0] intercept   : AIC=-9555.302, Time=2.36 sec\n",
      " ARIMA(0,0,2)(0,0,0)[0] intercept   : AIC=-9550.980, Time=2.29 sec\n",
      " ARIMA(1,0,1)(0,0,0)[0] intercept   : AIC=-9557.709, Time=2.11 sec\n",
      " ARIMA(2,0,1)(0,0,0)[0] intercept   : AIC=-9549.222, Time=2.15 sec\n",
      " ARIMA(2,0,0)(0,0,0)[0] intercept   : AIC=-9547.890, Time=2.09 sec\n",
      " ARIMA(1,0,1)(0,0,0)[0]             : AIC=-9559.710, Time=2.05 sec\n",
      " ARIMA(0,0,1)(0,0,0)[0]             : AIC=-9432.800, Time=1.97 sec\n",
      " ARIMA(1,0,0)(0,0,0)[0]             : AIC=-9515.696, Time=1.91 sec\n",
      " ARIMA(2,0,1)(0,0,0)[0]             : AIC=-9551.222, Time=2.08 sec\n",
      " ARIMA(1,0,2)(0,0,0)[0]             : AIC=-9557.302, Time=2.26 sec\n",
      " ARIMA(0,0,2)(0,0,0)[0]             : AIC=-9552.980, Time=2.21 sec\n",
      " ARIMA(2,0,0)(0,0,0)[0]             : AIC=-9549.891, Time=2.05 sec\n",
      " ARIMA(2,0,2)(0,0,0)[0]             : AIC=-9555.592, Time=2.31 sec\n",
      "\n",
      "Best model:  ARIMA(1,0,1)(0,0,0)[0]          \n",
      "Total fit time: 38.004 seconds\n",
      "Performing stepwise search to minimize aic\n",
      " ARIMA(2,0,2)(0,0,0)[0] intercept   : AIC=-1908.765, Time=2.50 sec\n",
      " ARIMA(0,0,0)(0,0,0)[0] intercept   : AIC=-1370.011, Time=1.94 sec\n",
      " ARIMA(1,0,0)(0,0,0)[0] intercept   : AIC=-1910.063, Time=2.04 sec\n",
      " ARIMA(0,0,1)(0,0,0)[0] intercept   : AIC=-1666.317, Time=2.07 sec\n",
      " ARIMA(0,0,0)(0,0,0)[0]             : AIC=3049.898, Time=1.84 sec\n",
      " ARIMA(2,0,0)(0,0,0)[0] intercept   : AIC=-1910.029, Time=2.09 sec\n",
      " ARIMA(1,0,1)(0,0,0)[0] intercept   : AIC=-1909.715, Time=2.10 sec\n"
     ]
    },
    {
     "name": "stderr",
     "output_type": "stream",
     "text": [
      "/home/ai/.local/lib/python3.8/site-packages/statsmodels/tsa/statespace/sarimax.py:1890: RuntimeWarning: divide by zero encountered in reciprocal\n",
      "  return np.roots(self.polynomial_reduced_ar)**-1\n",
      "/home/ai/.local/lib/python3.8/site-packages/statsmodels/tsa/statespace/sarimax.py:1897: RuntimeWarning: divide by zero encountered in reciprocal\n",
      "  return np.roots(self.polynomial_reduced_ma)**-1\n"
     ]
    },
    {
     "name": "stdout",
     "output_type": "stream",
     "text": [
      " ARIMA(2,0,1)(0,0,0)[0] intercept   : AIC=-1120.008, Time=2.15 sec\n",
      " ARIMA(1,0,0)(0,0,0)[0]             : AIC=-1912.068, Time=1.89 sec\n",
      " ARIMA(2,0,0)(0,0,0)[0]             : AIC=-1912.037, Time=2.03 sec\n",
      " ARIMA(1,0,1)(0,0,0)[0]             : AIC=-1911.727, Time=2.03 sec\n",
      " ARIMA(0,0,1)(0,0,0)[0]             : AIC=-1668.312, Time=1.99 sec\n"
     ]
    },
    {
     "name": "stderr",
     "output_type": "stream",
     "text": [
      "/home/ai/.local/lib/python3.8/site-packages/statsmodels/tsa/statespace/sarimax.py:1890: RuntimeWarning: divide by zero encountered in reciprocal\n",
      "  return np.roots(self.polynomial_reduced_ar)**-1\n",
      "/home/ai/.local/lib/python3.8/site-packages/statsmodels/tsa/statespace/sarimax.py:1897: RuntimeWarning: divide by zero encountered in reciprocal\n",
      "  return np.roots(self.polynomial_reduced_ma)**-1\n"
     ]
    },
    {
     "name": "stdout",
     "output_type": "stream",
     "text": [
      " ARIMA(2,0,1)(0,0,0)[0]             : AIC=-1122.027, Time=2.08 sec\n",
      "\n",
      "Best model:  ARIMA(1,0,0)(0,0,0)[0]          \n",
      "Total fit time: 26.775 seconds\n",
      "Performing stepwise search to minimize aic\n",
      " ARIMA(2,0,2)(0,0,0)[0] intercept   : AIC=-4349.070, Time=2.40 sec\n",
      " ARIMA(0,0,0)(0,0,0)[0] intercept   : AIC=-3468.940, Time=1.91 sec\n",
      " ARIMA(1,0,0)(0,0,0)[0] intercept   : AIC=-4303.786, Time=1.95 sec\n",
      " ARIMA(0,0,1)(0,0,0)[0] intercept   : AIC=-3831.664, Time=2.06 sec\n",
      " ARIMA(0,0,0)(0,0,0)[0]             : AIC=950.969, Time=1.84 sec\n",
      " ARIMA(1,0,2)(0,0,0)[0] intercept   : AIC=-4315.020, Time=2.34 sec\n"
     ]
    },
    {
     "name": "stderr",
     "output_type": "stream",
     "text": [
      "/home/ai/.local/lib/python3.8/site-packages/statsmodels/tsa/statespace/sarimax.py:1890: RuntimeWarning: divide by zero encountered in reciprocal\n",
      "  return np.roots(self.polynomial_reduced_ar)**-1\n",
      "/home/ai/.local/lib/python3.8/site-packages/statsmodels/tsa/statespace/sarimax.py:1897: RuntimeWarning: divide by zero encountered in reciprocal\n",
      "  return np.roots(self.polynomial_reduced_ma)**-1\n"
     ]
    },
    {
     "name": "stdout",
     "output_type": "stream",
     "text": [
      " ARIMA(2,0,1)(0,0,0)[0] intercept   : AIC=-2752.203, Time=2.18 sec\n",
      " ARIMA(3,0,2)(0,0,0)[0] intercept   : AIC=-4349.310, Time=2.52 sec\n",
      " ARIMA(3,0,1)(0,0,0)[0] intercept   : AIC=-4311.872, Time=2.50 sec\n",
      " ARIMA(4,0,2)(0,0,0)[0] intercept   : AIC=-4346.297, Time=2.57 sec\n"
     ]
    },
    {
     "name": "stderr",
     "output_type": "stream",
     "text": [
      "/home/ai/.local/lib/python3.8/site-packages/statsmodels/tsa/statespace/sarimax.py:1890: RuntimeWarning: divide by zero encountered in reciprocal\n",
      "  return np.roots(self.polynomial_reduced_ar)**-1\n",
      "/home/ai/.local/lib/python3.8/site-packages/statsmodels/tsa/statespace/sarimax.py:1897: RuntimeWarning: divide by zero encountered in reciprocal\n",
      "  return np.roots(self.polynomial_reduced_ma)**-1\n"
     ]
    },
    {
     "name": "stdout",
     "output_type": "stream",
     "text": [
      " ARIMA(3,0,3)(0,0,0)[0] intercept   : AIC=-2706.704, Time=2.56 sec\n",
      " ARIMA(2,0,3)(0,0,0)[0] intercept   : AIC=-4342.870, Time=2.47 sec\n",
      " ARIMA(4,0,1)(0,0,0)[0] intercept   : AIC=-4335.588, Time=2.55 sec\n"
     ]
    },
    {
     "name": "stderr",
     "output_type": "stream",
     "text": [
      "/home/ai/.local/lib/python3.8/site-packages/statsmodels/tsa/statespace/sarimax.py:1890: RuntimeWarning: divide by zero encountered in reciprocal\n",
      "  return np.roots(self.polynomial_reduced_ar)**-1\n",
      "/home/ai/.local/lib/python3.8/site-packages/statsmodels/tsa/statespace/sarimax.py:1897: RuntimeWarning: divide by zero encountered in reciprocal\n",
      "  return np.roots(self.polynomial_reduced_ma)**-1\n"
     ]
    },
    {
     "name": "stdout",
     "output_type": "stream",
     "text": [
      " ARIMA(4,0,3)(0,0,0)[0] intercept   : AIC=-2702.434, Time=2.61 sec\n",
      " ARIMA(3,0,2)(0,0,0)[0]             : AIC=-4351.323, Time=2.45 sec\n",
      " ARIMA(2,0,2)(0,0,0)[0]             : AIC=-4351.083, Time=2.48 sec\n",
      " ARIMA(3,0,1)(0,0,0)[0]             : AIC=-4313.876, Time=2.42 sec\n",
      " ARIMA(4,0,2)(0,0,0)[0]             : AIC=-4348.301, Time=2.50 sec\n"
     ]
    },
    {
     "name": "stderr",
     "output_type": "stream",
     "text": [
      "/home/ai/.local/lib/python3.8/site-packages/statsmodels/tsa/statespace/sarimax.py:1890: RuntimeWarning: divide by zero encountered in reciprocal\n",
      "  return np.roots(self.polynomial_reduced_ar)**-1\n",
      "/home/ai/.local/lib/python3.8/site-packages/statsmodels/tsa/statespace/sarimax.py:1897: RuntimeWarning: divide by zero encountered in reciprocal\n",
      "  return np.roots(self.polynomial_reduced_ma)**-1\n"
     ]
    },
    {
     "name": "stdout",
     "output_type": "stream",
     "text": [
      " ARIMA(3,0,3)(0,0,0)[0]             : AIC=-2708.709, Time=2.48 sec\n"
     ]
    },
    {
     "name": "stderr",
     "output_type": "stream",
     "text": [
      "/home/ai/.local/lib/python3.8/site-packages/statsmodels/tsa/statespace/sarimax.py:1890: RuntimeWarning: divide by zero encountered in reciprocal\n",
      "  return np.roots(self.polynomial_reduced_ar)**-1\n",
      "/home/ai/.local/lib/python3.8/site-packages/statsmodels/tsa/statespace/sarimax.py:1897: RuntimeWarning: divide by zero encountered in reciprocal\n",
      "  return np.roots(self.polynomial_reduced_ma)**-1\n"
     ]
    },
    {
     "name": "stdout",
     "output_type": "stream",
     "text": [
      " ARIMA(2,0,1)(0,0,0)[0]             : AIC=-2754.207, Time=2.13 sec\n",
      " ARIMA(2,0,3)(0,0,0)[0]             : AIC=-4344.886, Time=2.43 sec\n",
      " ARIMA(4,0,1)(0,0,0)[0]             : AIC=-4337.590, Time=2.46 sec\n"
     ]
    },
    {
     "name": "stderr",
     "output_type": "stream",
     "text": [
      "/home/ai/.local/lib/python3.8/site-packages/statsmodels/tsa/statespace/sarimax.py:1890: RuntimeWarning: divide by zero encountered in reciprocal\n",
      "  return np.roots(self.polynomial_reduced_ar)**-1\n",
      "/home/ai/.local/lib/python3.8/site-packages/statsmodels/tsa/statespace/sarimax.py:1897: RuntimeWarning: divide by zero encountered in reciprocal\n",
      "  return np.roots(self.polynomial_reduced_ma)**-1\n"
     ]
    },
    {
     "name": "stdout",
     "output_type": "stream",
     "text": [
      " ARIMA(4,0,3)(0,0,0)[0]             : AIC=-2704.438, Time=2.52 sec\n",
      "\n",
      "Best model:  ARIMA(3,0,2)(0,0,0)[0]          \n",
      "Total fit time: 54.340 seconds\n",
      "Performing stepwise search to minimize aic\n",
      " ARIMA(2,0,2)(0,0,0)[0] intercept   : AIC=-3234.143, Time=2.45 sec\n",
      " ARIMA(0,0,0)(0,0,0)[0] intercept   : AIC=-2354.110, Time=1.95 sec\n",
      " ARIMA(1,0,0)(0,0,0)[0] intercept   : AIC=-3223.092, Time=2.00 sec\n",
      " ARIMA(0,0,1)(0,0,0)[0] intercept   : AIC=-2748.203, Time=2.09 sec\n",
      " ARIMA(0,0,0)(0,0,0)[0]             : AIC=2065.799, Time=1.98 sec\n",
      " ARIMA(1,0,2)(0,0,0)[0] intercept   : AIC=-3222.784, Time=2.44 sec\n",
      " ARIMA(2,0,1)(0,0,0)[0] intercept   : AIC=-3236.144, Time=2.22 sec\n",
      " ARIMA(1,0,1)(0,0,0)[0] intercept   : AIC=-3225.146, Time=2.10 sec\n",
      " ARIMA(2,0,0)(0,0,0)[0] intercept   : AIC=-3225.511, Time=2.10 sec\n",
      " ARIMA(3,0,1)(0,0,0)[0] intercept   : AIC=-3219.488, Time=2.39 sec\n",
      " ARIMA(3,0,0)(0,0,0)[0] intercept   : AIC=-3225.190, Time=2.35 sec\n",
      " ARIMA(3,0,2)(0,0,0)[0] intercept   : AIC=-2719.267, Time=6.03 sec\n",
      " ARIMA(2,0,1)(0,0,0)[0]             : AIC=-3238.146, Time=2.10 sec\n",
      " ARIMA(1,0,1)(0,0,0)[0]             : AIC=-3227.147, Time=2.06 sec\n",
      " ARIMA(2,0,0)(0,0,0)[0]             : AIC=-3227.511, Time=2.08 sec\n",
      " ARIMA(3,0,1)(0,0,0)[0]             : AIC=-3221.488, Time=2.31 sec\n",
      " ARIMA(2,0,2)(0,0,0)[0]             : AIC=-3236.145, Time=2.40 sec\n",
      " ARIMA(1,0,0)(0,0,0)[0]             : AIC=-3225.094, Time=1.97 sec\n",
      " ARIMA(1,0,2)(0,0,0)[0]             : AIC=-3224.785, Time=2.38 sec\n",
      " ARIMA(3,0,0)(0,0,0)[0]             : AIC=-3227.190, Time=2.30 sec\n",
      " ARIMA(3,0,2)(0,0,0)[0]             : AIC=-2721.277, Time=5.87 sec\n",
      "\n",
      "Best model:  ARIMA(2,0,1)(0,0,0)[0]          \n",
      "Total fit time: 53.595 seconds\n",
      "Performing stepwise search to minimize aic\n"
     ]
    },
    {
     "name": "stderr",
     "output_type": "stream",
     "text": [
      "/home/ai/.local/lib/python3.8/site-packages/statsmodels/tsa/statespace/sarimax.py:1897: RuntimeWarning: divide by zero encountered in reciprocal\n",
      "  return np.roots(self.polynomial_reduced_ma)**-1\n"
     ]
    },
    {
     "name": "stdout",
     "output_type": "stream",
     "text": [
      " ARIMA(2,0,2)(0,0,0)[0] intercept   : AIC=-2141.795, Time=2.42 sec\n",
      " ARIMA(0,0,0)(0,0,0)[0] intercept   : AIC=-2092.365, Time=1.91 sec\n",
      " ARIMA(1,0,0)(0,0,0)[0] intercept   : AIC=-2968.554, Time=1.97 sec\n",
      " ARIMA(0,0,1)(0,0,0)[0] intercept   : AIC=-2434.226, Time=2.05 sec\n",
      " ARIMA(0,0,0)(0,0,0)[0]             : AIC=2327.544, Time=1.88 sec\n",
      " ARIMA(2,0,0)(0,0,0)[0] intercept   : AIC=-2970.189, Time=2.16 sec\n",
      " ARIMA(3,0,0)(0,0,0)[0] intercept   : AIC=-2970.755, Time=2.34 sec\n",
      " ARIMA(4,0,0)(0,0,0)[0] intercept   : AIC=-2982.440, Time=2.42 sec\n",
      " ARIMA(5,0,0)(0,0,0)[0] intercept   : AIC=-2988.529, Time=2.77 sec\n",
      " ARIMA(5,0,1)(0,0,0)[0] intercept   : AIC=-2982.364, Time=2.90 sec\n",
      " ARIMA(4,0,1)(0,0,0)[0] intercept   : AIC=-2974.671, Time=2.46 sec\n",
      " ARIMA(5,0,0)(0,0,0)[0]             : AIC=-2990.531, Time=2.66 sec\n",
      " ARIMA(4,0,0)(0,0,0)[0]             : AIC=-2984.442, Time=2.35 sec\n",
      " ARIMA(5,0,1)(0,0,0)[0]             : AIC=-2984.365, Time=2.81 sec\n",
      " ARIMA(4,0,1)(0,0,0)[0]             : AIC=-2976.672, Time=2.45 sec\n",
      "\n",
      "Best model:  ARIMA(5,0,0)(0,0,0)[0]          \n",
      "Total fit time: 35.543 seconds\n",
      "Performing stepwise search to minimize aic\n",
      " ARIMA(2,0,2)(0,0,0)[0] intercept   : AIC=-3732.462, Time=2.59 sec\n",
      " ARIMA(0,0,0)(0,0,0)[0] intercept   : AIC=-2973.263, Time=1.98 sec\n",
      " ARIMA(1,0,0)(0,0,0)[0] intercept   : AIC=-3726.163, Time=2.11 sec\n",
      " ARIMA(0,0,1)(0,0,0)[0] intercept   : AIC=-3294.913, Time=2.09 sec\n",
      " ARIMA(0,0,0)(0,0,0)[0]             : AIC=1446.647, Time=1.86 sec\n",
      " ARIMA(1,0,2)(0,0,0)[0] intercept   : AIC=-3726.212, Time=2.34 sec\n"
     ]
    },
    {
     "name": "stderr",
     "output_type": "stream",
     "text": [
      "/home/ai/.local/lib/python3.8/site-packages/statsmodels/tsa/statespace/sarimax.py:1890: RuntimeWarning: divide by zero encountered in reciprocal\n",
      "  return np.roots(self.polynomial_reduced_ar)**-1\n",
      "/home/ai/.local/lib/python3.8/site-packages/statsmodels/tsa/statespace/sarimax.py:1897: RuntimeWarning: divide by zero encountered in reciprocal\n",
      "  return np.roots(self.polynomial_reduced_ma)**-1\n"
     ]
    },
    {
     "name": "stdout",
     "output_type": "stream",
     "text": [
      " ARIMA(2,0,1)(0,0,0)[0] intercept   : AIC=-2446.034, Time=2.18 sec\n"
     ]
    },
    {
     "name": "stderr",
     "output_type": "stream",
     "text": [
      "/home/ai/.local/lib/python3.8/site-packages/statsmodels/tsa/statespace/sarimax.py:1890: RuntimeWarning: divide by zero encountered in reciprocal\n",
      "  return np.roots(self.polynomial_reduced_ar)**-1\n",
      "/home/ai/.local/lib/python3.8/site-packages/statsmodels/tsa/statespace/sarimax.py:1897: RuntimeWarning: divide by zero encountered in reciprocal\n",
      "  return np.roots(self.polynomial_reduced_ma)**-1\n"
     ]
    },
    {
     "name": "stdout",
     "output_type": "stream",
     "text": [
      " ARIMA(3,0,2)(0,0,0)[0] intercept   : AIC=-2439.993, Time=2.47 sec\n"
     ]
    },
    {
     "name": "stderr",
     "output_type": "stream",
     "text": [
      "/home/ai/.local/lib/python3.8/site-packages/statsmodels/tsa/statespace/sarimax.py:1897: RuntimeWarning: divide by zero encountered in reciprocal\n",
      "  return np.roots(self.polynomial_reduced_ma)**-1\n"
     ]
    },
    {
     "name": "stdout",
     "output_type": "stream",
     "text": [
      " ARIMA(2,0,3)(0,0,0)[0] intercept   : AIC=-3022.907, Time=2.45 sec\n",
      " ARIMA(1,0,1)(0,0,0)[0] intercept   : AIC=-3725.861, Time=2.13 sec\n",
      " ARIMA(1,0,3)(0,0,0)[0] intercept   : AIC=-3724.056, Time=2.40 sec\n",
      " ARIMA(3,0,1)(0,0,0)[0] intercept   : AIC=-3724.320, Time=2.39 sec\n"
     ]
    },
    {
     "name": "stderr",
     "output_type": "stream",
     "text": [
      "/home/ai/.local/lib/python3.8/site-packages/statsmodels/tsa/statespace/sarimax.py:1897: RuntimeWarning: divide by zero encountered in reciprocal\n",
      "  return np.roots(self.polynomial_reduced_ma)**-1\n"
     ]
    },
    {
     "name": "stdout",
     "output_type": "stream",
     "text": [
      " ARIMA(3,0,3)(0,0,0)[0] intercept   : AIC=-3337.572, Time=2.46 sec\n",
      " ARIMA(2,0,2)(0,0,0)[0]             : AIC=-3734.537, Time=2.33 sec\n",
      " ARIMA(1,0,2)(0,0,0)[0]             : AIC=-3728.218, Time=2.26 sec\n"
     ]
    },
    {
     "name": "stderr",
     "output_type": "stream",
     "text": [
      "/home/ai/.local/lib/python3.8/site-packages/statsmodels/tsa/statespace/sarimax.py:1890: RuntimeWarning: divide by zero encountered in reciprocal\n",
      "  return np.roots(self.polynomial_reduced_ar)**-1\n",
      "/home/ai/.local/lib/python3.8/site-packages/statsmodels/tsa/statespace/sarimax.py:1897: RuntimeWarning: divide by zero encountered in reciprocal\n",
      "  return np.roots(self.polynomial_reduced_ma)**-1\n"
     ]
    },
    {
     "name": "stdout",
     "output_type": "stream",
     "text": [
      " ARIMA(2,0,1)(0,0,0)[0]             : AIC=-2448.042, Time=2.09 sec\n"
     ]
    },
    {
     "name": "stderr",
     "output_type": "stream",
     "text": [
      "/home/ai/.local/lib/python3.8/site-packages/statsmodels/tsa/statespace/sarimax.py:1890: RuntimeWarning: divide by zero encountered in reciprocal\n",
      "  return np.roots(self.polynomial_reduced_ar)**-1\n",
      "/home/ai/.local/lib/python3.8/site-packages/statsmodels/tsa/statespace/sarimax.py:1897: RuntimeWarning: divide by zero encountered in reciprocal\n",
      "  return np.roots(self.polynomial_reduced_ma)**-1\n"
     ]
    },
    {
     "name": "stdout",
     "output_type": "stream",
     "text": [
      " ARIMA(3,0,2)(0,0,0)[0]             : AIC=-2442.013, Time=2.36 sec\n"
     ]
    },
    {
     "name": "stderr",
     "output_type": "stream",
     "text": [
      "/home/ai/.local/lib/python3.8/site-packages/statsmodels/tsa/statespace/sarimax.py:1897: RuntimeWarning: divide by zero encountered in reciprocal\n",
      "  return np.roots(self.polynomial_reduced_ma)**-1\n"
     ]
    },
    {
     "name": "stdout",
     "output_type": "stream",
     "text": [
      " ARIMA(2,0,3)(0,0,0)[0]             : AIC=-3025.678, Time=2.37 sec\n",
      " ARIMA(1,0,1)(0,0,0)[0]             : AIC=-3727.865, Time=2.03 sec\n",
      " ARIMA(1,0,3)(0,0,0)[0]             : AIC=-3726.063, Time=2.32 sec\n",
      " ARIMA(3,0,1)(0,0,0)[0]             : AIC=-3726.323, Time=2.33 sec\n"
     ]
    },
    {
     "name": "stderr",
     "output_type": "stream",
     "text": [
      "/home/ai/.local/lib/python3.8/site-packages/statsmodels/tsa/statespace/sarimax.py:1897: RuntimeWarning: divide by zero encountered in reciprocal\n",
      "  return np.roots(self.polynomial_reduced_ma)**-1\n"
     ]
    },
    {
     "name": "stdout",
     "output_type": "stream",
     "text": [
      " ARIMA(3,0,3)(0,0,0)[0]             : AIC=-3340.035, Time=2.42 sec\n",
      "\n",
      "Best model:  ARIMA(2,0,2)(0,0,0)[0]          \n",
      "Total fit time: 49.971 seconds\n",
      "Performing stepwise search to minimize aic\n",
      " ARIMA(2,0,2)(0,0,0)[0] intercept   : AIC=-4148.868, Time=2.40 sec\n",
      " ARIMA(0,0,0)(0,0,0)[0] intercept   : AIC=-3217.653, Time=1.90 sec\n",
      " ARIMA(1,0,0)(0,0,0)[0] intercept   : AIC=-4109.491, Time=1.96 sec\n",
      " ARIMA(0,0,1)(0,0,0)[0] intercept   : AIC=-3537.092, Time=2.06 sec\n",
      " ARIMA(0,0,0)(0,0,0)[0]             : AIC=1202.256, Time=1.84 sec\n",
      " ARIMA(1,0,2)(0,0,0)[0] intercept   : AIC=-4123.804, Time=2.36 sec\n"
     ]
    },
    {
     "name": "stderr",
     "output_type": "stream",
     "text": [
      "/home/ai/.local/lib/python3.8/site-packages/statsmodels/tsa/statespace/sarimax.py:1890: RuntimeWarning: divide by zero encountered in reciprocal\n",
      "  return np.roots(self.polynomial_reduced_ar)**-1\n",
      "/home/ai/.local/lib/python3.8/site-packages/statsmodels/tsa/statespace/sarimax.py:1897: RuntimeWarning: divide by zero encountered in reciprocal\n",
      "  return np.roots(self.polynomial_reduced_ma)**-1\n"
     ]
    },
    {
     "name": "stdout",
     "output_type": "stream",
     "text": [
      " ARIMA(2,0,1)(0,0,0)[0] intercept   : AIC=-2373.968, Time=2.16 sec\n",
      " ARIMA(3,0,2)(0,0,0)[0] intercept   : AIC=-4148.938, Time=2.48 sec\n",
      " ARIMA(3,0,1)(0,0,0)[0] intercept   : AIC=-4121.337, Time=2.37 sec\n",
      " ARIMA(4,0,2)(0,0,0)[0] intercept   : AIC=-4146.185, Time=2.52 sec\n"
     ]
    },
    {
     "name": "stderr",
     "output_type": "stream",
     "text": [
      "/home/ai/.local/lib/python3.8/site-packages/statsmodels/tsa/statespace/sarimax.py:1890: RuntimeWarning: divide by zero encountered in reciprocal\n",
      "  return np.roots(self.polynomial_reduced_ar)**-1\n",
      "/home/ai/.local/lib/python3.8/site-packages/statsmodels/tsa/statespace/sarimax.py:1897: RuntimeWarning: divide by zero encountered in reciprocal\n",
      "  return np.roots(self.polynomial_reduced_ma)**-1\n"
     ]
    },
    {
     "name": "stdout",
     "output_type": "stream",
     "text": [
      " ARIMA(3,0,3)(0,0,0)[0] intercept   : AIC=-2334.749, Time=2.47 sec\n",
      " ARIMA(2,0,3)(0,0,0)[0] intercept   : AIC=-4145.269, Time=2.56 sec\n",
      " ARIMA(4,0,1)(0,0,0)[0] intercept   : AIC=-4136.943, Time=2.45 sec\n"
     ]
    },
    {
     "name": "stderr",
     "output_type": "stream",
     "text": [
      "/home/ai/.local/lib/python3.8/site-packages/statsmodels/tsa/statespace/sarimax.py:1890: RuntimeWarning: divide by zero encountered in reciprocal\n",
      "  return np.roots(self.polynomial_reduced_ar)**-1\n",
      "/home/ai/.local/lib/python3.8/site-packages/statsmodels/tsa/statespace/sarimax.py:1897: RuntimeWarning: divide by zero encountered in reciprocal\n",
      "  return np.roots(self.polynomial_reduced_ma)**-1\n"
     ]
    },
    {
     "name": "stdout",
     "output_type": "stream",
     "text": [
      " ARIMA(4,0,3)(0,0,0)[0] intercept   : AIC=-2327.215, Time=2.52 sec\n",
      " ARIMA(3,0,2)(0,0,0)[0]             : AIC=-4150.931, Time=2.36 sec\n",
      " ARIMA(2,0,2)(0,0,0)[0]             : AIC=-4150.862, Time=2.33 sec\n",
      " ARIMA(3,0,1)(0,0,0)[0]             : AIC=-4123.337, Time=2.32 sec\n",
      " ARIMA(4,0,2)(0,0,0)[0]             : AIC=-4148.179, Time=2.44 sec\n"
     ]
    },
    {
     "name": "stderr",
     "output_type": "stream",
     "text": [
      "/home/ai/.local/lib/python3.8/site-packages/statsmodels/tsa/statespace/sarimax.py:1890: RuntimeWarning: divide by zero encountered in reciprocal\n",
      "  return np.roots(self.polynomial_reduced_ar)**-1\n",
      "/home/ai/.local/lib/python3.8/site-packages/statsmodels/tsa/statespace/sarimax.py:1897: RuntimeWarning: divide by zero encountered in reciprocal\n",
      "  return np.roots(self.polynomial_reduced_ma)**-1\n"
     ]
    },
    {
     "name": "stdout",
     "output_type": "stream",
     "text": [
      " ARIMA(3,0,3)(0,0,0)[0]             : AIC=-2336.748, Time=2.42 sec\n"
     ]
    },
    {
     "name": "stderr",
     "output_type": "stream",
     "text": [
      "/home/ai/.local/lib/python3.8/site-packages/statsmodels/tsa/statespace/sarimax.py:1890: RuntimeWarning: divide by zero encountered in reciprocal\n",
      "  return np.roots(self.polynomial_reduced_ar)**-1\n",
      "/home/ai/.local/lib/python3.8/site-packages/statsmodels/tsa/statespace/sarimax.py:1897: RuntimeWarning: divide by zero encountered in reciprocal\n",
      "  return np.roots(self.polynomial_reduced_ma)**-1\n"
     ]
    },
    {
     "name": "stdout",
     "output_type": "stream",
     "text": [
      " ARIMA(2,0,1)(0,0,0)[0]             : AIC=-2375.968, Time=2.07 sec\n",
      " ARIMA(2,0,3)(0,0,0)[0]             : AIC=-4147.272, Time=2.43 sec\n",
      " ARIMA(4,0,1)(0,0,0)[0]             : AIC=-4138.941, Time=2.39 sec\n"
     ]
    },
    {
     "name": "stderr",
     "output_type": "stream",
     "text": [
      "/home/ai/.local/lib/python3.8/site-packages/statsmodels/tsa/statespace/sarimax.py:1890: RuntimeWarning: divide by zero encountered in reciprocal\n",
      "  return np.roots(self.polynomial_reduced_ar)**-1\n",
      "/home/ai/.local/lib/python3.8/site-packages/statsmodels/tsa/statespace/sarimax.py:1897: RuntimeWarning: divide by zero encountered in reciprocal\n",
      "  return np.roots(self.polynomial_reduced_ma)**-1\n"
     ]
    },
    {
     "name": "stdout",
     "output_type": "stream",
     "text": [
      " ARIMA(4,0,3)(0,0,0)[0]             : AIC=-2329.215, Time=2.48 sec\n",
      "\n",
      "Best model:  ARIMA(3,0,2)(0,0,0)[0]          \n",
      "Total fit time: 53.304 seconds\n",
      "Performing stepwise search to minimize aic\n",
      " ARIMA(2,0,2)(0,0,0)[0] intercept   : AIC=-4749.985, Time=2.37 sec\n",
      " ARIMA(0,0,0)(0,0,0)[0] intercept   : AIC=-3935.242, Time=1.90 sec\n",
      " ARIMA(1,0,0)(0,0,0)[0] intercept   : AIC=-4758.885, Time=1.95 sec\n",
      " ARIMA(0,0,1)(0,0,0)[0] intercept   : AIC=-4358.690, Time=2.03 sec\n",
      " ARIMA(0,0,0)(0,0,0)[0]             : AIC=484.667, Time=1.84 sec\n",
      " ARIMA(2,0,0)(0,0,0)[0] intercept   : AIC=-4756.884, Time=2.08 sec\n",
      " ARIMA(1,0,1)(0,0,0)[0] intercept   : AIC=-4756.879, Time=2.12 sec\n"
     ]
    },
    {
     "name": "stderr",
     "output_type": "stream",
     "text": [
      "/home/ai/.local/lib/python3.8/site-packages/statsmodels/tsa/statespace/sarimax.py:1890: RuntimeWarning: divide by zero encountered in reciprocal\n",
      "  return np.roots(self.polynomial_reduced_ar)**-1\n",
      "/home/ai/.local/lib/python3.8/site-packages/statsmodels/tsa/statespace/sarimax.py:1897: RuntimeWarning: divide by zero encountered in reciprocal\n",
      "  return np.roots(self.polynomial_reduced_ma)**-1\n"
     ]
    },
    {
     "name": "stdout",
     "output_type": "stream",
     "text": [
      " ARIMA(2,0,1)(0,0,0)[0] intercept   : AIC=-3292.127, Time=2.17 sec\n",
      " ARIMA(1,0,0)(0,0,0)[0]             : AIC=-4760.886, Time=1.91 sec\n",
      " ARIMA(2,0,0)(0,0,0)[0]             : AIC=-4758.885, Time=2.05 sec\n",
      " ARIMA(1,0,1)(0,0,0)[0]             : AIC=-4758.881, Time=2.09 sec\n",
      " ARIMA(0,0,1)(0,0,0)[0]             : AIC=-4360.691, Time=2.02 sec\n"
     ]
    },
    {
     "name": "stderr",
     "output_type": "stream",
     "text": [
      "/home/ai/.local/lib/python3.8/site-packages/statsmodels/tsa/statespace/sarimax.py:1890: RuntimeWarning: divide by zero encountered in reciprocal\n",
      "  return np.roots(self.polynomial_reduced_ar)**-1\n",
      "/home/ai/.local/lib/python3.8/site-packages/statsmodels/tsa/statespace/sarimax.py:1897: RuntimeWarning: divide by zero encountered in reciprocal\n",
      "  return np.roots(self.polynomial_reduced_ma)**-1\n"
     ]
    },
    {
     "name": "stdout",
     "output_type": "stream",
     "text": [
      " ARIMA(2,0,1)(0,0,0)[0]             : AIC=-3294.131, Time=2.14 sec\n",
      "\n",
      "Best model:  ARIMA(1,0,0)(0,0,0)[0]          \n",
      "Total fit time: 26.683 seconds\n",
      "Performing stepwise search to minimize aic\n",
      " ARIMA(2,0,2)(0,0,0)[0] intercept   : AIC=-5614.701, Time=2.52 sec\n",
      " ARIMA(0,0,0)(0,0,0)[0] intercept   : AIC=-5079.870, Time=1.89 sec\n",
      " ARIMA(1,0,0)(0,0,0)[0] intercept   : AIC=-5565.813, Time=1.96 sec\n",
      " ARIMA(0,0,1)(0,0,0)[0] intercept   : AIC=-5282.224, Time=2.12 sec\n",
      " ARIMA(0,0,0)(0,0,0)[0]             : AIC=-659.961, Time=1.85 sec\n",
      " ARIMA(1,0,2)(0,0,0)[0] intercept   : AIC=-5618.333, Time=2.32 sec\n",
      " ARIMA(0,0,2)(0,0,0)[0] intercept   : AIC=-5570.626, Time=2.26 sec\n",
      " ARIMA(1,0,1)(0,0,0)[0] intercept   : AIC=-5576.285, Time=2.10 sec\n",
      " ARIMA(1,0,3)(0,0,0)[0] intercept   : AIC=-5599.301, Time=2.38 sec\n",
      " ARIMA(0,0,3)(0,0,0)[0] intercept   : AIC=-5617.784, Time=2.34 sec\n"
     ]
    },
    {
     "name": "stderr",
     "output_type": "stream",
     "text": [
      "/home/ai/.local/lib/python3.8/site-packages/statsmodels/tsa/statespace/sarimax.py:1890: RuntimeWarning: divide by zero encountered in reciprocal\n",
      "  return np.roots(self.polynomial_reduced_ar)**-1\n",
      "/home/ai/.local/lib/python3.8/site-packages/statsmodels/tsa/statespace/sarimax.py:1897: RuntimeWarning: divide by zero encountered in reciprocal\n",
      "  return np.roots(self.polynomial_reduced_ma)**-1\n"
     ]
    },
    {
     "name": "stdout",
     "output_type": "stream",
     "text": [
      " ARIMA(2,0,1)(0,0,0)[0] intercept   : AIC=-4829.600, Time=2.14 sec\n",
      " ARIMA(2,0,3)(0,0,0)[0] intercept   : AIC=-5639.744, Time=2.43 sec\n",
      " ARIMA(3,0,3)(0,0,0)[0] intercept   : AIC=inf, Time=2.48 sec\n",
      " ARIMA(2,0,4)(0,0,0)[0] intercept   : AIC=-5633.254, Time=2.75 sec\n",
      " ARIMA(1,0,4)(0,0,0)[0] intercept   : AIC=-5621.470, Time=2.75 sec\n",
      " ARIMA(3,0,2)(0,0,0)[0] intercept   : AIC=-5618.371, Time=2.43 sec\n",
      " ARIMA(3,0,4)(0,0,0)[0] intercept   : AIC=-5634.319, Time=2.80 sec\n",
      " ARIMA(2,0,3)(0,0,0)[0]             : AIC=-5652.278, Time=2.42 sec\n",
      " ARIMA(1,0,3)(0,0,0)[0]             : AIC=-5601.317, Time=2.34 sec\n",
      " ARIMA(2,0,2)(0,0,0)[0]             : AIC=-5616.716, Time=2.32 sec\n",
      " ARIMA(3,0,3)(0,0,0)[0]             : AIC=inf, Time=2.47 sec\n",
      " ARIMA(2,0,4)(0,0,0)[0]             : AIC=-5635.817, Time=2.70 sec\n",
      " ARIMA(1,0,2)(0,0,0)[0]             : AIC=-5620.342, Time=2.26 sec\n",
      " ARIMA(1,0,4)(0,0,0)[0]             : AIC=-5624.362, Time=2.65 sec\n",
      " ARIMA(3,0,2)(0,0,0)[0]             : AIC=-5620.385, Time=2.45 sec\n",
      " ARIMA(3,0,4)(0,0,0)[0]             : AIC=-5636.705, Time=2.76 sec\n",
      "\n",
      "Best model:  ARIMA(2,0,3)(0,0,0)[0]          \n",
      "Total fit time: 61.906 seconds\n",
      "Performing stepwise search to minimize aic\n",
      " ARIMA(2,0,2)(0,0,0)[0] intercept   : AIC=-4045.554, Time=2.41 sec\n",
      " ARIMA(0,0,0)(0,0,0)[0] intercept   : AIC=-3215.290, Time=1.94 sec\n",
      " ARIMA(1,0,0)(0,0,0)[0] intercept   : AIC=-4013.919, Time=2.03 sec\n",
      " ARIMA(0,0,1)(0,0,0)[0] intercept   : AIC=-3579.528, Time=2.16 sec\n",
      " ARIMA(0,0,0)(0,0,0)[0]             : AIC=1204.619, Time=1.85 sec\n",
      " ARIMA(1,0,2)(0,0,0)[0] intercept   : AIC=-4022.348, Time=2.41 sec\n"
     ]
    },
    {
     "name": "stderr",
     "output_type": "stream",
     "text": [
      "/home/ai/.local/lib/python3.8/site-packages/statsmodels/tsa/statespace/sarimax.py:1890: RuntimeWarning: divide by zero encountered in reciprocal\n",
      "  return np.roots(self.polynomial_reduced_ar)**-1\n",
      "/home/ai/.local/lib/python3.8/site-packages/statsmodels/tsa/statespace/sarimax.py:1897: RuntimeWarning: divide by zero encountered in reciprocal\n",
      "  return np.roots(self.polynomial_reduced_ma)**-1\n"
     ]
    },
    {
     "name": "stdout",
     "output_type": "stream",
     "text": [
      " ARIMA(2,0,1)(0,0,0)[0] intercept   : AIC=-2583.653, Time=2.14 sec\n",
      " ARIMA(3,0,2)(0,0,0)[0] intercept   : AIC=-4047.980, Time=2.43 sec\n",
      " ARIMA(3,0,1)(0,0,0)[0] intercept   : AIC=-4016.147, Time=2.37 sec\n",
      " ARIMA(4,0,2)(0,0,0)[0] intercept   : AIC=-4044.119, Time=2.49 sec\n"
     ]
    },
    {
     "name": "stderr",
     "output_type": "stream",
     "text": [
      "/home/ai/.local/lib/python3.8/site-packages/statsmodels/tsa/statespace/sarimax.py:1890: RuntimeWarning: divide by zero encountered in reciprocal\n",
      "  return np.roots(self.polynomial_reduced_ar)**-1\n",
      "/home/ai/.local/lib/python3.8/site-packages/statsmodels/tsa/statespace/sarimax.py:1897: RuntimeWarning: divide by zero encountered in reciprocal\n",
      "  return np.roots(self.polynomial_reduced_ma)**-1\n"
     ]
    },
    {
     "name": "stdout",
     "output_type": "stream",
     "text": [
      " ARIMA(3,0,3)(0,0,0)[0] intercept   : AIC=-2544.626, Time=2.50 sec\n",
      " ARIMA(2,0,3)(0,0,0)[0] intercept   : AIC=-4042.182, Time=2.51 sec\n",
      " ARIMA(4,0,1)(0,0,0)[0] intercept   : AIC=-4033.568, Time=2.45 sec\n"
     ]
    },
    {
     "name": "stderr",
     "output_type": "stream",
     "text": [
      "/home/ai/.local/lib/python3.8/site-packages/statsmodels/tsa/statespace/sarimax.py:1890: RuntimeWarning: divide by zero encountered in reciprocal\n",
      "  return np.roots(self.polynomial_reduced_ar)**-1\n",
      "/home/ai/.local/lib/python3.8/site-packages/statsmodels/tsa/statespace/sarimax.py:1897: RuntimeWarning: divide by zero encountered in reciprocal\n",
      "  return np.roots(self.polynomial_reduced_ma)**-1\n"
     ]
    },
    {
     "name": "stdout",
     "output_type": "stream",
     "text": [
      " ARIMA(4,0,3)(0,0,0)[0] intercept   : AIC=-2542.586, Time=2.53 sec\n",
      " ARIMA(3,0,2)(0,0,0)[0]             : AIC=-4049.974, Time=2.37 sec\n",
      " ARIMA(2,0,2)(0,0,0)[0]             : AIC=-4047.551, Time=2.34 sec\n",
      " ARIMA(3,0,1)(0,0,0)[0]             : AIC=-4018.151, Time=2.31 sec\n",
      " ARIMA(4,0,2)(0,0,0)[0]             : AIC=-4046.115, Time=2.43 sec\n"
     ]
    },
    {
     "name": "stderr",
     "output_type": "stream",
     "text": [
      "/home/ai/.local/lib/python3.8/site-packages/statsmodels/tsa/statespace/sarimax.py:1890: RuntimeWarning: divide by zero encountered in reciprocal\n",
      "  return np.roots(self.polynomial_reduced_ar)**-1\n",
      "/home/ai/.local/lib/python3.8/site-packages/statsmodels/tsa/statespace/sarimax.py:1897: RuntimeWarning: divide by zero encountered in reciprocal\n",
      "  return np.roots(self.polynomial_reduced_ma)**-1\n"
     ]
    },
    {
     "name": "stdout",
     "output_type": "stream",
     "text": [
      " ARIMA(3,0,3)(0,0,0)[0]             : AIC=-2546.627, Time=2.43 sec\n"
     ]
    },
    {
     "name": "stderr",
     "output_type": "stream",
     "text": [
      "/home/ai/.local/lib/python3.8/site-packages/statsmodels/tsa/statespace/sarimax.py:1890: RuntimeWarning: divide by zero encountered in reciprocal\n",
      "  return np.roots(self.polynomial_reduced_ar)**-1\n",
      "/home/ai/.local/lib/python3.8/site-packages/statsmodels/tsa/statespace/sarimax.py:1897: RuntimeWarning: divide by zero encountered in reciprocal\n",
      "  return np.roots(self.polynomial_reduced_ma)**-1\n"
     ]
    },
    {
     "name": "stdout",
     "output_type": "stream",
     "text": [
      " ARIMA(2,0,1)(0,0,0)[0]             : AIC=-2585.656, Time=2.07 sec\n",
      " ARIMA(2,0,3)(0,0,0)[0]             : AIC=-4044.189, Time=2.44 sec\n",
      " ARIMA(4,0,1)(0,0,0)[0]             : AIC=-4035.570, Time=2.39 sec\n"
     ]
    },
    {
     "name": "stderr",
     "output_type": "stream",
     "text": [
      "/home/ai/.local/lib/python3.8/site-packages/statsmodels/tsa/statespace/sarimax.py:1890: RuntimeWarning: divide by zero encountered in reciprocal\n",
      "  return np.roots(self.polynomial_reduced_ar)**-1\n",
      "/home/ai/.local/lib/python3.8/site-packages/statsmodels/tsa/statespace/sarimax.py:1897: RuntimeWarning: divide by zero encountered in reciprocal\n",
      "  return np.roots(self.polynomial_reduced_ma)**-1\n"
     ]
    },
    {
     "name": "stdout",
     "output_type": "stream",
     "text": [
      " ARIMA(4,0,3)(0,0,0)[0]             : AIC=-2544.588, Time=2.46 sec\n",
      "\n",
      "Best model:  ARIMA(3,0,2)(0,0,0)[0]          \n",
      "Total fit time: 53.451 seconds\n",
      "Performing stepwise search to minimize aic\n",
      " ARIMA(2,0,2)(0,0,0)[0] intercept   : AIC=-3552.834, Time=2.43 sec\n",
      " ARIMA(0,0,0)(0,0,0)[0] intercept   : AIC=-2719.496, Time=2.01 sec\n",
      " ARIMA(1,0,0)(0,0,0)[0] intercept   : AIC=-3535.143, Time=1.99 sec\n",
      " ARIMA(0,0,1)(0,0,0)[0] intercept   : AIC=-3094.807, Time=2.04 sec\n",
      " ARIMA(0,0,0)(0,0,0)[0]             : AIC=1700.413, Time=1.86 sec\n",
      " ARIMA(1,0,2)(0,0,0)[0] intercept   : AIC=-3543.131, Time=2.34 sec\n"
     ]
    },
    {
     "name": "stderr",
     "output_type": "stream",
     "text": [
      "/home/ai/.local/lib/python3.8/site-packages/statsmodels/tsa/statespace/sarimax.py:1890: RuntimeWarning: divide by zero encountered in reciprocal\n",
      "  return np.roots(self.polynomial_reduced_ar)**-1\n",
      "/home/ai/.local/lib/python3.8/site-packages/statsmodels/tsa/statespace/sarimax.py:1897: RuntimeWarning: divide by zero encountered in reciprocal\n",
      "  return np.roots(self.polynomial_reduced_ma)**-1\n"
     ]
    },
    {
     "name": "stdout",
     "output_type": "stream",
     "text": [
      " ARIMA(2,0,1)(0,0,0)[0] intercept   : AIC=-2061.378, Time=2.23 sec\n",
      " ARIMA(3,0,2)(0,0,0)[0] intercept   : AIC=-3564.949, Time=2.49 sec\n",
      " ARIMA(3,0,1)(0,0,0)[0] intercept   : AIC=-3538.284, Time=2.37 sec\n"
     ]
    },
    {
     "name": "stderr",
     "output_type": "stream",
     "text": [
      "/home/ai/.local/lib/python3.8/site-packages/statsmodels/tsa/statespace/sarimax.py:1890: RuntimeWarning: divide by zero encountered in reciprocal\n",
      "  return np.roots(self.polynomial_reduced_ar)**-1\n",
      "/home/ai/.local/lib/python3.8/site-packages/statsmodels/tsa/statespace/sarimax.py:1897: RuntimeWarning: divide by zero encountered in reciprocal\n",
      "  return np.roots(self.polynomial_reduced_ma)**-1\n"
     ]
    },
    {
     "name": "stdout",
     "output_type": "stream",
     "text": [
      " ARIMA(4,0,2)(0,0,0)[0] intercept   : AIC=-2015.073, Time=2.50 sec\n"
     ]
    },
    {
     "name": "stderr",
     "output_type": "stream",
     "text": [
      "/home/ai/.local/lib/python3.8/site-packages/statsmodels/tsa/statespace/sarimax.py:1890: RuntimeWarning: divide by zero encountered in reciprocal\n",
      "  return np.roots(self.polynomial_reduced_ar)**-1\n",
      "/home/ai/.local/lib/python3.8/site-packages/statsmodels/tsa/statespace/sarimax.py:1897: RuntimeWarning: divide by zero encountered in reciprocal\n",
      "  return np.roots(self.polynomial_reduced_ma)**-1\n"
     ]
    },
    {
     "name": "stdout",
     "output_type": "stream",
     "text": [
      " ARIMA(3,0,3)(0,0,0)[0] intercept   : AIC=-2010.935, Time=2.49 sec\n",
      " ARIMA(2,0,3)(0,0,0)[0] intercept   : AIC=-3540.519, Time=2.44 sec\n",
      " ARIMA(4,0,1)(0,0,0)[0] intercept   : AIC=-3545.877, Time=2.44 sec\n"
     ]
    },
    {
     "name": "stderr",
     "output_type": "stream",
     "text": [
      "/home/ai/.local/lib/python3.8/site-packages/statsmodels/tsa/statespace/sarimax.py:1890: RuntimeWarning: divide by zero encountered in reciprocal\n",
      "  return np.roots(self.polynomial_reduced_ar)**-1\n",
      "/home/ai/.local/lib/python3.8/site-packages/statsmodels/tsa/statespace/sarimax.py:1897: RuntimeWarning: divide by zero encountered in reciprocal\n",
      "  return np.roots(self.polynomial_reduced_ma)**-1\n"
     ]
    },
    {
     "name": "stdout",
     "output_type": "stream",
     "text": [
      " ARIMA(4,0,3)(0,0,0)[0] intercept   : AIC=-1955.580, Time=2.58 sec\n",
      " ARIMA(3,0,2)(0,0,0)[0]             : AIC=-3568.340, Time=2.39 sec\n",
      " ARIMA(2,0,2)(0,0,0)[0]             : AIC=-3554.877, Time=2.32 sec\n",
      " ARIMA(3,0,1)(0,0,0)[0]             : AIC=-3540.291, Time=2.30 sec\n"
     ]
    },
    {
     "name": "stderr",
     "output_type": "stream",
     "text": [
      "/home/ai/.local/lib/python3.8/site-packages/statsmodels/tsa/statespace/sarimax.py:1890: RuntimeWarning: divide by zero encountered in reciprocal\n",
      "  return np.roots(self.polynomial_reduced_ar)**-1\n",
      "/home/ai/.local/lib/python3.8/site-packages/statsmodels/tsa/statespace/sarimax.py:1897: RuntimeWarning: divide by zero encountered in reciprocal\n",
      "  return np.roots(self.polynomial_reduced_ma)**-1\n"
     ]
    },
    {
     "name": "stdout",
     "output_type": "stream",
     "text": [
      " ARIMA(4,0,2)(0,0,0)[0]             : AIC=-2017.088, Time=2.44 sec\n"
     ]
    },
    {
     "name": "stderr",
     "output_type": "stream",
     "text": [
      "/home/ai/.local/lib/python3.8/site-packages/statsmodels/tsa/statespace/sarimax.py:1890: RuntimeWarning: divide by zero encountered in reciprocal\n",
      "  return np.roots(self.polynomial_reduced_ar)**-1\n",
      "/home/ai/.local/lib/python3.8/site-packages/statsmodels/tsa/statespace/sarimax.py:1897: RuntimeWarning: divide by zero encountered in reciprocal\n",
      "  return np.roots(self.polynomial_reduced_ma)**-1\n"
     ]
    },
    {
     "name": "stdout",
     "output_type": "stream",
     "text": [
      " ARIMA(3,0,3)(0,0,0)[0]             : AIC=-2012.953, Time=2.45 sec\n"
     ]
    },
    {
     "name": "stderr",
     "output_type": "stream",
     "text": [
      "/home/ai/.local/lib/python3.8/site-packages/statsmodels/tsa/statespace/sarimax.py:1890: RuntimeWarning: divide by zero encountered in reciprocal\n",
      "  return np.roots(self.polynomial_reduced_ar)**-1\n",
      "/home/ai/.local/lib/python3.8/site-packages/statsmodels/tsa/statespace/sarimax.py:1897: RuntimeWarning: divide by zero encountered in reciprocal\n",
      "  return np.roots(self.polynomial_reduced_ma)**-1\n"
     ]
    },
    {
     "name": "stdout",
     "output_type": "stream",
     "text": [
      " ARIMA(2,0,1)(0,0,0)[0]             : AIC=-2063.393, Time=2.10 sec\n",
      " ARIMA(2,0,3)(0,0,0)[0]             : AIC=-3542.527, Time=2.39 sec\n",
      " ARIMA(4,0,1)(0,0,0)[0]             : AIC=-3547.885, Time=2.40 sec\n"
     ]
    },
    {
     "name": "stderr",
     "output_type": "stream",
     "text": [
      "/home/ai/.local/lib/python3.8/site-packages/statsmodels/tsa/statespace/sarimax.py:1890: RuntimeWarning: divide by zero encountered in reciprocal\n",
      "  return np.roots(self.polynomial_reduced_ar)**-1\n",
      "/home/ai/.local/lib/python3.8/site-packages/statsmodels/tsa/statespace/sarimax.py:1897: RuntimeWarning: divide by zero encountered in reciprocal\n",
      "  return np.roots(self.polynomial_reduced_ma)**-1\n"
     ]
    },
    {
     "name": "stdout",
     "output_type": "stream",
     "text": [
      " ARIMA(4,0,3)(0,0,0)[0]             : AIC=-1957.606, Time=2.49 sec\n",
      "\n",
      "Best model:  ARIMA(3,0,2)(0,0,0)[0]          \n",
      "Total fit time: 53.476 seconds\n",
      "Performing stepwise search to minimize aic\n",
      " ARIMA(2,0,2)(0,0,0)[0] intercept   : AIC=-3629.609, Time=2.47 sec\n",
      " ARIMA(0,0,0)(0,0,0)[0] intercept   : AIC=-3108.168, Time=1.92 sec\n",
      " ARIMA(1,0,0)(0,0,0)[0] intercept   : AIC=-3624.099, Time=1.95 sec\n",
      " ARIMA(0,0,1)(0,0,0)[0] intercept   : AIC=-3450.031, Time=2.08 sec\n",
      " ARIMA(0,0,0)(0,0,0)[0]             : AIC=1311.741, Time=1.88 sec\n",
      " ARIMA(1,0,2)(0,0,0)[0] intercept   : AIC=-3631.688, Time=2.38 sec\n",
      " ARIMA(0,0,2)(0,0,0)[0] intercept   : AIC=-3558.155, Time=2.34 sec\n",
      " ARIMA(1,0,1)(0,0,0)[0] intercept   : AIC=-3628.426, Time=2.10 sec\n",
      " ARIMA(1,0,3)(0,0,0)[0] intercept   : AIC=-3629.269, Time=2.39 sec\n",
      " ARIMA(0,0,3)(0,0,0)[0] intercept   : AIC=-3582.454, Time=2.38 sec\n"
     ]
    },
    {
     "name": "stderr",
     "output_type": "stream",
     "text": [
      "/home/ai/.local/lib/python3.8/site-packages/statsmodels/tsa/statespace/sarimax.py:1890: RuntimeWarning: divide by zero encountered in reciprocal\n",
      "  return np.roots(self.polynomial_reduced_ar)**-1\n",
      "/home/ai/.local/lib/python3.8/site-packages/statsmodels/tsa/statespace/sarimax.py:1897: RuntimeWarning: divide by zero encountered in reciprocal\n",
      "  return np.roots(self.polynomial_reduced_ma)**-1\n"
     ]
    },
    {
     "name": "stdout",
     "output_type": "stream",
     "text": [
      " ARIMA(2,0,1)(0,0,0)[0] intercept   : AIC=-2875.573, Time=2.25 sec\n",
      " ARIMA(2,0,3)(0,0,0)[0] intercept   : AIC=-3627.256, Time=2.45 sec\n",
      " ARIMA(1,0,2)(0,0,0)[0]             : AIC=-3633.689, Time=2.30 sec\n",
      " ARIMA(0,0,2)(0,0,0)[0]             : AIC=-3560.156, Time=2.24 sec\n",
      " ARIMA(1,0,1)(0,0,0)[0]             : AIC=-3630.426, Time=2.04 sec\n",
      " ARIMA(2,0,2)(0,0,0)[0]             : AIC=-3631.610, Time=2.31 sec\n",
      " ARIMA(1,0,3)(0,0,0)[0]             : AIC=-3631.270, Time=2.34 sec\n",
      " ARIMA(0,0,1)(0,0,0)[0]             : AIC=-3452.040, Time=1.99 sec\n",
      " ARIMA(0,0,3)(0,0,0)[0]             : AIC=-3584.453, Time=2.28 sec\n"
     ]
    },
    {
     "name": "stderr",
     "output_type": "stream",
     "text": [
      "/home/ai/.local/lib/python3.8/site-packages/statsmodels/tsa/statespace/sarimax.py:1890: RuntimeWarning: divide by zero encountered in reciprocal\n",
      "  return np.roots(self.polynomial_reduced_ar)**-1\n",
      "/home/ai/.local/lib/python3.8/site-packages/statsmodels/tsa/statespace/sarimax.py:1897: RuntimeWarning: divide by zero encountered in reciprocal\n",
      "  return np.roots(self.polynomial_reduced_ma)**-1\n"
     ]
    },
    {
     "name": "stdout",
     "output_type": "stream",
     "text": [
      " ARIMA(2,0,1)(0,0,0)[0]             : AIC=-2877.573, Time=2.11 sec\n",
      " ARIMA(2,0,3)(0,0,0)[0]             : AIC=-3629.257, Time=2.39 sec\n",
      "\n",
      "Best model:  ARIMA(1,0,2)(0,0,0)[0]          \n",
      "Total fit time: 46.585 seconds\n",
      "Performing stepwise search to minimize aic\n",
      " ARIMA(2,0,2)(0,0,0)[0] intercept   : AIC=-4224.941, Time=2.40 sec\n",
      " ARIMA(0,0,0)(0,0,0)[0] intercept   : AIC=-3183.971, Time=1.90 sec\n",
      " ARIMA(1,0,0)(0,0,0)[0] intercept   : AIC=-4180.184, Time=1.97 sec\n",
      " ARIMA(0,0,1)(0,0,0)[0] intercept   : AIC=-3485.517, Time=2.05 sec\n",
      " ARIMA(0,0,0)(0,0,0)[0]             : AIC=1235.939, Time=1.83 sec\n",
      " ARIMA(1,0,2)(0,0,0)[0] intercept   : AIC=-4190.228, Time=2.35 sec\n",
      " ARIMA(2,0,1)(0,0,0)[0] intercept   : AIC=-4223.222, Time=2.18 sec\n",
      " ARIMA(3,0,2)(0,0,0)[0] intercept   : AIC=-4229.735, Time=2.45 sec\n",
      " ARIMA(3,0,1)(0,0,0)[0] intercept   : AIC=-4186.720, Time=2.38 sec\n",
      " ARIMA(4,0,2)(0,0,0)[0] intercept   : AIC=-4223.528, Time=2.53 sec\n"
     ]
    },
    {
     "name": "stderr",
     "output_type": "stream",
     "text": [
      "/home/ai/.local/lib/python3.8/site-packages/statsmodels/tsa/statespace/sarimax.py:1890: RuntimeWarning: divide by zero encountered in reciprocal\n",
      "  return np.roots(self.polynomial_reduced_ar)**-1\n",
      "/home/ai/.local/lib/python3.8/site-packages/statsmodels/tsa/statespace/sarimax.py:1897: RuntimeWarning: divide by zero encountered in reciprocal\n",
      "  return np.roots(self.polynomial_reduced_ma)**-1\n"
     ]
    },
    {
     "name": "stdout",
     "output_type": "stream",
     "text": [
      " ARIMA(3,0,3)(0,0,0)[0] intercept   : AIC=-2029.414, Time=2.55 sec\n",
      " ARIMA(2,0,3)(0,0,0)[0] intercept   : AIC=-4213.176, Time=2.55 sec\n",
      " ARIMA(4,0,1)(0,0,0)[0] intercept   : AIC=-4206.338, Time=2.53 sec\n"
     ]
    },
    {
     "name": "stderr",
     "output_type": "stream",
     "text": [
      "/home/ai/.local/lib/python3.8/site-packages/statsmodels/tsa/statespace/sarimax.py:1890: RuntimeWarning: divide by zero encountered in reciprocal\n",
      "  return np.roots(self.polynomial_reduced_ar)**-1\n",
      "/home/ai/.local/lib/python3.8/site-packages/statsmodels/tsa/statespace/sarimax.py:1897: RuntimeWarning: divide by zero encountered in reciprocal\n",
      "  return np.roots(self.polynomial_reduced_ma)**-1\n"
     ]
    },
    {
     "name": "stdout",
     "output_type": "stream",
     "text": [
      " ARIMA(4,0,3)(0,0,0)[0] intercept   : AIC=-2027.353, Time=2.59 sec\n",
      " ARIMA(3,0,2)(0,0,0)[0]             : AIC=-4231.729, Time=2.40 sec\n",
      " ARIMA(2,0,2)(0,0,0)[0]             : AIC=-4226.937, Time=2.38 sec\n",
      " ARIMA(3,0,1)(0,0,0)[0]             : AIC=-4188.722, Time=2.48 sec\n",
      " ARIMA(4,0,2)(0,0,0)[0]             : AIC=-4225.523, Time=2.47 sec\n"
     ]
    },
    {
     "name": "stderr",
     "output_type": "stream",
     "text": [
      "/home/ai/.local/lib/python3.8/site-packages/statsmodels/tsa/statespace/sarimax.py:1890: RuntimeWarning: divide by zero encountered in reciprocal\n",
      "  return np.roots(self.polynomial_reduced_ar)**-1\n",
      "/home/ai/.local/lib/python3.8/site-packages/statsmodels/tsa/statespace/sarimax.py:1897: RuntimeWarning: divide by zero encountered in reciprocal\n",
      "  return np.roots(self.polynomial_reduced_ma)**-1\n"
     ]
    },
    {
     "name": "stdout",
     "output_type": "stream",
     "text": [
      " ARIMA(3,0,3)(0,0,0)[0]             : AIC=-2031.414, Time=2.45 sec\n",
      " ARIMA(2,0,1)(0,0,0)[0]             : AIC=-4225.255, Time=2.12 sec\n",
      " ARIMA(2,0,3)(0,0,0)[0]             : AIC=-4215.177, Time=2.39 sec\n",
      " ARIMA(4,0,1)(0,0,0)[0]             : AIC=-4208.337, Time=2.41 sec\n"
     ]
    },
    {
     "name": "stderr",
     "output_type": "stream",
     "text": [
      "/home/ai/.local/lib/python3.8/site-packages/statsmodels/tsa/statespace/sarimax.py:1890: RuntimeWarning: divide by zero encountered in reciprocal\n",
      "  return np.roots(self.polynomial_reduced_ar)**-1\n",
      "/home/ai/.local/lib/python3.8/site-packages/statsmodels/tsa/statespace/sarimax.py:1897: RuntimeWarning: divide by zero encountered in reciprocal\n",
      "  return np.roots(self.polynomial_reduced_ma)**-1\n"
     ]
    },
    {
     "name": "stdout",
     "output_type": "stream",
     "text": [
      " ARIMA(4,0,3)(0,0,0)[0]             : AIC=-2029.353, Time=2.68 sec\n",
      "\n",
      "Best model:  ARIMA(3,0,2)(0,0,0)[0]          \n",
      "Total fit time: 54.048 seconds\n",
      "Performing stepwise search to minimize aic\n"
     ]
    },
    {
     "name": "stderr",
     "output_type": "stream",
     "text": [
      "/home/ai/.local/lib/python3.8/site-packages/statsmodels/tsa/statespace/sarimax.py:1897: RuntimeWarning: divide by zero encountered in reciprocal\n",
      "  return np.roots(self.polynomial_reduced_ma)**-1\n"
     ]
    },
    {
     "name": "stdout",
     "output_type": "stream",
     "text": [
      " ARIMA(2,0,2)(0,0,0)[0] intercept   : AIC=-3478.027, Time=2.43 sec\n",
      " ARIMA(0,0,0)(0,0,0)[0] intercept   : AIC=-3202.239, Time=1.91 sec\n",
      " ARIMA(1,0,0)(0,0,0)[0] intercept   : AIC=-4148.162, Time=1.96 sec\n",
      " ARIMA(0,0,1)(0,0,0)[0] intercept   : AIC=-3367.657, Time=2.06 sec\n",
      " ARIMA(0,0,0)(0,0,0)[0]             : AIC=1217.670, Time=1.86 sec\n",
      " ARIMA(2,0,0)(0,0,0)[0] intercept   : AIC=-4158.488, Time=2.10 sec\n",
      " ARIMA(3,0,0)(0,0,0)[0] intercept   : AIC=-4158.011, Time=2.33 sec\n",
      " ARIMA(2,0,1)(0,0,0)[0] intercept   : AIC=-4162.851, Time=2.16 sec\n",
      " ARIMA(1,0,1)(0,0,0)[0] intercept   : AIC=-4157.612, Time=2.10 sec\n",
      " ARIMA(3,0,1)(0,0,0)[0] intercept   : AIC=-4152.762, Time=2.39 sec\n",
      " ARIMA(1,0,2)(0,0,0)[0] intercept   : AIC=-4154.940, Time=2.35 sec\n"
     ]
    },
    {
     "name": "stderr",
     "output_type": "stream",
     "text": [
      "/home/ai/.local/lib/python3.8/site-packages/statsmodels/tsa/statespace/sarimax.py:1890: RuntimeWarning: divide by zero encountered in reciprocal\n",
      "  return np.roots(self.polynomial_reduced_ar)**-1\n",
      "/home/ai/.local/lib/python3.8/site-packages/statsmodels/tsa/statespace/sarimax.py:1897: RuntimeWarning: divide by zero encountered in reciprocal\n",
      "  return np.roots(self.polynomial_reduced_ma)**-1\n"
     ]
    },
    {
     "name": "stdout",
     "output_type": "stream",
     "text": [
      " ARIMA(3,0,2)(0,0,0)[0] intercept   : AIC=-2213.298, Time=2.45 sec\n",
      " ARIMA(2,0,1)(0,0,0)[0]             : AIC=-4164.859, Time=2.08 sec\n",
      " ARIMA(1,0,1)(0,0,0)[0]             : AIC=-4159.617, Time=2.04 sec\n",
      " ARIMA(2,0,0)(0,0,0)[0]             : AIC=-4160.494, Time=2.08 sec\n",
      " ARIMA(3,0,1)(0,0,0)[0]             : AIC=-4154.764, Time=2.34 sec\n"
     ]
    },
    {
     "name": "stderr",
     "output_type": "stream",
     "text": [
      "/home/ai/.local/lib/python3.8/site-packages/statsmodels/tsa/statespace/sarimax.py:1897: RuntimeWarning: divide by zero encountered in reciprocal\n",
      "  return np.roots(self.polynomial_reduced_ma)**-1\n"
     ]
    },
    {
     "name": "stdout",
     "output_type": "stream",
     "text": [
      " ARIMA(2,0,2)(0,0,0)[0]             : AIC=-3480.028, Time=2.35 sec\n",
      " ARIMA(1,0,0)(0,0,0)[0]             : AIC=-4150.173, Time=1.91 sec\n",
      " ARIMA(1,0,2)(0,0,0)[0]             : AIC=-4156.941, Time=2.30 sec\n",
      " ARIMA(3,0,0)(0,0,0)[0]             : AIC=-4160.015, Time=2.29 sec\n"
     ]
    },
    {
     "name": "stderr",
     "output_type": "stream",
     "text": [
      "/home/ai/.local/lib/python3.8/site-packages/statsmodels/tsa/statespace/sarimax.py:1890: RuntimeWarning: divide by zero encountered in reciprocal\n",
      "  return np.roots(self.polynomial_reduced_ar)**-1\n",
      "/home/ai/.local/lib/python3.8/site-packages/statsmodels/tsa/statespace/sarimax.py:1897: RuntimeWarning: divide by zero encountered in reciprocal\n",
      "  return np.roots(self.polynomial_reduced_ma)**-1\n"
     ]
    },
    {
     "name": "stdout",
     "output_type": "stream",
     "text": [
      " ARIMA(3,0,2)(0,0,0)[0]             : AIC=-2215.301, Time=2.47 sec\n",
      "\n",
      "Best model:  ARIMA(2,0,1)(0,0,0)[0]          \n",
      "Total fit time: 45.969 seconds\n",
      "Performing stepwise search to minimize aic\n",
      " ARIMA(2,0,2)(0,0,0)[0] intercept   : AIC=-4205.143, Time=2.44 sec\n",
      " ARIMA(0,0,0)(0,0,0)[0] intercept   : AIC=-3347.922, Time=1.93 sec\n",
      " ARIMA(1,0,0)(0,0,0)[0] intercept   : AIC=-4162.418, Time=1.98 sec\n",
      " ARIMA(0,0,1)(0,0,0)[0] intercept   : AIC=-3738.015, Time=2.10 sec\n",
      " ARIMA(0,0,0)(0,0,0)[0]             : AIC=1071.987, Time=1.88 sec\n",
      " ARIMA(1,0,2)(0,0,0)[0] intercept   : AIC=-4185.033, Time=2.35 sec\n"
     ]
    },
    {
     "name": "stderr",
     "output_type": "stream",
     "text": [
      "/home/ai/.local/lib/python3.8/site-packages/statsmodels/tsa/statespace/sarimax.py:1890: RuntimeWarning: divide by zero encountered in reciprocal\n",
      "  return np.roots(self.polynomial_reduced_ar)**-1\n",
      "/home/ai/.local/lib/python3.8/site-packages/statsmodels/tsa/statespace/sarimax.py:1897: RuntimeWarning: divide by zero encountered in reciprocal\n",
      "  return np.roots(self.polynomial_reduced_ma)**-1\n"
     ]
    },
    {
     "name": "stdout",
     "output_type": "stream",
     "text": [
      " ARIMA(2,0,1)(0,0,0)[0] intercept   : AIC=-2664.081, Time=2.17 sec\n",
      " ARIMA(3,0,2)(0,0,0)[0] intercept   : AIC=-4209.630, Time=2.45 sec\n",
      " ARIMA(3,0,1)(0,0,0)[0] intercept   : AIC=-4173.499, Time=2.40 sec\n"
     ]
    },
    {
     "name": "stderr",
     "output_type": "stream",
     "text": [
      "/home/ai/.local/lib/python3.8/site-packages/statsmodels/tsa/statespace/sarimax.py:1890: RuntimeWarning: divide by zero encountered in reciprocal\n",
      "  return np.roots(self.polynomial_reduced_ar)**-1\n",
      "/home/ai/.local/lib/python3.8/site-packages/statsmodels/tsa/statespace/sarimax.py:1897: RuntimeWarning: divide by zero encountered in reciprocal\n",
      "  return np.roots(self.polynomial_reduced_ma)**-1\n"
     ]
    },
    {
     "name": "stdout",
     "output_type": "stream",
     "text": [
      " ARIMA(4,0,2)(0,0,0)[0] intercept   : AIC=-2605.838, Time=2.56 sec\n"
     ]
    },
    {
     "name": "stderr",
     "output_type": "stream",
     "text": [
      "/home/ai/.local/lib/python3.8/site-packages/statsmodels/tsa/statespace/sarimax.py:1890: RuntimeWarning: divide by zero encountered in reciprocal\n",
      "  return np.roots(self.polynomial_reduced_ar)**-1\n",
      "/home/ai/.local/lib/python3.8/site-packages/statsmodels/tsa/statespace/sarimax.py:1897: RuntimeWarning: divide by zero encountered in reciprocal\n",
      "  return np.roots(self.polynomial_reduced_ma)**-1\n"
     ]
    },
    {
     "name": "stdout",
     "output_type": "stream",
     "text": [
      " ARIMA(3,0,3)(0,0,0)[0] intercept   : AIC=-2533.359, Time=2.54 sec\n",
      " ARIMA(2,0,3)(0,0,0)[0] intercept   : AIC=-4196.570, Time=2.60 sec\n",
      " ARIMA(4,0,1)(0,0,0)[0] intercept   : AIC=-4199.693, Time=2.48 sec\n"
     ]
    },
    {
     "name": "stderr",
     "output_type": "stream",
     "text": [
      "/home/ai/.local/lib/python3.8/site-packages/statsmodels/tsa/statespace/sarimax.py:1890: RuntimeWarning: divide by zero encountered in reciprocal\n",
      "  return np.roots(self.polynomial_reduced_ar)**-1\n",
      "/home/ai/.local/lib/python3.8/site-packages/statsmodels/tsa/statespace/sarimax.py:1897: RuntimeWarning: divide by zero encountered in reciprocal\n",
      "  return np.roots(self.polynomial_reduced_ma)**-1\n"
     ]
    },
    {
     "name": "stdout",
     "output_type": "stream",
     "text": [
      " ARIMA(4,0,3)(0,0,0)[0] intercept   : AIC=-2500.083, Time=2.54 sec\n",
      " ARIMA(3,0,2)(0,0,0)[0]             : AIC=-4211.630, Time=2.43 sec\n",
      " ARIMA(2,0,2)(0,0,0)[0]             : AIC=-4207.144, Time=2.36 sec\n",
      " ARIMA(3,0,1)(0,0,0)[0]             : AIC=-4175.502, Time=2.31 sec\n"
     ]
    },
    {
     "name": "stderr",
     "output_type": "stream",
     "text": [
      "/home/ai/.local/lib/python3.8/site-packages/statsmodels/tsa/statespace/sarimax.py:1890: RuntimeWarning: divide by zero encountered in reciprocal\n",
      "  return np.roots(self.polynomial_reduced_ar)**-1\n",
      "/home/ai/.local/lib/python3.8/site-packages/statsmodels/tsa/statespace/sarimax.py:1897: RuntimeWarning: divide by zero encountered in reciprocal\n",
      "  return np.roots(self.polynomial_reduced_ma)**-1\n"
     ]
    },
    {
     "name": "stdout",
     "output_type": "stream",
     "text": [
      " ARIMA(4,0,2)(0,0,0)[0]             : AIC=-2607.838, Time=2.46 sec\n"
     ]
    },
    {
     "name": "stderr",
     "output_type": "stream",
     "text": [
      "/home/ai/.local/lib/python3.8/site-packages/statsmodels/tsa/statespace/sarimax.py:1890: RuntimeWarning: divide by zero encountered in reciprocal\n",
      "  return np.roots(self.polynomial_reduced_ar)**-1\n",
      "/home/ai/.local/lib/python3.8/site-packages/statsmodels/tsa/statespace/sarimax.py:1897: RuntimeWarning: divide by zero encountered in reciprocal\n",
      "  return np.roots(self.polynomial_reduced_ma)**-1\n"
     ]
    },
    {
     "name": "stdout",
     "output_type": "stream",
     "text": [
      " ARIMA(3,0,3)(0,0,0)[0]             : AIC=-2535.361, Time=2.44 sec\n"
     ]
    },
    {
     "name": "stderr",
     "output_type": "stream",
     "text": [
      "/home/ai/.local/lib/python3.8/site-packages/statsmodels/tsa/statespace/sarimax.py:1890: RuntimeWarning: divide by zero encountered in reciprocal\n",
      "  return np.roots(self.polynomial_reduced_ar)**-1\n",
      "/home/ai/.local/lib/python3.8/site-packages/statsmodels/tsa/statespace/sarimax.py:1897: RuntimeWarning: divide by zero encountered in reciprocal\n",
      "  return np.roots(self.polynomial_reduced_ma)**-1\n"
     ]
    },
    {
     "name": "stdout",
     "output_type": "stream",
     "text": [
      " ARIMA(2,0,1)(0,0,0)[0]             : AIC=-2666.082, Time=2.09 sec\n",
      " ARIMA(2,0,3)(0,0,0)[0]             : AIC=-4198.573, Time=2.38 sec\n",
      " ARIMA(4,0,1)(0,0,0)[0]             : AIC=-4201.693, Time=2.41 sec\n"
     ]
    },
    {
     "name": "stderr",
     "output_type": "stream",
     "text": [
      "/home/ai/.local/lib/python3.8/site-packages/statsmodels/tsa/statespace/sarimax.py:1890: RuntimeWarning: divide by zero encountered in reciprocal\n",
      "  return np.roots(self.polynomial_reduced_ar)**-1\n",
      "/home/ai/.local/lib/python3.8/site-packages/statsmodels/tsa/statespace/sarimax.py:1897: RuntimeWarning: divide by zero encountered in reciprocal\n",
      "  return np.roots(self.polynomial_reduced_ma)**-1\n"
     ]
    },
    {
     "name": "stdout",
     "output_type": "stream",
     "text": [
      " ARIMA(4,0,3)(0,0,0)[0]             : AIC=-2502.085, Time=2.52 sec\n",
      "\n",
      "Best model:  ARIMA(3,0,2)(0,0,0)[0]          \n",
      "Total fit time: 53.839 seconds\n",
      "Performing stepwise search to minimize aic\n",
      " ARIMA(2,0,2)(0,0,0)[0] intercept   : AIC=-5171.748, Time=2.41 sec\n",
      " ARIMA(0,0,0)(0,0,0)[0] intercept   : AIC=-4438.682, Time=1.91 sec\n",
      " ARIMA(1,0,0)(0,0,0)[0] intercept   : AIC=-5168.728, Time=2.02 sec\n",
      " ARIMA(0,0,1)(0,0,0)[0] intercept   : AIC=-4699.559, Time=2.22 sec\n",
      " ARIMA(0,0,0)(0,0,0)[0]             : AIC=-18.773, Time=1.89 sec\n",
      " ARIMA(1,0,2)(0,0,0)[0] intercept   : AIC=-5171.569, Time=2.37 sec\n"
     ]
    },
    {
     "name": "stderr",
     "output_type": "stream",
     "text": [
      "/home/ai/.local/lib/python3.8/site-packages/statsmodels/tsa/statespace/sarimax.py:1890: RuntimeWarning: divide by zero encountered in reciprocal\n",
      "  return np.roots(self.polynomial_reduced_ar)**-1\n",
      "/home/ai/.local/lib/python3.8/site-packages/statsmodels/tsa/statespace/sarimax.py:1897: RuntimeWarning: divide by zero encountered in reciprocal\n",
      "  return np.roots(self.polynomial_reduced_ma)**-1\n"
     ]
    },
    {
     "name": "stdout",
     "output_type": "stream",
     "text": [
      " ARIMA(2,0,1)(0,0,0)[0] intercept   : AIC=-3941.679, Time=2.19 sec\n"
     ]
    },
    {
     "name": "stderr",
     "output_type": "stream",
     "text": [
      "/home/ai/.local/lib/python3.8/site-packages/statsmodels/tsa/statespace/sarimax.py:1890: RuntimeWarning: divide by zero encountered in reciprocal\n",
      "  return np.roots(self.polynomial_reduced_ar)**-1\n",
      "/home/ai/.local/lib/python3.8/site-packages/statsmodels/tsa/statespace/sarimax.py:1897: RuntimeWarning: divide by zero encountered in reciprocal\n",
      "  return np.roots(self.polynomial_reduced_ma)**-1\n"
     ]
    },
    {
     "name": "stdout",
     "output_type": "stream",
     "text": [
      " ARIMA(3,0,2)(0,0,0)[0] intercept   : AIC=-3926.609, Time=2.44 sec\n",
      " ARIMA(2,0,3)(0,0,0)[0] intercept   : AIC=-5167.675, Time=2.46 sec\n",
      " ARIMA(1,0,1)(0,0,0)[0] intercept   : AIC=-5167.741, Time=2.10 sec\n",
      " ARIMA(1,0,3)(0,0,0)[0] intercept   : AIC=-5169.280, Time=2.41 sec\n",
      " ARIMA(3,0,1)(0,0,0)[0] intercept   : AIC=-5171.495, Time=2.40 sec\n",
      " ARIMA(3,0,3)(0,0,0)[0] intercept   : AIC=-5189.989, Time=2.49 sec\n",
      " ARIMA(4,0,3)(0,0,0)[0] intercept   : AIC=-5188.846, Time=2.55 sec\n",
      " ARIMA(3,0,4)(0,0,0)[0] intercept   : AIC=-5183.761, Time=2.84 sec\n",
      " ARIMA(2,0,4)(0,0,0)[0] intercept   : AIC=-5173.613, Time=2.80 sec\n"
     ]
    },
    {
     "name": "stderr",
     "output_type": "stream",
     "text": [
      "/home/ai/.local/lib/python3.8/site-packages/statsmodels/tsa/statespace/sarimax.py:1890: RuntimeWarning: divide by zero encountered in reciprocal\n",
      "  return np.roots(self.polynomial_reduced_ar)**-1\n",
      "/home/ai/.local/lib/python3.8/site-packages/statsmodels/tsa/statespace/sarimax.py:1897: RuntimeWarning: divide by zero encountered in reciprocal\n",
      "  return np.roots(self.polynomial_reduced_ma)**-1\n"
     ]
    },
    {
     "name": "stdout",
     "output_type": "stream",
     "text": [
      " ARIMA(4,0,2)(0,0,0)[0] intercept   : AIC=-3924.609, Time=2.53 sec\n",
      " ARIMA(4,0,4)(0,0,0)[0] intercept   : AIC=-5182.427, Time=2.94 sec\n",
      " ARIMA(3,0,3)(0,0,0)[0]             : AIC=-5191.993, Time=2.46 sec\n",
      " ARIMA(2,0,3)(0,0,0)[0]             : AIC=-5169.676, Time=2.43 sec\n"
     ]
    },
    {
     "name": "stderr",
     "output_type": "stream",
     "text": [
      "/home/ai/.local/lib/python3.8/site-packages/statsmodels/tsa/statespace/sarimax.py:1890: RuntimeWarning: divide by zero encountered in reciprocal\n",
      "  return np.roots(self.polynomial_reduced_ar)**-1\n",
      "/home/ai/.local/lib/python3.8/site-packages/statsmodels/tsa/statespace/sarimax.py:1897: RuntimeWarning: divide by zero encountered in reciprocal\n",
      "  return np.roots(self.polynomial_reduced_ma)**-1\n"
     ]
    },
    {
     "name": "stdout",
     "output_type": "stream",
     "text": [
      " ARIMA(3,0,2)(0,0,0)[0]             : AIC=-3928.608, Time=2.37 sec\n",
      " ARIMA(4,0,3)(0,0,0)[0]             : AIC=-5190.848, Time=2.48 sec\n",
      " ARIMA(3,0,4)(0,0,0)[0]             : AIC=-5185.783, Time=2.78 sec\n",
      " ARIMA(2,0,2)(0,0,0)[0]             : AIC=-5173.749, Time=2.36 sec\n",
      " ARIMA(2,0,4)(0,0,0)[0]             : AIC=-5175.616, Time=2.72 sec\n"
     ]
    },
    {
     "name": "stderr",
     "output_type": "stream",
     "text": [
      "/home/ai/.local/lib/python3.8/site-packages/statsmodels/tsa/statespace/sarimax.py:1890: RuntimeWarning: divide by zero encountered in reciprocal\n",
      "  return np.roots(self.polynomial_reduced_ar)**-1\n",
      "/home/ai/.local/lib/python3.8/site-packages/statsmodels/tsa/statespace/sarimax.py:1897: RuntimeWarning: divide by zero encountered in reciprocal\n",
      "  return np.roots(self.polynomial_reduced_ma)**-1\n"
     ]
    },
    {
     "name": "stdout",
     "output_type": "stream",
     "text": [
      " ARIMA(4,0,2)(0,0,0)[0]             : AIC=-3926.608, Time=2.47 sec\n",
      " ARIMA(4,0,4)(0,0,0)[0]             : AIC=-5184.435, Time=2.84 sec\n",
      "\n",
      "Best model:  ARIMA(3,0,3)(0,0,0)[0]          \n",
      "Total fit time: 65.921 seconds\n",
      "Performing stepwise search to minimize aic\n",
      " ARIMA(2,0,2)(0,0,0)[0] intercept   : AIC=-2799.687, Time=6.09 sec\n",
      " ARIMA(0,0,0)(0,0,0)[0] intercept   : AIC=-2153.149, Time=1.92 sec\n",
      " ARIMA(1,0,0)(0,0,0)[0] intercept   : AIC=-2798.592, Time=4.82 sec\n",
      " ARIMA(0,0,1)(0,0,0)[0] intercept   : AIC=-2449.847, Time=6.34 sec\n",
      " ARIMA(0,0,0)(0,0,0)[0]             : AIC=2266.760, Time=1.86 sec\n",
      " ARIMA(1,0,2)(0,0,0)[0] intercept   : AIC=-2798.958, Time=6.08 sec\n",
      " ARIMA(2,0,1)(0,0,0)[0] intercept   : AIC=-2799.647, Time=5.37 sec\n",
      " ARIMA(3,0,2)(0,0,0)[0] intercept   : AIC=-2795.120, Time=6.43 sec\n",
      " ARIMA(2,0,3)(0,0,0)[0] intercept   : AIC=-2794.672, Time=6.09 sec\n",
      " ARIMA(1,0,1)(0,0,0)[0] intercept   : AIC=-2801.196, Time=5.56 sec\n",
      " ARIMA(0,0,2)(0,0,0)[0] intercept   : AIC=-2614.702, Time=7.15 sec\n",
      " ARIMA(2,0,0)(0,0,0)[0] intercept   : AIC=-2801.201, Time=5.39 sec\n",
      " ARIMA(3,0,0)(0,0,0)[0] intercept   : AIC=-2799.293, Time=5.90 sec\n",
      " ARIMA(3,0,1)(0,0,0)[0] intercept   : AIC=-2796.892, Time=6.28 sec\n",
      " ARIMA(2,0,0)(0,0,0)[0]             : AIC=-2803.155, Time=5.35 sec\n",
      " ARIMA(1,0,0)(0,0,0)[0]             : AIC=-2800.573, Time=4.64 sec\n",
      " ARIMA(3,0,0)(0,0,0)[0]             : AIC=-2801.176, Time=5.64 sec\n",
      " ARIMA(2,0,1)(0,0,0)[0]             : AIC=-2801.501, Time=5.15 sec\n",
      " ARIMA(1,0,1)(0,0,0)[0]             : AIC=-2803.088, Time=5.30 sec\n",
      " ARIMA(3,0,1)(0,0,0)[0]             : AIC=-2798.803, Time=5.79 sec\n",
      "\n",
      "Best model:  ARIMA(2,0,0)(0,0,0)[0]          \n",
      "Total fit time: 107.155 seconds\n",
      "Performing stepwise search to minimize aic\n",
      " ARIMA(2,0,2)(0,0,0)[0] intercept   : AIC=-4494.338, Time=2.44 sec\n",
      " ARIMA(0,0,0)(0,0,0)[0] intercept   : AIC=-3770.331, Time=1.93 sec\n",
      " ARIMA(1,0,0)(0,0,0)[0] intercept   : AIC=-4490.335, Time=1.97 sec\n",
      " ARIMA(0,0,1)(0,0,0)[0] intercept   : AIC=-4126.752, Time=2.05 sec\n",
      " ARIMA(0,0,0)(0,0,0)[0]             : AIC=649.578, Time=1.86 sec\n",
      " ARIMA(1,0,2)(0,0,0)[0] intercept   : AIC=-4488.206, Time=2.36 sec\n",
      " ARIMA(2,0,1)(0,0,0)[0] intercept   : AIC=-4494.291, Time=2.17 sec\n"
     ]
    },
    {
     "name": "stderr",
     "output_type": "stream",
     "text": [
      "/home/ai/.local/lib/python3.8/site-packages/statsmodels/tsa/statespace/sarimax.py:1897: RuntimeWarning: divide by zero encountered in reciprocal\n",
      "  return np.roots(self.polynomial_reduced_ma)**-1\n"
     ]
    },
    {
     "name": "stdout",
     "output_type": "stream",
     "text": [
      " ARIMA(3,0,2)(0,0,0)[0] intercept   : AIC=-3986.696, Time=2.42 sec\n",
      " ARIMA(2,0,3)(0,0,0)[0] intercept   : AIC=-4492.317, Time=2.61 sec\n",
      " ARIMA(1,0,1)(0,0,0)[0] intercept   : AIC=-4489.749, Time=2.10 sec\n",
      " ARIMA(1,0,3)(0,0,0)[0] intercept   : AIC=-4489.128, Time=2.42 sec\n",
      " ARIMA(3,0,1)(0,0,0)[0] intercept   : AIC=-4485.583, Time=2.41 sec\n"
     ]
    },
    {
     "name": "stderr",
     "output_type": "stream",
     "text": [
      "/home/ai/.local/lib/python3.8/site-packages/statsmodels/tsa/statespace/sarimax.py:1890: RuntimeWarning: divide by zero encountered in reciprocal\n",
      "  return np.roots(self.polynomial_reduced_ar)**-1\n",
      "/home/ai/.local/lib/python3.8/site-packages/statsmodels/tsa/statespace/sarimax.py:1897: RuntimeWarning: divide by zero encountered in reciprocal\n",
      "  return np.roots(self.polynomial_reduced_ma)**-1\n"
     ]
    },
    {
     "name": "stdout",
     "output_type": "stream",
     "text": [
      " ARIMA(3,0,3)(0,0,0)[0] intercept   : AIC=-3287.063, Time=2.49 sec\n",
      " ARIMA(2,0,2)(0,0,0)[0]             : AIC=-4496.513, Time=2.34 sec\n",
      " ARIMA(1,0,2)(0,0,0)[0]             : AIC=-4490.215, Time=2.27 sec\n",
      " ARIMA(2,0,1)(0,0,0)[0]             : AIC=-4496.315, Time=2.08 sec\n"
     ]
    },
    {
     "name": "stderr",
     "output_type": "stream",
     "text": [
      "/home/ai/.local/lib/python3.8/site-packages/statsmodels/tsa/statespace/sarimax.py:1897: RuntimeWarning: divide by zero encountered in reciprocal\n",
      "  return np.roots(self.polynomial_reduced_ma)**-1\n"
     ]
    },
    {
     "name": "stdout",
     "output_type": "stream",
     "text": [
      " ARIMA(3,0,2)(0,0,0)[0]             : AIC=-3988.817, Time=2.35 sec\n",
      " ARIMA(2,0,3)(0,0,0)[0]             : AIC=-4494.348, Time=2.41 sec\n",
      " ARIMA(1,0,1)(0,0,0)[0]             : AIC=-4491.753, Time=2.05 sec\n",
      " ARIMA(1,0,3)(0,0,0)[0]             : AIC=-4491.131, Time=2.39 sec\n",
      " ARIMA(3,0,1)(0,0,0)[0]             : AIC=-4487.586, Time=2.38 sec\n"
     ]
    },
    {
     "name": "stderr",
     "output_type": "stream",
     "text": [
      "/home/ai/.local/lib/python3.8/site-packages/statsmodels/tsa/statespace/sarimax.py:1890: RuntimeWarning: divide by zero encountered in reciprocal\n",
      "  return np.roots(self.polynomial_reduced_ar)**-1\n",
      "/home/ai/.local/lib/python3.8/site-packages/statsmodels/tsa/statespace/sarimax.py:1897: RuntimeWarning: divide by zero encountered in reciprocal\n",
      "  return np.roots(self.polynomial_reduced_ma)**-1\n"
     ]
    },
    {
     "name": "stdout",
     "output_type": "stream",
     "text": [
      " ARIMA(3,0,3)(0,0,0)[0]             : AIC=-3289.078, Time=2.47 sec\n",
      "\n",
      "Best model:  ARIMA(2,0,2)(0,0,0)[0]          \n",
      "Total fit time: 49.995 seconds\n",
      "Performing stepwise search to minimize aic\n",
      " ARIMA(2,0,2)(0,0,0)[0] intercept   : AIC=-3848.374, Time=2.45 sec\n",
      " ARIMA(0,0,0)(0,0,0)[0] intercept   : AIC=-2913.868, Time=1.94 sec\n",
      " ARIMA(1,0,0)(0,0,0)[0] intercept   : AIC=-3818.157, Time=2.02 sec\n",
      " ARIMA(0,0,1)(0,0,0)[0] intercept   : AIC=-3149.040, Time=2.18 sec\n",
      " ARIMA(0,0,0)(0,0,0)[0]             : AIC=1506.042, Time=1.94 sec\n",
      " ARIMA(1,0,2)(0,0,0)[0] intercept   : AIC=-3825.492, Time=2.38 sec\n",
      " ARIMA(2,0,1)(0,0,0)[0] intercept   : AIC=-3831.206, Time=2.22 sec\n"
     ]
    },
    {
     "name": "stderr",
     "output_type": "stream",
     "text": [
      "/home/ai/.local/lib/python3.8/site-packages/statsmodels/tsa/statespace/sarimax.py:1890: RuntimeWarning: divide by zero encountered in reciprocal\n",
      "  return np.roots(self.polynomial_reduced_ar)**-1\n",
      "/home/ai/.local/lib/python3.8/site-packages/statsmodels/tsa/statespace/sarimax.py:1897: RuntimeWarning: divide by zero encountered in reciprocal\n",
      "  return np.roots(self.polynomial_reduced_ma)**-1\n"
     ]
    },
    {
     "name": "stdout",
     "output_type": "stream",
     "text": [
      " ARIMA(3,0,2)(0,0,0)[0] intercept   : AIC=-2056.272, Time=2.43 sec\n",
      " ARIMA(2,0,3)(0,0,0)[0] intercept   : AIC=-3831.160, Time=2.48 sec\n",
      " ARIMA(1,0,1)(0,0,0)[0] intercept   : AIC=-3824.325, Time=2.10 sec\n",
      " ARIMA(1,0,3)(0,0,0)[0] intercept   : AIC=-3823.031, Time=2.45 sec\n",
      " ARIMA(3,0,1)(0,0,0)[0] intercept   : AIC=-3823.864, Time=2.40 sec\n",
      " ARIMA(3,0,3)(0,0,0)[0] intercept   : AIC=-3843.840, Time=2.71 sec\n",
      " ARIMA(2,0,2)(0,0,0)[0]             : AIC=-3850.364, Time=2.44 sec\n",
      " ARIMA(1,0,2)(0,0,0)[0]             : AIC=-3827.494, Time=2.41 sec\n",
      " ARIMA(2,0,1)(0,0,0)[0]             : AIC=-3833.214, Time=2.13 sec\n"
     ]
    },
    {
     "name": "stderr",
     "output_type": "stream",
     "text": [
      "/home/ai/.local/lib/python3.8/site-packages/statsmodels/tsa/statespace/sarimax.py:1890: RuntimeWarning: divide by zero encountered in reciprocal\n",
      "  return np.roots(self.polynomial_reduced_ar)**-1\n",
      "/home/ai/.local/lib/python3.8/site-packages/statsmodels/tsa/statespace/sarimax.py:1897: RuntimeWarning: divide by zero encountered in reciprocal\n",
      "  return np.roots(self.polynomial_reduced_ma)**-1\n"
     ]
    },
    {
     "name": "stdout",
     "output_type": "stream",
     "text": [
      " ARIMA(3,0,2)(0,0,0)[0]             : AIC=-2058.270, Time=2.59 sec\n",
      " ARIMA(2,0,3)(0,0,0)[0]             : AIC=-3833.199, Time=2.46 sec\n",
      " ARIMA(1,0,1)(0,0,0)[0]             : AIC=-3826.328, Time=2.05 sec\n",
      " ARIMA(1,0,3)(0,0,0)[0]             : AIC=-3825.038, Time=2.32 sec\n",
      " ARIMA(3,0,1)(0,0,0)[0]             : AIC=-3825.866, Time=2.32 sec\n",
      " ARIMA(3,0,3)(0,0,0)[0]             : AIC=-3845.876, Time=2.53 sec\n",
      "\n",
      "Best model:  ARIMA(2,0,2)(0,0,0)[0]          \n",
      "Total fit time: 50.961 seconds\n",
      "Performing stepwise search to minimize aic\n",
      " ARIMA(2,0,2)(0,0,0)[0] intercept   : AIC=-5464.932, Time=2.50 sec\n",
      " ARIMA(0,0,0)(0,0,0)[0] intercept   : AIC=-4658.416, Time=1.95 sec\n",
      " ARIMA(1,0,0)(0,0,0)[0] intercept   : AIC=-5433.646, Time=1.97 sec\n",
      " ARIMA(0,0,1)(0,0,0)[0] intercept   : AIC=-4997.027, Time=2.05 sec\n",
      " ARIMA(0,0,0)(0,0,0)[0]             : AIC=-238.507, Time=1.84 sec\n",
      " ARIMA(1,0,2)(0,0,0)[0] intercept   : AIC=-5440.505, Time=2.45 sec\n"
     ]
    },
    {
     "name": "stderr",
     "output_type": "stream",
     "text": [
      "/home/ai/.local/lib/python3.8/site-packages/statsmodels/tsa/statespace/sarimax.py:1890: RuntimeWarning: divide by zero encountered in reciprocal\n",
      "  return np.roots(self.polynomial_reduced_ar)**-1\n",
      "/home/ai/.local/lib/python3.8/site-packages/statsmodels/tsa/statespace/sarimax.py:1897: RuntimeWarning: divide by zero encountered in reciprocal\n",
      "  return np.roots(self.polynomial_reduced_ma)**-1\n"
     ]
    },
    {
     "name": "stdout",
     "output_type": "stream",
     "text": [
      " ARIMA(2,0,1)(0,0,0)[0] intercept   : AIC=-4066.177, Time=2.18 sec\n",
      " ARIMA(3,0,2)(0,0,0)[0] intercept   : AIC=-5468.125, Time=2.42 sec\n",
      " ARIMA(3,0,1)(0,0,0)[0] intercept   : AIC=-5435.063, Time=2.43 sec\n",
      " ARIMA(4,0,2)(0,0,0)[0] intercept   : AIC=-5463.278, Time=2.62 sec\n",
      " ARIMA(3,0,3)(0,0,0)[0] intercept   : AIC=-5463.166, Time=2.55 sec\n",
      " ARIMA(2,0,3)(0,0,0)[0] intercept   : AIC=-5460.694, Time=2.51 sec\n",
      " ARIMA(4,0,1)(0,0,0)[0] intercept   : AIC=-5454.460, Time=2.47 sec\n",
      " ARIMA(4,0,3)(0,0,0)[0] intercept   : AIC=-5467.881, Time=2.55 sec\n",
      " ARIMA(3,0,2)(0,0,0)[0]             : AIC=-5470.467, Time=2.39 sec\n",
      " ARIMA(2,0,2)(0,0,0)[0]             : AIC=-5467.179, Time=2.34 sec\n",
      " ARIMA(3,0,1)(0,0,0)[0]             : AIC=-5437.078, Time=2.35 sec\n",
      " ARIMA(4,0,2)(0,0,0)[0]             : AIC=-5465.353, Time=2.55 sec\n",
      " ARIMA(3,0,3)(0,0,0)[0]             : AIC=-5465.228, Time=2.44 sec\n"
     ]
    },
    {
     "name": "stderr",
     "output_type": "stream",
     "text": [
      "/home/ai/.local/lib/python3.8/site-packages/statsmodels/tsa/statespace/sarimax.py:1890: RuntimeWarning: divide by zero encountered in reciprocal\n",
      "  return np.roots(self.polynomial_reduced_ar)**-1\n",
      "/home/ai/.local/lib/python3.8/site-packages/statsmodels/tsa/statespace/sarimax.py:1897: RuntimeWarning: divide by zero encountered in reciprocal\n",
      "  return np.roots(self.polynomial_reduced_ma)**-1\n"
     ]
    },
    {
     "name": "stdout",
     "output_type": "stream",
     "text": [
      " ARIMA(2,0,1)(0,0,0)[0]             : AIC=-4068.203, Time=2.09 sec\n",
      " ARIMA(2,0,3)(0,0,0)[0]             : AIC=-5462.795, Time=2.40 sec\n",
      " ARIMA(4,0,1)(0,0,0)[0]             : AIC=-5456.475, Time=2.41 sec\n",
      " ARIMA(4,0,3)(0,0,0)[0]             : AIC=-5469.958, Time=2.50 sec\n",
      "\n",
      "Best model:  ARIMA(3,0,2)(0,0,0)[0]          \n",
      "Total fit time: 53.980 seconds\n",
      "Performing stepwise search to minimize aic\n",
      " ARIMA(2,0,2)(0,0,0)[0] intercept   : AIC=-4152.570, Time=2.40 sec\n",
      " ARIMA(0,0,0)(0,0,0)[0] intercept   : AIC=-3453.589, Time=1.89 sec\n",
      " ARIMA(1,0,0)(0,0,0)[0] intercept   : AIC=-4125.659, Time=1.96 sec\n",
      " ARIMA(0,0,1)(0,0,0)[0] intercept   : AIC=-3803.757, Time=2.05 sec\n",
      " ARIMA(0,0,0)(0,0,0)[0]             : AIC=966.320, Time=1.85 sec\n",
      " ARIMA(1,0,2)(0,0,0)[0] intercept   : AIC=-4131.420, Time=2.36 sec\n"
     ]
    },
    {
     "name": "stderr",
     "output_type": "stream",
     "text": [
      "/home/ai/.local/lib/python3.8/site-packages/statsmodels/tsa/statespace/sarimax.py:1890: RuntimeWarning: divide by zero encountered in reciprocal\n",
      "  return np.roots(self.polynomial_reduced_ar)**-1\n",
      "/home/ai/.local/lib/python3.8/site-packages/statsmodels/tsa/statespace/sarimax.py:1897: RuntimeWarning: divide by zero encountered in reciprocal\n",
      "  return np.roots(self.polynomial_reduced_ma)**-1\n"
     ]
    },
    {
     "name": "stdout",
     "output_type": "stream",
     "text": [
      " ARIMA(2,0,1)(0,0,0)[0] intercept   : AIC=-3033.315, Time=2.14 sec\n",
      " ARIMA(3,0,2)(0,0,0)[0] intercept   : AIC=inf, Time=2.42 sec\n",
      " ARIMA(2,0,3)(0,0,0)[0] intercept   : AIC=-4144.795, Time=2.55 sec\n",
      " ARIMA(1,0,1)(0,0,0)[0] intercept   : AIC=-4123.862, Time=2.13 sec\n",
      " ARIMA(1,0,3)(0,0,0)[0] intercept   : AIC=-4136.192, Time=2.39 sec\n",
      " ARIMA(3,0,1)(0,0,0)[0] intercept   : AIC=-4125.722, Time=2.37 sec\n"
     ]
    },
    {
     "name": "stderr",
     "output_type": "stream",
     "text": [
      "/home/ai/.local/lib/python3.8/site-packages/statsmodels/tsa/statespace/sarimax.py:1890: RuntimeWarning: divide by zero encountered in reciprocal\n",
      "  return np.roots(self.polynomial_reduced_ar)**-1\n",
      "/home/ai/.local/lib/python3.8/site-packages/statsmodels/tsa/statespace/sarimax.py:1897: RuntimeWarning: divide by zero encountered in reciprocal\n",
      "  return np.roots(self.polynomial_reduced_ma)**-1\n"
     ]
    },
    {
     "name": "stdout",
     "output_type": "stream",
     "text": [
      " ARIMA(3,0,3)(0,0,0)[0] intercept   : AIC=-2971.372, Time=2.48 sec\n",
      " ARIMA(2,0,2)(0,0,0)[0]             : AIC=-4154.575, Time=2.32 sec\n",
      " ARIMA(1,0,2)(0,0,0)[0]             : AIC=-4133.422, Time=2.27 sec\n"
     ]
    },
    {
     "name": "stderr",
     "output_type": "stream",
     "text": [
      "/home/ai/.local/lib/python3.8/site-packages/statsmodels/tsa/statespace/sarimax.py:1890: RuntimeWarning: divide by zero encountered in reciprocal\n",
      "  return np.roots(self.polynomial_reduced_ar)**-1\n",
      "/home/ai/.local/lib/python3.8/site-packages/statsmodels/tsa/statespace/sarimax.py:1897: RuntimeWarning: divide by zero encountered in reciprocal\n",
      "  return np.roots(self.polynomial_reduced_ma)**-1\n"
     ]
    },
    {
     "name": "stdout",
     "output_type": "stream",
     "text": [
      " ARIMA(2,0,1)(0,0,0)[0]             : AIC=-3035.315, Time=2.07 sec\n",
      " ARIMA(3,0,2)(0,0,0)[0]             : AIC=inf, Time=2.38 sec\n",
      " ARIMA(2,0,3)(0,0,0)[0]             : AIC=-4146.797, Time=2.44 sec\n",
      " ARIMA(1,0,1)(0,0,0)[0]             : AIC=-4125.869, Time=2.06 sec\n",
      " ARIMA(1,0,3)(0,0,0)[0]             : AIC=-4138.193, Time=2.37 sec\n",
      " ARIMA(3,0,1)(0,0,0)[0]             : AIC=-4127.724, Time=2.36 sec\n"
     ]
    },
    {
     "name": "stderr",
     "output_type": "stream",
     "text": [
      "/home/ai/.local/lib/python3.8/site-packages/statsmodels/tsa/statespace/sarimax.py:1890: RuntimeWarning: divide by zero encountered in reciprocal\n",
      "  return np.roots(self.polynomial_reduced_ar)**-1\n",
      "/home/ai/.local/lib/python3.8/site-packages/statsmodels/tsa/statespace/sarimax.py:1897: RuntimeWarning: divide by zero encountered in reciprocal\n",
      "  return np.roots(self.polynomial_reduced_ma)**-1\n"
     ]
    },
    {
     "name": "stdout",
     "output_type": "stream",
     "text": [
      " ARIMA(3,0,3)(0,0,0)[0]             : AIC=-2973.372, Time=2.56 sec\n",
      "\n",
      "Best model:  ARIMA(2,0,2)(0,0,0)[0]          \n",
      "Total fit time: 49.821 seconds\n",
      "Performing stepwise search to minimize aic\n",
      " ARIMA(2,0,2)(0,0,0)[0] intercept   : AIC=-4243.561, Time=2.57 sec\n",
      " ARIMA(0,0,0)(0,0,0)[0] intercept   : AIC=-3234.527, Time=2.02 sec\n",
      " ARIMA(1,0,0)(0,0,0)[0] intercept   : AIC=-4204.168, Time=2.00 sec\n",
      " ARIMA(0,0,1)(0,0,0)[0] intercept   : AIC=-3634.962, Time=2.07 sec\n",
      " ARIMA(0,0,0)(0,0,0)[0]             : AIC=1185.383, Time=1.99 sec\n",
      " ARIMA(1,0,2)(0,0,0)[0] intercept   : AIC=-4230.187, Time=2.35 sec\n"
     ]
    },
    {
     "name": "stderr",
     "output_type": "stream",
     "text": [
      "/home/ai/.local/lib/python3.8/site-packages/statsmodels/tsa/statespace/sarimax.py:1890: RuntimeWarning: divide by zero encountered in reciprocal\n",
      "  return np.roots(self.polynomial_reduced_ar)**-1\n",
      "/home/ai/.local/lib/python3.8/site-packages/statsmodels/tsa/statespace/sarimax.py:1897: RuntimeWarning: divide by zero encountered in reciprocal\n",
      "  return np.roots(self.polynomial_reduced_ma)**-1\n"
     ]
    },
    {
     "name": "stdout",
     "output_type": "stream",
     "text": [
      " ARIMA(2,0,1)(0,0,0)[0] intercept   : AIC=-2186.811, Time=2.20 sec\n",
      " ARIMA(3,0,2)(0,0,0)[0] intercept   : AIC=-4243.115, Time=2.56 sec\n",
      " ARIMA(2,0,3)(0,0,0)[0] intercept   : AIC=-4235.713, Time=2.52 sec\n",
      " ARIMA(1,0,1)(0,0,0)[0] intercept   : AIC=-4202.569, Time=2.13 sec\n",
      " ARIMA(1,0,3)(0,0,0)[0] intercept   : AIC=-4237.379, Time=2.48 sec\n",
      " ARIMA(3,0,1)(0,0,0)[0] intercept   : AIC=-4214.080, Time=2.41 sec\n"
     ]
    },
    {
     "name": "stderr",
     "output_type": "stream",
     "text": [
      "/home/ai/.local/lib/python3.8/site-packages/statsmodels/tsa/statespace/sarimax.py:1890: RuntimeWarning: divide by zero encountered in reciprocal\n",
      "  return np.roots(self.polynomial_reduced_ar)**-1\n",
      "/home/ai/.local/lib/python3.8/site-packages/statsmodels/tsa/statespace/sarimax.py:1897: RuntimeWarning: divide by zero encountered in reciprocal\n",
      "  return np.roots(self.polynomial_reduced_ma)**-1\n"
     ]
    },
    {
     "name": "stdout",
     "output_type": "stream",
     "text": [
      " ARIMA(3,0,3)(0,0,0)[0] intercept   : AIC=-2117.697, Time=2.54 sec\n",
      " ARIMA(2,0,2)(0,0,0)[0]             : AIC=-4245.564, Time=2.35 sec\n",
      " ARIMA(1,0,2)(0,0,0)[0]             : AIC=-4232.192, Time=2.30 sec\n"
     ]
    },
    {
     "name": "stderr",
     "output_type": "stream",
     "text": [
      "/home/ai/.local/lib/python3.8/site-packages/statsmodels/tsa/statespace/sarimax.py:1890: RuntimeWarning: divide by zero encountered in reciprocal\n",
      "  return np.roots(self.polynomial_reduced_ar)**-1\n",
      "/home/ai/.local/lib/python3.8/site-packages/statsmodels/tsa/statespace/sarimax.py:1897: RuntimeWarning: divide by zero encountered in reciprocal\n",
      "  return np.roots(self.polynomial_reduced_ma)**-1\n"
     ]
    },
    {
     "name": "stdout",
     "output_type": "stream",
     "text": [
      " ARIMA(2,0,1)(0,0,0)[0]             : AIC=-2188.812, Time=2.09 sec\n",
      " ARIMA(3,0,2)(0,0,0)[0]             : AIC=-4245.115, Time=2.40 sec\n",
      " ARIMA(2,0,3)(0,0,0)[0]             : AIC=-4237.717, Time=2.39 sec\n",
      " ARIMA(1,0,1)(0,0,0)[0]             : AIC=-4204.576, Time=2.04 sec\n",
      " ARIMA(1,0,3)(0,0,0)[0]             : AIC=-4239.382, Time=2.33 sec\n",
      " ARIMA(3,0,1)(0,0,0)[0]             : AIC=-4216.080, Time=2.33 sec\n"
     ]
    },
    {
     "name": "stderr",
     "output_type": "stream",
     "text": [
      "/home/ai/.local/lib/python3.8/site-packages/statsmodels/tsa/statespace/sarimax.py:1890: RuntimeWarning: divide by zero encountered in reciprocal\n",
      "  return np.roots(self.polynomial_reduced_ar)**-1\n",
      "/home/ai/.local/lib/python3.8/site-packages/statsmodels/tsa/statespace/sarimax.py:1897: RuntimeWarning: divide by zero encountered in reciprocal\n",
      "  return np.roots(self.polynomial_reduced_ma)**-1\n"
     ]
    },
    {
     "name": "stdout",
     "output_type": "stream",
     "text": [
      " ARIMA(3,0,3)(0,0,0)[0]             : AIC=-2119.699, Time=2.46 sec\n",
      "\n",
      "Best model:  ARIMA(2,0,2)(0,0,0)[0]          \n",
      "Total fit time: 50.508 seconds\n",
      "Performing stepwise search to minimize aic\n",
      " ARIMA(2,0,2)(0,0,0)[0] intercept   : AIC=-4779.056, Time=2.42 sec\n",
      " ARIMA(0,0,0)(0,0,0)[0] intercept   : AIC=-3885.806, Time=1.92 sec\n",
      " ARIMA(1,0,0)(0,0,0)[0] intercept   : AIC=-4758.827, Time=1.98 sec\n",
      " ARIMA(0,0,1)(0,0,0)[0] intercept   : AIC=-4261.448, Time=2.13 sec\n",
      " ARIMA(0,0,0)(0,0,0)[0]             : AIC=534.104, Time=1.93 sec\n",
      " ARIMA(1,0,2)(0,0,0)[0] intercept   : AIC=-4768.053, Time=2.37 sec\n"
     ]
    },
    {
     "name": "stderr",
     "output_type": "stream",
     "text": [
      "/home/ai/.local/lib/python3.8/site-packages/statsmodels/tsa/statespace/sarimax.py:1890: RuntimeWarning: divide by zero encountered in reciprocal\n",
      "  return np.roots(self.polynomial_reduced_ar)**-1\n",
      "/home/ai/.local/lib/python3.8/site-packages/statsmodels/tsa/statespace/sarimax.py:1897: RuntimeWarning: divide by zero encountered in reciprocal\n",
      "  return np.roots(self.polynomial_reduced_ma)**-1\n"
     ]
    },
    {
     "name": "stdout",
     "output_type": "stream",
     "text": [
      " ARIMA(2,0,1)(0,0,0)[0] intercept   : AIC=-3108.165, Time=2.17 sec\n",
      " ARIMA(3,0,2)(0,0,0)[0] intercept   : AIC=-4779.220, Time=2.48 sec\n",
      " ARIMA(3,0,1)(0,0,0)[0] intercept   : AIC=-4764.974, Time=2.42 sec\n"
     ]
    },
    {
     "name": "stderr",
     "output_type": "stream",
     "text": [
      "/home/ai/.local/lib/python3.8/site-packages/statsmodels/tsa/statespace/sarimax.py:1890: RuntimeWarning: divide by zero encountered in reciprocal\n",
      "  return np.roots(self.polynomial_reduced_ar)**-1\n",
      "/home/ai/.local/lib/python3.8/site-packages/statsmodels/tsa/statespace/sarimax.py:1897: RuntimeWarning: divide by zero encountered in reciprocal\n",
      "  return np.roots(self.polynomial_reduced_ma)**-1\n"
     ]
    },
    {
     "name": "stdout",
     "output_type": "stream",
     "text": [
      " ARIMA(4,0,2)(0,0,0)[0] intercept   : AIC=-3089.617, Time=2.55 sec\n"
     ]
    },
    {
     "name": "stderr",
     "output_type": "stream",
     "text": [
      "/home/ai/.local/lib/python3.8/site-packages/statsmodels/tsa/statespace/sarimax.py:1890: RuntimeWarning: divide by zero encountered in reciprocal\n",
      "  return np.roots(self.polynomial_reduced_ar)**-1\n",
      "/home/ai/.local/lib/python3.8/site-packages/statsmodels/tsa/statespace/sarimax.py:1897: RuntimeWarning: divide by zero encountered in reciprocal\n",
      "  return np.roots(self.polynomial_reduced_ma)**-1\n"
     ]
    },
    {
     "name": "stdout",
     "output_type": "stream",
     "text": [
      " ARIMA(3,0,3)(0,0,0)[0] intercept   : AIC=-2980.733, Time=2.59 sec\n",
      " ARIMA(2,0,3)(0,0,0)[0] intercept   : AIC=-4773.151, Time=2.51 sec\n",
      " ARIMA(4,0,1)(0,0,0)[0] intercept   : AIC=-4771.993, Time=2.49 sec\n"
     ]
    },
    {
     "name": "stderr",
     "output_type": "stream",
     "text": [
      "/home/ai/.local/lib/python3.8/site-packages/statsmodels/tsa/statespace/sarimax.py:1890: RuntimeWarning: divide by zero encountered in reciprocal\n",
      "  return np.roots(self.polynomial_reduced_ar)**-1\n",
      "/home/ai/.local/lib/python3.8/site-packages/statsmodels/tsa/statespace/sarimax.py:1897: RuntimeWarning: divide by zero encountered in reciprocal\n",
      "  return np.roots(self.polynomial_reduced_ma)**-1\n"
     ]
    },
    {
     "name": "stdout",
     "output_type": "stream",
     "text": [
      " ARIMA(4,0,3)(0,0,0)[0] intercept   : AIC=-2975.367, Time=2.61 sec\n",
      " ARIMA(3,0,2)(0,0,0)[0]             : AIC=-4781.243, Time=2.39 sec\n",
      " ARIMA(2,0,2)(0,0,0)[0]             : AIC=-4781.084, Time=2.34 sec\n",
      " ARIMA(3,0,1)(0,0,0)[0]             : AIC=-4766.976, Time=2.38 sec\n"
     ]
    },
    {
     "name": "stderr",
     "output_type": "stream",
     "text": [
      "/home/ai/.local/lib/python3.8/site-packages/statsmodels/tsa/statespace/sarimax.py:1890: RuntimeWarning: divide by zero encountered in reciprocal\n",
      "  return np.roots(self.polynomial_reduced_ar)**-1\n",
      "/home/ai/.local/lib/python3.8/site-packages/statsmodels/tsa/statespace/sarimax.py:1897: RuntimeWarning: divide by zero encountered in reciprocal\n",
      "  return np.roots(self.polynomial_reduced_ma)**-1\n"
     ]
    },
    {
     "name": "stdout",
     "output_type": "stream",
     "text": [
      " ARIMA(4,0,2)(0,0,0)[0]             : AIC=-3091.622, Time=2.54 sec\n"
     ]
    },
    {
     "name": "stderr",
     "output_type": "stream",
     "text": [
      "/home/ai/.local/lib/python3.8/site-packages/statsmodels/tsa/statespace/sarimax.py:1890: RuntimeWarning: divide by zero encountered in reciprocal\n",
      "  return np.roots(self.polynomial_reduced_ar)**-1\n",
      "/home/ai/.local/lib/python3.8/site-packages/statsmodels/tsa/statespace/sarimax.py:1897: RuntimeWarning: divide by zero encountered in reciprocal\n",
      "  return np.roots(self.polynomial_reduced_ma)**-1\n"
     ]
    },
    {
     "name": "stdout",
     "output_type": "stream",
     "text": [
      " ARIMA(3,0,3)(0,0,0)[0]             : AIC=-2982.741, Time=2.47 sec\n"
     ]
    },
    {
     "name": "stderr",
     "output_type": "stream",
     "text": [
      "/home/ai/.local/lib/python3.8/site-packages/statsmodels/tsa/statespace/sarimax.py:1890: RuntimeWarning: divide by zero encountered in reciprocal\n",
      "  return np.roots(self.polynomial_reduced_ar)**-1\n",
      "/home/ai/.local/lib/python3.8/site-packages/statsmodels/tsa/statespace/sarimax.py:1897: RuntimeWarning: divide by zero encountered in reciprocal\n",
      "  return np.roots(self.polynomial_reduced_ma)**-1\n"
     ]
    },
    {
     "name": "stdout",
     "output_type": "stream",
     "text": [
      " ARIMA(2,0,1)(0,0,0)[0]             : AIC=-3110.169, Time=2.13 sec\n",
      " ARIMA(2,0,3)(0,0,0)[0]             : AIC=-4775.157, Time=2.38 sec\n",
      " ARIMA(4,0,1)(0,0,0)[0]             : AIC=-4773.996, Time=2.39 sec\n"
     ]
    },
    {
     "name": "stderr",
     "output_type": "stream",
     "text": [
      "/home/ai/.local/lib/python3.8/site-packages/statsmodels/tsa/statespace/sarimax.py:1890: RuntimeWarning: divide by zero encountered in reciprocal\n",
      "  return np.roots(self.polynomial_reduced_ar)**-1\n",
      "/home/ai/.local/lib/python3.8/site-packages/statsmodels/tsa/statespace/sarimax.py:1897: RuntimeWarning: divide by zero encountered in reciprocal\n",
      "  return np.roots(self.polynomial_reduced_ma)**-1\n"
     ]
    },
    {
     "name": "stdout",
     "output_type": "stream",
     "text": [
      " ARIMA(4,0,3)(0,0,0)[0]             : AIC=-2977.376, Time=2.48 sec\n",
      "\n",
      "Best model:  ARIMA(3,0,2)(0,0,0)[0]          \n",
      "Total fit time: 54.072 seconds\n",
      "Performing stepwise search to minimize aic\n",
      " ARIMA(2,0,2)(0,0,0)[0] intercept   : AIC=-6687.479, Time=2.44 sec\n",
      " ARIMA(0,0,0)(0,0,0)[0] intercept   : AIC=-5872.415, Time=1.92 sec\n",
      " ARIMA(1,0,0)(0,0,0)[0] intercept   : AIC=-6686.920, Time=2.00 sec\n",
      " ARIMA(0,0,1)(0,0,0)[0] intercept   : AIC=-6250.163, Time=2.20 sec\n",
      " ARIMA(0,0,0)(0,0,0)[0]             : AIC=-1452.506, Time=1.90 sec\n",
      " ARIMA(1,0,2)(0,0,0)[0] intercept   : AIC=-6690.280, Time=2.40 sec\n",
      " ARIMA(0,0,2)(0,0,0)[0] intercept   : AIC=-6408.720, Time=2.32 sec\n",
      " ARIMA(1,0,1)(0,0,0)[0] intercept   : AIC=-6691.990, Time=2.24 sec\n",
      " ARIMA(2,0,1)(0,0,0)[0] intercept   : AIC=-6690.071, Time=2.17 sec\n",
      " ARIMA(2,0,0)(0,0,0)[0] intercept   : AIC=-6691.716, Time=2.13 sec\n",
      " ARIMA(1,0,1)(0,0,0)[0]             : AIC=-6693.990, Time=2.05 sec\n",
      " ARIMA(0,0,1)(0,0,0)[0]             : AIC=-6252.163, Time=2.01 sec\n",
      " ARIMA(1,0,0)(0,0,0)[0]             : AIC=-6688.920, Time=1.91 sec\n",
      " ARIMA(2,0,1)(0,0,0)[0]             : AIC=-6692.071, Time=2.09 sec\n",
      " ARIMA(1,0,2)(0,0,0)[0]             : AIC=-6692.280, Time=2.27 sec\n",
      " ARIMA(0,0,2)(0,0,0)[0]             : AIC=-6410.718, Time=2.23 sec\n",
      " ARIMA(2,0,0)(0,0,0)[0]             : AIC=-6693.716, Time=2.03 sec\n",
      " ARIMA(2,0,2)(0,0,0)[0]             : AIC=-6689.479, Time=2.34 sec\n",
      "\n",
      "Best model:  ARIMA(1,0,1)(0,0,0)[0]          \n",
      "Total fit time: 38.660 seconds\n",
      "Performing stepwise search to minimize aic\n",
      " ARIMA(2,0,2)(0,0,0)[0] intercept   : AIC=-5831.235, Time=2.38 sec\n",
      " ARIMA(0,0,0)(0,0,0)[0] intercept   : AIC=-5077.621, Time=1.93 sec\n",
      " ARIMA(1,0,0)(0,0,0)[0] intercept   : AIC=-5841.443, Time=2.06 sec\n",
      " ARIMA(0,0,1)(0,0,0)[0] intercept   : AIC=-5460.389, Time=2.10 sec\n",
      " ARIMA(0,0,0)(0,0,0)[0]             : AIC=-657.712, Time=1.89 sec\n",
      " ARIMA(2,0,0)(0,0,0)[0] intercept   : AIC=-5840.914, Time=2.15 sec\n",
      " ARIMA(1,0,1)(0,0,0)[0] intercept   : AIC=-5840.907, Time=2.13 sec\n",
      " ARIMA(2,0,1)(0,0,0)[0] intercept   : AIC=-5839.081, Time=2.20 sec\n",
      " ARIMA(1,0,0)(0,0,0)[0]             : AIC=-5843.445, Time=1.95 sec\n",
      " ARIMA(2,0,0)(0,0,0)[0]             : AIC=-5842.919, Time=2.11 sec\n",
      " ARIMA(1,0,1)(0,0,0)[0]             : AIC=-5842.915, Time=2.06 sec\n",
      " ARIMA(0,0,1)(0,0,0)[0]             : AIC=-5462.381, Time=2.01 sec\n",
      " ARIMA(2,0,1)(0,0,0)[0]             : AIC=-5841.093, Time=2.12 sec\n",
      "\n",
      "Best model:  ARIMA(1,0,0)(0,0,0)[0]          \n",
      "Total fit time: 27.083 seconds\n",
      "Performing stepwise search to minimize aic\n",
      " ARIMA(2,0,2)(0,0,0)[0] intercept   : AIC=-5890.014, Time=2.43 sec\n",
      " ARIMA(0,0,0)(0,0,0)[0] intercept   : AIC=-5233.936, Time=1.95 sec\n",
      " ARIMA(1,0,0)(0,0,0)[0] intercept   : AIC=-5883.575, Time=1.96 sec\n",
      " ARIMA(0,0,1)(0,0,0)[0] intercept   : AIC=-5561.406, Time=2.07 sec\n",
      " ARIMA(0,0,0)(0,0,0)[0]             : AIC=-814.027, Time=1.88 sec\n",
      " ARIMA(1,0,2)(0,0,0)[0] intercept   : AIC=-5882.252, Time=2.47 sec\n"
     ]
    },
    {
     "name": "stderr",
     "output_type": "stream",
     "text": [
      "/home/ai/.local/lib/python3.8/site-packages/statsmodels/tsa/statespace/sarimax.py:1890: RuntimeWarning: divide by zero encountered in reciprocal\n",
      "  return np.roots(self.polynomial_reduced_ar)**-1\n",
      "/home/ai/.local/lib/python3.8/site-packages/statsmodels/tsa/statespace/sarimax.py:1897: RuntimeWarning: divide by zero encountered in reciprocal\n",
      "  return np.roots(self.polynomial_reduced_ma)**-1\n"
     ]
    },
    {
     "name": "stdout",
     "output_type": "stream",
     "text": [
      " ARIMA(2,0,1)(0,0,0)[0] intercept   : AIC=-4859.027, Time=2.33 sec\n"
     ]
    },
    {
     "name": "stderr",
     "output_type": "stream",
     "text": [
      "/home/ai/.local/lib/python3.8/site-packages/statsmodels/tsa/statespace/sarimax.py:1890: RuntimeWarning: divide by zero encountered in reciprocal\n",
      "  return np.roots(self.polynomial_reduced_ar)**-1\n",
      "/home/ai/.local/lib/python3.8/site-packages/statsmodels/tsa/statespace/sarimax.py:1897: RuntimeWarning: divide by zero encountered in reciprocal\n",
      "  return np.roots(self.polynomial_reduced_ma)**-1\n"
     ]
    },
    {
     "name": "stdout",
     "output_type": "stream",
     "text": [
      " ARIMA(3,0,2)(0,0,0)[0] intercept   : AIC=-4845.242, Time=2.47 sec\n"
     ]
    },
    {
     "name": "stderr",
     "output_type": "stream",
     "text": [
      "/home/ai/.local/lib/python3.8/site-packages/statsmodels/tsa/statespace/sarimax.py:1890: RuntimeWarning: divide by zero encountered in reciprocal\n",
      "  return np.roots(self.polynomial_reduced_ar)**-1\n",
      "/home/ai/.local/lib/python3.8/site-packages/statsmodels/tsa/statespace/sarimax.py:1897: RuntimeWarning: divide by zero encountered in reciprocal\n",
      "  return np.roots(self.polynomial_reduced_ma)**-1\n"
     ]
    },
    {
     "name": "stdout",
     "output_type": "stream",
     "text": [
      " ARIMA(2,0,3)(0,0,0)[0] intercept   : AIC=-4836.620, Time=2.50 sec\n",
      " ARIMA(1,0,1)(0,0,0)[0] intercept   : AIC=-5882.432, Time=2.14 sec\n",
      " ARIMA(1,0,3)(0,0,0)[0] intercept   : AIC=-5880.136, Time=2.46 sec\n",
      " ARIMA(3,0,1)(0,0,0)[0] intercept   : AIC=-5879.688, Time=2.52 sec\n"
     ]
    },
    {
     "name": "stderr",
     "output_type": "stream",
     "text": [
      "/home/ai/.local/lib/python3.8/site-packages/statsmodels/tsa/statespace/sarimax.py:1890: RuntimeWarning: divide by zero encountered in reciprocal\n",
      "  return np.roots(self.polynomial_reduced_ar)**-1\n",
      "/home/ai/.local/lib/python3.8/site-packages/statsmodels/tsa/statespace/sarimax.py:1897: RuntimeWarning: divide by zero encountered in reciprocal\n",
      "  return np.roots(self.polynomial_reduced_ma)**-1\n"
     ]
    },
    {
     "name": "stdout",
     "output_type": "stream",
     "text": [
      " ARIMA(3,0,3)(0,0,0)[0] intercept   : AIC=-4830.693, Time=2.57 sec\n",
      " ARIMA(2,0,2)(0,0,0)[0]             : AIC=-5892.019, Time=2.39 sec\n",
      " ARIMA(1,0,2)(0,0,0)[0]             : AIC=-5884.252, Time=2.39 sec\n"
     ]
    },
    {
     "name": "stderr",
     "output_type": "stream",
     "text": [
      "/home/ai/.local/lib/python3.8/site-packages/statsmodels/tsa/statespace/sarimax.py:1890: RuntimeWarning: divide by zero encountered in reciprocal\n",
      "  return np.roots(self.polynomial_reduced_ar)**-1\n",
      "/home/ai/.local/lib/python3.8/site-packages/statsmodels/tsa/statespace/sarimax.py:1897: RuntimeWarning: divide by zero encountered in reciprocal\n",
      "  return np.roots(self.polynomial_reduced_ma)**-1\n"
     ]
    },
    {
     "name": "stdout",
     "output_type": "stream",
     "text": [
      " ARIMA(2,0,1)(0,0,0)[0]             : AIC=-4861.036, Time=2.09 sec\n"
     ]
    },
    {
     "name": "stderr",
     "output_type": "stream",
     "text": [
      "/home/ai/.local/lib/python3.8/site-packages/statsmodels/tsa/statespace/sarimax.py:1890: RuntimeWarning: divide by zero encountered in reciprocal\n",
      "  return np.roots(self.polynomial_reduced_ar)**-1\n",
      "/home/ai/.local/lib/python3.8/site-packages/statsmodels/tsa/statespace/sarimax.py:1897: RuntimeWarning: divide by zero encountered in reciprocal\n",
      "  return np.roots(self.polynomial_reduced_ma)**-1\n"
     ]
    },
    {
     "name": "stdout",
     "output_type": "stream",
     "text": [
      " ARIMA(3,0,2)(0,0,0)[0]             : AIC=-4847.244, Time=2.39 sec\n"
     ]
    },
    {
     "name": "stderr",
     "output_type": "stream",
     "text": [
      "/home/ai/.local/lib/python3.8/site-packages/statsmodels/tsa/statespace/sarimax.py:1890: RuntimeWarning: divide by zero encountered in reciprocal\n",
      "  return np.roots(self.polynomial_reduced_ar)**-1\n",
      "/home/ai/.local/lib/python3.8/site-packages/statsmodels/tsa/statespace/sarimax.py:1897: RuntimeWarning: divide by zero encountered in reciprocal\n",
      "  return np.roots(self.polynomial_reduced_ma)**-1\n"
     ]
    },
    {
     "name": "stdout",
     "output_type": "stream",
     "text": [
      " ARIMA(2,0,3)(0,0,0)[0]             : AIC=-4838.619, Time=2.40 sec\n",
      " ARIMA(1,0,1)(0,0,0)[0]             : AIC=-5884.434, Time=2.05 sec\n",
      " ARIMA(1,0,3)(0,0,0)[0]             : AIC=-5882.137, Time=2.37 sec\n",
      " ARIMA(3,0,1)(0,0,0)[0]             : AIC=-5881.690, Time=2.47 sec\n"
     ]
    },
    {
     "name": "stderr",
     "output_type": "stream",
     "text": [
      "/home/ai/.local/lib/python3.8/site-packages/statsmodels/tsa/statespace/sarimax.py:1890: RuntimeWarning: divide by zero encountered in reciprocal\n",
      "  return np.roots(self.polynomial_reduced_ar)**-1\n",
      "/home/ai/.local/lib/python3.8/site-packages/statsmodels/tsa/statespace/sarimax.py:1897: RuntimeWarning: divide by zero encountered in reciprocal\n",
      "  return np.roots(self.polynomial_reduced_ma)**-1\n"
     ]
    },
    {
     "name": "stdout",
     "output_type": "stream",
     "text": [
      " ARIMA(3,0,3)(0,0,0)[0]             : AIC=-4832.692, Time=2.43 sec\n",
      "\n",
      "Best model:  ARIMA(2,0,2)(0,0,0)[0]          \n",
      "Total fit time: 50.751 seconds\n",
      "Performing stepwise search to minimize aic\n",
      " ARIMA(2,0,2)(0,0,0)[0] intercept   : AIC=-4246.976, Time=2.42 sec\n",
      " ARIMA(0,0,0)(0,0,0)[0] intercept   : AIC=-3294.487, Time=1.91 sec\n",
      " ARIMA(1,0,0)(0,0,0)[0] intercept   : AIC=-4209.369, Time=1.95 sec\n",
      " ARIMA(0,0,1)(0,0,0)[0] intercept   : AIC=-3674.458, Time=2.08 sec\n",
      " ARIMA(0,0,0)(0,0,0)[0]             : AIC=1125.422, Time=1.86 sec\n",
      " ARIMA(1,0,2)(0,0,0)[0] intercept   : AIC=-4220.412, Time=2.35 sec\n"
     ]
    },
    {
     "name": "stderr",
     "output_type": "stream",
     "text": [
      "/home/ai/.local/lib/python3.8/site-packages/statsmodels/tsa/statespace/sarimax.py:1890: RuntimeWarning: divide by zero encountered in reciprocal\n",
      "  return np.roots(self.polynomial_reduced_ar)**-1\n",
      "/home/ai/.local/lib/python3.8/site-packages/statsmodels/tsa/statespace/sarimax.py:1897: RuntimeWarning: divide by zero encountered in reciprocal\n",
      "  return np.roots(self.polynomial_reduced_ma)**-1\n"
     ]
    },
    {
     "name": "stdout",
     "output_type": "stream",
     "text": [
      " ARIMA(2,0,1)(0,0,0)[0] intercept   : AIC=-2411.701, Time=2.15 sec\n",
      " ARIMA(3,0,2)(0,0,0)[0] intercept   : AIC=-4250.563, Time=2.43 sec\n",
      " ARIMA(3,0,1)(0,0,0)[0] intercept   : AIC=-4215.442, Time=2.39 sec\n",
      " ARIMA(4,0,2)(0,0,0)[0] intercept   : AIC=-4248.570, Time=2.56 sec\n"
     ]
    },
    {
     "name": "stderr",
     "output_type": "stream",
     "text": [
      "/home/ai/.local/lib/python3.8/site-packages/statsmodels/tsa/statespace/sarimax.py:1890: RuntimeWarning: divide by zero encountered in reciprocal\n",
      "  return np.roots(self.polynomial_reduced_ar)**-1\n",
      "/home/ai/.local/lib/python3.8/site-packages/statsmodels/tsa/statespace/sarimax.py:1897: RuntimeWarning: divide by zero encountered in reciprocal\n",
      "  return np.roots(self.polynomial_reduced_ma)**-1\n"
     ]
    },
    {
     "name": "stdout",
     "output_type": "stream",
     "text": [
      " ARIMA(3,0,3)(0,0,0)[0] intercept   : AIC=-2326.778, Time=2.59 sec\n",
      " ARIMA(2,0,3)(0,0,0)[0] intercept   : AIC=-4238.872, Time=2.49 sec\n",
      " ARIMA(4,0,1)(0,0,0)[0] intercept   : AIC=-4235.285, Time=2.49 sec\n"
     ]
    },
    {
     "name": "stderr",
     "output_type": "stream",
     "text": [
      "/home/ai/.local/lib/python3.8/site-packages/statsmodels/tsa/statespace/sarimax.py:1890: RuntimeWarning: divide by zero encountered in reciprocal\n",
      "  return np.roots(self.polynomial_reduced_ar)**-1\n",
      "/home/ai/.local/lib/python3.8/site-packages/statsmodels/tsa/statespace/sarimax.py:1897: RuntimeWarning: divide by zero encountered in reciprocal\n",
      "  return np.roots(self.polynomial_reduced_ma)**-1\n"
     ]
    },
    {
     "name": "stdout",
     "output_type": "stream",
     "text": [
      " ARIMA(4,0,3)(0,0,0)[0] intercept   : AIC=-2324.546, Time=2.53 sec\n",
      " ARIMA(3,0,2)(0,0,0)[0]             : AIC=-4252.559, Time=2.37 sec\n",
      " ARIMA(2,0,2)(0,0,0)[0]             : AIC=-4248.970, Time=2.34 sec\n",
      " ARIMA(3,0,1)(0,0,0)[0]             : AIC=-4217.443, Time=2.31 sec\n",
      " ARIMA(4,0,2)(0,0,0)[0]             : AIC=-4250.565, Time=2.42 sec\n"
     ]
    },
    {
     "name": "stderr",
     "output_type": "stream",
     "text": [
      "/home/ai/.local/lib/python3.8/site-packages/statsmodels/tsa/statespace/sarimax.py:1890: RuntimeWarning: divide by zero encountered in reciprocal\n",
      "  return np.roots(self.polynomial_reduced_ar)**-1\n",
      "/home/ai/.local/lib/python3.8/site-packages/statsmodels/tsa/statespace/sarimax.py:1897: RuntimeWarning: divide by zero encountered in reciprocal\n",
      "  return np.roots(self.polynomial_reduced_ma)**-1\n"
     ]
    },
    {
     "name": "stdout",
     "output_type": "stream",
     "text": [
      " ARIMA(3,0,3)(0,0,0)[0]             : AIC=-2328.779, Time=2.42 sec\n"
     ]
    },
    {
     "name": "stderr",
     "output_type": "stream",
     "text": [
      "/home/ai/.local/lib/python3.8/site-packages/statsmodels/tsa/statespace/sarimax.py:1890: RuntimeWarning: divide by zero encountered in reciprocal\n",
      "  return np.roots(self.polynomial_reduced_ar)**-1\n",
      "/home/ai/.local/lib/python3.8/site-packages/statsmodels/tsa/statespace/sarimax.py:1897: RuntimeWarning: divide by zero encountered in reciprocal\n",
      "  return np.roots(self.polynomial_reduced_ma)**-1\n"
     ]
    },
    {
     "name": "stdout",
     "output_type": "stream",
     "text": [
      " ARIMA(2,0,1)(0,0,0)[0]             : AIC=-2413.700, Time=2.08 sec\n",
      " ARIMA(2,0,3)(0,0,0)[0]             : AIC=-4240.870, Time=2.41 sec\n",
      " ARIMA(4,0,1)(0,0,0)[0]             : AIC=-4237.283, Time=2.40 sec\n"
     ]
    },
    {
     "name": "stderr",
     "output_type": "stream",
     "text": [
      "/home/ai/.local/lib/python3.8/site-packages/statsmodels/tsa/statespace/sarimax.py:1890: RuntimeWarning: divide by zero encountered in reciprocal\n",
      "  return np.roots(self.polynomial_reduced_ar)**-1\n",
      "/home/ai/.local/lib/python3.8/site-packages/statsmodels/tsa/statespace/sarimax.py:1897: RuntimeWarning: divide by zero encountered in reciprocal\n",
      "  return np.roots(self.polynomial_reduced_ma)**-1\n"
     ]
    },
    {
     "name": "stdout",
     "output_type": "stream",
     "text": [
      " ARIMA(4,0,3)(0,0,0)[0]             : AIC=-2326.547, Time=2.56 sec\n",
      "\n",
      "Best model:  ARIMA(3,0,2)(0,0,0)[0]          \n",
      "Total fit time: 53.514 seconds\n",
      "Performing stepwise search to minimize aic\n",
      " ARIMA(2,0,2)(0,0,0)[0] intercept   : AIC=-4403.780, Time=2.38 sec\n",
      " ARIMA(0,0,0)(0,0,0)[0] intercept   : AIC=-3761.517, Time=1.91 sec\n",
      " ARIMA(1,0,0)(0,0,0)[0] intercept   : AIC=-4375.325, Time=2.00 sec\n",
      " ARIMA(0,0,1)(0,0,0)[0] intercept   : AIC=-4081.950, Time=2.04 sec\n",
      " ARIMA(0,0,0)(0,0,0)[0]             : AIC=658.392, Time=1.85 sec\n",
      " ARIMA(1,0,2)(0,0,0)[0] intercept   : AIC=-4393.664, Time=2.37 sec\n"
     ]
    },
    {
     "name": "stderr",
     "output_type": "stream",
     "text": [
      "/home/ai/.local/lib/python3.8/site-packages/statsmodels/tsa/statespace/sarimax.py:1890: RuntimeWarning: divide by zero encountered in reciprocal\n",
      "  return np.roots(self.polynomial_reduced_ar)**-1\n",
      "/home/ai/.local/lib/python3.8/site-packages/statsmodels/tsa/statespace/sarimax.py:1897: RuntimeWarning: divide by zero encountered in reciprocal\n",
      "  return np.roots(self.polynomial_reduced_ma)**-1\n"
     ]
    },
    {
     "name": "stdout",
     "output_type": "stream",
     "text": [
      " ARIMA(2,0,1)(0,0,0)[0] intercept   : AIC=-3408.660, Time=2.20 sec\n",
      " ARIMA(3,0,2)(0,0,0)[0] intercept   : AIC=-4412.823, Time=2.52 sec\n",
      " ARIMA(3,0,1)(0,0,0)[0] intercept   : AIC=-4385.243, Time=2.43 sec\n"
     ]
    },
    {
     "name": "stderr",
     "output_type": "stream",
     "text": [
      "/home/ai/.local/lib/python3.8/site-packages/statsmodels/tsa/statespace/sarimax.py:1890: RuntimeWarning: divide by zero encountered in reciprocal\n",
      "  return np.roots(self.polynomial_reduced_ar)**-1\n",
      "/home/ai/.local/lib/python3.8/site-packages/statsmodels/tsa/statespace/sarimax.py:1897: RuntimeWarning: divide by zero encountered in reciprocal\n",
      "  return np.roots(self.polynomial_reduced_ma)**-1\n"
     ]
    },
    {
     "name": "stdout",
     "output_type": "stream",
     "text": [
      " ARIMA(4,0,2)(0,0,0)[0] intercept   : AIC=-3381.240, Time=2.55 sec\n"
     ]
    },
    {
     "name": "stderr",
     "output_type": "stream",
     "text": [
      "/home/ai/.local/lib/python3.8/site-packages/statsmodels/tsa/statespace/sarimax.py:1890: RuntimeWarning: divide by zero encountered in reciprocal\n",
      "  return np.roots(self.polynomial_reduced_ar)**-1\n",
      "/home/ai/.local/lib/python3.8/site-packages/statsmodels/tsa/statespace/sarimax.py:1897: RuntimeWarning: divide by zero encountered in reciprocal\n",
      "  return np.roots(self.polynomial_reduced_ma)**-1\n"
     ]
    },
    {
     "name": "stdout",
     "output_type": "stream",
     "text": [
      " ARIMA(3,0,3)(0,0,0)[0] intercept   : AIC=-3332.542, Time=2.54 sec\n",
      " ARIMA(2,0,3)(0,0,0)[0] intercept   : AIC=-4395.971, Time=2.48 sec\n",
      " ARIMA(4,0,1)(0,0,0)[0] intercept   : AIC=-4398.696, Time=2.61 sec\n"
     ]
    },
    {
     "name": "stderr",
     "output_type": "stream",
     "text": [
      "/home/ai/.local/lib/python3.8/site-packages/statsmodels/tsa/statespace/sarimax.py:1890: RuntimeWarning: divide by zero encountered in reciprocal\n",
      "  return np.roots(self.polynomial_reduced_ar)**-1\n",
      "/home/ai/.local/lib/python3.8/site-packages/statsmodels/tsa/statespace/sarimax.py:1897: RuntimeWarning: divide by zero encountered in reciprocal\n",
      "  return np.roots(self.polynomial_reduced_ma)**-1\n"
     ]
    },
    {
     "name": "stdout",
     "output_type": "stream",
     "text": [
      " ARIMA(4,0,3)(0,0,0)[0] intercept   : AIC=-3294.284, Time=2.69 sec\n",
      " ARIMA(3,0,2)(0,0,0)[0]             : AIC=-4414.832, Time=2.40 sec\n",
      " ARIMA(2,0,2)(0,0,0)[0]             : AIC=-4405.778, Time=2.45 sec\n",
      " ARIMA(3,0,1)(0,0,0)[0]             : AIC=-4387.243, Time=2.35 sec\n"
     ]
    },
    {
     "name": "stderr",
     "output_type": "stream",
     "text": [
      "/home/ai/.local/lib/python3.8/site-packages/statsmodels/tsa/statespace/sarimax.py:1890: RuntimeWarning: divide by zero encountered in reciprocal\n",
      "  return np.roots(self.polynomial_reduced_ar)**-1\n",
      "/home/ai/.local/lib/python3.8/site-packages/statsmodels/tsa/statespace/sarimax.py:1897: RuntimeWarning: divide by zero encountered in reciprocal\n",
      "  return np.roots(self.polynomial_reduced_ma)**-1\n"
     ]
    },
    {
     "name": "stdout",
     "output_type": "stream",
     "text": [
      " ARIMA(4,0,2)(0,0,0)[0]             : AIC=-3383.241, Time=2.49 sec\n"
     ]
    },
    {
     "name": "stderr",
     "output_type": "stream",
     "text": [
      "/home/ai/.local/lib/python3.8/site-packages/statsmodels/tsa/statespace/sarimax.py:1890: RuntimeWarning: divide by zero encountered in reciprocal\n",
      "  return np.roots(self.polynomial_reduced_ar)**-1\n",
      "/home/ai/.local/lib/python3.8/site-packages/statsmodels/tsa/statespace/sarimax.py:1897: RuntimeWarning: divide by zero encountered in reciprocal\n",
      "  return np.roots(self.polynomial_reduced_ma)**-1\n"
     ]
    },
    {
     "name": "stdout",
     "output_type": "stream",
     "text": [
      " ARIMA(3,0,3)(0,0,0)[0]             : AIC=-3334.541, Time=2.45 sec\n"
     ]
    },
    {
     "name": "stderr",
     "output_type": "stream",
     "text": [
      "/home/ai/.local/lib/python3.8/site-packages/statsmodels/tsa/statespace/sarimax.py:1890: RuntimeWarning: divide by zero encountered in reciprocal\n",
      "  return np.roots(self.polynomial_reduced_ar)**-1\n",
      "/home/ai/.local/lib/python3.8/site-packages/statsmodels/tsa/statespace/sarimax.py:1897: RuntimeWarning: divide by zero encountered in reciprocal\n",
      "  return np.roots(self.polynomial_reduced_ma)**-1\n"
     ]
    },
    {
     "name": "stdout",
     "output_type": "stream",
     "text": [
      " ARIMA(2,0,1)(0,0,0)[0]             : AIC=-3410.660, Time=2.11 sec\n",
      " ARIMA(2,0,3)(0,0,0)[0]             : AIC=-4397.970, Time=2.46 sec\n",
      " ARIMA(4,0,1)(0,0,0)[0]             : AIC=-4400.696, Time=2.44 sec\n"
     ]
    },
    {
     "name": "stderr",
     "output_type": "stream",
     "text": [
      "/home/ai/.local/lib/python3.8/site-packages/statsmodels/tsa/statespace/sarimax.py:1890: RuntimeWarning: divide by zero encountered in reciprocal\n",
      "  return np.roots(self.polynomial_reduced_ar)**-1\n",
      "/home/ai/.local/lib/python3.8/site-packages/statsmodels/tsa/statespace/sarimax.py:1897: RuntimeWarning: divide by zero encountered in reciprocal\n",
      "  return np.roots(self.polynomial_reduced_ma)**-1\n"
     ]
    },
    {
     "name": "stdout",
     "output_type": "stream",
     "text": [
      " ARIMA(4,0,3)(0,0,0)[0]             : AIC=-3296.284, Time=2.55 sec\n",
      "\n",
      "Best model:  ARIMA(3,0,2)(0,0,0)[0]          \n",
      "Total fit time: 54.273 seconds\n",
      "Performing stepwise search to minimize aic\n",
      " ARIMA(2,0,2)(0,0,0)[0] intercept   : AIC=-4540.860, Time=2.48 sec\n",
      " ARIMA(0,0,0)(0,0,0)[0] intercept   : AIC=-3789.613, Time=1.94 sec\n",
      " ARIMA(1,0,0)(0,0,0)[0] intercept   : AIC=-4544.269, Time=2.02 sec\n",
      " ARIMA(0,0,1)(0,0,0)[0] intercept   : AIC=-4137.477, Time=2.13 sec\n",
      " ARIMA(0,0,0)(0,0,0)[0]             : AIC=630.296, Time=1.85 sec\n",
      " ARIMA(2,0,0)(0,0,0)[0] intercept   : AIC=-4542.491, Time=2.10 sec\n",
      " ARIMA(1,0,1)(0,0,0)[0] intercept   : AIC=-4542.459, Time=2.09 sec\n"
     ]
    },
    {
     "name": "stderr",
     "output_type": "stream",
     "text": [
      "/home/ai/.local/lib/python3.8/site-packages/statsmodels/tsa/statespace/sarimax.py:1890: RuntimeWarning: divide by zero encountered in reciprocal\n",
      "  return np.roots(self.polynomial_reduced_ar)**-1\n",
      "/home/ai/.local/lib/python3.8/site-packages/statsmodels/tsa/statespace/sarimax.py:1897: RuntimeWarning: divide by zero encountered in reciprocal\n",
      "  return np.roots(self.polynomial_reduced_ma)**-1\n"
     ]
    },
    {
     "name": "stdout",
     "output_type": "stream",
     "text": [
      " ARIMA(2,0,1)(0,0,0)[0] intercept   : AIC=-3261.927, Time=2.14 sec\n",
      " ARIMA(1,0,0)(0,0,0)[0]             : AIC=-4546.279, Time=1.90 sec\n",
      " ARIMA(2,0,0)(0,0,0)[0]             : AIC=-4544.499, Time=2.06 sec\n",
      " ARIMA(1,0,1)(0,0,0)[0]             : AIC=-4544.466, Time=2.06 sec\n",
      " ARIMA(0,0,1)(0,0,0)[0]             : AIC=-4139.471, Time=2.00 sec\n"
     ]
    },
    {
     "name": "stderr",
     "output_type": "stream",
     "text": [
      "/home/ai/.local/lib/python3.8/site-packages/statsmodels/tsa/statespace/sarimax.py:1890: RuntimeWarning: divide by zero encountered in reciprocal\n",
      "  return np.roots(self.polynomial_reduced_ar)**-1\n",
      "/home/ai/.local/lib/python3.8/site-packages/statsmodels/tsa/statespace/sarimax.py:1897: RuntimeWarning: divide by zero encountered in reciprocal\n",
      "  return np.roots(self.polynomial_reduced_ma)**-1\n"
     ]
    },
    {
     "name": "stdout",
     "output_type": "stream",
     "text": [
      " ARIMA(2,0,1)(0,0,0)[0]             : AIC=-3263.934, Time=2.12 sec\n",
      "\n",
      "Best model:  ARIMA(1,0,0)(0,0,0)[0]          \n",
      "Total fit time: 26.914 seconds\n",
      "Performing stepwise search to minimize aic\n",
      " ARIMA(2,0,2)(0,0,0)[0] intercept   : AIC=-11688.458, Time=2.40 sec\n",
      " ARIMA(0,0,0)(0,0,0)[0] intercept   : AIC=-11001.019, Time=1.92 sec\n",
      " ARIMA(1,0,0)(0,0,0)[0] intercept   : AIC=-11668.329, Time=1.97 sec\n",
      " ARIMA(0,0,1)(0,0,0)[0] intercept   : AIC=-11270.735, Time=2.06 sec\n",
      " ARIMA(0,0,0)(0,0,0)[0]             : AIC=-6581.110, Time=1.89 sec\n",
      " ARIMA(1,0,2)(0,0,0)[0] intercept   : AIC=-11671.184, Time=2.48 sec\n"
     ]
    },
    {
     "name": "stderr",
     "output_type": "stream",
     "text": [
      "/home/ai/.local/lib/python3.8/site-packages/statsmodels/tsa/statespace/sarimax.py:1897: RuntimeWarning: divide by zero encountered in reciprocal\n",
      "  return np.roots(self.polynomial_reduced_ma)**-1\n"
     ]
    },
    {
     "name": "stdout",
     "output_type": "stream",
     "text": [
      " ARIMA(2,0,1)(0,0,0)[0] intercept   : AIC=-10875.435, Time=2.18 sec\n",
      " ARIMA(3,0,2)(0,0,0)[0] intercept   : AIC=-11692.482, Time=2.48 sec\n",
      " ARIMA(3,0,1)(0,0,0)[0] intercept   : AIC=-11668.163, Time=2.41 sec\n",
      " ARIMA(4,0,2)(0,0,0)[0] intercept   : AIC=-11683.759, Time=2.59 sec\n",
      " ARIMA(3,0,3)(0,0,0)[0] intercept   : AIC=-11685.231, Time=2.55 sec\n",
      " ARIMA(2,0,3)(0,0,0)[0] intercept   : AIC=-11684.376, Time=2.56 sec\n",
      " ARIMA(4,0,1)(0,0,0)[0] intercept   : AIC=-11676.186, Time=2.49 sec\n"
     ]
    },
    {
     "name": "stderr",
     "output_type": "stream",
     "text": [
      "/home/ai/.local/lib/python3.8/site-packages/statsmodels/tsa/statespace/sarimax.py:1890: RuntimeWarning: divide by zero encountered in reciprocal\n",
      "  return np.roots(self.polynomial_reduced_ar)**-1\n",
      "/home/ai/.local/lib/python3.8/site-packages/statsmodels/tsa/statespace/sarimax.py:1897: RuntimeWarning: divide by zero encountered in reciprocal\n",
      "  return np.roots(self.polynomial_reduced_ma)**-1\n"
     ]
    },
    {
     "name": "stdout",
     "output_type": "stream",
     "text": [
      " ARIMA(4,0,3)(0,0,0)[0] intercept   : AIC=-10575.217, Time=2.61 sec\n",
      " ARIMA(3,0,2)(0,0,0)[0]             : AIC=-11694.482, Time=2.42 sec\n",
      " ARIMA(2,0,2)(0,0,0)[0]             : AIC=-11690.458, Time=2.43 sec\n",
      " ARIMA(3,0,1)(0,0,0)[0]             : AIC=-11670.163, Time=2.40 sec\n",
      " ARIMA(4,0,2)(0,0,0)[0]             : AIC=-11685.759, Time=2.46 sec\n",
      " ARIMA(3,0,3)(0,0,0)[0]             : AIC=-11687.231, Time=2.51 sec\n"
     ]
    },
    {
     "name": "stderr",
     "output_type": "stream",
     "text": [
      "/home/ai/.local/lib/python3.8/site-packages/statsmodels/tsa/statespace/sarimax.py:1897: RuntimeWarning: divide by zero encountered in reciprocal\n",
      "  return np.roots(self.polynomial_reduced_ma)**-1\n"
     ]
    },
    {
     "name": "stdout",
     "output_type": "stream",
     "text": [
      " ARIMA(2,0,1)(0,0,0)[0]             : AIC=-10877.434, Time=2.14 sec\n",
      " ARIMA(2,0,3)(0,0,0)[0]             : AIC=-11686.376, Time=2.45 sec\n",
      " ARIMA(4,0,1)(0,0,0)[0]             : AIC=-11678.186, Time=2.46 sec\n"
     ]
    },
    {
     "name": "stderr",
     "output_type": "stream",
     "text": [
      "/home/ai/.local/lib/python3.8/site-packages/statsmodels/tsa/statespace/sarimax.py:1890: RuntimeWarning: divide by zero encountered in reciprocal\n",
      "  return np.roots(self.polynomial_reduced_ar)**-1\n",
      "/home/ai/.local/lib/python3.8/site-packages/statsmodels/tsa/statespace/sarimax.py:1897: RuntimeWarning: divide by zero encountered in reciprocal\n",
      "  return np.roots(self.polynomial_reduced_ma)**-1\n"
     ]
    },
    {
     "name": "stdout",
     "output_type": "stream",
     "text": [
      " ARIMA(4,0,3)(0,0,0)[0]             : AIC=-10577.217, Time=2.54 sec\n",
      "\n",
      "Best model:  ARIMA(3,0,2)(0,0,0)[0]          \n",
      "Total fit time: 54.410 seconds\n",
      "Performing stepwise search to minimize aic\n"
     ]
    },
    {
     "name": "stderr",
     "output_type": "stream",
     "text": [
      "/home/ai/.local/lib/python3.8/site-packages/statsmodels/tsa/statespace/sarimax.py:1890: RuntimeWarning: divide by zero encountered in reciprocal\n",
      "  return np.roots(self.polynomial_reduced_ar)**-1\n",
      "/home/ai/.local/lib/python3.8/site-packages/statsmodels/tsa/statespace/sarimax.py:1897: RuntimeWarning: divide by zero encountered in reciprocal\n",
      "  return np.roots(self.polynomial_reduced_ma)**-1\n"
     ]
    },
    {
     "name": "stdout",
     "output_type": "stream",
     "text": [
      " ARIMA(2,0,2)(0,0,0)[0] intercept   : AIC=-6594.073, Time=2.47 sec\n",
      " ARIMA(0,0,0)(0,0,0)[0] intercept   : AIC=-7430.827, Time=1.94 sec\n",
      " ARIMA(1,0,0)(0,0,0)[0] intercept   : AIC=-8313.416, Time=1.98 sec\n",
      " ARIMA(0,0,1)(0,0,0)[0] intercept   : AIC=-7661.798, Time=2.09 sec\n",
      " ARIMA(0,0,0)(0,0,0)[0]             : AIC=-3010.917, Time=1.88 sec\n",
      " ARIMA(2,0,0)(0,0,0)[0] intercept   : AIC=-8319.263, Time=2.13 sec\n",
      " ARIMA(3,0,0)(0,0,0)[0] intercept   : AIC=-8318.439, Time=2.35 sec\n",
      " ARIMA(2,0,1)(0,0,0)[0] intercept   : AIC=-8322.275, Time=2.21 sec\n",
      " ARIMA(1,0,1)(0,0,0)[0] intercept   : AIC=-8318.671, Time=2.24 sec\n",
      " ARIMA(3,0,1)(0,0,0)[0] intercept   : AIC=-8314.901, Time=2.40 sec\n",
      " ARIMA(1,0,2)(0,0,0)[0] intercept   : AIC=-8316.689, Time=2.38 sec\n"
     ]
    },
    {
     "name": "stderr",
     "output_type": "stream",
     "text": [
      "/home/ai/.local/lib/python3.8/site-packages/statsmodels/tsa/statespace/sarimax.py:1890: RuntimeWarning: divide by zero encountered in reciprocal\n",
      "  return np.roots(self.polynomial_reduced_ar)**-1\n",
      "/home/ai/.local/lib/python3.8/site-packages/statsmodels/tsa/statespace/sarimax.py:1897: RuntimeWarning: divide by zero encountered in reciprocal\n",
      "  return np.roots(self.polynomial_reduced_ma)**-1\n"
     ]
    },
    {
     "name": "stdout",
     "output_type": "stream",
     "text": [
      " ARIMA(3,0,2)(0,0,0)[0] intercept   : AIC=-6590.474, Time=2.45 sec\n",
      " ARIMA(2,0,1)(0,0,0)[0]             : AIC=-8324.324, Time=2.13 sec\n",
      " ARIMA(1,0,1)(0,0,0)[0]             : AIC=-8320.692, Time=2.07 sec\n",
      " ARIMA(2,0,0)(0,0,0)[0]             : AIC=-8321.284, Time=2.02 sec\n",
      " ARIMA(3,0,1)(0,0,0)[0]             : AIC=-8316.915, Time=2.40 sec\n"
     ]
    },
    {
     "name": "stderr",
     "output_type": "stream",
     "text": [
      "/home/ai/.local/lib/python3.8/site-packages/statsmodels/tsa/statespace/sarimax.py:1890: RuntimeWarning: divide by zero encountered in reciprocal\n",
      "  return np.roots(self.polynomial_reduced_ar)**-1\n",
      "/home/ai/.local/lib/python3.8/site-packages/statsmodels/tsa/statespace/sarimax.py:1897: RuntimeWarning: divide by zero encountered in reciprocal\n",
      "  return np.roots(self.polynomial_reduced_ma)**-1\n"
     ]
    },
    {
     "name": "stdout",
     "output_type": "stream",
     "text": [
      " ARIMA(2,0,2)(0,0,0)[0]             : AIC=-6596.103, Time=2.38 sec\n",
      " ARIMA(1,0,0)(0,0,0)[0]             : AIC=-8315.431, Time=1.98 sec\n",
      " ARIMA(1,0,2)(0,0,0)[0]             : AIC=-8318.729, Time=2.39 sec\n",
      " ARIMA(3,0,0)(0,0,0)[0]             : AIC=-8320.460, Time=2.43 sec\n"
     ]
    },
    {
     "name": "stderr",
     "output_type": "stream",
     "text": [
      "/home/ai/.local/lib/python3.8/site-packages/statsmodels/tsa/statespace/sarimax.py:1890: RuntimeWarning: divide by zero encountered in reciprocal\n",
      "  return np.roots(self.polynomial_reduced_ar)**-1\n",
      "/home/ai/.local/lib/python3.8/site-packages/statsmodels/tsa/statespace/sarimax.py:1897: RuntimeWarning: divide by zero encountered in reciprocal\n",
      "  return np.roots(self.polynomial_reduced_ma)**-1\n"
     ]
    },
    {
     "name": "stdout",
     "output_type": "stream",
     "text": [
      " ARIMA(3,0,2)(0,0,0)[0]             : AIC=-6592.503, Time=2.41 sec\n",
      "\n",
      "Best model:  ARIMA(2,0,1)(0,0,0)[0]          \n",
      "Total fit time: 46.740 seconds\n",
      "Performing stepwise search to minimize aic\n"
     ]
    },
    {
     "name": "stderr",
     "output_type": "stream",
     "text": [
      "/home/ai/.local/lib/python3.8/site-packages/statsmodels/tsa/statespace/sarimax.py:1890: RuntimeWarning: divide by zero encountered in reciprocal\n",
      "  return np.roots(self.polynomial_reduced_ar)**-1\n",
      "/home/ai/.local/lib/python3.8/site-packages/statsmodels/tsa/statespace/sarimax.py:1897: RuntimeWarning: divide by zero encountered in reciprocal\n",
      "  return np.roots(self.polynomial_reduced_ma)**-1\n"
     ]
    },
    {
     "name": "stdout",
     "output_type": "stream",
     "text": [
      " ARIMA(2,0,2)(0,0,0)[0] intercept   : AIC=-5466.243, Time=2.45 sec\n",
      " ARIMA(0,0,0)(0,0,0)[0] intercept   : AIC=-6153.526, Time=1.95 sec\n",
      " ARIMA(1,0,0)(0,0,0)[0] intercept   : AIC=-6971.728, Time=2.03 sec\n",
      " ARIMA(0,0,1)(0,0,0)[0] intercept   : AIC=-6381.351, Time=2.18 sec\n",
      " ARIMA(0,0,0)(0,0,0)[0]             : AIC=-1733.617, Time=1.92 sec\n",
      " ARIMA(2,0,0)(0,0,0)[0] intercept   : AIC=-6978.435, Time=2.21 sec\n",
      " ARIMA(3,0,0)(0,0,0)[0] intercept   : AIC=-6976.578, Time=2.36 sec\n",
      " ARIMA(2,0,1)(0,0,0)[0] intercept   : AIC=-6976.926, Time=2.17 sec\n",
      " ARIMA(1,0,1)(0,0,0)[0] intercept   : AIC=-6978.238, Time=2.12 sec\n",
      " ARIMA(3,0,1)(0,0,0)[0] intercept   : AIC=-6974.143, Time=2.43 sec\n",
      " ARIMA(2,0,0)(0,0,0)[0]             : AIC=-6980.446, Time=2.11 sec\n",
      " ARIMA(1,0,0)(0,0,0)[0]             : AIC=-6973.735, Time=1.93 sec\n",
      " ARIMA(3,0,0)(0,0,0)[0]             : AIC=-6978.594, Time=2.34 sec\n",
      " ARIMA(2,0,1)(0,0,0)[0]             : AIC=-6978.945, Time=2.16 sec\n",
      " ARIMA(1,0,1)(0,0,0)[0]             : AIC=-6980.251, Time=2.14 sec\n",
      " ARIMA(3,0,1)(0,0,0)[0]             : AIC=-6976.152, Time=2.39 sec\n",
      "\n",
      "Best model:  ARIMA(2,0,0)(0,0,0)[0]          \n",
      "Total fit time: 34.897 seconds\n",
      "Performing stepwise search to minimize aic\n"
     ]
    },
    {
     "name": "stderr",
     "output_type": "stream",
     "text": [
      "/home/ai/.local/lib/python3.8/site-packages/statsmodels/tsa/statespace/sarimax.py:1890: RuntimeWarning: divide by zero encountered in reciprocal\n",
      "  return np.roots(self.polynomial_reduced_ar)**-1\n",
      "/home/ai/.local/lib/python3.8/site-packages/statsmodels/tsa/statespace/sarimax.py:1897: RuntimeWarning: divide by zero encountered in reciprocal\n",
      "  return np.roots(self.polynomial_reduced_ma)**-1\n"
     ]
    },
    {
     "name": "stdout",
     "output_type": "stream",
     "text": [
      " ARIMA(2,0,2)(0,0,0)[0] intercept   : AIC=-8415.919, Time=2.41 sec\n",
      " ARIMA(0,0,0)(0,0,0)[0] intercept   : AIC=-9413.772, Time=2.00 sec\n",
      " ARIMA(1,0,0)(0,0,0)[0] intercept   : AIC=-10360.763, Time=2.02 sec\n",
      " ARIMA(0,0,1)(0,0,0)[0] intercept   : AIC=-9641.752, Time=2.06 sec\n",
      " ARIMA(0,0,0)(0,0,0)[0]             : AIC=-4993.863, Time=1.86 sec\n",
      " ARIMA(2,0,0)(0,0,0)[0] intercept   : AIC=-10364.905, Time=2.14 sec\n",
      " ARIMA(3,0,0)(0,0,0)[0] intercept   : AIC=-10369.319, Time=2.36 sec\n",
      " ARIMA(4,0,0)(0,0,0)[0] intercept   : AIC=-10378.357, Time=2.49 sec\n",
      " ARIMA(5,0,0)(0,0,0)[0] intercept   : AIC=-10392.012, Time=2.78 sec\n",
      " ARIMA(5,0,1)(0,0,0)[0] intercept   : AIC=-10385.809, Time=2.85 sec\n",
      " ARIMA(4,0,1)(0,0,0)[0] intercept   : AIC=-10369.172, Time=2.60 sec\n",
      " ARIMA(5,0,0)(0,0,0)[0]             : AIC=-10394.015, Time=2.71 sec\n",
      " ARIMA(4,0,0)(0,0,0)[0]             : AIC=-10380.359, Time=2.38 sec\n",
      " ARIMA(5,0,1)(0,0,0)[0]             : AIC=-10387.810, Time=2.80 sec\n",
      " ARIMA(4,0,1)(0,0,0)[0]             : AIC=-10371.173, Time=2.46 sec\n",
      "\n",
      "Best model:  ARIMA(5,0,0)(0,0,0)[0]          \n",
      "Total fit time: 35.945 seconds\n",
      "Performing stepwise search to minimize aic\n",
      " ARIMA(2,0,2)(0,0,0)[0] intercept   : AIC=-3890.372, Time=2.47 sec\n",
      " ARIMA(0,0,0)(0,0,0)[0] intercept   : AIC=-2967.753, Time=1.91 sec\n",
      " ARIMA(1,0,0)(0,0,0)[0] intercept   : AIC=-3873.114, Time=1.97 sec\n",
      " ARIMA(0,0,1)(0,0,0)[0] intercept   : AIC=-3338.598, Time=2.10 sec\n",
      " ARIMA(0,0,0)(0,0,0)[0]             : AIC=1452.156, Time=1.88 sec\n",
      " ARIMA(1,0,2)(0,0,0)[0] intercept   : AIC=-3871.991, Time=2.43 sec\n"
     ]
    },
    {
     "name": "stderr",
     "output_type": "stream",
     "text": [
      "/home/ai/.local/lib/python3.8/site-packages/statsmodels/tsa/statespace/sarimax.py:1890: RuntimeWarning: divide by zero encountered in reciprocal\n",
      "  return np.roots(self.polynomial_reduced_ar)**-1\n",
      "/home/ai/.local/lib/python3.8/site-packages/statsmodels/tsa/statespace/sarimax.py:1897: RuntimeWarning: divide by zero encountered in reciprocal\n",
      "  return np.roots(self.polynomial_reduced_ma)**-1\n"
     ]
    },
    {
     "name": "stdout",
     "output_type": "stream",
     "text": [
      " ARIMA(2,0,1)(0,0,0)[0] intercept   : AIC=-2147.571, Time=2.19 sec\n",
      " ARIMA(3,0,2)(0,0,0)[0] intercept   : AIC=-3908.144, Time=2.48 sec\n",
      " ARIMA(3,0,1)(0,0,0)[0] intercept   : AIC=-3866.629, Time=2.42 sec\n",
      " ARIMA(4,0,2)(0,0,0)[0] intercept   : AIC=-3908.165, Time=2.54 sec\n",
      " ARIMA(4,0,1)(0,0,0)[0] intercept   : AIC=-3885.508, Time=2.57 sec\n",
      " ARIMA(5,0,2)(0,0,0)[0] intercept   : AIC=-3894.760, Time=2.90 sec\n",
      " ARIMA(4,0,3)(0,0,0)[0] intercept   : AIC=-3902.256, Time=2.57 sec\n",
      " ARIMA(3,0,3)(0,0,0)[0] intercept   : AIC=-3893.980, Time=2.51 sec\n",
      " ARIMA(5,0,1)(0,0,0)[0] intercept   : AIC=-3889.789, Time=2.89 sec\n"
     ]
    },
    {
     "name": "stderr",
     "output_type": "stream",
     "text": [
      "/home/ai/.local/lib/python3.8/site-packages/statsmodels/tsa/statespace/sarimax.py:1890: RuntimeWarning: divide by zero encountered in reciprocal\n",
      "  return np.roots(self.polynomial_reduced_ar)**-1\n",
      "/home/ai/.local/lib/python3.8/site-packages/statsmodels/tsa/statespace/sarimax.py:1897: RuntimeWarning: divide by zero encountered in reciprocal\n",
      "  return np.roots(self.polynomial_reduced_ma)**-1\n"
     ]
    },
    {
     "name": "stdout",
     "output_type": "stream",
     "text": [
      " ARIMA(5,0,3)(0,0,0)[0] intercept   : AIC=-2028.163, Time=3.00 sec\n",
      " ARIMA(4,0,2)(0,0,0)[0]             : AIC=-3910.174, Time=2.53 sec\n",
      " ARIMA(3,0,2)(0,0,0)[0]             : AIC=-3910.354, Time=2.48 sec\n",
      " ARIMA(2,0,2)(0,0,0)[0]             : AIC=-3892.393, Time=2.38 sec\n",
      " ARIMA(3,0,1)(0,0,0)[0]             : AIC=-3868.631, Time=2.36 sec\n",
      " ARIMA(3,0,3)(0,0,0)[0]             : AIC=-3895.982, Time=2.49 sec\n"
     ]
    },
    {
     "name": "stderr",
     "output_type": "stream",
     "text": [
      "/home/ai/.local/lib/python3.8/site-packages/statsmodels/tsa/statespace/sarimax.py:1890: RuntimeWarning: divide by zero encountered in reciprocal\n",
      "  return np.roots(self.polynomial_reduced_ar)**-1\n",
      "/home/ai/.local/lib/python3.8/site-packages/statsmodels/tsa/statespace/sarimax.py:1897: RuntimeWarning: divide by zero encountered in reciprocal\n",
      "  return np.roots(self.polynomial_reduced_ma)**-1\n"
     ]
    },
    {
     "name": "stdout",
     "output_type": "stream",
     "text": [
      " ARIMA(2,0,1)(0,0,0)[0]             : AIC=-2149.575, Time=2.10 sec\n",
      " ARIMA(2,0,3)(0,0,0)[0]             : AIC=-3890.286, Time=2.42 sec\n",
      " ARIMA(4,0,1)(0,0,0)[0]             : AIC=-3887.510, Time=2.40 sec\n",
      " ARIMA(4,0,3)(0,0,0)[0]             : AIC=-3904.258, Time=2.51 sec\n",
      "\n",
      "Best model:  ARIMA(3,0,2)(0,0,0)[0]          \n",
      "Total fit time: 60.502 seconds\n",
      "Performing stepwise search to minimize aic\n"
     ]
    },
    {
     "name": "stderr",
     "output_type": "stream",
     "text": [
      "/home/ai/.local/lib/python3.8/site-packages/statsmodels/tsa/statespace/sarimax.py:1890: RuntimeWarning: divide by zero encountered in reciprocal\n",
      "  return np.roots(self.polynomial_reduced_ar)**-1\n",
      "/home/ai/.local/lib/python3.8/site-packages/statsmodels/tsa/statespace/sarimax.py:1897: RuntimeWarning: divide by zero encountered in reciprocal\n",
      "  return np.roots(self.polynomial_reduced_ma)**-1\n"
     ]
    },
    {
     "name": "stdout",
     "output_type": "stream",
     "text": [
      " ARIMA(2,0,2)(0,0,0)[0] intercept   : AIC=-9060.566, Time=2.42 sec\n",
      " ARIMA(0,0,0)(0,0,0)[0] intercept   : AIC=-10249.270, Time=1.91 sec\n",
      " ARIMA(1,0,0)(0,0,0)[0] intercept   : AIC=-11287.293, Time=1.96 sec\n",
      " ARIMA(0,0,1)(0,0,0)[0] intercept   : AIC=-10426.192, Time=2.05 sec\n",
      " ARIMA(0,0,0)(0,0,0)[0]             : AIC=-5829.360, Time=1.87 sec\n",
      " ARIMA(2,0,0)(0,0,0)[0] intercept   : AIC=-11292.553, Time=2.11 sec\n",
      " ARIMA(3,0,0)(0,0,0)[0] intercept   : AIC=-11290.604, Time=2.34 sec\n",
      " ARIMA(2,0,1)(0,0,0)[0] intercept   : AIC=-11290.695, Time=2.22 sec\n",
      " ARIMA(1,0,1)(0,0,0)[0] intercept   : AIC=-11292.438, Time=2.14 sec\n",
      " ARIMA(3,0,1)(0,0,0)[0] intercept   : AIC=-11288.366, Time=2.39 sec\n",
      " ARIMA(2,0,0)(0,0,0)[0]             : AIC=-11294.554, Time=2.05 sec\n",
      " ARIMA(1,0,0)(0,0,0)[0]             : AIC=-11289.294, Time=1.99 sec\n",
      " ARIMA(3,0,0)(0,0,0)[0]             : AIC=-11292.605, Time=2.25 sec\n",
      " ARIMA(2,0,1)(0,0,0)[0]             : AIC=-11292.697, Time=2.14 sec\n",
      " ARIMA(1,0,1)(0,0,0)[0]             : AIC=-11294.440, Time=2.05 sec\n",
      " ARIMA(3,0,1)(0,0,0)[0]             : AIC=-11290.367, Time=2.33 sec\n",
      "\n",
      "Best model:  ARIMA(2,0,0)(0,0,0)[0]          \n",
      "Total fit time: 34.232 seconds\n"
     ]
    }
   ],
   "source": [
    "for market in markets[1:]:\n",
    "    # Train the model on train set (excluding the last 100 data points for validation)\n",
    "    sarimax_model = auto_arima(np.log(df[market]), exogenous = df[economic_indicators].values, trace=True, error_action='ignore', suppress_warnings=True)\n",
    "    sarimax_models[market] = sarimax_model"
   ]
  },
  {
   "cell_type": "code",
   "execution_count": 57,
   "id": "liquid-ranking",
   "metadata": {
    "collapsed": true
   },
   "outputs": [
    {
     "data": {
      "text/plain": [
       "{'F_AD': ARIMA(order=(3, 0, 2), scoring_args={}, suppress_warnings=True,\n",
       "       with_intercept=False),\n",
       " 'F_BO': ARIMA(order=(5, 0, 0), scoring_args={}, suppress_warnings=True,\n",
       "       with_intercept=False),\n",
       " 'F_BP': ARIMA(order=(4, 0, 3), scoring_args={}, suppress_warnings=True,\n",
       "       with_intercept=False),\n",
       " 'F_C': ARIMA(order=(2, 0, 3), scoring_args={}, suppress_warnings=True,\n",
       "       with_intercept=False),\n",
       " 'F_CC': ARIMA(order=(1, 0, 0), scoring_args={}, suppress_warnings=True,\n",
       "       with_intercept=False),\n",
       " 'F_CD': ARIMA(order=(2, 0, 2), scoring_args={}, suppress_warnings=True,\n",
       "       with_intercept=False),\n",
       " 'F_CL': ARIMA(order=(2, 0, 1), scoring_args={}, suppress_warnings=True,\n",
       "       with_intercept=False),\n",
       " 'F_CT': ARIMA(order=(1, 0, 0), scoring_args={}, suppress_warnings=True,\n",
       "       with_intercept=False),\n",
       " 'F_DX': ARIMA(order=(5, 0, 3), scoring_args={}, suppress_warnings=True,\n",
       "       with_intercept=False),\n",
       " 'F_EC': ARIMA(order=(2, 0, 2), scoring_args={}, suppress_warnings=True,\n",
       "       with_intercept=False),\n",
       " 'F_ED': ARIMA(order=(2, 0, 0), scoring_args={}, suppress_warnings=True,\n",
       "       with_intercept=False),\n",
       " 'F_ES': ARIMA(order=(2, 0, 2), scoring_args={}, suppress_warnings=True,\n",
       "       with_intercept=False),\n",
       " 'F_FC': ARIMA(order=(2, 0, 1), scoring_args={}, suppress_warnings=True,\n",
       "       with_intercept=False),\n",
       " 'F_FV': ARIMA(order=(2, 0, 1), scoring_args={}, suppress_warnings=True,\n",
       "       with_intercept=False),\n",
       " 'F_GC': ARIMA(order=(2, 0, 1), scoring_args={}, suppress_warnings=True,\n",
       "       with_intercept=False),\n",
       " 'F_HG': ARIMA(order=(4, 0, 3), scoring_args={}, suppress_warnings=True,\n",
       "       with_intercept=False),\n",
       " 'F_HO': ARIMA(order=(2, 0, 1), scoring_args={}, suppress_warnings=True,\n",
       "       with_intercept=False),\n",
       " 'F_JY': ARIMA(order=(3, 0, 2), scoring_args={}, suppress_warnings=True,\n",
       "       with_intercept=False),\n",
       " 'F_KC': ARIMA(order=(1, 0, 0), scoring_args={}, suppress_warnings=True,\n",
       "       with_intercept=False),\n",
       " 'F_LB': ARIMA(order=(2, 0, 1), scoring_args={}, suppress_warnings=True,\n",
       "       with_intercept=False),\n",
       " 'F_LC': ARIMA(order=(2, 0, 1), scoring_args={}, suppress_warnings=True,\n",
       "       with_intercept=False),\n",
       " 'F_LN': ARIMA(order=(2, 0, 0), scoring_args={}, suppress_warnings=True,\n",
       "       with_intercept=False),\n",
       " 'F_MD': ARIMA(order=(2, 0, 2), scoring_args={}, suppress_warnings=True,\n",
       "       with_intercept=False),\n",
       " 'F_MP': ARIMA(order=(2, 0, 1), scoring_args={}, suppress_warnings=True,\n",
       "       with_intercept=False),\n",
       " 'F_NG': ARIMA(order=(1, 0, 0), scoring_args={}, suppress_warnings=True,\n",
       "       with_intercept=False),\n",
       " 'F_NQ': ARIMA(order=(4, 0, 2), scoring_args={}, suppress_warnings=True,\n",
       "       with_intercept=False),\n",
       " 'F_NR': ARIMA(order=(3, 0, 2), scoring_args={}, suppress_warnings=True,\n",
       "       with_intercept=False),\n",
       " 'F_O': ARIMA(order=(1, 0, 0), scoring_args={}, suppress_warnings=True,\n",
       "       with_intercept=False),\n",
       " 'F_OJ': ARIMA(order=(1, 0, 1), scoring_args={}, suppress_warnings=True,\n",
       "       with_intercept=False),\n",
       " 'F_PA': ARIMA(order=(5, 0, 0), scoring_args={}, suppress_warnings=True,\n",
       "       with_intercept=False),\n",
       " 'F_PL': ARIMA(order=(3, 0, 4), scoring_args={}, suppress_warnings=True,\n",
       "       with_intercept=False),\n",
       " 'F_RB': ARIMA(order=(5, 0, 0), scoring_args={}, suppress_warnings=True,\n",
       "       with_intercept=False),\n",
       " 'F_RU': ARIMA(order=(3, 0, 2), scoring_args={}, suppress_warnings=True,\n",
       "       with_intercept=False),\n",
       " 'F_S': ARIMA(order=(5, 0, 0), scoring_args={}, suppress_warnings=True,\n",
       "       with_intercept=False),\n",
       " 'F_SB': ARIMA(order=(3, 0, 3), scoring_args={}, suppress_warnings=True,\n",
       "       with_intercept=False),\n",
       " 'F_SF': ARIMA(order=(5, 0, 0), scoring_args={}, suppress_warnings=True,\n",
       "       with_intercept=False),\n",
       " 'F_SI': ARIMA(order=(1, 0, 3), scoring_args={}, suppress_warnings=True,\n",
       "       with_intercept=False),\n",
       " 'F_SM': ARIMA(order=(5, 0, 0), scoring_args={}, suppress_warnings=True,\n",
       "       with_intercept=False),\n",
       " 'F_TU': ARIMA(order=(2, 0, 2), scoring_args={}, suppress_warnings=True,\n",
       "       with_intercept=False),\n",
       " 'F_TY': ARIMA(order=(2, 0, 1), scoring_args={}, suppress_warnings=True,\n",
       "       with_intercept=False),\n",
       " 'F_US': ARIMA(order=(3, 0, 2), scoring_args={}, suppress_warnings=True,\n",
       "       with_intercept=False),\n",
       " 'F_W': ARIMA(order=(2, 0, 2), scoring_args={}, suppress_warnings=True,\n",
       "       with_intercept=False),\n",
       " 'F_XX': ARIMA(order=(3, 0, 2), scoring_args={}, suppress_warnings=True,\n",
       "       with_intercept=False),\n",
       " 'F_YM': ARIMA(order=(2, 0, 2), scoring_args={}, suppress_warnings=True,\n",
       "       with_intercept=False),\n",
       " 'F_AX': ARIMA(order=(3, 0, 2), scoring_args={}, suppress_warnings=True,\n",
       "       with_intercept=False),\n",
       " 'F_CA': ARIMA(order=(3, 0, 2), scoring_args={}, suppress_warnings=True,\n",
       "       with_intercept=False),\n",
       " 'F_DT': ARIMA(order=(1, 0, 0), scoring_args={}, suppress_warnings=True,\n",
       "       with_intercept=False),\n",
       " 'F_UB': ARIMA(order=(5, 0, 0), scoring_args={}, suppress_warnings=True,\n",
       "       with_intercept=False),\n",
       " 'F_UZ': ARIMA(order=(3, 0, 3), scoring_args={}, suppress_warnings=True,\n",
       "       with_intercept=False),\n",
       " 'F_GS': ARIMA(order=(2, 0, 1), scoring_args={}, suppress_warnings=True,\n",
       "       with_intercept=False),\n",
       " 'F_LX': ARIMA(order=(3, 0, 2), scoring_args={}, suppress_warnings=True,\n",
       "       with_intercept=False),\n",
       " 'F_SS': ARIMA(order=(1, 0, 0), scoring_args={}, suppress_warnings=True,\n",
       "       with_intercept=False),\n",
       " 'F_DL': ARIMA(order=(2, 0, 0), scoring_args={}, suppress_warnings=True,\n",
       "       with_intercept=False),\n",
       " 'F_ZQ': ARIMA(order=(1, 0, 1), scoring_args={}, suppress_warnings=True,\n",
       "       with_intercept=False),\n",
       " 'F_VX': ARIMA(order=(1, 0, 0), scoring_args={}, suppress_warnings=True,\n",
       "       with_intercept=False),\n",
       " 'F_AE': ARIMA(order=(3, 0, 2), scoring_args={}, suppress_warnings=True,\n",
       "       with_intercept=False),\n",
       " 'F_BG': ARIMA(order=(2, 0, 1), scoring_args={}, suppress_warnings=True,\n",
       "       with_intercept=False),\n",
       " 'F_BC': ARIMA(order=(5, 0, 0), scoring_args={}, suppress_warnings=True,\n",
       "       with_intercept=False),\n",
       " 'F_LU': ARIMA(order=(2, 0, 2), scoring_args={}, suppress_warnings=True,\n",
       "       with_intercept=False),\n",
       " 'F_DM': ARIMA(order=(3, 0, 2), scoring_args={}, suppress_warnings=True,\n",
       "       with_intercept=False),\n",
       " 'F_AH': ARIMA(order=(1, 0, 0), scoring_args={}, suppress_warnings=True,\n",
       "       with_intercept=False),\n",
       " 'F_CF': ARIMA(order=(2, 0, 3), scoring_args={}, suppress_warnings=True,\n",
       "       with_intercept=False),\n",
       " 'F_DZ': ARIMA(order=(3, 0, 2), scoring_args={}, suppress_warnings=True,\n",
       "       with_intercept=False),\n",
       " 'F_FB': ARIMA(order=(3, 0, 2), scoring_args={}, suppress_warnings=True,\n",
       "       with_intercept=False),\n",
       " 'F_FL': ARIMA(order=(1, 0, 2), scoring_args={}, suppress_warnings=True,\n",
       "       with_intercept=False),\n",
       " 'F_FM': ARIMA(order=(3, 0, 2), scoring_args={}, suppress_warnings=True,\n",
       "       with_intercept=False),\n",
       " 'F_FP': ARIMA(order=(2, 0, 1), scoring_args={}, suppress_warnings=True,\n",
       "       with_intercept=False),\n",
       " 'F_FY': ARIMA(order=(3, 0, 2), scoring_args={}, suppress_warnings=True,\n",
       "       with_intercept=False),\n",
       " 'F_GX': ARIMA(order=(3, 0, 3), scoring_args={}, suppress_warnings=True,\n",
       "       with_intercept=False),\n",
       " 'F_HP': ARIMA(order=(2, 0, 0), scoring_args={}, suppress_warnings=True,\n",
       "       with_intercept=False),\n",
       " 'F_LR': ARIMA(order=(2, 0, 2), scoring_args={}, suppress_warnings=True,\n",
       "       with_intercept=False),\n",
       " 'F_LQ': ARIMA(order=(2, 0, 2), scoring_args={}, suppress_warnings=True,\n",
       "       with_intercept=False),\n",
       " 'F_ND': ARIMA(order=(3, 0, 2), scoring_args={}, suppress_warnings=True,\n",
       "       with_intercept=False),\n",
       " 'F_NY': ARIMA(order=(2, 0, 2), scoring_args={}, suppress_warnings=True,\n",
       "       with_intercept=False),\n",
       " 'F_PQ': ARIMA(order=(2, 0, 2), scoring_args={}, suppress_warnings=True,\n",
       "       with_intercept=False),\n",
       " 'F_RR': ARIMA(order=(3, 0, 2), scoring_args={}, suppress_warnings=True,\n",
       "       with_intercept=False),\n",
       " 'F_RF': ARIMA(order=(1, 0, 1), scoring_args={}, suppress_warnings=True,\n",
       "       with_intercept=False),\n",
       " 'F_RP': ARIMA(order=(1, 0, 0), scoring_args={}, suppress_warnings=True,\n",
       "       with_intercept=False),\n",
       " 'F_RY': ARIMA(order=(2, 0, 2), scoring_args={}, suppress_warnings=True,\n",
       "       with_intercept=False),\n",
       " 'F_SH': ARIMA(order=(3, 0, 2), scoring_args={}, suppress_warnings=True,\n",
       "       with_intercept=False),\n",
       " 'F_SX': ARIMA(order=(3, 0, 2), scoring_args={}, suppress_warnings=True,\n",
       "       with_intercept=False),\n",
       " 'F_TR': ARIMA(order=(1, 0, 0), scoring_args={}, suppress_warnings=True,\n",
       "       with_intercept=False),\n",
       " 'F_EB': ARIMA(order=(3, 0, 2), scoring_args={}, suppress_warnings=True,\n",
       "       with_intercept=False),\n",
       " 'F_VF': ARIMA(order=(2, 0, 1), scoring_args={}, suppress_warnings=True,\n",
       "       with_intercept=False),\n",
       " 'F_VT': ARIMA(order=(2, 0, 0), scoring_args={}, suppress_warnings=True,\n",
       "       with_intercept=False),\n",
       " 'F_VW': ARIMA(order=(5, 0, 0), scoring_args={}, suppress_warnings=True,\n",
       "       with_intercept=False),\n",
       " 'F_GD': ARIMA(order=(3, 0, 2), scoring_args={}, suppress_warnings=True,\n",
       "       with_intercept=False),\n",
       " 'F_F': ARIMA(order=(2, 0, 0), scoring_args={}, suppress_warnings=True,\n",
       "       with_intercept=False)}"
      ]
     },
     "execution_count": 57,
     "metadata": {},
     "output_type": "execute_result"
    }
   ],
   "source": [
    "sarimax_models"
   ]
  },
  {
   "cell_type": "code",
   "execution_count": 58,
   "id": "official-bradford",
   "metadata": {},
   "outputs": [],
   "source": [
    "with open('sarimax_models.pckl', 'wb') as f:\n",
    "#     for market in sarima_models:\n",
    "    pickle.dump(sarimax_models, f)"
   ]
  },
  {
   "cell_type": "code",
   "execution_count": 59,
   "id": "coral-school",
   "metadata": {},
   "outputs": [],
   "source": [
    "with open('sarimax_models.pckl', 'rb') as f:\n",
    "#     while True:\n",
    "#         try:\n",
    "#             print(pickle.load(f))\n",
    "#         except EOFError:\n",
    "#             break\n",
    "    sarimax_models_new = pickle.load(f)"
   ]
  },
  {
   "cell_type": "code",
   "execution_count": 73,
   "id": "premier-intervention",
   "metadata": {},
   "outputs": [],
   "source": [
    "df_tmp = df.reset_index()"
   ]
  },
  {
   "cell_type": "code",
   "execution_count": 77,
   "id": "optimum-friend",
   "metadata": {
    "collapsed": true
   },
   "outputs": [
    {
     "data": {
      "text/plain": [
       "(1,)"
      ]
     },
     "execution_count": 77,
     "metadata": {},
     "output_type": "execute_result"
    }
   ],
   "source": [
    "df_tmp[market][0:1].shape"
   ]
  },
  {
   "cell_type": "code",
   "execution_count": 81,
   "id": "concerned-lawyer",
   "metadata": {
    "collapsed": true
   },
   "outputs": [
    {
     "data": {
      "text/plain": [
       "array([[ 1.850000e+02,  1.000000e-01,  3.450000e+01, -4.891400e+04,\n",
       "         5.820000e+01, -1.000000e-01,  7.710000e+01,  1.511510e+05,\n",
       "         3.503800e+04,  1.500000e-01,  6.760000e+01,  2.050000e+01,\n",
       "         2.475920e+02,  2.537240e+02,  1.700000e+00,  2.970000e+01,\n",
       "         1.300000e+00, -1.000000e-01,  1.246000e+02,  1.957820e+05,\n",
       "         1.200000e+00, -2.214400e+04, -1.385470e+05,  1.300000e+01,\n",
       "         5.000000e-01,  1.251000e+02,  2.446960e+05,  3.400000e+00,\n",
       "         2.000000e-01,  2.200000e+00,  4.000000e-01,  5.925000e+03,\n",
       "         6.270000e+01,  1.841167e+02,  3.100000e+01,  2.400000e+00,\n",
       "         7.400000e+01,  2.324200e+04,  1.075000e+02,  2.520000e+02,\n",
       "         5.740000e+01,  2.390000e+02,  1.800000e+01,  8.000000e-01,\n",
       "         2.620000e+01,  1.144000e+02,  3.100000e+00,  8.000000e-01,\n",
       "         5.800000e+00,  1.000000e+00,  2.000000e+01,  1.748000e+01,\n",
       "         4.100000e+00, -4.000000e-01],\n",
       "       [ 1.850000e+02,  1.000000e-01,  3.450000e+01, -4.891400e+04,\n",
       "         5.820000e+01, -1.000000e-01,  7.710000e+01,  1.511510e+05,\n",
       "         3.503800e+04,  1.500000e-01,  6.760000e+01,  2.050000e+01,\n",
       "         2.475920e+02,  2.537240e+02,  1.700000e+00,  2.970000e+01,\n",
       "         1.300000e+00, -1.000000e-01,  1.246000e+02,  1.957820e+05,\n",
       "         1.200000e+00, -2.214400e+04, -1.385470e+05,  1.300000e+01,\n",
       "         5.000000e-01,  1.251000e+02,  2.446960e+05,  3.400000e+00,\n",
       "         2.000000e-01,  2.200000e+00,  4.000000e-01,  5.925000e+03,\n",
       "         6.270000e+01,  1.841167e+02,  3.100000e+01,  2.400000e+00,\n",
       "         7.400000e+01,  2.324200e+04,  1.075000e+02,  2.520000e+02,\n",
       "         5.740000e+01,  2.390000e+02,  1.800000e+01,  8.000000e-01,\n",
       "         2.620000e+01,  1.144000e+02,  3.100000e+00,  8.000000e-01,\n",
       "         5.800000e+00,  1.000000e+00,  2.000000e+01,  1.748000e+01,\n",
       "         4.100000e+00, -4.000000e-01],\n",
       "       [ 1.850000e+02,  1.000000e-01,  3.450000e+01, -4.891400e+04,\n",
       "         5.820000e+01, -1.000000e-01,  7.710000e+01,  1.511510e+05,\n",
       "         3.503800e+04,  1.500000e-01,  6.760000e+01,  2.050000e+01,\n",
       "         2.475920e+02,  2.537240e+02,  1.700000e+00,  2.970000e+01,\n",
       "         1.300000e+00, -1.000000e-01,  1.246000e+02,  1.957820e+05,\n",
       "         1.200000e+00, -2.214400e+04, -1.385470e+05,  1.300000e+01,\n",
       "         5.000000e-01,  1.251000e+02,  2.446960e+05,  3.400000e+00,\n",
       "         2.000000e-01,  2.200000e+00,  4.000000e-01,  5.925000e+03,\n",
       "         6.270000e+01,  1.841167e+02,  3.100000e+01,  2.400000e+00,\n",
       "         7.400000e+01,  2.324200e+04,  1.075000e+02,  2.520000e+02,\n",
       "         5.740000e+01,  2.390000e+02,  1.800000e+01,  8.000000e-01,\n",
       "         2.620000e+01,  1.144000e+02,  3.100000e+00,  8.000000e-01,\n",
       "         5.800000e+00,  1.000000e+00,  2.000000e+01,  1.748000e+01,\n",
       "         4.100000e+00, -4.000000e-01]])"
      ]
     },
     "execution_count": 81,
     "metadata": {},
     "output_type": "execute_result"
    }
   ],
   "source": [
    "df_tmp[economic_indicators].loc[0:2,:].values"
   ]
  },
  {
   "cell_type": "code",
   "execution_count": 97,
   "id": "lovely-richmond",
   "metadata": {},
   "outputs": [],
   "source": [
    "correct_dict = {el:None for el in markets[1:]}\n",
    "for market in markets[1:]:\n",
    "    correct = 0\n",
    "    for i in range(len(df_tmp)-101, len(df_tmp)-1):\n",
    "        model = sarimax_models_new[market].fit(np.log(df_tmp[market][i-100:i+1]), exogenous = df_tmp[economic_indicators].loc[i-100:i,:].values)\n",
    "        fore = model.predict(n_periods = 1, exogenous = df_tmp[economic_indicators].loc[i:i,:].values)[0]\n",
    "        pos = 1 if fore > np.log(df_tmp[market][i]) else -1\n",
    "        actual = 1 if df_tmp[market][i+1] > df_tmp[market][i] else -1\n",
    "        if pos == actual:\n",
    "            correct += 1\n",
    "    correct_dict[market] = correct"
   ]
  },
  {
   "cell_type": "code",
   "execution_count": 98,
   "id": "pursuant-consciousness",
   "metadata": {
    "collapsed": true
   },
   "outputs": [
    {
     "data": {
      "text/plain": [
       "{'F_AD': 47,\n",
       " 'F_BO': 48,\n",
       " 'F_BP': 54,\n",
       " 'F_C': 40,\n",
       " 'F_CC': 47,\n",
       " 'F_CD': 50,\n",
       " 'F_CL': 46,\n",
       " 'F_CT': 55,\n",
       " 'F_DX': 46,\n",
       " 'F_EC': 50,\n",
       " 'F_ED': 61,\n",
       " 'F_ES': 45,\n",
       " 'F_FC': 53,\n",
       " 'F_FV': 57,\n",
       " 'F_GC': 49,\n",
       " 'F_HG': 53,\n",
       " 'F_HO': 51,\n",
       " 'F_JY': 65,\n",
       " 'F_KC': 47,\n",
       " 'F_LB': 43,\n",
       " 'F_LC': 54,\n",
       " 'F_LN': 48,\n",
       " 'F_MD': 47,\n",
       " 'F_MP': 43,\n",
       " 'F_NG': 48,\n",
       " 'F_NQ': 44,\n",
       " 'F_NR': 56,\n",
       " 'F_O': 50,\n",
       " 'F_OJ': 59,\n",
       " 'F_PA': 46,\n",
       " 'F_PL': 51,\n",
       " 'F_RB': 50,\n",
       " 'F_RU': 45,\n",
       " 'F_S': 40,\n",
       " 'F_SB': 49,\n",
       " 'F_SF': 46,\n",
       " 'F_SI': 51,\n",
       " 'F_SM': 46,\n",
       " 'F_TU': 50,\n",
       " 'F_TY': 54,\n",
       " 'F_US': 57,\n",
       " 'F_W': 53,\n",
       " 'F_XX': 59,\n",
       " 'F_YM': 51,\n",
       " 'F_AX': 52,\n",
       " 'F_CA': 51,\n",
       " 'F_DT': 55,\n",
       " 'F_UB': 53,\n",
       " 'F_UZ': 50,\n",
       " 'F_GS': 58,\n",
       " 'F_LX': 54,\n",
       " 'F_SS': 55,\n",
       " 'F_DL': 43,\n",
       " 'F_ZQ': 34,\n",
       " 'F_VX': 48,\n",
       " 'F_AE': 46,\n",
       " 'F_BG': 49,\n",
       " 'F_BC': 39,\n",
       " 'F_LU': 44,\n",
       " 'F_DM': 48,\n",
       " 'F_AH': 48,\n",
       " 'F_CF': 58,\n",
       " 'F_DZ': 46,\n",
       " 'F_FB': 56,\n",
       " 'F_FL': 50,\n",
       " 'F_FM': 52,\n",
       " 'F_FP': 44,\n",
       " 'F_FY': 59,\n",
       " 'F_GX': 55,\n",
       " 'F_HP': 50,\n",
       " 'F_LR': 51,\n",
       " 'F_LQ': 47,\n",
       " 'F_ND': 51,\n",
       " 'F_NY': 54,\n",
       " 'F_PQ': 49,\n",
       " 'F_RR': 55,\n",
       " 'F_RF': 53,\n",
       " 'F_RP': 59,\n",
       " 'F_RY': 59,\n",
       " 'F_SH': 47,\n",
       " 'F_SX': 46,\n",
       " 'F_TR': 53,\n",
       " 'F_EB': 62,\n",
       " 'F_VF': 59,\n",
       " 'F_VT': 61,\n",
       " 'F_VW': 53,\n",
       " 'F_GD': 39,\n",
       " 'F_F': 52}"
      ]
     },
     "execution_count": 98,
     "metadata": {},
     "output_type": "execute_result"
    }
   ],
   "source": [
    "correct_dict"
   ]
  },
  {
   "cell_type": "code",
   "execution_count": 99,
   "id": "seasonal-deficit",
   "metadata": {},
   "outputs": [],
   "source": [
    "correct_list = [0] + list(correct_dict.values())"
   ]
  },
  {
   "cell_type": "code",
   "execution_count": 100,
   "id": "breeding-subscriber",
   "metadata": {},
   "outputs": [],
   "source": [
    "correct_list = [max(0, x-50) for x in correct_list]"
   ]
  },
  {
   "cell_type": "code",
   "execution_count": 101,
   "id": "adverse-bobby",
   "metadata": {
    "scrolled": true
   },
   "outputs": [
    {
     "name": "stdout",
     "output_type": "stream",
     "text": [
      "[0, 0, 0, 4, 0, 0, 0, 0, 5, 0, 0, 11, 0, 3, 7, 0, 3, 1, 15, 0, 0, 4, 0, 0, 0, 0, 0, 6, 0, 9, 0, 1, 0, 0, 0, 0, 0, 1, 0, 0, 4, 7, 3, 9, 1, 2, 1, 5, 3, 0, 8, 4, 5, 0, 0, 0, 0, 0, 0, 0, 0, 0, 8, 0, 6, 0, 2, 0, 9, 5, 0, 1, 0, 1, 4, 0, 5, 3, 9, 9, 0, 0, 3, 12, 9, 11, 3, 0, 2]\n"
     ]
    }
   ],
   "source": [
    "print(correct_list)"
   ]
  },
  {
   "cell_type": "code",
   "execution_count": 102,
   "id": "indian-ability",
   "metadata": {},
   "outputs": [],
   "source": [
    "with open('weights_list_sarimax.txt', 'w') as f:\n",
    "    for correct in correct_list:\n",
    "        f.write(str(correct) + '\\n')"
   ]
  }
 ],
 "metadata": {
  "kernelspec": {
   "display_name": "Python 3",
   "language": "python",
   "name": "python3"
  },
  "language_info": {
   "codemirror_mode": {
    "name": "ipython",
    "version": 3
   },
   "file_extension": ".py",
   "mimetype": "text/x-python",
   "name": "python",
   "nbconvert_exporter": "python",
   "pygments_lexer": "ipython3",
   "version": "3.8.5"
  }
 },
 "nbformat": 4,
 "nbformat_minor": 5
}
