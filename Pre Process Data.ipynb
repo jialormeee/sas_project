{
 "cells": [
  {
   "cell_type": "code",
   "execution_count": 63,
   "metadata": {},
   "outputs": [],
   "source": [
    "import os\n",
    "import numpy as np\n",
    "import pandas as pd\n",
    "import matplotlib.pyplot as plt\n",
    "from sklearn.preprocessing import MinMaxScaler\n",
    "import tensorflow as tf\n",
    "import time\n",
    "from datetime import datetime\n",
    "from datetime import timedelta"
   ]
  },
  {
   "cell_type": "code",
   "execution_count": 64,
   "metadata": {},
   "outputs": [],
   "source": [
    "files = pd.DataFrame()\n",
    "\n",
    "for filename in os.listdir(\"tickerData\"):\n",
    "    if filename.endswith(\".txt\"):\n",
    "        x = pd.read_csv(\"tickerData/\"+filename)\n",
    "        x.columns = [y.replace(\" \", \"\") for y in x.columns]\n",
    "        x['TICKER'] = filename[:-4]\n",
    "        files = pd.concat([files,x], ignore_index=True)"
   ]
  },
  {
   "cell_type": "code",
   "execution_count": 65,
   "metadata": {},
   "outputs": [],
   "source": [
    "files['DATE']  = pd.to_datetime(files['DATE'].astype('str'), format = \"%Y/%m/%d\")"
   ]
  },
  {
   "cell_type": "code",
   "execution_count": 66,
   "metadata": {},
   "outputs": [],
   "source": [
    "files1 = files[files['TICKER'] == 'F_S'] "
   ]
  },
  {
   "cell_type": "code",
   "execution_count": 67,
   "metadata": {},
   "outputs": [
    {
     "data": {
      "text/html": [
       "<div>\n",
       "<style scoped>\n",
       "    .dataframe tbody tr th:only-of-type {\n",
       "        vertical-align: middle;\n",
       "    }\n",
       "\n",
       "    .dataframe tbody tr th {\n",
       "        vertical-align: top;\n",
       "    }\n",
       "\n",
       "    .dataframe thead th {\n",
       "        text-align: right;\n",
       "    }\n",
       "</style>\n",
       "<table border=\"1\" class=\"dataframe\">\n",
       "  <thead>\n",
       "    <tr style=\"text-align: right;\">\n",
       "      <th></th>\n",
       "      <th>DATE</th>\n",
       "      <th>OPEN</th>\n",
       "      <th>HIGH</th>\n",
       "      <th>LOW</th>\n",
       "      <th>CLOSE</th>\n",
       "      <th>VOL</th>\n",
       "      <th>OI</th>\n",
       "      <th>P</th>\n",
       "      <th>R</th>\n",
       "      <th>RINFO</th>\n",
       "      <th>TICKER</th>\n",
       "    </tr>\n",
       "  </thead>\n",
       "  <tbody>\n",
       "    <tr>\n",
       "      <th>0</th>\n",
       "      <td>1990-01-02</td>\n",
       "      <td>29100.0</td>\n",
       "      <td>29100.0</td>\n",
       "      <td>28750.0</td>\n",
       "      <td>28787.5</td>\n",
       "      <td>39296.0</td>\n",
       "      <td>41185.0</td>\n",
       "      <td>0</td>\n",
       "      <td>0.0</td>\n",
       "      <td>0.0</td>\n",
       "      <td>F_S</td>\n",
       "    </tr>\n",
       "    <tr>\n",
       "      <th>1</th>\n",
       "      <td>1990-01-03</td>\n",
       "      <td>28750.0</td>\n",
       "      <td>29112.5</td>\n",
       "      <td>28700.0</td>\n",
       "      <td>29075.0</td>\n",
       "      <td>41543.0</td>\n",
       "      <td>42002.0</td>\n",
       "      <td>0</td>\n",
       "      <td>0.0</td>\n",
       "      <td>0.0</td>\n",
       "      <td>F_S</td>\n",
       "    </tr>\n",
       "    <tr>\n",
       "      <th>2</th>\n",
       "      <td>1990-01-04</td>\n",
       "      <td>29150.0</td>\n",
       "      <td>29212.5</td>\n",
       "      <td>28800.0</td>\n",
       "      <td>28825.0</td>\n",
       "      <td>38533.0</td>\n",
       "      <td>42314.0</td>\n",
       "      <td>0</td>\n",
       "      <td>0.0</td>\n",
       "      <td>0.0</td>\n",
       "      <td>F_S</td>\n",
       "    </tr>\n",
       "    <tr>\n",
       "      <th>3</th>\n",
       "      <td>1990-01-05</td>\n",
       "      <td>28775.0</td>\n",
       "      <td>28975.0</td>\n",
       "      <td>28712.5</td>\n",
       "      <td>28850.0</td>\n",
       "      <td>31070.0</td>\n",
       "      <td>42684.0</td>\n",
       "      <td>0</td>\n",
       "      <td>0.0</td>\n",
       "      <td>0.0</td>\n",
       "      <td>F_S</td>\n",
       "    </tr>\n",
       "    <tr>\n",
       "      <th>4</th>\n",
       "      <td>1990-01-08</td>\n",
       "      <td>28925.0</td>\n",
       "      <td>29200.0</td>\n",
       "      <td>28900.0</td>\n",
       "      <td>29175.0</td>\n",
       "      <td>32373.0</td>\n",
       "      <td>42409.0</td>\n",
       "      <td>0</td>\n",
       "      <td>0.0</td>\n",
       "      <td>0.0</td>\n",
       "      <td>F_S</td>\n",
       "    </tr>\n",
       "    <tr>\n",
       "      <th>...</th>\n",
       "      <td>...</td>\n",
       "      <td>...</td>\n",
       "      <td>...</td>\n",
       "      <td>...</td>\n",
       "      <td>...</td>\n",
       "      <td>...</td>\n",
       "      <td>...</td>\n",
       "      <td>...</td>\n",
       "      <td>...</td>\n",
       "      <td>...</td>\n",
       "      <td>...</td>\n",
       "    </tr>\n",
       "    <tr>\n",
       "      <th>7860</th>\n",
       "      <td>2021-03-24</td>\n",
       "      <td>71087.5</td>\n",
       "      <td>71675.0</td>\n",
       "      <td>70912.5</td>\n",
       "      <td>71637.5</td>\n",
       "      <td>71361.0</td>\n",
       "      <td>314610.0</td>\n",
       "      <td>0</td>\n",
       "      <td>0.0</td>\n",
       "      <td>0.0</td>\n",
       "      <td>F_S</td>\n",
       "    </tr>\n",
       "    <tr>\n",
       "      <th>7861</th>\n",
       "      <td>2021-03-25</td>\n",
       "      <td>71537.5</td>\n",
       "      <td>71587.5</td>\n",
       "      <td>70525.0</td>\n",
       "      <td>70712.5</td>\n",
       "      <td>95512.0</td>\n",
       "      <td>312064.0</td>\n",
       "      <td>0</td>\n",
       "      <td>0.0</td>\n",
       "      <td>0.0</td>\n",
       "      <td>F_S</td>\n",
       "    </tr>\n",
       "    <tr>\n",
       "      <th>7862</th>\n",
       "      <td>2021-03-26</td>\n",
       "      <td>70700.0</td>\n",
       "      <td>70950.0</td>\n",
       "      <td>69950.0</td>\n",
       "      <td>70025.0</td>\n",
       "      <td>93202.0</td>\n",
       "      <td>307757.0</td>\n",
       "      <td>0</td>\n",
       "      <td>0.0</td>\n",
       "      <td>0.0</td>\n",
       "      <td>F_S</td>\n",
       "    </tr>\n",
       "    <tr>\n",
       "      <th>7863</th>\n",
       "      <td>2021-03-29</td>\n",
       "      <td>70025.0</td>\n",
       "      <td>70137.5</td>\n",
       "      <td>69150.0</td>\n",
       "      <td>69650.0</td>\n",
       "      <td>90046.0</td>\n",
       "      <td>308841.0</td>\n",
       "      <td>0</td>\n",
       "      <td>0.0</td>\n",
       "      <td>0.0</td>\n",
       "      <td>F_S</td>\n",
       "    </tr>\n",
       "    <tr>\n",
       "      <th>7864</th>\n",
       "      <td>2021-03-30</td>\n",
       "      <td>69650.0</td>\n",
       "      <td>69737.5</td>\n",
       "      <td>68212.5</td>\n",
       "      <td>68337.5</td>\n",
       "      <td>85143.0</td>\n",
       "      <td>305045.0</td>\n",
       "      <td>0</td>\n",
       "      <td>0.0</td>\n",
       "      <td>0.0</td>\n",
       "      <td>F_S</td>\n",
       "    </tr>\n",
       "  </tbody>\n",
       "</table>\n",
       "<p>7865 rows × 11 columns</p>\n",
       "</div>"
      ],
      "text/plain": [
       "           DATE     OPEN     HIGH      LOW    CLOSE      VOL        OI  P  \\\n",
       "0    1990-01-02  29100.0  29100.0  28750.0  28787.5  39296.0   41185.0  0   \n",
       "1    1990-01-03  28750.0  29112.5  28700.0  29075.0  41543.0   42002.0  0   \n",
       "2    1990-01-04  29150.0  29212.5  28800.0  28825.0  38533.0   42314.0  0   \n",
       "3    1990-01-05  28775.0  28975.0  28712.5  28850.0  31070.0   42684.0  0   \n",
       "4    1990-01-08  28925.0  29200.0  28900.0  29175.0  32373.0   42409.0  0   \n",
       "...         ...      ...      ...      ...      ...      ...       ... ..   \n",
       "7860 2021-03-24  71087.5  71675.0  70912.5  71637.5  71361.0  314610.0  0   \n",
       "7861 2021-03-25  71537.5  71587.5  70525.0  70712.5  95512.0  312064.0  0   \n",
       "7862 2021-03-26  70700.0  70950.0  69950.0  70025.0  93202.0  307757.0  0   \n",
       "7863 2021-03-29  70025.0  70137.5  69150.0  69650.0  90046.0  308841.0  0   \n",
       "7864 2021-03-30  69650.0  69737.5  68212.5  68337.5  85143.0  305045.0  0   \n",
       "\n",
       "        R  RINFO TICKER  \n",
       "0     0.0    0.0    F_S  \n",
       "1     0.0    0.0    F_S  \n",
       "2     0.0    0.0    F_S  \n",
       "3     0.0    0.0    F_S  \n",
       "4     0.0    0.0    F_S  \n",
       "...   ...    ...    ...  \n",
       "7860  0.0    0.0    F_S  \n",
       "7861  0.0    0.0    F_S  \n",
       "7862  0.0    0.0    F_S  \n",
       "7863  0.0    0.0    F_S  \n",
       "7864  0.0    0.0    F_S  \n",
       "\n",
       "[7865 rows x 11 columns]"
      ]
     },
     "execution_count": 67,
     "metadata": {},
     "output_type": "execute_result"
    }
   ],
   "source": [
    "files1"
   ]
  },
  {
   "cell_type": "code",
   "execution_count": 35,
   "metadata": {},
   "outputs": [],
   "source": [
    "minmax = MinMaxScaler().fit(files1.iloc[:, 3].values.reshape((-1,1)))\n",
    "close_normalize = minmax.transform(files1.iloc[:, 3].values.reshape((-1,1))).reshape((-1))"
   ]
  },
  {
   "cell_type": "code",
   "execution_count": 37,
   "metadata": {},
   "outputs": [
    {
     "data": {
      "text/plain": [
       "(7865,)"
      ]
     },
     "execution_count": 37,
     "metadata": {},
     "output_type": "execute_result"
    }
   ],
   "source": [
    "close_normalize.shape"
   ]
  },
  {
   "cell_type": "code",
   "execution_count": 38,
   "metadata": {},
   "outputs": [],
   "source": [
    "class encoder:\n",
    "    def __init__(self, input_, dimension = 2, learning_rate = 0.01, hidden_layer = 256, epoch = 20):\n",
    "        input_size = input_.shape[1]\n",
    "        self.X = tf.placeholder(\"float\", [None, input_.shape[1]])\n",
    "    \n",
    "        weights = {\n",
    "        'encoder_h1': tf.Variable(tf.random_normal([input_size, hidden_layer])),\n",
    "        'encoder_h2': tf.Variable(tf.random_normal([hidden_layer, dimension])),\n",
    "        'decoder_h1': tf.Variable(tf.random_normal([dimension, hidden_layer])),\n",
    "        'decoder_h2': tf.Variable(tf.random_normal([hidden_layer, input_size])),\n",
    "        }\n",
    "    \n",
    "        biases = {\n",
    "        'encoder_b1': tf.Variable(tf.random_normal([hidden_layer])),\n",
    "        'encoder_b2': tf.Variable(tf.random_normal([dimension])),\n",
    "        'decoder_b1': tf.Variable(tf.random_normal([hidden_layer])),\n",
    "        'decoder_b2': tf.Variable(tf.random_normal([input_size])),\n",
    "        }\n",
    "    \n",
    "        first_layer_encoder = tf.nn.sigmoid(tf.add(tf.matmul(self.X, weights['encoder_h1']), biases['encoder_b1']))\n",
    "        self.second_layer_encoder = tf.nn.sigmoid(tf.add(tf.matmul(first_layer_encoder, weights['encoder_h2']), biases['encoder_b2']))\n",
    "        first_layer_decoder = tf.nn.sigmoid(tf.add(tf.matmul(self.second_layer_encoder, weights['decoder_h1']), biases['decoder_b1']))\n",
    "        second_layer_decoder = tf.nn.sigmoid(tf.add(tf.matmul(first_layer_decoder, weights['decoder_h2']), biases['decoder_b2']))\n",
    "        self.cost = tf.reduce_mean(tf.pow(self.X - second_layer_decoder, 2))\n",
    "        self.optimizer = tf.train.RMSPropOptimizer(learning_rate).minimize(self.cost)\n",
    "        self.sess = tf.InteractiveSession()\n",
    "        self.sess.run(tf.global_variables_initializer())\n",
    "        \n",
    "        for i in range(epoch):\n",
    "            last_time = time.time()\n",
    "            _, loss = self.sess.run([self.optimizer, self.cost], feed_dict={self.X: input_})\n",
    "            if (i + 1) % 10 == 0:\n",
    "                print('epoch:', i + 1, 'loss:', loss, 'time:', time.time() - last_time)\n",
    "    \n",
    "    def encode(self, input_):\n",
    "        return self.sess.run(self.second_layer_encoder, feed_dict={self.X: input_})\n"
   ]
  },
  {
   "cell_type": "code",
   "execution_count": 44,
   "metadata": {},
   "outputs": [
    {
     "name": "stderr",
     "output_type": "stream",
     "text": [
      "/anaconda3/lib/python3.7/site-packages/tensorflow/python/client/session.py:1735: UserWarning: An interactive session is already active. This can cause out-of-memory errors in some cases. You must explicitly call `InteractiveSession.close()` to release resources held by the other session(s).\n",
      "  warnings.warn('An interactive session is already active. This can '\n"
     ]
    },
    {
     "name": "stdout",
     "output_type": "stream",
     "text": [
      "epoch: 10 loss: 0.52455306 time: 0.012665033340454102\n",
      "epoch: 20 loss: 0.5244635 time: 0.02797412872314453\n",
      "epoch: 30 loss: 0.5242908 time: 0.011719942092895508\n",
      "epoch: 40 loss: 0.52391714 time: 0.017735958099365234\n",
      "epoch: 50 loss: 0.522862 time: 0.012213945388793945\n",
      "epoch: 60 loss: 0.514655 time: 0.016499996185302734\n",
      "epoch: 70 loss: 0.008348602 time: 0.021464824676513672\n",
      "epoch: 80 loss: 0.006695069 time: 0.010946989059448242\n",
      "epoch: 90 loss: 0.0068265735 time: 0.01121211051940918\n",
      "epoch: 100 loss: 0.09208917 time: 0.011622905731201172\n"
     ]
    },
    {
     "data": {
      "text/plain": [
       "(7865, 32)"
      ]
     },
     "execution_count": 44,
     "metadata": {},
     "output_type": "execute_result"
    }
   ],
   "source": [
    "tf.reset_default_graph()\n",
    "Encoder=encoder(close_normalize.reshape((-1,1)), 32, 0.01, 128, 100)\n",
    "thought_vector = Encoder.encode(close_normalize.reshape((-1,1)))\n",
    "thought_vector.shape"
   ]
  },
  {
   "cell_type": "code",
   "execution_count": 45,
   "metadata": {},
   "outputs": [],
   "source": [
    "from sklearn.ensemble import *\n",
    "ada = AdaBoostRegressor(n_estimators=500, learning_rate=0.1)\n",
    "bagging = BaggingRegressor(n_estimators=500)\n",
    "et = ExtraTreesRegressor(n_estimators=500)\n",
    "gb = GradientBoostingRegressor(n_estimators=500, learning_rate=0.1)\n",
    "rf = RandomForestRegressor(n_estimators=500)"
   ]
  },
  {
   "cell_type": "code",
   "execution_count": 46,
   "metadata": {},
   "outputs": [
    {
     "data": {
      "text/plain": [
       "RandomForestRegressor(n_estimators=500)"
      ]
     },
     "execution_count": 46,
     "metadata": {},
     "output_type": "execute_result"
    }
   ],
   "source": [
    "ada.fit(thought_vector[:-1, :], close_normalize[1:])\n",
    "bagging.fit(thought_vector[:-1, :], close_normalize[1:])\n",
    "et.fit(thought_vector[:-1, :], close_normalize[1:])\n",
    "gb.fit(thought_vector[:-1, :], close_normalize[1:])\n",
    "rf.fit(thought_vector[:-1, :], close_normalize[1:])"
   ]
  },
  {
   "cell_type": "code",
   "execution_count": 47,
   "metadata": {},
   "outputs": [
    {
     "data": {
      "image/png": "[encoded data removed]",
      "text/plain": [
       "<Figure size 432x288 with 1 Axes>"
      ]
     },
     "metadata": {
      "needs_background": "light"
     },
     "output_type": "display_data"
    }
   ],
   "source": [
    "plt.bar(np.arange(32), ada.feature_importances_)\n",
    "plt.title('ada boost important feature')\n",
    "plt.show()"
   ]
  },
  {
   "cell_type": "code",
   "execution_count": 57,
   "metadata": {},
   "outputs": [],
   "source": [
    "ada_pred=ada.predict(thought_vector)\n",
    "bagging_pred=bagging.predict(thought_vector)\n",
    "et_pred=et.predict(thought_vector)\n",
    "gb_pred=gb.predict(thought_vector)\n",
    "rf_pred=rf.predict(thought_vector)"
   ]
  },
  {
   "cell_type": "code",
   "execution_count": 55,
   "metadata": {},
   "outputs": [],
   "source": [
    "def reverse_close(array):\n",
    "    return minmax.inverse_transform(array.reshape((-1,1))).reshape((-1))"
   ]
  },
  {
   "cell_type": "code",
   "execution_count": 60,
   "metadata": {},
   "outputs": [
    {
     "data": {
      "image/png": "[encoded data removed]",
      "text/plain": [
       "<Figure size 1080x432 with 1 Axes>"
      ]
     },
     "metadata": {
      "needs_background": "light"
     },
     "output_type": "display_data"
    }
   ],
   "source": [
    "plt.figure(figsize = (15,6))\n",
    "x_range = np.arange(files1.CLOSE.shape[0])\n",
    "plt.plot(x_range, files1.CLOSE, label = 'Real Close')\n",
    "plt.plot(x_range, reverse_close(ada_pred), label = 'ada Close')\n",
    "plt.plot(x_range, reverse_close(bagging_pred), label = 'bagging Close')\n",
    "plt.plot(x_range, reverse_close(et_pred), label = 'et Close')\n",
    "plt.plot(x_range, reverse_close(gb_pred), label = 'gb Close')\n",
    "plt.plot(x_range, reverse_close(rf_pred), label = 'rf Close')\n",
    "plt.legend()\n",
    "plt.xticks(x_range[::50])\n",
    "plt.title('stacked')\n",
    "plt.show()"
   ]
  },
  {
   "cell_type": "code",
   "execution_count": null,
   "metadata": {},
   "outputs": [],
   "source": []
  }
 ],
 "metadata": {
  "kernelspec": {
   "display_name": "Python 3",
   "language": "python",
   "name": "python3"
  },
  "language_info": {
   "codemirror_mode": {
    "name": "ipython",
    "version": 3
   },
   "file_extension": ".py",
   "mimetype": "text/x-python",
   "name": "python",
   "nbconvert_exporter": "python",
   "pygments_lexer": "ipython3",
   "version": "3.7.2"
  }
 },
 "nbformat": 4,
 "nbformat_minor": 2
}
