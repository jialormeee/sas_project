{
 "cells": [
  {
   "cell_type": "code",
   "execution_count": 7,
   "id": "polar-trust",
   "metadata": {},
   "outputs": [],
   "source": [
    "import quantiacsToolbox\n",
    "import pandas as pd\n",
    "import numpy as np\n",
    "import os\n",
    "from os.path import dirname, abspath\n",
    "import matplotlib.pyplot as plt\n",
    "from pmdarima.arima import auto_arima\n",
    "import pickle\n",
    "import math\n",
    "from keras.models import Sequential\n",
    "from keras.layers import Dense\n",
    "from keras.layers import LSTM\n",
    "from sklearn.preprocessing import MinMaxScaler\n",
    "from sklearn.metrics import mean_squared_error\n",
    "from keras.layers import Dropout\n",
    "import tensorflow\n",
    "from keras.models import model_from_json\n",
    "from keras.preprocessing.sequence import TimeseriesGenerator"
   ]
  },
  {
   "cell_type": "code",
   "execution_count": 8,
   "id": "dirty-mortality",
   "metadata": {},
   "outputs": [],
   "source": [
    "markets = ['CASH','F_AD','F_BO','F_BP','F_C','F_CC','F_CD','F_CL','F_CT','F_DX','F_EC',\n",
    "                           'F_ED','F_ES','F_FC','F_FV','F_GC','F_HG','F_HO','F_JY','F_KC','F_LB','F_LC',\n",
    "                           'F_LN','F_MD','F_MP','F_NG','F_NQ','F_NR','F_O','F_OJ','F_PA','F_PL','F_RB',\n",
    "                           'F_RU','F_S','F_SB','F_SF','F_SI','F_SM','F_TU','F_TY','F_US','F_W','F_XX',\n",
    "                           'F_YM','F_AX','F_CA','F_DT','F_UB','F_UZ','F_GS','F_LX','F_SS','F_DL','F_ZQ',\n",
    "                           'F_VX','F_AE','F_BG','F_BC','F_LU','F_DM','F_AH','F_CF','F_DZ','F_FB','F_FL',\n",
    "                           'F_FM','F_FP','F_FY','F_GX','F_HP','F_LR','F_LQ','F_ND','F_NY','F_PQ','F_RR',\n",
    "                           'F_RF','F_RP','F_RY','F_SH','F_SX','F_TR','F_EB','F_VF','F_VT','F_VW','F_GD','F_F']"
   ]
  },
  {
   "cell_type": "code",
   "execution_count": 9,
   "id": "marked-dragon",
   "metadata": {},
   "outputs": [],
   "source": [
    "train_begin = '20180101'\n",
    "train_end = '20201231'\n",
    "df = pd.read_csv('data_'+train_begin+'_'+train_end+'.csv')\n",
    "df = df.rename(columns = {'Unnamed: 0':'date'})\n",
    "df['date'] = pd.to_datetime(df['date'])\n",
    "df = df.set_index('date')"
   ]
  },
  {
   "cell_type": "code",
   "execution_count": 10,
   "id": "oriental-invitation",
   "metadata": {},
   "outputs": [],
   "source": [
    "correct_dict = {el:None for el in markets[1:]}"
   ]
  },
  {
   "cell_type": "code",
   "execution_count": 11,
   "id": "intended-lodging",
   "metadata": {},
   "outputs": [],
   "source": [
    "def prepare_columns(data):\n",
    "    df = pd.DataFrame(data)\n",
    "    columns, names = list(), list()\n",
    "    # input sequence\n",
    "    for i in range(5, 0, -1):\n",
    "        columns.append(df.shift(i))\n",
    "        names += [('var(t-%d)' % (i))]\n",
    "    # forecast sequence\n",
    "    columns.append(df)\n",
    "    names += [('var(t)')]\n",
    "    con = pd.concat(columns, axis=1)\n",
    "    con.columns = names\n",
    "    con.dropna(inplace=True)\n",
    "    return con"
   ]
  },
  {
   "cell_type": "code",
   "execution_count": 12,
   "id": "worth-consortium",
   "metadata": {},
   "outputs": [],
   "source": [
    "def prepare_data(scaler, data):\n",
    "    values = data.values\n",
    "    values = values.reshape(len(values), 1)\n",
    "    scaled = scaler.fit_transform(values)\n",
    "    scaled = scaled.reshape(len(scaled), 1)\n",
    "    final = prepare_columns(scaled)\n",
    "    final = final.values\n",
    "    return final"
   ]
  },
  {
   "cell_type": "code",
   "execution_count": 13,
   "id": "essential-genius",
   "metadata": {},
   "outputs": [],
   "source": [
    "def forecast_lstm(model, test):\n",
    "    forecasts = list()\n",
    "    for i in range(len(test)):\n",
    "        X, Y = test[i, 0:5], test[i, 5:]\n",
    "        X = X.reshape(1, 1, len(X))\n",
    "        pred = model.predict(X, batch_size=1)\n",
    "        fore = [x for x in pred[0, :]]\n",
    "        forecasts.append(fore)\n",
    "    return forecasts"
   ]
  },
  {
   "cell_type": "code",
   "execution_count": 14,
   "id": "monthly-worker",
   "metadata": {},
   "outputs": [],
   "source": [
    "def inverse(series, forecasts, scaler):\n",
    "    inverted = list()\n",
    "    for i in range(len(forecasts)):\n",
    "        forecast = np.array(forecasts[i])\n",
    "        forecast = forecast.reshape(1, len(forecast))\n",
    "        inv_scale = scaler.inverse_transform(forecast)\n",
    "        inv_scale = inv_scale[0, :]\n",
    "        inverted.append(inv_scale)\n",
    "    return inverted"
   ]
  },
  {
   "cell_type": "code",
   "execution_count": 23,
   "id": "hybrid-responsibility",
   "metadata": {},
   "outputs": [],
   "source": [
    "for market in markets[3:4]:\n",
    "    correct = 0\n",
    "    scaler = MinMaxScaler(feature_range=(0, 1))\n",
    "    scaler.fit_transform(df[[market]])\n",
    "    print(market)\n",
    "    for i in range(len(df)-100, len(df)-1):\n",
    "        test = prepare_data(scaler, df[[market]].loc[:df.index[i],:])\n",
    "        json_file = open('multi_step_lstm_models/multi_step_lstm_model_'+market+'.json', 'r')\n",
    "        loaded_model_json = json_file.read()\n",
    "        json_file.close()\n",
    "        model = model_from_json(loaded_model_json)\n",
    "        model.load_weights('multi_step_lstm_models/multi_step_lstm_model_'+market+'.h5')\n",
    "        forecasts = forecast_lstm(model, test)\n",
    "        forecasts = inverse(df[[market]].loc[:df.index[i],:], forecasts, scaler)\n",
    "        actual = [row[5:] for row in test]\n",
    "        actual = inverse(df[[market]], actual, scaler)\n",
    "        pred = [fore[0] for fore in forecasts]\n",
    "        pos = 1 if pred[-1] > df[market][i] else -1\n",
    "        act = 1 if df[market][i+1] > df[market][i] else -1\n",
    "        if pos == act:\n",
    "            correct += 1\n",
    "    correct_dict[market] = correct"
   ]
  }
 ],
 "metadata": {
  "kernelspec": {
   "display_name": "Python 3",
   "language": "python",
   "name": "python3"
  },
  "language_info": {
   "codemirror_mode": {
    "name": "ipython",
    "version": 3
   },
   "file_extension": ".py",
   "mimetype": "text/x-python",
   "name": "python",
   "nbconvert_exporter": "python",
   "pygments_lexer": "ipython3",
   "version": "3.8.5"
  }
 },
 "nbformat": 4,
 "nbformat_minor": 5
}
